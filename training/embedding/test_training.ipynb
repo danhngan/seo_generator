{
 "cells": [
  {
   "cell_type": "code",
   "execution_count": 1,
   "metadata": {},
   "outputs": [
    {
     "data": {
      "application/vnd.jupyter.widget-view+json": {
       "model_id": "ca884c6996a84aedb0835f4714c1b7f7",
       "version_major": 2,
       "version_minor": 0
      },
      "text/plain": [
       "config.json:   0%|          | 0.00/743 [00:00<?, ?B/s]"
      ]
     },
     "metadata": {},
     "output_type": "display_data"
    },
    {
     "name": "stderr",
     "output_type": "stream",
     "text": [
      "c:\\Users\\ngantd\\Anaconda3\\lib\\site-packages\\huggingface_hub\\file_download.py:149: UserWarning: `huggingface_hub` cache-system uses symlinks by default to efficiently store duplicated files but your machine does not support them in C:\\Users\\ngantd\\AppData\\Local\\llama_index\\models--BAAI--bge-small-en-v1.5. Caching files will still work but in a degraded version that might require more space on your disk. This warning can be disabled by setting the `HF_HUB_DISABLE_SYMLINKS_WARNING` environment variable. For more details, see https://huggingface.co/docs/huggingface_hub/how-to-cache#limitations.\n",
      "To support symlinks on Windows, you either need to activate Developer Mode or to run Python as an administrator. In order to see activate developer mode, see this article: https://docs.microsoft.com/en-us/windows/apps/get-started/enable-your-device-for-development\n",
      "  warnings.warn(message)\n"
     ]
    },
    {
     "data": {
      "application/vnd.jupyter.widget-view+json": {
       "model_id": "06c2ce04ba904e468023d2753e4fdcbc",
       "version_major": 2,
       "version_minor": 0
      },
      "text/plain": [
       "model.safetensors:   0%|          | 0.00/133M [00:00<?, ?B/s]"
      ]
     },
     "metadata": {},
     "output_type": "display_data"
    },
    {
     "data": {
      "application/vnd.jupyter.widget-view+json": {
       "model_id": "fbd855089d1a423faff2db8d24ab14e3",
       "version_major": 2,
       "version_minor": 0
      },
      "text/plain": [
       "tokenizer_config.json:   0%|          | 0.00/366 [00:00<?, ?B/s]"
      ]
     },
     "metadata": {},
     "output_type": "display_data"
    },
    {
     "data": {
      "application/vnd.jupyter.widget-view+json": {
       "model_id": "37834f00e2924254ba9d6034abaa87df",
       "version_major": 2,
       "version_minor": 0
      },
      "text/plain": [
       "vocab.txt:   0%|          | 0.00/232k [00:00<?, ?B/s]"
      ]
     },
     "metadata": {},
     "output_type": "display_data"
    },
    {
     "data": {
      "application/vnd.jupyter.widget-view+json": {
       "model_id": "30f779f326fa4488ad444ee6d2351dce",
       "version_major": 2,
       "version_minor": 0
      },
      "text/plain": [
       "tokenizer.json:   0%|          | 0.00/711k [00:00<?, ?B/s]"
      ]
     },
     "metadata": {},
     "output_type": "display_data"
    },
    {
     "data": {
      "application/vnd.jupyter.widget-view+json": {
       "model_id": "2269328e791f4299b4ba487b9eed4379",
       "version_major": 2,
       "version_minor": 0
      },
      "text/plain": [
       "special_tokens_map.json:   0%|          | 0.00/125 [00:00<?, ?B/s]"
      ]
     },
     "metadata": {},
     "output_type": "display_data"
    }
   ],
   "source": [
    "from llama_index.embeddings.huggingface import HuggingFaceEmbedding\n",
    "\n",
    "# loads BAAI/bge-small-en\n",
    "# embed_model = HuggingFaceEmbedding()\n",
    "\n",
    "# loads BAAI/bge-small-en-v1.5\n",
    "embed_model = HuggingFaceEmbedding(model_name=\"BAAI/bge-small-en-v1.5\")"
   ]
  },
  {
   "cell_type": "code",
   "execution_count": 19,
   "metadata": {},
   "outputs": [
    {
     "data": {
      "application/vnd.jupyter.widget-view+json": {
       "model_id": "2fdae701ad264fe9931dc5ef2e839ebd",
       "version_major": 2,
       "version_minor": 0
      },
      "text/plain": [
       "config.json:   0%|          | 0.00/687 [00:00<?, ?B/s]"
      ]
     },
     "metadata": {},
     "output_type": "display_data"
    },
    {
     "name": "stderr",
     "output_type": "stream",
     "text": [
      "c:\\Users\\ngantd\\Anaconda3\\lib\\site-packages\\huggingface_hub\\file_download.py:149: UserWarning: `huggingface_hub` cache-system uses symlinks by default to efficiently store duplicated files but your machine does not support them in C:\\Users\\ngantd\\AppData\\Local\\llama_index\\models--BAAI--bge-m3. Caching files will still work but in a degraded version that might require more space on your disk. This warning can be disabled by setting the `HF_HUB_DISABLE_SYMLINKS_WARNING` environment variable. For more details, see https://huggingface.co/docs/huggingface_hub/how-to-cache#limitations.\n",
      "To support symlinks on Windows, you either need to activate Developer Mode or to run Python as an administrator. In order to see activate developer mode, see this article: https://docs.microsoft.com/en-us/windows/apps/get-started/enable-your-device-for-development\n",
      "  warnings.warn(message)\n"
     ]
    },
    {
     "data": {
      "application/vnd.jupyter.widget-view+json": {
       "model_id": "06c59b8632924edb8b251d564f416ef9",
       "version_major": 2,
       "version_minor": 0
      },
      "text/plain": [
       "model.safetensors:   0%|          | 0.00/2.27G [00:00<?, ?B/s]"
      ]
     },
     "metadata": {},
     "output_type": "display_data"
    },
    {
     "name": "stderr",
     "output_type": "stream",
     "text": [
      "Error while downloading from https://cdn-lfs-us-1.huggingface.co/repos/23/2c/232ca60237b0bb19bb6c28c5a6c8af79f2e423333a9626aad445543b80fbf31e/993b2248881724788dcab8c644a91dfd63584b6e5604ff2037cb5541e1e38e7e?response-content-disposition=attachment%3B+filename*%3DUTF-8%27%27model.safetensors%3B+filename%3D%22model.safetensors%22%3B&Expires=1709516207&Policy=eyJTdGF0ZW1lbnQiOlt7IkNvbmRpdGlvbiI6eyJEYXRlTGVzc1RoYW4iOnsiQVdTOkVwb2NoVGltZSI6MTcwOTUxNjIwN319LCJSZXNvdXJjZSI6Imh0dHBzOi8vY2RuLWxmcy11cy0xLmh1Z2dpbmdmYWNlLmNvL3JlcG9zLzIzLzJjLzIzMmNhNjAyMzdiMGJiMTliYjZjMjhjNWE2YzhhZjc5ZjJlNDIzMzMzYTk2MjZhYWQ0NDU1NDNiODBmYmYzMWUvOTkzYjIyNDg4ODE3MjQ3ODhkY2FiOGM2NDRhOTFkZmQ2MzU4NGI2ZTU2MDRmZjIwMzdjYjU1NDFlMWUzOGU3ZT9yZXNwb25zZS1jb250ZW50LWRpc3Bvc2l0aW9uPSoifV19&Signature=Ry6QODuI6nuMEqBp-WC%7EEDe%7Ew78eDQ60Z02grDpAACNCSTr1Iazl4hsY%7E6KgeG1svBSO62DTFZxLmbdwnWmQXVPJoC5Ux8Geu4K%7EViXa2DKYMi4gWFD6GI27%7Eboay3QiHXQJG26KdqDEN4lgNQXcM3ik6r5uc5o0CwkkM54%7Et693vcXMS8Fh6jl66e5EnlNwpz2fI4AEBxRaoCOwpc8bEE0MVNLp2nm581tRttf74a1G3hSra4AyEUIGfWuYqHDO5Nyg4maEr4yder7DFLCXCvrRoHVilYUUQXy9ieFMIdiilCZ7uVncb0Riu%7EHzKxYoRgv6alEI60TrEPBN5B-pCQ__&Key-Pair-Id=KCD77M1F0VK2B: HTTPSConnectionPool(host='cdn-lfs-us-1.huggingface.co', port=443): Read timed out.\n",
      "Trying to resume download...\n"
     ]
    },
    {
     "data": {
      "application/vnd.jupyter.widget-view+json": {
       "model_id": "79462ee60ebf4ac8ae83928fd3bb123b",
       "version_major": 2,
       "version_minor": 0
      },
      "text/plain": [
       "model.safetensors:  31%|###1      | 713M/2.27G [00:00<?, ?B/s]"
      ]
     },
     "metadata": {},
     "output_type": "display_data"
    },
    {
     "data": {
      "application/vnd.jupyter.widget-view+json": {
       "model_id": "523386409b12405eb1313cd741b4e6c0",
       "version_major": 2,
       "version_minor": 0
      },
      "text/plain": [
       "tokenizer_config.json:   0%|          | 0.00/1.31k [00:00<?, ?B/s]"
      ]
     },
     "metadata": {},
     "output_type": "display_data"
    },
    {
     "data": {
      "application/vnd.jupyter.widget-view+json": {
       "model_id": "3fb01238594f492eb5a982262628147b",
       "version_major": 2,
       "version_minor": 0
      },
      "text/plain": [
       "sentencepiece.bpe.model:   0%|          | 0.00/5.07M [00:00<?, ?B/s]"
      ]
     },
     "metadata": {},
     "output_type": "display_data"
    },
    {
     "data": {
      "application/vnd.jupyter.widget-view+json": {
       "model_id": "70372239fc0741bba8e13cd51ea809f6",
       "version_major": 2,
       "version_minor": 0
      },
      "text/plain": [
       "tokenizer.json:   0%|          | 0.00/17.1M [00:00<?, ?B/s]"
      ]
     },
     "metadata": {},
     "output_type": "display_data"
    },
    {
     "data": {
      "application/vnd.jupyter.widget-view+json": {
       "model_id": "db31f77c496440e08429998deeb0273f",
       "version_major": 2,
       "version_minor": 0
      },
      "text/plain": [
       "special_tokens_map.json:   0%|          | 0.00/964 [00:00<?, ?B/s]"
      ]
     },
     "metadata": {},
     "output_type": "display_data"
    }
   ],
   "source": [
    "embed_model = HuggingFaceEmbedding(model_name=\"BAAI/bge-m3\")"
   ]
  },
  {
   "cell_type": "code",
   "execution_count": 20,
   "metadata": {},
   "outputs": [
    {
     "name": "stdout",
     "output_type": "stream",
     "text": [
      "1024\n",
      "[-0.04197607561945915, 0.021790780127048492, -0.03246308118104935, 0.010755092836916447, -0.018823564052581787]\n"
     ]
    }
   ],
   "source": [
    "embeddings = embed_model.get_text_embedding(\"Hello World!\")\n",
    "print(len(embeddings))\n",
    "print(embeddings[:5])"
   ]
  },
  {
   "cell_type": "markdown",
   "metadata": {},
   "source": [
    "## Vec db"
   ]
  },
  {
   "cell_type": "code",
   "execution_count": 21,
   "metadata": {},
   "outputs": [
    {
     "data": {
      "text/plain": [
       "True"
      ]
     },
     "execution_count": 21,
     "metadata": {},
     "output_type": "execute_result"
    }
   ],
   "source": [
    "from qdrant_client import QdrantClient\n",
    "from qdrant_client.http.models import Distance, VectorParams\n",
    "from qdrant_client.http.models import PointStruct,NamedVector\n",
    "import json\n",
    "\n",
    "qd_client = QdrantClient(\"localhost\", port=6333)\n",
    "\n",
    "\n",
    "qd_client.create_collection(\n",
    "    collection_name=\"benchmark_collection\",\n",
    "    vectors_config={\n",
    "        'gecko':VectorParams(size=768, distance=Distance.DOT),\n",
    "        'bge_large':VectorParams(size=1024, distance=Distance.DOT)},\n",
    ")\n",
    "\n",
    "# qd_client.recreate_collection(\n"
   ]
  },
  {
   "cell_type": "code",
   "execution_count": null,
   "metadata": {},
   "outputs": [],
   "source": []
  },
  {
   "cell_type": "code",
   "execution_count": 22,
   "metadata": {},
   "outputs": [],
   "source": [
    "with open('../../output_prediction-model.jsonl','r') as f:\n",
    "    preds = f.read()\n",
    "preds = preds.split('\\n')"
   ]
  },
  {
   "cell_type": "code",
   "execution_count": 23,
   "metadata": {},
   "outputs": [
    {
     "name": "stdout",
     "output_type": "stream",
     "text": [
      "operation_id=0 status=<UpdateStatus.COMPLETED: 'completed'>\n",
      "operation_id=1 status=<UpdateStatus.COMPLETED: 'completed'>\n",
      "operation_id=2 status=<UpdateStatus.COMPLETED: 'completed'>\n",
      "operation_id=3 status=<UpdateStatus.COMPLETED: 'completed'>\n",
      "operation_id=4 status=<UpdateStatus.COMPLETED: 'completed'>\n",
      "operation_id=5 status=<UpdateStatus.COMPLETED: 'completed'>\n",
      "operation_id=6 status=<UpdateStatus.COMPLETED: 'completed'>\n",
      "operation_id=7 status=<UpdateStatus.COMPLETED: 'completed'>\n",
      "operation_id=8 status=<UpdateStatus.COMPLETED: 'completed'>\n",
      "operation_id=9 status=<UpdateStatus.COMPLETED: 'completed'>\n",
      "operation_id=10 status=<UpdateStatus.COMPLETED: 'completed'>\n",
      "operation_id=11 status=<UpdateStatus.COMPLETED: 'completed'>\n",
      "operation_id=12 status=<UpdateStatus.COMPLETED: 'completed'>\n",
      "operation_id=13 status=<UpdateStatus.COMPLETED: 'completed'>\n",
      "operation_id=14 status=<UpdateStatus.COMPLETED: 'completed'>\n",
      "operation_id=15 status=<UpdateStatus.COMPLETED: 'completed'>\n",
      "operation_id=16 status=<UpdateStatus.COMPLETED: 'completed'>\n",
      "operation_id=17 status=<UpdateStatus.COMPLETED: 'completed'>\n"
     ]
    }
   ],
   "source": [
    "vecs = []\n",
    "for i, pred in enumerate(preds):\n",
    "    if len(pred)< 5:\n",
    "        continue\n",
    "    json_format = json.loads(pred)\n",
    "    vecs.append(\n",
    "        PointStruct(id=i+1, vector={'gecko':json_format['predictions'][0]['embeddings']['values'],\n",
    "                                  'bge_large':embed_model.get_text_embedding(json_format['instance']['content'])},\n",
    "                    payload={\"content\": json_format['instance']['content'][:1000]}))\n",
    "    if i%100 == 0:\n",
    "        operation_info = qd_client.upsert(\n",
    "                                collection_name=\"benchmark_collection\",\n",
    "                                wait=True,\n",
    "                                points=vecs\n",
    ")\n",
    "        vecs = []\n",
    "\n",
    "        print(operation_info)"
   ]
  },
  {
   "cell_type": "code",
   "execution_count": 13,
   "metadata": {},
   "outputs": [],
   "source": [
    "import vertexai\n",
    "from google.oauth2.service_account import Credentials\n",
    "cred = Credentials.from_service_account_file(r'D:\\workspace\\important\\GCP\\genai.json')\n",
    "vertexai.init(project='ai-test-374607',\n",
    "            location='asia-southeast1',\n",
    "            credentials=cred)"
   ]
  },
  {
   "cell_type": "code",
   "execution_count": 14,
   "metadata": {},
   "outputs": [],
   "source": [
    "from vertexai.language_models import TextEmbeddingModel, TextEmbeddingInput\n",
    "from vertexai.preview.language_models import TextEmbeddingModel as BatchTextEmbeddingModel\n",
    "def text_embedding(text) -> list:\n",
    "    \"\"\"Text embedding with a Large Language Model.\"\"\"\n",
    "    model = TextEmbeddingModel.from_pretrained(\"textembedding-gecko@003\")\n",
    "    text = TextEmbeddingInput(text=text, task_type='RETRIEVAL_DOCUMENT', title='general knowledge')\n",
    "    embeddings = model.get_embeddings([text])\n",
    "    # for embedding in embeddings:\n",
    "    #     vector = embedding.values\n",
    "        # print(f\"Length of Embedding Vector: {len(vector)}\")\n",
    "    # return vector\n",
    "    return embeddings"
   ]
  },
  {
   "cell_type": "code",
   "execution_count": 24,
   "metadata": {},
   "outputs": [],
   "source": [
    "key_word = 'ung thư gan'\n",
    "bge_vec = embed_model.get_text_embedding('bệnh gan')\n",
    "gecko_vec = text_embedding('bệnh gan')"
   ]
  },
  {
   "cell_type": "code",
   "execution_count": 27,
   "metadata": {},
   "outputs": [
    {
     "data": {
      "text/plain": [
       "[ScoredPoint(id=1372, version=14, score=0.6437193, payload={'content': 'Ung thư gan có chữa được không?'}, vector=None, shard_key=None),\n",
       " ScoredPoint(id=1509, version=16, score=0.6252048, payload={'content': 'Xơ hóa gan có biểu hiện thế nào? Có điều trị được không?\\xa0'}, vector=None, shard_key=None),\n",
       " ScoredPoint(id=337, version=4, score=0.6244674, payload={'content': 'Bị sỏi gan nên ăn gì, kiêng gì?'}, vector=None, shard_key=None),\n",
       " ScoredPoint(id=1425, version=15, score=0.62382066, payload={'content': 'Viêm cân gan bàn chân có nguy hiểm không? Điều trị như thế nào?\\xa0'}, vector=None, shard_key=None),\n",
       " ScoredPoint(id=388, version=4, score=0.6123068, payload={'content': 'Chẩn đoán ung thư gan nguyên phát chính xác'}, vector=None, shard_key=None),\n",
       " ScoredPoint(id=548, version=6, score=0.6095452, payload={'content': 'Gan nhiễm mỡ: Nguyên nhân, triệu chứng và cách điều trị'}, vector=None, shard_key=None),\n",
       " ScoredPoint(id=1378, version=14, score=0.60880363, payload={'content': 'Ung thư gan thứ phát: Nguyên nhân, biểu hiện và cách điều trị'}, vector=None, shard_key=None),\n",
       " ScoredPoint(id=239, version=3, score=0.6084901, payload={'content': 'Bệnh gan nhiễm mỡ có thuốc đặc trị không? Có chữa khỏi được không?'}, vector=None, shard_key=None),\n",
       " ScoredPoint(id=366, version=4, score=0.603299, payload={'content': 'Chi phí điều trị ung thư gan bao gồm những gì?'}, vector=None, shard_key=None),\n",
       " ScoredPoint(id=545, version=6, score=0.5998859, payload={'content': 'Gan nhiễm mỡ có nguy hiểm không?'}, vector=None, shard_key=None)]"
      ]
     },
     "execution_count": 27,
     "metadata": {},
     "output_type": "execute_result"
    }
   ],
   "source": [
    "search_result = qd_client.search(\n",
    "    collection_name=\"benchmark_collection\", query_vector=NamedVector(\n",
    "       name=\"bge_large\",\n",
    "       vector=bge_vec), limit=10\n",
    ")\n",
    "search_result"
   ]
  },
  {
   "cell_type": "code",
   "execution_count": 28,
   "metadata": {},
   "outputs": [
    {
     "data": {
      "text/plain": [
       "[ScoredPoint(id=1082, version=11, score=0.7701866, payload={'content': 'Sàng lọc bệnh lý Gan - Mật - Tụy tại Bệnh viện Hồng Ngọc'}, vector=None, shard_key=None),\n",
       " ScoredPoint(id=1544, version=16, score=0.7699643, payload={'content': '[THAM KHẢO] 14 điều được coi là “bổ gan” bạn nhất định phải biết'}, vector=None, shard_key=None),\n",
       " ScoredPoint(id=1364, version=14, score=0.7698804, payload={'content': 'U nguyên bào gan: Nguyên nhân, dấu hiệu và cách điều trị'}, vector=None, shard_key=None),\n",
       " ScoredPoint(id=1506, version=16, score=0.760731, payload={'content': 'Xơ gan còn bù: Nguyên nhân, biểu hiện và cách điều trị'}, vector=None, shard_key=None),\n",
       " ScoredPoint(id=1356, version=14, score=0.75999457, payload={'content': 'Tổng quan về bộ gen người'}, vector=None, shard_key=None),\n",
       " ScoredPoint(id=1355, version=14, score=0.75759983, payload={'content': 'Tổng quan về bệnh động kinh'}, vector=None, shard_key=None),\n",
       " ScoredPoint(id=548, version=6, score=0.75457793, payload={'content': 'Gan nhiễm mỡ: Nguyên nhân, triệu chứng và cách điều trị'}, vector=None, shard_key=None),\n",
       " ScoredPoint(id=328, version=4, score=0.7503781, payload={'content': 'Bệnh đau thắt ngực ở người già'}, vector=None, shard_key=None),\n",
       " ScoredPoint(id=1371, version=14, score=0.7463909, payload={'content': 'Ung thư biểu mô tế bào gan và những điều bạn nên biết'}, vector=None, shard_key=None),\n",
       " ScoredPoint(id=1377, version=14, score=0.7429719, payload={'content': 'Ung thư gan nguyên phát và các thông tin bạn cần biết'}, vector=None, shard_key=None)]"
      ]
     },
     "execution_count": 28,
     "metadata": {},
     "output_type": "execute_result"
    }
   ],
   "source": [
    "search_result = qd_client.search(\n",
    "    collection_name=\"benchmark_collection\", query_vector=NamedVector(\n",
    "       name=\"gecko\",\n",
    "       vector=gecko_vec[0].values), limit=10\n",
    ")\n",
    "\n",
    "search_result"
   ]
  }
 ],
 "metadata": {
  "kernelspec": {
   "display_name": "base",
   "language": "python",
   "name": "python3"
  },
  "language_info": {
   "codemirror_mode": {
    "name": "ipython",
    "version": 3
   },
   "file_extension": ".py",
   "mimetype": "text/x-python",
   "name": "python",
   "nbconvert_exporter": "python",
   "pygments_lexer": "ipython3",
   "version": "3.9.13"
  }
 },
 "nbformat": 4,
 "nbformat_minor": 2
}
