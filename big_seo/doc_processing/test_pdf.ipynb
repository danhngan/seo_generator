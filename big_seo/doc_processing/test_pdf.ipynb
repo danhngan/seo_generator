{
 "cells": [
  {
   "cell_type": "code",
   "execution_count": 208,
   "metadata": {},
   "outputs": [],
   "source": [
    "import PyPDF2\n",
    "import json\n",
    "\n",
    "reader = PyPDF2.PdfReader(r\"F:\\doc\\Braunwalds Heart Disease, 12th ed.pdf\")\n"
   ]
  },
  {
   "cell_type": "code",
   "execution_count": 209,
   "metadata": {},
   "outputs": [],
   "source": [
    "outline = reader.outline"
   ]
  },
  {
   "cell_type": "code",
   "execution_count": 199,
   "metadata": {},
   "outputs": [],
   "source": [
    "page = reader.pages[0].get_object()"
   ]
  },
  {
   "cell_type": "code",
   "execution_count": 206,
   "metadata": {},
   "outputs": [
    {
     "data": {
      "text/plain": [
       "[([1.0, 0.0, 0.0, 1.0, 0.0, 0.0], None, 12.0, ''),\n",
       " ([1.0, 0.0, 0.0, 1.0, 0.0, 0.0], None, 12.0, ''),\n",
       " ([1.0, 0.0, 0.0, 1.0, 0.0, 0.0], None, 12.0, ''),\n",
       " ([1.0, 0.0, 0.0, -1.0, 104.94509890000002, 29.0],\n",
       "  {'/Type': '/Font',\n",
       "   '/Subtype': '/Type0',\n",
       "   '/BaseFont': '/AAAAAA+ArialMT',\n",
       "   '/Encoding': '/Identity-H',\n",
       "   '/DescendantFonts': [IndirectObject(1430, 0, 2648035714432)],\n",
       "   '/ToUnicode': {'/Filter': '/FlateDecode'}},\n",
       "  10.6599998,\n",
       "  '3/2/24, 11:31 AM'),\n",
       " ([1.0, 0.0, 0.0, -1.0, 104.94509890000002, 29.0], None, 12.0, ''),\n",
       " ([1.0, 0.0, 0.0, 1.0, 0.0, 0.0], None, 12.0, ''),\n",
       " ([1.0, 0.0, 0.0, -1.0, 617.1017510999998, 29.0],\n",
       "  {'/Type': '/Font',\n",
       "   '/Subtype': '/Type0',\n",
       "   '/BaseFont': '/AAAAAA+ArialMT',\n",
       "   '/Encoding': '/Identity-H',\n",
       "   '/DescendantFonts': [IndirectObject(1430, 0, 2648035714432)],\n",
       "   '/ToUnicode': {'/Filter': '/FlateDecode'}},\n",
       "  10.6599998,\n",
       "  ' Pathophysiology and natural history of mitral stenosis - UpToDate'),\n",
       " ([1.0, 0.0, 0.0, -1.0, 617.1017510999998, 29.0], None, 12.0, ''),\n",
       " ([1.0, 0.0, 0.0, 1.0, 0.0, 0.0], None, 12.0, ''),\n",
       " ([1.0, 0.0, 0.0, -1.0, 728.4293223000001, 1035.0],\n",
       "  {'/Type': '/Font',\n",
       "   '/Subtype': '/Type0',\n",
       "   '/BaseFont': '/AAAAAA+ArialMT',\n",
       "   '/Encoding': '/Identity-H',\n",
       "   '/DescendantFonts': [IndirectObject(1430, 0, 2648035714432)],\n",
       "   '/ToUnicode': {'/Filter': '/FlateDecode'}},\n",
       "  10.6599998,\n",
       "  '\\n'),\n",
       " ([1.0, 0.0, 0.0, -1.0, 728.4293223000001, 1035.0],\n",
       "  {'/Type': '/Font',\n",
       "   '/Subtype': '/Type0',\n",
       "   '/BaseFont': '/AAAAAA+ArialMT',\n",
       "   '/Encoding': '/Identity-H',\n",
       "   '/DescendantFonts': [IndirectObject(1430, 0, 2648035714432)],\n",
       "   '/ToUnicode': {'/Filter': '/FlateDecode'}},\n",
       "  10.6599998,\n",
       "  'https://www.uptodate.com/contents/pathophysiology-and-natural-history-of-mitral-stenosis/print?search=Mitral stenosis&source=search_result&selec'),\n",
       " ([1.0, 0.0, 0.0, 1.0, 0.0, 0.0],\n",
       "  {'/Type': '/Font',\n",
       "   '/Subtype': '/Type0',\n",
       "   '/BaseFont': '/AAAAAA+ArialMT',\n",
       "   '/Encoding': '/Identity-H',\n",
       "   '/DescendantFonts': [IndirectObject(1430, 0, 2648035714432)],\n",
       "   '/ToUnicode': {'/Filter': '/FlateDecode'}},\n",
       "  10.6599998,\n",
       "  ''),\n",
       " ([1.0, 0.0, 0.0, -1.0, 733.76563, 1035.0],\n",
       "  {'/Type': '/Font',\n",
       "   '/Subtype': '/Type0',\n",
       "   '/BaseFont': '/AAAAAA+ArialMT',\n",
       "   '/Encoding': '/Identity-H',\n",
       "   '/DescendantFonts': [IndirectObject(1430, 0, 2648035714432)],\n",
       "   '/ToUnicode': {'/Filter': '/FlateDecode'}},\n",
       "  10.6599998,\n",
       "  '…'),\n",
       " ([1.0, 0.0, 0.0, -1.0, 733.76563, 1035.0], None, 12.0, ''),\n",
       " ([1.0, 0.0, 0.0, 1.0, 0.0, 0.0], None, 12.0, ''),\n",
       " ([1.0, 0.0, 0.0, -1.0, 761.21875, 1035.0],\n",
       "  {'/Type': '/Font',\n",
       "   '/Subtype': '/Type0',\n",
       "   '/BaseFont': '/AAAAAA+ArialMT',\n",
       "   '/Encoding': '/Identity-H',\n",
       "   '/DescendantFonts': [IndirectObject(1430, 0, 2648035714432)],\n",
       "   '/ToUnicode': {'/Filter': '/FlateDecode'}},\n",
       "  10.6599998,\n",
       "  ' 1'),\n",
       " ([1.0, 0.0, 0.0, 1.0, 0.0, 0.0],\n",
       "  {'/Type': '/Font',\n",
       "   '/Subtype': '/Type0',\n",
       "   '/BaseFont': '/AAAAAA+ArialMT',\n",
       "   '/Encoding': '/Identity-H',\n",
       "   '/DescendantFonts': [IndirectObject(1430, 0, 2648035714432)],\n",
       "   '/ToUnicode': {'/Filter': '/FlateDecode'}},\n",
       "  10.6599998,\n",
       "  ''),\n",
       " ([1.0, 0.0, 0.0, -1.0, 767.15625, 1035.0],\n",
       "  {'/Type': '/Font',\n",
       "   '/Subtype': '/Type0',\n",
       "   '/BaseFont': '/AAAAAA+ArialMT',\n",
       "   '/Encoding': '/Identity-H',\n",
       "   '/DescendantFonts': [IndirectObject(1430, 0, 2648035714432)],\n",
       "   '/ToUnicode': {'/Filter': '/FlateDecode'}},\n",
       "  10.6599998,\n",
       "  '/'),\n",
       " ([1.0, 0.0, 0.0, 1.0, 0.0, 0.0],\n",
       "  {'/Type': '/Font',\n",
       "   '/Subtype': '/Type0',\n",
       "   '/BaseFont': '/AAAAAA+ArialMT',\n",
       "   '/Encoding': '/Identity-H',\n",
       "   '/DescendantFonts': [IndirectObject(1430, 0, 2648035714432)],\n",
       "   '/ToUnicode': {'/Filter': '/FlateDecode'}},\n",
       "  10.6599998,\n",
       "  ''),\n",
       " ([1.0, 0.0, 0.0, -1.0, 776.0535736, 1035.0],\n",
       "  {'/Type': '/Font',\n",
       "   '/Subtype': '/Type0',\n",
       "   '/BaseFont': '/AAAAAA+ArialMT',\n",
       "   '/Encoding': '/Identity-H',\n",
       "   '/DescendantFonts': [IndirectObject(1430, 0, 2648035714432)],\n",
       "   '/ToUnicode': {'/Filter': '/FlateDecode'}},\n",
       "  10.6599998,\n",
       "  '24')]"
      ]
     },
     "execution_count": 206,
     "metadata": {},
     "output_type": "execute_result"
    }
   ],
   "source": [
    "parts = []\n",
    "\n",
    "\n",
    "def visitor_body(text, cm, tm, fontDict, fontSize):\n",
    "    y = tm[5]\n",
    "\n",
    "    # tm [1,0,0,1,tx,ty] 4 tham so dau co the tao quay, skew, scale,...\n",
    "    # if fontDict and '/FontDescriptor' in fontDict:\n",
    "    parts.append((tm,fontDict, fontSize,text))\n",
    "\n",
    "\n",
    "page.extract_text(visitor_text=visitor_body)\n",
    "# text_body = \"\".join(parts)\n",
    "\n",
    "parts[:20]"
   ]
  },
  {
   "cell_type": "code",
   "execution_count": null,
   "metadata": {},
   "outputs": [],
   "source": [
    "parts"
   ]
  },
  {
   "cell_type": "code",
   "execution_count": 67,
   "metadata": {},
   "outputs": [
    {
     "data": {
      "text/plain": [
       "'Impact of Health Care Policy on Quality, Outcomes, and Equity in Cardiovascular Disease65\\n6\\nlower mortality among patients undergoing PCI in reporting versus \\nnon reporting states,  overall outcomes for AMI have been,  if anything,  \\nworse in reporting states,  suggesting that selection bias has driven the \\napparent improvements in procedural mortality .29\\nPublic reporting for hospital processes and outcomes has not been \\nassociated with unintended consequences,  but public reporting for \\nPCI has been associated with a negative safety signal.  Use of coronary \\nangiograms and PCI for AMI are lower in reporting states compared to \\n nonreporting states,  and these differences are highest among critically \\nill patients,  such as those in cardiogenic shock,  who may benefit most \\nfrom the procedure.  This is likely due to risk aversion; the majority of \\nsurveyed interventional cardiologists admit to avoiding high risk but \\nindicated PCIs due to concern that a bad outcome might negatively \\nimpact their publicly reported performance outcomes.30 Data for \\nCABG have been more mixed but have raised concerns about reduc -\\ntions in access to care for racial and ethnic minorities and clinically \\nhigh-  risk individuals.29\\nConcern that public reporting may lead to risk-  aversive behavior \\nand impede access to care,  particularly for critically ill patients with \\ncardiogenic shock,  has prompted some states (New York,  Massachu -\\nsetts) to begin excluding these patients from their public reports.  These \\npolicy changes have been associated with a substantial increase in the \\nuse of PCI for patients with cardiogenic shock and a reduction in asso -\\nciated in-  hospital mortality ,  although PCI rates in this population still \\nremain lower in reporting states compared with nonreporting states.31\\u200a\\nValue-  Based Payment Programs: Hospitals\\nMore recently ,  Medicare and other payers have begun linking clinician \\nand hospital reimbursement to performance on quality and outcome \\nmetrics through VBP programs.  The premise of VBP is that paying hos -\\npitals and clinicians more if they deliver higher-  quality care,  or achieve \\nbetter patient outcomes,  will lead to quality improvement.\\nAs part of the ACA,  many hospitals across the United States were \\nrequired to participate in major VBP programs.  One of the first manda -\\ntory VBP programs,  launched in 2012,  was the Hospital Readmissions \\nReduction Program (HRRP).  In the HRRP ,  hospitals are penalized up \\nto 3% of their Medicare reimbursements based on 30-  day readmis -\\nsion rates for HF ,  AMI,  pneumonia,  chronic obstructive pulmonary dis -\\nease,  joint replacement,  and CABG.  Hospital Value-  Based Purchasing \\n(HVBP) is another hospital VBP program that was introduced by the \\nACA.  In this program,  hospitals receive bonuses or penalties based on \\ntheir performance on a set of quality metrics in four domains: safety ,  \\nclinical outcomes,  efficiency and cost reduction,  and person and \\ncommunity engagement.  CVD is included in each category ,  including \\nspecific measures for HF mortality ,  AMI mortality ,  and,  most recently ,  \\ncondition-  specific cost measures for these two conditions.\\nEvaluations of the HRRP and HVBP have demonstrated mixed find -\\nings in terms of their associations with improvements in care quality \\nor patient outcomes.  The HRRP has been associated with a decrease \\nin readmission rates for Medicare beneficiaries,32 though subsequent \\nanalyses have suggested that a significant portion of the reported \\nimprovements may have been due to changes in coding of comorbidi -\\nties or regression to the mean rather than actual improvements in clin -\\nical care.33,34 Studies have failed to find any association between the \\nimplementation of HVBP and improvement in the patient outcomes \\nmeasured in the program,  such as mortality for AMI and HF ,  or patient \\nexperience.35–37\\nIn terms of potential adverse consequences,  concerns have been \\nraised that the HRRP was associated with an increase in mortality for \\nHF patients,  though findings have been mixed.38 It is possible that the \\nincentives put in place to reduce readmissions led to clinical interven -\\ntions that ultimately did not benefit patients,  such as efforts to treat and \\nrelease,  rather than readmit,  patients from the emergency department \\nwho return within 30 days of a HF admission.  However,  the true under -\\nlying mechanism for these mortality patterns remains unclear.\\nAnother unintended consequence of current VBP programs has \\nbeen their disproportionate impact on hospitals that serve medically \\nand/or socially high-  risk populations.  Most current claims-  based risk \\nadjustment models do not include information on frailty ,  cognitive function,  or social determinants of health (SDOH),  all of which strongly \\ninfluence clinical outcomes.  Consequently ,  models may be inequitable \\nwhen used to evaluate and compare hospital performance under VBP \\nprograms.  For example,  the HRRP has disproportionately penalized \\nsafety-  net hospitals that care for clinically and socially high-  risk pop -\\nulations,  despite data suggesting that roughly half of these hospitals’ \\nworse performance is due to the complexity of the population they \\nserve.  Similar patterns have been seen in other inpatient programs \\nsuch as the Hospital-Acquired Conditions Reduction Program,  as well \\nas in VBP programs for dialysis facilities and nursing facilities.39 Adding \\nadjustment for social risk,  and better adjustment for medical risk,  to \\nthese programs could improve their ability to accurately identify high-  \\nquality and low-  quality clinicians and facilities,  and reduce inappropri -\\nate penalties for the safety net. \\u200a\\nValue-  Based Purchasing: Outpatient\\nA similar sequence of events,  moving from public reporting to pay-  for- \\nperformance,  has occurred in clinician payment.  The Physician Quality \\nReporting System (PQRS) was a public reporting program established \\nin 2006.  It was initially a voluntary system,  but transitioned into a pay -\\nment penalty program in 2011,  when physicians and group practices \\nfaced negative payment adjustments for failing to report their perfor -\\nmance data.  Subsequently ,  a VBP program for physicians,  the Physician \\nValue-Based Modifier,  created a series of bonuses and penalties that \\nwere assigned based on performance on quality ,  outcome,  and cost \\nmeasures.  Building on this program,  the Medicare Access and CHIP \\nReauthorization Act (MACRA) was passed in 2015 and created the \\nrelated mandatory nationwide Quality Payment Program (QPP).  The \\nQPP consists of two “tracks” for clinicians: (1) the Merit-  Based Incen -\\ntive Program (MIPS) and (2) advanced Alternative Payment Models \\n(APMs).  MIPS,  the default program for practicing clinicians,  has four \\ndomains: clinical quality measures,  measures of electronic medi -\\ncal record use,  measures of costs of care,  and measures of practice \\nimprovement activities (such as using patient portals and participating \\nin quality improvement programs and registries).  Clinicians can opt \\nout of MIPS if they participate in a qualifying APM,  which is discussed \\nat more length later.\\nThere has been no evidence that public reporting or VBP programs \\nin the outpatient setting have been associated with improvements in \\nquality or outcomes in the United States,  although many of these pro -\\ngrams were too small or short-  lived to be broadly evaluated.  A  similar \\nprogram in the UK was associated with modest improvements in \\n quality .40 However,  early evidence suggests that MIPS has dispropor -\\ntionately penalized physicians and practices serving patients with \\nhigh levels of social or medical risk.41–43\\u200a\\nAlternative Payment Models\\nAPMs are models that move beyond the traditional fee-  for- service pay -\\nment structure in order to incent high-  value care delivery .  The two most \\nrelevant APMs to cardiovascular care include accountable care organi -\\nzations (ACOs) and episode-  based or “bundled” payments.\\nACOs are groups of hospitals and clinicians that assume risk for \\ntheir attributed patients’ quality ,  clinical outcomes,  and total costs of \\ncare,  typically on an annual basis.  In Medicare’s largest ACO program,  \\nthe Medicare Shared Savings Program (MSSP),  participants are paid \\non a fee-  for- service basis but are held accountable for their beneficia -\\nries’ quality and costs each year.  If participants’ total annual spending \\non care for beneficiaries is below a preset target,  and performance \\non quality is high,  participants are eligible to keep a portion of the \\nsavings.  A number of cardiovascular quality measures are included in \\nthe MSSP ,  such as preventable hospitalizations for HF ,  readmission rates,  \\nand the use of certain medications for patients with ischemic heart \\ndisease or HF .  Thus,  cardiovascular specialists can play an important \\nrole in improving quality and outcomes under this and other similar \\nprograms.\\nStudies examining the effectiveness of ACOs such as the MSSP have \\ngenerally found that they are associated with modest savings that grow \\nwith longer participation as well as small improvements in quality or '"
      ]
     },
     "execution_count": 67,
     "metadata": {},
     "output_type": "execute_result"
    }
   ],
   "source": [
    "reader.pages[100].extract_text()"
   ]
  },
  {
   "cell_type": "code",
   "execution_count": 3,
   "metadata": {},
   "outputs": [],
   "source": [
    "def parse_outline(reader,outline,doc_name = 'Document'):\n",
    "    \"\"\"return nested dict of outline\"\"\"\n",
    "    def sub(outline, prev_nodes:list):\n",
    "        \"\"\"return current node and update previous node\n",
    "        if `o` is a list, use previous node as parent and update its children\"\"\"\n",
    "        if isinstance(outline,PyPDF2.generic.Destination):\n",
    "            first_page = reader.get_destination_page_number(outline)\n",
    "            res = {'title':outline.title,\n",
    "                   'page_range':[first_page,first_page],\n",
    "                   'children':[]}\n",
    "            if prev_nodes is not None:\n",
    "                for node in prev_nodes:\n",
    "                    node['page_range'][1] = first_page\n",
    "            return res, [res]\n",
    "        \n",
    "        if isinstance(outline, list) and len(prev_nodes) == 1:\n",
    "            res = []\n",
    "            last_nodes = [{'page_range':[0,0]}]\n",
    "            for o in outline:\n",
    "                cur, nodes = sub(o, last_nodes)\n",
    "                last_nodes = nodes\n",
    "                if cur is not None:\n",
    "                    res.append(cur)\n",
    "            \n",
    "            prev_nodes[0]['children'] = res\n",
    "            for node in nodes:\n",
    "                prev_nodes.append(node)\n",
    "            return None, prev_nodes\n",
    "        \n",
    "        raise TypeError(str(type(outline))+str(type(prev_nodes)))\n",
    "    res = [{'title':doc_name,\n",
    "            'page_range':[0,0],\n",
    "            'children':[]}]\n",
    "    sub(outline=outline,prev_nodes=res)\n",
    "    num_of_pages = len(reader.pages)\n",
    "    for node in res:\n",
    "        node['page_range'][1] = num_of_pages - 1\n",
    "    return res[0]\n",
    "\n",
    "def flatten_outline(outline:dict, parent_title = None):\n",
    "    res = [outline]\n",
    "    if 'children' in outline:\n",
    "        children = outline.pop('children')\n",
    "    else:\n",
    "        children = None\n",
    "\n",
    "    if isinstance(parent_title,str):\n",
    "        outline['title'] = parent_title + ' --- ' + outline['title']\n",
    "\n",
    "    if children is None or len(children) < 1:\n",
    "        return res\n",
    "    else:\n",
    "        for child in children:\n",
    "            flat_children = flatten_outline(child, outline['title'])\n",
    "            for flat_child in flat_children:\n",
    "                res.append(flat_child)\n",
    "        return res"
   ]
  },
  {
   "cell_type": "code",
   "execution_count": 4,
   "metadata": {},
   "outputs": [],
   "source": [
    "nested_outline = parse_outline(reader=reader,outline=outline,doc_name='Heart diseases')\n",
    "flat_outline = flatten_outline(nested_outline,None)"
   ]
  },
  {
   "cell_type": "code",
   "execution_count": 6,
   "metadata": {},
   "outputs": [
    {
     "data": {
      "text/plain": [
       "True"
      ]
     },
     "execution_count": 6,
     "metadata": {},
     "output_type": "execute_result"
    }
   ],
   "source": [
    "from qdrant_client import QdrantClient\n",
    "from qdrant_client.http.models import Distance, VectorParams\n",
    "from qdrant_client.http.models import PointStruct,NamedVector\n",
    "import json\n",
    "\n",
    "qd_client = QdrantClient(\"localhost\", port=6333)\n",
    "\n",
    "collection_name = 'outline_collection'\n",
    "vec_name = 'bge_large'\n",
    "qd_client.recreate_collection(\n",
    "    collection_name=collection_name,\n",
    "    vectors_config={\n",
    "        # 'gecko':VectorParams(size=768, distance=Distance.DOT),\n",
    "        vec_name:VectorParams(size=1024, distance=Distance.DOT)}\n",
    ")"
   ]
  },
  {
   "cell_type": "code",
   "execution_count": null,
   "metadata": {},
   "outputs": [],
   "source": [
    "from llama_index.embeddings.huggingface import HuggingFaceEmbedding\n",
    "embed_model = HuggingFaceEmbedding(model_name=\"BAAI/bge-m3\")"
   ]
  },
  {
   "cell_type": "code",
   "execution_count": 8,
   "metadata": {},
   "outputs": [],
   "source": [
    "def index_flat_outline(flat_outline:list, embed_model, collection_name,qd_client):\n",
    "    vecs = []\n",
    "    for i,o in enumerate(flat_outline):\n",
    "        vecs.append(\n",
    "        PointStruct(id=i+1, vector={'bge_large':embed_model.get_text_embedding(o['title'])},\n",
    "                    payload=o))\n",
    "        \n",
    "        if i%100 == 0:\n",
    "            operation_info = qd_client.upsert(\n",
    "                                    collection_name=collection_name,\n",
    "                                    wait=True,\n",
    "                                    points=vecs\n",
    "    )\n",
    "            vecs = []\n",
    "\n",
    "            print(operation_info)\n",
    "    \n",
    "    if len(vecs) > 0:\n",
    "        operation_info = qd_client.upsert(\n",
    "                                    collection_name=collection_name,\n",
    "                                    wait=True,\n",
    "                                    points=vecs)\n",
    "        print(operation_info)\n",
    "\n",
    "\n",
    "def search_qdrant(query,client,embed_model,collection_name,vec_name,limit=5):\n",
    "    vec = embed_model.get_text_embedding(query)\n",
    "    search_result = client.search(\n",
    "    collection_name=collection_name, query_vector=NamedVector(\n",
    "       name=vec_name,\n",
    "       vector=vec), limit=limit\n",
    ")\n",
    "    return search_result"
   ]
  },
  {
   "cell_type": "code",
   "execution_count": 9,
   "metadata": {},
   "outputs": [
    {
     "data": {
      "text/plain": [
       "4059"
      ]
     },
     "execution_count": 9,
     "metadata": {},
     "output_type": "execute_result"
    }
   ],
   "source": [
    "len(flat_outline)"
   ]
  },
  {
   "cell_type": "code",
   "execution_count": 10,
   "metadata": {},
   "outputs": [
    {
     "name": "stdout",
     "output_type": "stream",
     "text": [
      "operation_id=0 status=<UpdateStatus.COMPLETED: 'completed'>\n",
      "operation_id=1 status=<UpdateStatus.COMPLETED: 'completed'>\n",
      "operation_id=2 status=<UpdateStatus.COMPLETED: 'completed'>\n",
      "operation_id=3 status=<UpdateStatus.COMPLETED: 'completed'>\n",
      "operation_id=4 status=<UpdateStatus.COMPLETED: 'completed'>\n",
      "operation_id=5 status=<UpdateStatus.COMPLETED: 'completed'>\n",
      "operation_id=6 status=<UpdateStatus.COMPLETED: 'completed'>\n",
      "operation_id=7 status=<UpdateStatus.COMPLETED: 'completed'>\n",
      "operation_id=8 status=<UpdateStatus.COMPLETED: 'completed'>\n",
      "operation_id=9 status=<UpdateStatus.COMPLETED: 'completed'>\n",
      "operation_id=10 status=<UpdateStatus.COMPLETED: 'completed'>\n",
      "operation_id=11 status=<UpdateStatus.COMPLETED: 'completed'>\n",
      "operation_id=12 status=<UpdateStatus.COMPLETED: 'completed'>\n",
      "operation_id=13 status=<UpdateStatus.COMPLETED: 'completed'>\n",
      "operation_id=14 status=<UpdateStatus.COMPLETED: 'completed'>\n",
      "operation_id=15 status=<UpdateStatus.COMPLETED: 'completed'>\n",
      "operation_id=16 status=<UpdateStatus.COMPLETED: 'completed'>\n",
      "operation_id=17 status=<UpdateStatus.COMPLETED: 'completed'>\n",
      "operation_id=18 status=<UpdateStatus.COMPLETED: 'completed'>\n",
      "operation_id=19 status=<UpdateStatus.COMPLETED: 'completed'>\n",
      "operation_id=20 status=<UpdateStatus.COMPLETED: 'completed'>\n",
      "operation_id=21 status=<UpdateStatus.COMPLETED: 'completed'>\n",
      "operation_id=22 status=<UpdateStatus.COMPLETED: 'completed'>\n",
      "operation_id=23 status=<UpdateStatus.COMPLETED: 'completed'>\n",
      "operation_id=24 status=<UpdateStatus.COMPLETED: 'completed'>\n",
      "operation_id=25 status=<UpdateStatus.COMPLETED: 'completed'>\n",
      "operation_id=26 status=<UpdateStatus.COMPLETED: 'completed'>\n",
      "operation_id=27 status=<UpdateStatus.COMPLETED: 'completed'>\n",
      "operation_id=28 status=<UpdateStatus.COMPLETED: 'completed'>\n",
      "operation_id=29 status=<UpdateStatus.COMPLETED: 'completed'>\n",
      "operation_id=30 status=<UpdateStatus.COMPLETED: 'completed'>\n",
      "operation_id=31 status=<UpdateStatus.COMPLETED: 'completed'>\n",
      "operation_id=32 status=<UpdateStatus.COMPLETED: 'completed'>\n",
      "operation_id=33 status=<UpdateStatus.COMPLETED: 'completed'>\n",
      "operation_id=34 status=<UpdateStatus.COMPLETED: 'completed'>\n",
      "operation_id=35 status=<UpdateStatus.COMPLETED: 'completed'>\n",
      "operation_id=36 status=<UpdateStatus.COMPLETED: 'completed'>\n",
      "operation_id=37 status=<UpdateStatus.COMPLETED: 'completed'>\n",
      "operation_id=38 status=<UpdateStatus.COMPLETED: 'completed'>\n",
      "operation_id=39 status=<UpdateStatus.COMPLETED: 'completed'>\n",
      "operation_id=40 status=<UpdateStatus.COMPLETED: 'completed'>\n",
      "operation_id=41 status=<UpdateStatus.COMPLETED: 'completed'>\n"
     ]
    }
   ],
   "source": [
    "index_flat_outline(flat_outline=flat_outline, embed_model=embed_model,collection_name=collection_name,qd_client=qd_client)"
   ]
  },
  {
   "cell_type": "code",
   "execution_count": 234,
   "metadata": {},
   "outputs": [],
   "source": [
    "res = search_qdrant('the symptoms of mitral stenosis',client=qd_client,embed_model=embed_model,collection_name=collection_name,vec_name=vec_name,limit=20)"
   ]
  },
  {
   "cell_type": "code",
   "execution_count": 235,
   "metadata": {},
   "outputs": [],
   "source": [
    "pages = set()\n",
    "for o in res:\n",
    "    pages = pages.union(range(*o.payload['page_range']))\n"
   ]
  },
  {
   "cell_type": "code",
   "execution_count": 236,
   "metadata": {},
   "outputs": [],
   "source": [
    "content = []\n",
    "for p in sorted(list(pages)):\n",
    "    content.append(reader.pages[p].extract_text())\n",
    "\n",
    "content = '\\n'.join(content)"
   ]
  },
  {
   "cell_type": "code",
   "execution_count": 237,
   "metadata": {},
   "outputs": [
    {
     "data": {
      "text/plain": [
       "182"
      ]
     },
     "execution_count": 237,
     "metadata": {},
     "output_type": "execute_result"
    }
   ],
   "source": [
    "maxx = 0\n",
    "for c in content.split('\\n'):\n",
    "    if len(c)> maxx:\n",
    "        maxx = len(c)\n",
    "maxx"
   ]
  },
  {
   "cell_type": "code",
   "execution_count": 238,
   "metadata": {},
   "outputs": [
    {
     "data": {
      "text/plain": [
       "True"
      ]
     },
     "execution_count": 238,
     "metadata": {},
     "output_type": "execute_result"
    }
   ],
   "source": [
    "qd_client.recreate_collection(\n",
    "    collection_name='doc_content',\n",
    "    vectors_config={\n",
    "        # 'gecko':VectorParams(size=768, distance=Distance.DOT),\n",
    "        'bge_large':VectorParams(size=1024, distance=Distance.DOT)}\n",
    ")"
   ]
  },
  {
   "cell_type": "code",
   "execution_count": 239,
   "metadata": {},
   "outputs": [
    {
     "name": "stdout",
     "output_type": "stream",
     "text": [
      "operation_id=0 status=<UpdateStatus.COMPLETED: 'completed'>\n"
     ]
    }
   ],
   "source": [
    "vecs = []\n",
    "window_size = 15\n",
    "step = 10\n",
    "trunk_content = content.split('\\n')\n",
    "for i in range(window_size//2, len(trunk_content)-window_size//2,step):\n",
    "    payload = {'content':'\\n'.join(trunk_content[i-window_size//2:i-window_size//2+window_size])}\n",
    "    vecs.append(\n",
    "    PointStruct(id=i+1, vector={'bge_large':embed_model.get_text_embedding(payload['content'])},\n",
    "                payload=payload))\n",
    "    \n",
    "    if i%100 == 0:\n",
    "        operation_info = qd_client.upsert(\n",
    "                                collection_name='doc_content',\n",
    "                                wait=True,\n",
    "                                points=vecs\n",
    ")\n",
    "        vecs = []\n",
    "\n",
    "        print(operation_info)\n",
    "\n",
    "if len(vecs) > 0:\n",
    "    operation_info = qd_client.upsert(\n",
    "                                collection_name='doc_content',\n",
    "                                wait=True,\n",
    "                                points=vecs)\n",
    "    print(operation_info)"
   ]
  },
  {
   "cell_type": "code",
   "execution_count": 240,
   "metadata": {},
   "outputs": [],
   "source": [
    "query = \"\"\"the symptoms of mitral stenosis.\"\"\"\n",
    "res = search_qdrant(query=query,client=qd_client,embed_model=embed_model,collection_name='doc_content',vec_name='bge_large',limit=20)"
   ]
  },
  {
   "cell_type": "code",
   "execution_count": 241,
   "metadata": {},
   "outputs": [
    {
     "data": {
      "text/plain": [
       "['TABLE 75.1  Stages of Mitral Stenosis (MS)\\nSTAGE DEFINITION VALVE ANATOMY VALVE HEMODYNAMICS *HEMODYNAMIC \\nCONSEQUENCES SYMPTOMS\\nA At risk for MS Mild valve doming during diastole Normal transmitral flow velocity None None\\nB Progressive MS Rheumatic valve changes with \\ncommissural fusion and diastolic \\ndoming of mitral valve leaflets\\nPlanimetered MVA >1.5 cm2Increased transmitral flow velocities\\nMVA >1.5 cm2\\nDiastolic pressure half-  time <150 \\nmsecMild to moderate LA \\nenlargement\\nNormal pulmonary \\npressure at restNone\\nC Asymptomatic ',\n",
       " '\\nMitral Stenosis1441.e1\\n75\\nMitral\\nstenosisNon-\\nrheumaticLimited treatment options.\\nBMV does not work well.\\nSurgery is possible but with\\nsomewhat less optimal\\nresults. New interventional\\nmodalities are comingAlso called degenerative MS (DMS). Most common condition\\nin the non-rheumatic category & likely to increase significantly\\nas the population ages. Difficult to diagnose and treat.\\nHighly preventable, easily\\ndiagnosed and has excellent',\n",
       " 'Randomized clinical trials with limited-  term follow-  up show that results \\nof BMV are as good or perhaps better than surgery .  Robust long-  term \\nRheumatic mitral\\nstenosis\\nProgressiv e MS\\nMVA /H110221.5 cm2Severe MS\\nMVA /H113491.5 cm2\\nAsymptomatic\\nstage CExertional\\nsymptoms\\nPMBC at CVC\\n(1)MV surge ry*\\n(1)PMBC at\\nCVC (2b)PMBC at\\nCVC (2a)Symptomatic',\n",
       " '(reflecting LA filling) and conduit strain \\n(a marker for early diastolic emptying) \\nare reduced,  especially in patients with \\nMAC.  Abnormal peak atrial longitudinal \\nstrain (PALS) is associated with reduced \\nA\\nCD EB\\nFIGURE 75.1  Pathology of mitral stenosis and imaging correlations.  A, Fused commissures are the hallmark of \\nrheumatic MS. Fusion starts along the valve tips and progresses to limit the opening from both ends. B, Some pliability \\nof the rest of the leaflet causes a hockey stick appearance of the anterior leaflet on 2D echocardiography ( arrow ) ( Video \\n75.1). C, Fibrosis and fusion extend to the sub-  valvular apparatus resulting in matted and retracted chordae, which ( D) \\ncan be seen on echocardiography ( arrows ) (see Video 75.2). E, Fusion of the commissures ( arrows ) creates a fish-  mouth \\nappearance as demonstrated on 3D echocardiography (see Video 75.3)\\nMitral Stenosis1443\\n75',\n",
       " 'artery can cause pressure effects.  Stroke (especially in undetected \\nAF) and hemoptysis (from pulmonary venous hypertension or rup -\\ntured bronchial veins) were not uncommon symptoms in the past \\nbut are now seen infrequently . \\u200a\\nPhysical Examination\\nBedside physical signs of RMS can be divided into those arising from \\nthe pathologic mitral valve itself and those that are consequences of \\nsevere MS.  The former includes a loud S1 (and a tapping apex),  the \\nopening snap (OS),  and mid-  diastolic murmur with presystolic accen -\\ntuation.  The latter include the usual signs of AF ,  pulmonary venous and \\narterial hypertension,  tricuspid regurgitation (TR),  right heart failure,  \\nand,  in late stages,  systemic hypoperfusion.\\nThe S1 is often loud with a pliable mitral valve,  but significant leaflet \\nrestriction (with fibrosis,  calcification or subvalvular pathology) can \\ndecrease its intensity .  The OS is a classic feature of RMS and arises at ',\n",
       " 'as resting mean valve gradient ≥5 mm  Hg,  peak mitral inflow veloc -\\nity ≥1.9 msec,  or effective orifice area ≤2 cm2.\\u200aEPIDEMIOLOGY AND SECULAR TRENDS, \\n1441\\nRheumatic Mitral Stenosis, 1441\\nNonrheumatic Mitral Stenosis, 1441\\nDEFINITION OF DISEASE AND SEVERITY, \\n1441\\nRHEUMATIC MITRAL STENOSIS, 1442Pathology, 1442\\nClinical Pathophysiology, 1442\\nNatural History, 1443\\nDiagnosis, 1444\\nAssociated Conditions, 1446\\nTreatment, 1448\\nNONRHEUMATIC MITRAL STENOSIS, 1450Degenerative MS Related to Mitral Annular \\nCalcification, 1450',\n",
       " 'MS is predominantly in the “aortic-  mitral curtain” ( orange arrows ), which is a classic sign of radiation induced valvular damage. In addi -\\ntion, the patient has calcific aortic stenosis ( yellow arrow ), which occurs before the onset of MS. Commissural fusion does not occur and \\nhence balloon dilation is not an option (see  Video 75.10). B, In contrast, degenerative MS related to mitral annular calcification most \\ncommonly involves the posterior annulus and then extends around the annulus and into the base of the leaflets. Aorto-  mitral curtain \\ncalcification is not prominent (see Video 75.11).\\n1454\\nDISEASES OF THE HEART VALVESVIII \\nRheumatic Mitral Stenosis: Pathophysiology, Natural History, Diagnosis\\n 11.  Chandrashekhar Y ,  Westaby S ,  Narula J .  Mitral stenosis.  Lancet .  2009;374:1271–1283.\\n 12.  El Sabbagh A ,  Reddy Y N,  Barros-  Gomes S ,  et al.  Low-  gradient severe mitral stenosis: hemodynamic \\nprofiles,  clinical characteristics,  and outcomes.  J Am Heart Assoc .  2019;8:e010736.\\n 13.  Badheka A O,  Shah N ,  Ghatak A ,  et al.  Balloon mitral valvuloplasty in the United States: a 13-  year \\nperspective.  Am J Med .  2014;127(1126).e1–12.\\n 14.  Desnos C ,  Iung B ,  Himbert D ,  et al.  Temporal trends on percutaneous mitral commissurotomy: 30 \\nyears of experience.  J Am Heart Assoc .  2019;8:e012031.',\n",
       " '1441\\n Additional content is available online at Elsevier eBooks for Practicing Clinicians 75 Mitral Stenosis\\nY.S. CHANDRASHEKHAR\\nMitral stenosis (MS),  known in the literature since at least the 1669 \\ndescription by John Mayow and a major manifestation of rheumatic \\nheart disease (RHD),  remains an important problem worldwide.  \\nWhile the developed world has all but eliminated RHD,  it continues \\nto be a major cause of heart disease,  morbidity ,  and mortality in \\nthe low and middle income countries (LMICs; 5.6 billion people or \\n80% of humanity) (see Chapter 81 ),  especially affecting children \\nand young adults in their most productive age.1 It has,  however,  not \\ndisappeared entirely from the West—rheumatic MS (RMS) is occa -\\nsionally seen in some under-resourced communities and among \\nimmigrants from areas with high prevalence of rheumatic fever; \\nmore importantly ,  nonrheumatic forms of MS are being increasingly ',\n",
       " '5.0\\n0.0\\n60 80 1001 20 1401 60\\nB\\nFIGURE 75.3  Relation between heart rate, diastolic filling time, and pres -\\nsure gradient in mitral stenosis.  A, Increasing heart rate causes sequential \\nreduction in diastolic filling period. B, The reduced diastolic filling time at increasing \\nheart rates is associated with exacerbation of the mitral pressure gradient, which \\nis most marked with severe MS. Thus, higher heart rates are likely to precipitate \\nsymptoms.\\n1445\\n75\\nheart failure (chronotropic incompetence,  abnormal stroke volume \\nreserve,  impaired ventilation,  and low peak A–VO2 difference).  Palpi -\\ntations,  often a consequence of AF ,  are seen in the later stages of the ',\n",
       " 'averaging both has been suggested,  but no single method has been \\nwell validated.  Surgery provides definitive therapy; the valve can be \\nrepaired in 50% to 60% of cases but this becomes more difficult with \\nan increasing number of clips.  There is a 9% risk of early mortality ,  \\ndepending on urgency of surgery and the extent of patient comor -\\nbidities,  and a 60% to 70% survival at 1 to 2 years.\\nCLASSIC REFERENCES\\nShaw T R,  Sutaria N ,  Prendergast B .  Clinical and haemodynamic profiles of young,  middle aged,  \\nand elderly patients with mitral stenosis undergoing mitral balloon valvotomy .  Heart .  2003;89:  \\n1430–1436.\\nWilkins G T,  Weyman A E,  Abascal V M,  et al.  Percutaneous balloon dilatation of the mitral valve: an \\nanalysis of echocardiographic variables related to outcome and the mechanism of dilatation.  \\nBr Heart J .  1988;60:299–308.\\nWood P .  An appreciation of mitral stenosis.  I.  Clinical features.  Br Med J .  1954;1(4870):1051–1063.\\nREFERENCES']"
      ]
     },
     "execution_count": 241,
     "metadata": {},
     "output_type": "execute_result"
    }
   ],
   "source": [
    "res_content = []\n",
    "for a in res[:10]:\n",
    "    res_content.append(a.payload['content'])\n",
    "res_content"
   ]
  },
  {
   "cell_type": "code",
   "execution_count": null,
   "metadata": {},
   "outputs": [],
   "source": [
    "print('\\n---\\n\\n'.join(res_content))"
   ]
  },
  {
   "cell_type": "code",
   "execution_count": 176,
   "metadata": {},
   "outputs": [],
   "source": [
    "from bs4 import BeautifulSoup\n",
    "import requests\n",
    "import json"
   ]
  },
  {
   "cell_type": "code",
   "execution_count": 138,
   "metadata": {},
   "outputs": [],
   "source": [
    "page = requests.get('https://www.vinmec.com/vi/tin-tuc/thong-tin-suc-khoe/nhi/su-cham-phat-trien-o-tre-em/')\n",
    "soup = BeautifulSoup(page.content,'html.parser')"
   ]
  },
  {
   "cell_type": "code",
   "execution_count": 173,
   "metadata": {},
   "outputs": [],
   "source": [
    "a = requests.get('http://localhost:5000/search?q=hep+van+hai+la&n=5')"
   ]
  },
  {
   "cell_type": "code",
   "execution_count": 165,
   "metadata": {},
   "outputs": [],
   "source": [
    "class WebPageParser():\n",
    "    def __init__(self, start_tag='h1',\n",
    "                 exclude_tags=set(['script', 'style', 'noscript']),\n",
    "                 get_all_text_tags=set(['p', 'li', 'h1', 'h2', 'h3', 'h4', 'h5', 'h6'])):\n",
    "        self.start_tag = start_tag\n",
    "        self.exclude_tags = exclude_tags\n",
    "        self.get_all_text_tags = get_all_text_tags\n",
    "        self._nested_structure = None\n",
    "\n",
    "    def feed(self, doc) -> None:\n",
    "        self.webpage = doc\n",
    "\n",
    "    def parse(self, nested: bool = False) -> str:\n",
    "        \"\"\"nested is suitable for embedding search in page\n",
    "        flat structure should to be used in cross page search embedding\"\"\"\n",
    "\n",
    "        page_content = self.webpage.get_doc_content()\n",
    "        soup = BeautifulSoup(page_content, 'html.parser')\n",
    "        if not self._nested_structure:\n",
    "            self._nested_structure = self._get_nested_structure(soup)\n",
    "        \n",
    "        if nested:\n",
    "            return self._nested_structure\n",
    "        outer_doc = {'tag':'body',\n",
    "                     'tag_text':'-'.join(node['tag_text'] for node in self._nested_structure),\n",
    "                     'children':self._nested_structure}\n",
    "        res = []\n",
    "        self._get_flat_structure(outer_doc,res)\n",
    "        return [(o,self.webpage) for o in res]\n",
    "\n",
    "    def get_flat_outline(self):\n",
    "        if not self._nested_structure:\n",
    "            page_content = self.webpage.get_doc_content()\n",
    "            soup = BeautifulSoup(page_content, 'html.parser')\n",
    "            self._nested_structure = self._get_nested_structure(soup)\n",
    "        res = []\n",
    "        self._get_flat_outline(self._nested_structure, res)\n",
    "        return res\n",
    "\n",
    "    def _get_nested_structure(self, soup: BeautifulSoup) -> dict:\n",
    "\n",
    "        generations = []\n",
    "        self._parse_recursive_structure(soup.find(self.start_tag), generations)\n",
    "        res = []\n",
    "        for node in generations:\n",
    "            if node['tag'] == self.start_tag:\n",
    "                self._concat_text(node)\n",
    "                res.append(node)\n",
    "        return res\n",
    "\n",
    "    def _get_text(self, soup: BeautifulSoup) -> str:\n",
    "        if not soup:\n",
    "            return ''\n",
    "        if soup.name in self.get_all_text_tags:\n",
    "            return soup.text\n",
    "        return soup.find(string=True, recursive=False)\n",
    "\n",
    "    def _get_next(self, soup: BeautifulSoup) -> BeautifulSoup:\n",
    "        if soup.name in self.get_all_text_tags:\n",
    "            while soup and not soup.find_next_sibling():\n",
    "                soup = soup.find_parent()\n",
    "            return soup.find_next_sibling() if soup else None\n",
    "        return soup.find_next()\n",
    "\n",
    "    def _concat_text(self, node: dict) -> str:\n",
    "        children_text = []\n",
    "        children = node['children']\n",
    "        new_children = []\n",
    "        node['tag_text'] = node['text'] if isinstance(node['text'],str) else ''\n",
    "        for child in children:\n",
    "            if len(child['children']) == 0 and isinstance(child['text'], str):\n",
    "                children_text.append(child['text'])\n",
    "            elif len(child['children']) > 0:\n",
    "                new_children.append(child)\n",
    "                self._concat_text(child)\n",
    "        node['text'] = '\\n'.join(children_text)\n",
    "        node['children'] = new_children\n",
    "\n",
    "    def _parse_recursive_structure(self, soup: BeautifulSoup, generations: list):\n",
    "        if not soup or soup.name == 'footer':\n",
    "            return None\n",
    "\n",
    "        if soup.name in self.exclude_tags:\n",
    "            return self._parse_recursive_structure(self._get_next(soup), generations)\n",
    "        current = {'tag': soup.name,\n",
    "                   'text': self._get_text(soup), 'children': []}\n",
    "        if soup.name.startswith('h'):\n",
    "            while len(generations) > 0 and generations[-1]['tag'] >= soup.name and generations[-1]['tag'] > 'h1':\n",
    "                generations.pop()\n",
    "            if len(generations) > 0 and current['tag'] > 'h1':\n",
    "                generations[-1]['children'].append(current)\n",
    "            generations.append(current)\n",
    "            self._parse_recursive_structure(self._get_next(soup), generations)\n",
    "        else:\n",
    "            generations[-1]['children'].append(current)\n",
    "            self._parse_recursive_structure(self._get_next(soup), generations)\n",
    "\n",
    "    def _get_flat_outline(self, children: list, res: list):\n",
    "        for child in children:\n",
    "            res.append(child['tag']+' - '+child['tag_text'])\n",
    "            if len(child['children']) > 0:\n",
    "                self._get_flat_outline(child['children'],res)\n",
    "    \n",
    "    def _get_flat_structure(self, parent, res: list):\n",
    "        for child in parent['children']:\n",
    "            res.append(child['tag']+' - '+parent['tag_text'] +\n",
    "                       ' - '+child['tag_text'], child['text'])\n",
    "            if len(child['children']) > 0:\n",
    "                self._get_flat_structure(child, res)\n",
    "\n",
    "\n",
    "class WebPage:\n",
    "    def __init__(self, content) -> None:\n",
    "        self.content = content\n",
    "\n",
    "    def get_doc_content(self):\n",
    "        return self.content\n"
   ]
  },
  {
   "cell_type": "code",
   "execution_count": 166,
   "metadata": {},
   "outputs": [],
   "source": [
    "page = requests.get('https://tamanhhospital.vn/hep-van-hai-la/')\n",
    "soup = BeautifulSoup(page.content,'html.parser')"
   ]
  },
  {
   "cell_type": "code",
   "execution_count": 182,
   "metadata": {},
   "outputs": [
    {
     "name": "stdout",
     "output_type": "stream",
     "text": [
      "<class 'str'>\n",
      "<class 'str'>\n",
      "<class 'str'>\n",
      "<class 'str'>\n",
      "<class 'str'>\n"
     ]
    }
   ],
   "source": [
    "pages = json.loads(a.content)\n",
    "outlines = []\n",
    "for page in pages:\n",
    "    print(type(page))\n",
    "    parser = WebPageParser()\n",
    "    parser.feed(WebPage(page))\n",
    "    outlines.append(parser.get_flat_outline())"
   ]
  },
  {
   "cell_type": "code",
   "execution_count": 190,
   "metadata": {},
   "outputs": [
    {
     "data": {
      "text/plain": [
       "'h1 - Hẹp van hai lá: Nguyên nhân, dấu hiệu, biến chứng và phòng ngừa\\nheader - \\nh3 - Mục lục\\nh2 - Hẹp van hai lá là gì?\\nh2 - Tim hoạt động như thế nào?\\nh2 - Nguyên nhân gây hẹp van hai lá\\nh2 - Triệu chứng hẹp van 2 lá\\nh2 - Các mức độ đánh giá van hai lá\\nh2 - Yếu tố nguy cơ\\nh2 - Biến chứng của hẹp van hai lá\\nh2 - Khi nào cần đi khám bác sĩ?\\nh2 - Chẩn đoán hẹp van hai lá như thế nào?\\nh2 - Hẹp van tim hai lá có chữa được không?\\nh2 - Phương pháp điều trị hẹp van hai lá\\nh3 - Xây dựng chế độ sinh hoạt lành mạnh, khoa học\\nh2 - Phòng ngừa bệnh hẹp van hai lá\\nh3 -           BÀI VIẾT LIÊN QUAN      \\nh2 -               LIÊN HỆ VỚI CHÚNG TÔI         \\nh2 -                               ĐỐI TÁC BẢO HIỂM                         '"
      ]
     },
     "execution_count": 190,
     "metadata": {},
     "output_type": "execute_result"
    }
   ],
   "source": [
    "'\\n'.join(map(lambda x: x.replace('\\n', ' '),outlines[0]))"
   ]
  },
  {
   "cell_type": "code",
   "execution_count": 194,
   "metadata": {},
   "outputs": [],
   "source": [
    "with open('test_outline.txt','w') as f:\n",
    "    f.write('\\n\\n--------\\n\\n'.join(['\\n'.join(map(lambda x: x.replace('\\n', ' '),o)) for o in outlines]))"
   ]
  },
  {
   "cell_type": "code",
   "execution_count": 133,
   "metadata": {},
   "outputs": [],
   "source": [
    "def _concat_text(node: dict) -> str:\n",
    "    concatenated_text = []\n",
    "    children = node['children']\n",
    "    new_children = []\n",
    "    node['tag_text'] = node['text']\n",
    "    for child in children:\n",
    "        if len(child['children']) == 0 and isinstance(child['text'], str):\n",
    "            concatenated_text.append(child['text'])\n",
    "        elif len(child['children']) > 0:\n",
    "            new_children.append(child)\n",
    "            _concat_text(child)\n",
    "    node['text'] = '\\n'.join(concatenated_text)\n",
    "    node['children'] = new_children\n",
    "\n",
    "_concat_text(a[0])"
   ]
  },
  {
   "cell_type": "code",
   "execution_count": 134,
   "metadata": {},
   "outputs": [
    {
     "data": {
      "text/plain": [
       "{'tag': 'h1',\n",
       " 'text': '\\nDS. Lê Thị Kim Thơ \\n21/04/2021\\n\\n\\nLời nhắn gửi BÁC SĨ\\n\\n\\n\\n\\nChia sẻ bài viết\\n\\n\\n\\n\\n\\n PDF\\nNội dung chính\\n1 Các dịch vụ phục hồi chức năng\\n2 Làm thế nào để lập một kế hoạch phục hồi chức năng\\n3 Ai cung cấp các dịch vụ phục hồi chức năng?\\n4 Tôi sẽ cần dịch vụ phục hồi chức năng trong bao lâu?\\n5 Bảo hiểm y tế có thanh toán cho các dịch vụ phục hồi chức năng không?\\nBài viết thứ 6 trong 8 bài thuộc chủ đề \\nMột số lưu ý khác\\n\\xa0\\nĐiều trị ung thư có thể rất thách thức với cơ thể của bạn. Phục hồi chức năng thể chất giúp cơ thể bạn hồi phục lại sau ung thư, sau điều trị và những thay đổi về thể chất mà bạn trải qua.\\nY học phục hồi chức năng bao gồm phòng ngừa, chẩn đoán, điều trị và tối ưu hóa sự hồi phục từ các bệnh nặng hoặc tổn thương nghiêm trọng. Những dịch vụ phục hồi chức năng ung thư có thể bao gồm nhiều chuyên gia chăm sóc sức khỏe, nguồn lực và kỹ thuật điều trị giúp bạn hồi phục lại về thể chất và cảm xúc. Nhà cung cấp dịch vụ chăm sóc ban đầu, bác sĩ điều trị ung thư hoặc bác sĩ phục hồi chức năng có thể phối hợp chăm sóc cho bạn cùng với những chuyên gia phục hồi chức năng khác.\\nCác chuyên gia phục hồi chức năng thường làm việc như 1 nhóm để tối đa hóa sự phục hồi thể chất và cảm xúc của người bị ung thư. Những thành viên trong nhóm có thể khác nhau tùy thuộc vào chẩn đoán, điều trị và những vấn đề y khoa khác như tác dụng phụ và di chứng.',\n",
       " 'children': [{'tag': 'h2',\n",
       "   'text': 'Ung thư và việc điều trị có thể gây ra các vấn đề thể chất bao gồm đau, mệt mỏi, yếu cơ và những biểu hiện khác. Những điều này có thể cản trở cuộc sống của bạn về mặt thể chất, cảm xúc hay thực tiễn. Không phải tất cả người bị ung thư đều cần đến những dịch vụ phục hồi chức năng chuyên nghiệp, hầu hết sẽ cần đến cải thiện sức lực và khả năng chịu đựng.\\nNhững dấu hiệu chứng tỏ bạn cần dịch vụ phục hồi:\\n\\n\\nBây giờ cảm thấy yếu hơn so với khi mới được chẩn đoán.\\nCó khó khăn trong việc nói và nuốt.\\nTrải qua cảm giác đau không phải do ung thư.\\nCảm thấy mệt hơn so với trước khi được chẩn đoán.\\nCó các vấn đề về cơ hoặc xương.\\nGặp khó khăn trong việc hồi phục lại sau điều trị và khó khăn trong việc làm những việc bạn từng làm được.\\nKhông chắn chắn về số lượng bài luyện tập và làm sao để tập luyện tốt nhất.\\nGặp vấn đề về trí nhớ hoặc khó tập trung.\\nLời khuyên và hướng dẫn của chuyên gia có thể cải thiện sức khỏe và khả năng để thực hiên các chức năng bình thường một cách nhanh hơn với mức độ tốt hơn. Có nhiều nguồn lực và phương pháp trị liệu giúp bạn cải thiện sự mệt mỏi, đau đớn và khả năng hoạt động tổng thể. Người có ung thư muốn tiếp tục làm việc hoặc quay trở lại với công việc có thể dựa vào dịch vụ phục hồi để thực hiện điều đó.',\n",
       "   'children': [],\n",
       "   'tag_text': 'Các dịch vụ phục hồi chức năng'},\n",
       "  {'tag': 'h2',\n",
       "   'text': 'Làm việc với nhóm chăm sóc sức khỏe của bạn:\\n\\n\\nLập danh sách các vấn đề thể chất ảnh hưởng đến khả năng hoạt động của bạn (chẳng hạn như khó tập trung trong công việc hoặc tập thể dục hoặc thậm chí một số việc đơn giản như ra vào xe). Ví dụ, hãy hỏi: Tôi có thể làm gì để cải thiện sự cân bằng? Tôi có thể cải thiện sức mạnh của đôi tay không? Có thể làm gì để cải thiện khả năng nuốt của tôi? Làm thế nào tôi có thể xoay xở công việc và cuộc sống gia đình của tôi với sự mệt mỏi này? Tôi có thể làm gì với trí nhớ kém của mình? Tôi nên theo chương trình tập thể dục nào ở nhà?.\\nThảo luận các mối quan tâm cụ thể của bạn với nhóm chăm sóc sức khỏe của bạn.\\nYêu cầu các chuyên gia phục hồi chức năng mà bạn làm việc cùng đánh giá nhu cầu của bạn và báo cáo đề xuất của họ cho các thành viên khác trong nhóm chăm sóc sức khỏe của bạn.\\nCùng với nhà cung cấp dịch vụ chăm sóc sức khỏe của bạn, phát triển kế hoạch phục hồi thể chất và cảm xúc của bạn.\\nYêu cầu giới thiệu đến các nhà cung cấp dịch vụ chăm sóc sức khỏe chuyên về loại phục hồi chức năng mà bạn cần.\\nNói chuyện với một chuyên gia dinh dưỡng về chế độ ăn uống nào là tốt nhất cho nhu cầu phục hồi của bạn.\\nChia sẻ kế hoạch của bạn với hệ thống hỗ trợ của bạn như gia đình, bạn bè hoặc các nhóm hỗ trợ.\\nNhóm chăm sóc sức khỏe của bạn sẽ hỏi những câu hỏi về đau, mệt mỏi, những khó khăn về thể chất, những lo lắng về cảm xúc và những vấn đề thực tế, ví dụ như khả năng làm việc của bạn. Lập ra một danh sách những nhu cầu và lo lắng của bạn trước khi bạn gặp nhà chăm sóc sức khỏe để xây dựng kế hoạch đó.\\nMỗi thành viên trong nhóm phục hồi chức năng sẽ làm việc với bạn để phát triển kế hoạch theo từng lĩnh vực mà họ phụ trách. Ví dụ, nhà vật lý trị liệu sẽ phát triển kế hoạch giúp bạn hồi phục sức khỏe thể chất và khả năng vận động. Nhà hoạt động trị liệu sẽ giúp bạn trở lại các hoạt động thường ngày tại nhà, nơi làm việc và trong cộng đồng. Nhà âm ngữ trị liệu sẽ giúp bạn các vấn đề về nói và/ hoặc nuốt. Một chuyên gia nghề nghiệp có thể làm việc để giúp bạn phát triển một kế hoạch quay trở lại công việc một cách hiệu quả.',\n",
       "   'children': [],\n",
       "   'tag_text': 'Làm thế nào để lập một kế hoạch phục hồi chức năng'},\n",
       "  {'tag': 'h2',\n",
       "   'text': 'Những câu hỏi dành cho nhà chăm sóc sức khỏe của bạn\\n\\n\\nÔng/ bà đã từng giúp ai gặp vấn đề tương tự chưa?\\nÔng/ bà nghĩ điều gì sẽ giúp tôi cải thiện sức khỏe và khả năng hoạt động của mình?\\nÔng/ bà có sẵn sàng thảo luận đề xuất của mình với các thành viên khác trong nhóm chăm sóc sức khỏe của tôi không?\\nDịch vụ phục hồi chức năng có thể được chỉ định bởi bất kỳ bác sĩ y khoa hoặc bác sĩ chỉnh hình bao gồm bác sĩ ung bướu, nhà chăm sóc sức khỏe ban đầu hoặc bác sĩ phục hồi chức năng. Chuyên khoa y học của y học phục hồi chức năng được dẫn dắt bởi bác sĩ phục hồi chức năng, họ là bác sĩ y khoa và có chuyên môn về lĩnh vực phục hồi chức năng. Bác sĩ phục hồi chức năng học qua trường y và có ít nhất 4 năm học chuyên môn về y học vật lý trị liệu và phục hồi chức năng.\\nBác sĩ phục hồi chức năng chẩn đoán, điều trị đau và làm việc để khôi phục lại khả năng hoạt động cao nhất có thể sau khi bị mất do bệnh tật, bị thương, hoặc mất chức năng. Một số bác sĩ phục hồi chức năng có chuyên môn trong lĩnh vực phục hồi chức năng do ung thư và làm việc với người bệnh để giúp họ chữa lành trong hoặc sau quá trình trị liệu.\\n\\n\\n\\n\\n\\n\\nChuyên gia\\nTrách nhiệm\\n\\n\\n\\n\\nBác sĩ (bác sĩ phục hồi chức năng hoặc chuyên khoa khác)\\n\\xa0\\nBác sĩ dẫn đầu nhóm sẽ quyết định những xét nghiệm chẩn đoán nào nên được thực hiện và phương pháp điều trị nào nên được chỉ định.\\n\\xa0\\n\\n\\nNhà \\nvật lý trị liệu\\nNhà trị liệu vật lý chủ yếu tham gia vào việc giúp một người nào đó phục hồi sức mạnh, tính linh hoạt, độ bền và khả năng vận động. Họ cũng điều trị đau và một số có thể kiểm soát các tình trạng như phù bạch huyết. Nhiều bác sĩ vật lý trị liệu chuyên về một số loại vấn đề y tế như chỉnh hình hoặc thần kinh.\\n\\n\\nNhà\\n hoạt động trị liệu\\nMục tiêu chính của liệu pháp vận động là giúp một người nào đó tiếp tục các hoạt động thường ngày của họ như tắm rửa, mặc quần áo và trở lại làm việc. Các nhà hoạt động trị liệu dành những nỗ lực đáng kể để cải thiện chức năng sử dụng của cánh tay bao gồm giúp cải thiện sức mạnh, khả năng phối hợp và phạm vi chuyển động của cánh tay. Họ cũng có thể điều trị đau và một số được chứng nhận trong liệu pháp phù bạch huyết.\\n\\n\\nNhà âm ngữ trị liệu\\nNhà trị liệu này tập trung vào các vấn đề liên quan đến khả năng hiểu hoặc diễn đạt ngôn ngữ cũng như các vấn đề về nuốt.\\n\\xa0\\n\\n\\nĐiều dưỡng phục hồi chức năng\\nCác chuyên gia chăm sóc sức khỏe này luôn có mặt tại các cơ sở phục hồi chức năng nội trú nhưng cũng thường làm việc ở các cơ sở ngoại trú. Điều dưỡng phục hồi chức năng thực hiện tất cả các chức năng điều dưỡng thông thường, đồng thời tập trung vào việc giúp đỡ bệnh nhân về chức năng ruột và bàng quang, các vấn đề tình dục và hướng dẫn, hỗ trợ cho gia đình. Các điều dưỡng phục hồi chức năng cũng có thể giúp bạn lấy lại khả năng cử động, nói và nuốt bằng cách củng cố những gì mà nhóm trị liệu đang thực hiện.\\n\\xa0\\n\\n\\n\\n\\n\\xa0\\nChuyên gia phục hồi nghề nghiệp\\n\\xa0\\nChuyên gia này sẽ đánh giá liệu bạn có thể trở lại làm việc hay không và nếu có thì làm thế nào để hoàn thành việc này một cách tốt nhất. Điều này có thể liên quan đến việc sử dụng thiết bị đặc biệt như bàn phím máy tính dùng một tay. Nếu cần thiết để một người sống sót sau bệnh ung thư làm một việc hoàn toàn mới, có thể đào tạo lại nghề.\\n\\n\\nNhà trị liệu giải trí\\nCác nhà trị liệu này không phải lúc nào cũng có trong các cơ sở phục hồi chức năng, nhưng hầu hết bệnh viện có ít nhất một nhà trị liệu giải trí. Chuyên gia này giúp mọi người đồng ý rằng các hoạt động giải trí và giáo dục là một phần của cuộc sống chất lượng tốt. Những hoạt động này có thể bao gồm nấu ăn, làm vườn và chơi thể thao.\\n\\xa0\\n\\n\\nChuyên gia tư vấn sức khỏe tinh thần\\nHầu hết các cơ sở phục hồi chức năng sẽ có một số hình thức tư vấn sức khỏe tâm thần. Có thể bao gồm một cuộc tư vấn với bác sĩ chuyên về tâm thần học hoặc đánh giá với một nhà tâm lý học hoặc nhân viên xã hội lâm sàng. Các bác sĩ chuyên khoa này có nhiều kinh nghiệm trong việc giúp mọi người điều chỉnh tâm lý để thích nghi với một cuộc sống có thể khác với những gì họ đã có trước đây\\n\\xa0\\n\\n\\nChuyên gia tâm lý thần kinh\\nĐây là chuyên gia sức khỏe tâm thần, xác định các vấn đề về nhận thức ở những người đang gặp vấn đề về trí nhớ, sự tập trung và các chức năng não khác.\\n\\n\\nChuyên gia dinh dưỡng.\\nMột chuyên gia dinh dưỡng giúp chọn chế độ ăn uống tốt nhất cho người đang điều trị ung thư và / hoặc phục hồi chức năng. Một chuyên gia dinh dưỡng có thể đưa ra hướng dẫn về cách tăng hoặc giảm cân và cải thiện năng lượng thông qua chế độ dinh dưỡng\\n\\xa0\\n\\n\\nChuyên gia chỉnh hình\\nChuyên gia này đã được đào tạo về cách lắp và thực hiện băng nẹp. Băng bó đôi khi cần thiết cho những người bị yếu hoặc mất chức năng.\\n\\xa0\\n\\n\\nChuyên viên phục hình\\nĐây là một chuyên gia phục hồi chức năng, là một chuyên gia trong việc chế tạo và lắp các chi giả — thường là sau khi cắt cụt chi\\n\\xa0\\n\\n\\nNgười quản lý ca\\nNgười này làm việc như một liên lạc viên giữa nhóm phục hồi chức năng, công ty bảo hiểm, bệnh nhân và gia đình. Người quản lý hồ sơ \\xa0giúp trả lời các câu hỏi của bạn liên quan đến bảo hiểm và hỗ trợ bạn nhận được dịch vụ chăm sóc tốt nhất có thể. Người quản lý hồ sơ có thể được tìm thấy ở cả cơ sở điều trị nội trú và ngoại trú.\\nNhiều chuyên gia chăm sóc sức khỏe khác cũng cung cấp dịch vụ phục hồi chức năng bao gồm chuyên gia hoạt động và nhà vật lý trị liệu, điều dưỡng phục hồi chức năng, nhà trị liệu ngôn ngữ, chuyên gia sức khỏe tinh thần.',\n",
       "   'children': [],\n",
       "   'tag_text': 'Ai cung cấp các dịch vụ phục hồi chức năng?'},\n",
       "  {'tag': 'h2',\n",
       "   'text': 'Một kế hoạch phục hồi chức năng có tính liên tục và tiến triển có thể cải thiện chất lượng cuộc sống tại bất kỳ thời điểm nào trong hành trình điều trị ung thư. Một vài tác dụng phụ về thể chất mà bạn có thể gặp phải chỉ là tạm thời và xảy ra trong hoặc ngay sau khi hoàn tất quá trình điều trị ung thư. Trong trường hợp này, có thể bạn cần đến dịch vụ phục hồi chức năng chỉ khi những thay đổi tức thời này ảnh hưởng đến cuộc sống hằng ngày.\\nNhững trường hợp khác, những ảnh hưởng thực thể muộn (di chứng) có thể xuất hiện hàng năm sau khi đã kết thúc trị liệu. Nếu những thay đồi này gây đau và đòi hỏi phải thay đổi trong cuộc sống hàng ngày, dịch vụ phục hồi chức năng có thể cần đến và được chỉ định bởi nhà chăm sóc sức khỏe tại thời điểm đó. Nếu nhà chăm sóc sức khỏe của bạn không chắc chắn làm thế nào để xác định nhu cầu phục hồi chức năng của bạn, ông/ bà ấy sẽ chỉ bạn đến chuyên gia có thể chỉ định một kế hoạch điều trị phù hợp.\\nThời gian trị liệu phục hồi chức năng và những dịch vụ cần thiết có thể khác nhau phụ thuộc vào các yếu tố cụ thể, như là:\\n\\n\\nCái gì bạn không thể làm bây giờ mà trước đây bạn làm được khi chưa có chẩn đoán ung thư?\\nChế độ ăn uống và khẩu vị của bạn thay đổi như thế nào?\\nMức độ hoạt động hoặc chế độ tập luyện của bạn thay đổi như thế nào?\\nUng thư và việc điều trị đã ảnh hưởng đến khả năng làm việc của bạn thế nào?\\nNhững công việc hàng ngày hoặc những hoạt động giải trí nào bạn không thể làm bây giờ mà trước đây vẫn làm được?\\nCơn đau ảnh hưởng đến khả năng hoạt động của bạn như thế nào, bao gồm cả việc bạn có thể có được một giấc ngủ ngon?\\nBạn có nghĩ rằng bạn cần rèn luyện sức mạnh và khả năng chịu đựng của mình.\\nBạn có mệt không? nếu có thì điều đó ảnh hưởng đến khả năng hoạt động hàng ngày của bạn thế nào?\\nBạn có buồn, lo lắng hay chán nản không và điều này ảnh hưởng đến khả năng hoạt động của bạn thế nào?',\n",
       "   'children': [],\n",
       "   'tag_text': 'Tôi sẽ cần dịch vụ phục hồi chức năng trong bao lâu?'},\n",
       "  {'tag': 'h2',\n",
       "   'text': 'Để nhận được dịch vụ phục hồi chức năng, bạn thường sẽ cần một đề nghị của nhà chăm sóc sức khỏe. Bạn có thể có nó từ bác sĩ ung thư, nhà chăm sóc sức khỏe ban đầu hoặc bác sĩ phục hồi chức năng.\\nXem lại gói bảo hiểm của bạn được phép khám bao nhiêu lần khám thể chất, hoạt động hoặc trị liệu ngôn ngữ mỗi năm theo từng nhà trị liệu. Mỗi công ty bảo hiểm có thể thanh toán cho dịch vụ phục hồi chức năng một cách khác nhau. Gọi cho đường dây trợ giúp của công ty bảo hiểm của bạn hoặc nói chuyện với người quản lý hồ sơ của bạn và hỏi cụ thể những gì bảo hiểm của bạn chi trả hoặc không chi trả cho các dịch vụ phục hồi chức năng. Nếu bảo hiểm kết thúc, có thể có các lựa chọn khác trong cộng đồng cho phép bạn nhận các dịch vụ liên tục.\\nNếu cần thiết bị hoặc dụng cụ hỗ trợ y tế, hãy hỏi chuyên gia phục hồi chức năng, người đang giới thiệu hoặc kê đơn chúng về chi phí. Nhiều hạng mục được bảo hiểm và Medicare chi trả, nhưng một số hạng mục không được chi trả. Có thể có những cách khác để có được các thiết bị hoặc dụng cụ y tế nếu bạn không đủ khả năng mua.\\nNếu bạn cần các dịch vụ phục hồi chức năng hoặc thiết bị đặc biệt nhưng không có bảo hiểm, hãy nói chuyện với nhân viên xã hội. Nhân viên xã hội về ung thư có thể hướng dẫn bạn đến các nguồn lực trong cộng đồng của bạn, ở đó bạn có thể nhận được các dịch vụ hoặc vật phẩm cần thiết này với mức giá giảm hoặc miễn phí.\\n \\nđiều trị ung thư\\nphục hồi chức năng\\nPhục hồi chức năng sau ung thư\\nvật lý trị liệu\\n2021-04-21\\nDS. Lê Thị Kim Thơ\\n\\n\\nGóp ý - Báo lỗi\\n\\n\\n\\n\\n\\n\\n\\n\\n\\n\\n\\n\\r\\n\\t\\t\\t\\t\\t\\t\\t\\tIssue:\\t\\t\\t\\t\\t\\t\\t\\t*\\n\\n\\nGóp ý\\r\\nLỗi nội dung\\n\\n\\n\\n\\n\\n\\r\\n\\t\\t\\t\\t\\t\\t\\t\\t\\tYour Email:\\t\\t\\t\\t\\t\\t\\t\\t\\t\\t\\t\\t\\t\\t\\t\\t\\t\\t\\t*\\n\\n\\n\\n\\n\\n\\n\\n\\n\\r\\n\\t\\t\\t\\t\\t\\t\\t\\t\\tDetails:\\t\\t\\t\\t\\t\\t\\t\\t\\t\\t\\t\\t\\t\\t\\t\\t\\t\\t\\t*\\n\\n\\n\\nGửi ý kiến\\n Từ khóa điều trị ung thư phục hồi chức năng Phục hồi chức năng sau ung thư vật lý trị liệu\\n\\n\\n\\n',\n",
       "   'children': [{'tag': 'h3',\n",
       "     'text': '\\n\\n\\n\\n\\n\\n\\n',\n",
       "     'children': [],\n",
       "     'tag_text': 'Bài viết liên quan'},\n",
       "    {'tag': 'h3',\n",
       "     'text': '25/11/2023\\n\\n\\n\\n\\n\\n',\n",
       "     'children': [],\n",
       "     'tag_text': 'Kvengers Webinar: Giải mã tin đồn về Ung thư – Chủ đề 3: Điều trị'},\n",
       "    {'tag': 'h3',\n",
       "     'text': '11/04/2023\\n\\n\\n\\n\\n\\n',\n",
       "     'children': [],\n",
       "     'tag_text': 'Chăm sóc đời sống tinh thần sau điều trị ung thư'},\n",
       "    {'tag': 'h3',\n",
       "     'text': '21/10/2022\\n\\n\\n\\n\\n\\n',\n",
       "     'children': [],\n",
       "     'tag_text': 'Đừng chết vì xét nghiệm máu tầm soát ung thư'},\n",
       "    {'tag': 'h3',\n",
       "     'text': '01/09/2022\\n\\n\\n\\n\\n\\n',\n",
       "     'children': [],\n",
       "     'tag_text': 'Một số chia sẻ và hỏi đáp từ bệnh nhân'},\n",
       "    {'tag': 'h3',\n",
       "     'text': '19/04/2022\\n\\n\\n\\n\\n\\n',\n",
       "     'children': [],\n",
       "     'tag_text': 'Webinar Tạp kỹ “Nghìn lẻ một đêm Ca (K)” lần 21 – Ung thư và Phục hồi chức năng'},\n",
       "    {'tag': 'h3',\n",
       "     'text': '17/10/2021\\n\\n\\n\\n\\n\\n',\n",
       "     'children': [{'tag': 'h4',\n",
       "       'text': '\\n',\n",
       "       'children': [],\n",
       "       'tag_text': ' '}],\n",
       "     'tag_text': 'Đừng nuối tiếc'},\n",
       "    {'tag': 'h3',\n",
       "     'text': '\\n\\n\\n\\nDS. Lê Thị Kim Thơ\\nVì sức khỏe cộng đồng\\xa0\\nNơi làm việc: Phụ trách kinh doanh của nhóm thuốc hoá trị ung thư và tiểu đường của cty Eli Lilly tại Thành phố Hồ Chí Minh\\nQuá trình đào tạo: \\n\\nTốt nghiệp Dược sĩ năm 2011\\n\\n',\n",
       "     'children': [],\n",
       "     'tag_text': 'DS. Lê Thị Kim Thơ'},\n",
       "    {'tag': 'h3',\n",
       "     'text': '\\n\\n\\n\\nBS. Mạc Yến Thanh\\xa0\\nVì sức khỏe cộng đồng\\nNơi làm việc: Giám đốc Phát triển Cộng đồng tại\\xa0Tổ chức CLAN\\nBiên dịch - Hiệu đính\\nBiên dịch - Hiệu đính\\n\\n',\n",
       "     'children': [{'tag': 'h4',\n",
       "       'text': ' \\nHỗ trợ bệnh nhân ung thư: Lời khuyên dành cho người thân\\nĐừng bị lừa: Làm sao để tự bảo vệ trước những phương pháp điều trị ung thư giả?\\nĐiều trị ung thư: Khi nào cần liên lạc với bác sĩ?\\nRa quyết định về điều trị ung thư\\nKhi điều trị bước đầu không hiệu quả\\nPhục hồi chức năng sau ung thư\\nQuang miễn dịch trị liệu: Hướng đi mới trong điều trị ung thư\\nDanh sách kiểm tra từ khi được chẩn đoán đến khi bắt đầu điều trị\\n\\r\\n\\twindow.___gcfg = {lang: \\'en-US\\'};\\r\\n\\t(function(w, d, s) {\\r\\n\\t  function go(){\\r\\n\\t\\tvar js, fjs = d.getElementsByTagName(s)[0], load = function(url, id) {\\r\\n\\t\\t  if (d.getElementById(id)) {return;}\\r\\n\\t\\t  js = d.createElement(s); js.src = url; js.id = id;\\r\\n\\t\\t  fjs.parentNode.insertBefore(js, fjs);\\r\\n\\t\\t};\\r\\n\\t\\tload(\\'//connect.facebook.net/en/all.js#xfbml=1\\', \\t\\'fbjssdk\\' );\\r\\n\\t\\tload(\\'https://apis.google.com/js/plusone.js\\', \\t\\t\\'gplus1js\\');\\r\\n\\t\\tload(\\'//platform.twitter.com/widgets.js\\', \\t\\t\\t\\'tweetjs\\' );\\r\\n\\t  }\\r\\n\\t  if (w.addEventListener) { w.addEventListener(\"load\", go, false); }\\r\\n\\t  else if (w.attachEvent) { w.attachEvent(\"onload\",go); }\\r\\n\\t}(window, document, \\'script\\'));\\r\\n\\t\\n\\n\\n\\n\\n\\n PDF\\nNội dung chính\\n1 Các dịch vụ phục hồi chức năng\\n2 Làm thế nào để lập một kế hoạch phục hồi chức năng\\n3 Ai cung cấp các dịch vụ phục hồi chức năng?\\n4 Tôi sẽ cần dịch vụ phục hồi chức năng trong bao lâu?\\n5 Bảo hiểm y tế có thanh toán cho các dịch vụ phục hồi chức năng không?\\nBài viết thứ 6 trong 8 bài thuộc chủ đề \\nMột số lưu ý khác\\n\\xa0\\nĐiều trị ung thư có thể rất thách thức với cơ thể của bạn. Phục hồi chức năng thể chất giúp cơ thể bạn hồi phục lại sau ung thư, sau điều trị và những thay đổi về thể chất mà bạn trải qua.\\nY học phục hồi chức năng bao gồm phòng ngừa, chẩn đoán, điều trị và tối ưu hóa sự hồi phục từ các bệnh nặng hoặc tổn thương nghiêm trọng. Những dịch vụ phục hồi chức năng ung thư có thể bao gồm nhiều chuyên gia chăm sóc sức khỏe, nguồn lực và kỹ thuật điều trị giúp bạn hồi phục lại về thể chất và cảm xúc. Nhà cung cấp dịch vụ chăm sóc ban đầu, bác sĩ điều trị ung thư hoặc bác sĩ phục hồi chức năng có thể phối hợp chăm sóc cho bạn cùng với những chuyên gia phục hồi chức năng khác.\\nCác chuyên gia phục hồi chức năng thường làm việc như 1 nhóm để tối đa hóa sự phục hồi thể chất và cảm xúc của người bị ung thư. Những thành viên trong nhóm có thể khác nhau tùy thuộc vào chẩn đoán, điều trị và những vấn đề y khoa khác như tác dụng phụ và di chứng.',\n",
       "       'children': [],\n",
       "       'tag_text': 'Danh sách bài viết cùng chủ đề'}],\n",
       "     'tag_text': 'BS. Mạc Yến Thanh'}],\n",
       "   'tag_text': 'Bảo hiểm y tế có thanh toán cho các dịch vụ phục hồi chức năng không?'},\n",
       "  {'tag': 'h2',\n",
       "   'text': 'Ung thư và việc điều trị có thể gây ra các vấn đề thể chất bao gồm đau, mệt mỏi, yếu cơ và những biểu hiện khác. Những điều này có thể cản trở cuộc sống của bạn về mặt thể chất, cảm xúc hay thực tiễn. Không phải tất cả người bị ung thư đều cần đến những dịch vụ phục hồi chức năng chuyên nghiệp, hầu hết sẽ cần đến cải thiện sức lực và khả năng chịu đựng.\\nNhững dấu hiệu chứng tỏ bạn cần dịch vụ phục hồi:\\n\\n\\nBây giờ cảm thấy yếu hơn so với khi mới được chẩn đoán.\\nCó khó khăn trong việc nói và nuốt.\\nTrải qua cảm giác đau không phải do ung thư.\\nCảm thấy mệt hơn so với trước khi được chẩn đoán.\\nCó các vấn đề về cơ hoặc xương.\\nGặp khó khăn trong việc hồi phục lại sau điều trị và khó khăn trong việc làm những việc bạn từng làm được.\\nKhông chắn chắn về số lượng bài luyện tập và làm sao để tập luyện tốt nhất.\\nGặp vấn đề về trí nhớ hoặc khó tập trung.\\nLời khuyên và hướng dẫn của chuyên gia có thể cải thiện sức khỏe và khả năng để thực hiên các chức năng bình thường một cách nhanh hơn với mức độ tốt hơn. Có nhiều nguồn lực và phương pháp trị liệu giúp bạn cải thiện sự mệt mỏi, đau đớn và khả năng hoạt động tổng thể. Người có ung thư muốn tiếp tục làm việc hoặc quay trở lại với công việc có thể dựa vào dịch vụ phục hồi để thực hiện điều đó.',\n",
       "   'children': [],\n",
       "   'tag_text': 'Các dịch vụ phục hồi chức năng'},\n",
       "  {'tag': 'h2',\n",
       "   'text': 'Làm việc với nhóm chăm sóc sức khỏe của bạn:\\n\\n\\nLập danh sách các vấn đề thể chất ảnh hưởng đến khả năng hoạt động của bạn (chẳng hạn như khó tập trung trong công việc hoặc tập thể dục hoặc thậm chí một số việc đơn giản như ra vào xe). Ví dụ, hãy hỏi: Tôi có thể làm gì để cải thiện sự cân bằng? Tôi có thể cải thiện sức mạnh của đôi tay không? Có thể làm gì để cải thiện khả năng nuốt của tôi? Làm thế nào tôi có thể xoay xở công việc và cuộc sống gia đình của tôi với sự mệt mỏi này? Tôi có thể làm gì với trí nhớ kém của mình? Tôi nên theo chương trình tập thể dục nào ở nhà?.\\nThảo luận các mối quan tâm cụ thể của bạn với nhóm chăm sóc sức khỏe của bạn.\\nYêu cầu các chuyên gia phục hồi chức năng mà bạn làm việc cùng đánh giá nhu cầu của bạn và báo cáo đề xuất của họ cho các thành viên khác trong nhóm chăm sóc sức khỏe của bạn.\\nCùng với nhà cung cấp dịch vụ chăm sóc sức khỏe của bạn, phát triển kế hoạch phục hồi thể chất và cảm xúc của bạn.\\nYêu cầu giới thiệu đến các nhà cung cấp dịch vụ chăm sóc sức khỏe chuyên về loại phục hồi chức năng mà bạn cần.\\nNói chuyện với một chuyên gia dinh dưỡng về chế độ ăn uống nào là tốt nhất cho nhu cầu phục hồi của bạn.\\nChia sẻ kế hoạch của bạn với hệ thống hỗ trợ của bạn như gia đình, bạn bè hoặc các nhóm hỗ trợ.\\nNhóm chăm sóc sức khỏe của bạn sẽ hỏi những câu hỏi về đau, mệt mỏi, những khó khăn về thể chất, những lo lắng về cảm xúc và những vấn đề thực tế, ví dụ như khả năng làm việc của bạn. Lập ra một danh sách những nhu cầu và lo lắng của bạn trước khi bạn gặp nhà chăm sóc sức khỏe để xây dựng kế hoạch đó.\\nMỗi thành viên trong nhóm phục hồi chức năng sẽ làm việc với bạn để phát triển kế hoạch theo từng lĩnh vực mà họ phụ trách. Ví dụ, nhà vật lý trị liệu sẽ phát triển kế hoạch giúp bạn hồi phục sức khỏe thể chất và khả năng vận động. Nhà hoạt động trị liệu sẽ giúp bạn trở lại các hoạt động thường ngày tại nhà, nơi làm việc và trong cộng đồng. Nhà âm ngữ trị liệu sẽ giúp bạn các vấn đề về nói và/ hoặc nuốt. Một chuyên gia nghề nghiệp có thể làm việc để giúp bạn phát triển một kế hoạch quay trở lại công việc một cách hiệu quả.',\n",
       "   'children': [],\n",
       "   'tag_text': 'Làm thế nào để lập một kế hoạch phục hồi chức năng'},\n",
       "  {'tag': 'h2',\n",
       "   'text': 'Những câu hỏi dành cho nhà chăm sóc sức khỏe của bạn\\n\\n\\nÔng/ bà đã từng giúp ai gặp vấn đề tương tự chưa?\\nÔng/ bà nghĩ điều gì sẽ giúp tôi cải thiện sức khỏe và khả năng hoạt động của mình?\\nÔng/ bà có sẵn sàng thảo luận đề xuất của mình với các thành viên khác trong nhóm chăm sóc sức khỏe của tôi không?\\nDịch vụ phục hồi chức năng có thể được chỉ định bởi bất kỳ bác sĩ y khoa hoặc bác sĩ chỉnh hình bao gồm bác sĩ ung bướu, nhà chăm sóc sức khỏe ban đầu hoặc bác sĩ phục hồi chức năng. Chuyên khoa y học của y học phục hồi chức năng được dẫn dắt bởi bác sĩ phục hồi chức năng, họ là bác sĩ y khoa và có chuyên môn về lĩnh vực phục hồi chức năng. Bác sĩ phục hồi chức năng học qua trường y và có ít nhất 4 năm học chuyên môn về y học vật lý trị liệu và phục hồi chức năng.\\nBác sĩ phục hồi chức năng chẩn đoán, điều trị đau và làm việc để khôi phục lại khả năng hoạt động cao nhất có thể sau khi bị mất do bệnh tật, bị thương, hoặc mất chức năng. Một số bác sĩ phục hồi chức năng có chuyên môn trong lĩnh vực phục hồi chức năng do ung thư và làm việc với người bệnh để giúp họ chữa lành trong hoặc sau quá trình trị liệu.\\n\\n\\n\\n\\n\\n\\nChuyên gia\\nTrách nhiệm\\n\\n\\n\\n\\nBác sĩ (bác sĩ phục hồi chức năng hoặc chuyên khoa khác)\\n\\xa0\\nBác sĩ dẫn đầu nhóm sẽ quyết định những xét nghiệm chẩn đoán nào nên được thực hiện và phương pháp điều trị nào nên được chỉ định.\\n\\xa0\\n\\n\\nNhà \\nvật lý trị liệu\\nNhà trị liệu vật lý chủ yếu tham gia vào việc giúp một người nào đó phục hồi sức mạnh, tính linh hoạt, độ bền và khả năng vận động. Họ cũng điều trị đau và một số có thể kiểm soát các tình trạng như phù bạch huyết. Nhiều bác sĩ vật lý trị liệu chuyên về một số loại vấn đề y tế như chỉnh hình hoặc thần kinh.\\n\\n\\nNhà\\n hoạt động trị liệu\\nMục tiêu chính của liệu pháp vận động là giúp một người nào đó tiếp tục các hoạt động thường ngày của họ như tắm rửa, mặc quần áo và trở lại làm việc. Các nhà hoạt động trị liệu dành những nỗ lực đáng kể để cải thiện chức năng sử dụng của cánh tay bao gồm giúp cải thiện sức mạnh, khả năng phối hợp và phạm vi chuyển động của cánh tay. Họ cũng có thể điều trị đau và một số được chứng nhận trong liệu pháp phù bạch huyết.\\n\\n\\nNhà âm ngữ trị liệu\\nNhà trị liệu này tập trung vào các vấn đề liên quan đến khả năng hiểu hoặc diễn đạt ngôn ngữ cũng như các vấn đề về nuốt.\\n\\xa0\\n\\n\\nĐiều dưỡng phục hồi chức năng\\nCác chuyên gia chăm sóc sức khỏe này luôn có mặt tại các cơ sở phục hồi chức năng nội trú nhưng cũng thường làm việc ở các cơ sở ngoại trú. Điều dưỡng phục hồi chức năng thực hiện tất cả các chức năng điều dưỡng thông thường, đồng thời tập trung vào việc giúp đỡ bệnh nhân về chức năng ruột và bàng quang, các vấn đề tình dục và hướng dẫn, hỗ trợ cho gia đình. Các điều dưỡng phục hồi chức năng cũng có thể giúp bạn lấy lại khả năng cử động, nói và nuốt bằng cách củng cố những gì mà nhóm trị liệu đang thực hiện.\\n\\xa0\\n\\n\\n\\n\\n\\xa0\\nChuyên gia phục hồi nghề nghiệp\\n\\xa0\\nChuyên gia này sẽ đánh giá liệu bạn có thể trở lại làm việc hay không và nếu có thì làm thế nào để hoàn thành việc này một cách tốt nhất. Điều này có thể liên quan đến việc sử dụng thiết bị đặc biệt như bàn phím máy tính dùng một tay. Nếu cần thiết để một người sống sót sau bệnh ung thư làm một việc hoàn toàn mới, có thể đào tạo lại nghề.\\n\\n\\nNhà trị liệu giải trí\\nCác nhà trị liệu này không phải lúc nào cũng có trong các cơ sở phục hồi chức năng, nhưng hầu hết bệnh viện có ít nhất một nhà trị liệu giải trí. Chuyên gia này giúp mọi người đồng ý rằng các hoạt động giải trí và giáo dục là một phần của cuộc sống chất lượng tốt. Những hoạt động này có thể bao gồm nấu ăn, làm vườn và chơi thể thao.\\n\\xa0\\n\\n\\nChuyên gia tư vấn sức khỏe tinh thần\\nHầu hết các cơ sở phục hồi chức năng sẽ có một số hình thức tư vấn sức khỏe tâm thần. Có thể bao gồm một cuộc tư vấn với bác sĩ chuyên về tâm thần học hoặc đánh giá với một nhà tâm lý học hoặc nhân viên xã hội lâm sàng. Các bác sĩ chuyên khoa này có nhiều kinh nghiệm trong việc giúp mọi người điều chỉnh tâm lý để thích nghi với một cuộc sống có thể khác với những gì họ đã có trước đây\\n\\xa0\\n\\n\\nChuyên gia tâm lý thần kinh\\nĐây là chuyên gia sức khỏe tâm thần, xác định các vấn đề về nhận thức ở những người đang gặp vấn đề về trí nhớ, sự tập trung và các chức năng não khác.\\n\\n\\nChuyên gia dinh dưỡng.\\nMột chuyên gia dinh dưỡng giúp chọn chế độ ăn uống tốt nhất cho người đang điều trị ung thư và / hoặc phục hồi chức năng. Một chuyên gia dinh dưỡng có thể đưa ra hướng dẫn về cách tăng hoặc giảm cân và cải thiện năng lượng thông qua chế độ dinh dưỡng\\n\\xa0\\n\\n\\nChuyên gia chỉnh hình\\nChuyên gia này đã được đào tạo về cách lắp và thực hiện băng nẹp. Băng bó đôi khi cần thiết cho những người bị yếu hoặc mất chức năng.\\n\\xa0\\n\\n\\nChuyên viên phục hình\\nĐây là một chuyên gia phục hồi chức năng, là một chuyên gia trong việc chế tạo và lắp các chi giả — thường là sau khi cắt cụt chi\\n\\xa0\\n\\n\\nNgười quản lý ca\\nNgười này làm việc như một liên lạc viên giữa nhóm phục hồi chức năng, công ty bảo hiểm, bệnh nhân và gia đình. Người quản lý hồ sơ \\xa0giúp trả lời các câu hỏi của bạn liên quan đến bảo hiểm và hỗ trợ bạn nhận được dịch vụ chăm sóc tốt nhất có thể. Người quản lý hồ sơ có thể được tìm thấy ở cả cơ sở điều trị nội trú và ngoại trú.\\nNhiều chuyên gia chăm sóc sức khỏe khác cũng cung cấp dịch vụ phục hồi chức năng bao gồm chuyên gia hoạt động và nhà vật lý trị liệu, điều dưỡng phục hồi chức năng, nhà trị liệu ngôn ngữ, chuyên gia sức khỏe tinh thần.',\n",
       "   'children': [],\n",
       "   'tag_text': 'Ai cung cấp các dịch vụ phục hồi chức năng?'},\n",
       "  {'tag': 'h2',\n",
       "   'text': 'Một kế hoạch phục hồi chức năng có tính liên tục và tiến triển có thể cải thiện chất lượng cuộc sống tại bất kỳ thời điểm nào trong hành trình điều trị ung thư. Một vài tác dụng phụ về thể chất mà bạn có thể gặp phải chỉ là tạm thời và xảy ra trong hoặc ngay sau khi hoàn tất quá trình điều trị ung thư. Trong trường hợp này, có thể bạn cần đến dịch vụ phục hồi chức năng chỉ khi những thay đổi tức thời này ảnh hưởng đến cuộc sống hằng ngày.\\nNhững trường hợp khác, những ảnh hưởng thực thể muộn (di chứng) có thể xuất hiện hàng năm sau khi đã kết thúc trị liệu. Nếu những thay đồi này gây đau và đòi hỏi phải thay đổi trong cuộc sống hàng ngày, dịch vụ phục hồi chức năng có thể cần đến và được chỉ định bởi nhà chăm sóc sức khỏe tại thời điểm đó. Nếu nhà chăm sóc sức khỏe của bạn không chắc chắn làm thế nào để xác định nhu cầu phục hồi chức năng của bạn, ông/ bà ấy sẽ chỉ bạn đến chuyên gia có thể chỉ định một kế hoạch điều trị phù hợp.\\nThời gian trị liệu phục hồi chức năng và những dịch vụ cần thiết có thể khác nhau phụ thuộc vào các yếu tố cụ thể, như là:\\n\\n\\nCái gì bạn không thể làm bây giờ mà trước đây bạn làm được khi chưa có chẩn đoán ung thư?\\nChế độ ăn uống và khẩu vị của bạn thay đổi như thế nào?\\nMức độ hoạt động hoặc chế độ tập luyện của bạn thay đổi như thế nào?\\nUng thư và việc điều trị đã ảnh hưởng đến khả năng làm việc của bạn thế nào?\\nNhững công việc hàng ngày hoặc những hoạt động giải trí nào bạn không thể làm bây giờ mà trước đây vẫn làm được?\\nCơn đau ảnh hưởng đến khả năng hoạt động của bạn như thế nào, bao gồm cả việc bạn có thể có được một giấc ngủ ngon?\\nBạn có nghĩ rằng bạn cần rèn luyện sức mạnh và khả năng chịu đựng của mình.\\nBạn có mệt không? nếu có thì điều đó ảnh hưởng đến khả năng hoạt động hàng ngày của bạn thế nào?\\nBạn có buồn, lo lắng hay chán nản không và điều này ảnh hưởng đến khả năng hoạt động của bạn thế nào?',\n",
       "   'children': [],\n",
       "   'tag_text': 'Tôi sẽ cần dịch vụ phục hồi chức năng trong bao lâu?'},\n",
       "  {'tag': 'h2',\n",
       "   'text': 'Để nhận được dịch vụ phục hồi chức năng, bạn thường sẽ cần một đề nghị của nhà chăm sóc sức khỏe. Bạn có thể có nó từ bác sĩ ung thư, nhà chăm sóc sức khỏe ban đầu hoặc bác sĩ phục hồi chức năng.\\nXem lại gói bảo hiểm của bạn được phép khám bao nhiêu lần khám thể chất, hoạt động hoặc trị liệu ngôn ngữ mỗi năm theo từng nhà trị liệu. Mỗi công ty bảo hiểm có thể thanh toán cho dịch vụ phục hồi chức năng một cách khác nhau. Gọi cho đường dây trợ giúp của công ty bảo hiểm của bạn hoặc nói chuyện với người quản lý hồ sơ của bạn và hỏi cụ thể những gì bảo hiểm của bạn chi trả hoặc không chi trả cho các dịch vụ phục hồi chức năng. Nếu bảo hiểm kết thúc, có thể có các lựa chọn khác trong cộng đồng cho phép bạn nhận các dịch vụ liên tục.\\nNếu cần thiết bị hoặc dụng cụ hỗ trợ y tế, hãy hỏi chuyên gia phục hồi chức năng, người đang giới thiệu hoặc kê đơn chúng về chi phí. Nhiều hạng mục được bảo hiểm và Medicare chi trả, nhưng một số hạng mục không được chi trả. Có thể có những cách khác để có được các thiết bị hoặc dụng cụ y tế nếu bạn không đủ khả năng mua.\\nNếu bạn cần các dịch vụ phục hồi chức năng hoặc thiết bị đặc biệt nhưng không có bảo hiểm, hãy nói chuyện với nhân viên xã hội. Nhân viên xã hội về ung thư có thể hướng dẫn bạn đến các nguồn lực trong cộng đồng của bạn, ở đó bạn có thể nhận được các dịch vụ hoặc vật phẩm cần thiết này với mức giá giảm hoặc miễn phí.\\n \\nđiều trị ung thư\\nphục hồi chức năng\\nPhục hồi chức năng sau ung thư\\nvật lý trị liệu\\n2021-04-21\\nDS. Lê Thị Kim Thơ\\n\\n\\nGóp ý - Báo lỗi\\n\\n\\n\\n\\n\\n\\n\\n\\n\\n\\n\\n\\r\\n\\t\\t\\t\\t\\t\\t\\t\\tIssue:\\t\\t\\t\\t\\t\\t\\t\\t*\\n\\n\\nGóp ý\\r\\nLỗi nội dung\\n\\n\\n\\n\\n\\n\\r\\n\\t\\t\\t\\t\\t\\t\\t\\t\\tYour Email:\\t\\t\\t\\t\\t\\t\\t\\t\\t\\t\\t\\t\\t\\t\\t\\t\\t\\t\\t*\\n\\n\\n\\n\\n\\n\\n\\n\\n\\r\\n\\t\\t\\t\\t\\t\\t\\t\\t\\tDetails:\\t\\t\\t\\t\\t\\t\\t\\t\\t\\t\\t\\t\\t\\t\\t\\t\\t\\t\\t*\\n\\n\\n\\nGửi ý kiến\\n Từ khóa điều trị ung thư phục hồi chức năng Phục hồi chức năng sau ung thư vật lý trị liệu\\n\\n\\n\\n',\n",
       "   'children': [{'tag': 'h3',\n",
       "     'text': '\\n\\n\\n\\n\\n\\n\\n',\n",
       "     'children': [],\n",
       "     'tag_text': 'Bài viết liên quan'},\n",
       "    {'tag': 'h3',\n",
       "     'text': '25/11/2023\\n\\n\\n\\n\\n\\n',\n",
       "     'children': [],\n",
       "     'tag_text': 'Kvengers Webinar: Giải mã tin đồn về Ung thư – Chủ đề 3: Điều trị'},\n",
       "    {'tag': 'h3',\n",
       "     'text': '11/04/2023\\n\\n\\n\\n\\n\\n',\n",
       "     'children': [],\n",
       "     'tag_text': 'Chăm sóc đời sống tinh thần sau điều trị ung thư'},\n",
       "    {'tag': 'h3',\n",
       "     'text': '21/10/2022\\n\\n\\n\\n\\n\\n',\n",
       "     'children': [],\n",
       "     'tag_text': 'Đừng chết vì xét nghiệm máu tầm soát ung thư'},\n",
       "    {'tag': 'h3',\n",
       "     'text': '01/09/2022\\n\\n\\n\\n\\n\\n',\n",
       "     'children': [],\n",
       "     'tag_text': 'Một số chia sẻ và hỏi đáp từ bệnh nhân'},\n",
       "    {'tag': 'h3',\n",
       "     'text': '19/04/2022\\n\\n\\n\\n\\n\\n',\n",
       "     'children': [],\n",
       "     'tag_text': 'Webinar Tạp kỹ “Nghìn lẻ một đêm Ca (K)” lần 21 – Ung thư và Phục hồi chức năng'},\n",
       "    {'tag': 'h3',\n",
       "     'text': '17/10/2021\\n\\n\\n\\n\\n\\n',\n",
       "     'children': [{'tag': 'h4',\n",
       "       'text': '\\n',\n",
       "       'children': [],\n",
       "       'tag_text': ' '}],\n",
       "     'tag_text': 'Đừng nuối tiếc'},\n",
       "    {'tag': 'h3',\n",
       "     'text': '\\n\\n\\n\\nDS. Lê Thị Kim Thơ\\nVì sức khỏe cộng đồng\\xa0\\nNơi làm việc: Phụ trách kinh doanh của nhóm thuốc hoá trị ung thư và tiểu đường của cty Eli Lilly tại Thành phố Hồ Chí Minh\\nQuá trình đào tạo: \\n\\nTốt nghiệp Dược sĩ năm 2011\\n\\n',\n",
       "     'children': [],\n",
       "     'tag_text': 'DS. Lê Thị Kim Thơ'},\n",
       "    {'tag': 'h3',\n",
       "     'text': '\\n\\n\\n\\nBS. Mạc Yến Thanh\\xa0\\nVì sức khỏe cộng đồng\\nNơi làm việc: Giám đốc Phát triển Cộng đồng tại\\xa0Tổ chức CLAN\\nBiên dịch - Hiệu đính\\nBiên dịch - Hiệu đính\\n\\n',\n",
       "     'children': [{'tag': 'h4',\n",
       "       'text': ' \\nHỗ trợ bệnh nhân ung thư: Lời khuyên dành cho người thân\\nĐừng bị lừa: Làm sao để tự bảo vệ trước những phương pháp điều trị ung thư giả?\\nĐiều trị ung thư: Khi nào cần liên lạc với bác sĩ?\\nRa quyết định về điều trị ung thư\\nKhi điều trị bước đầu không hiệu quả\\nPhục hồi chức năng sau ung thư\\nQuang miễn dịch trị liệu: Hướng đi mới trong điều trị ung thư\\nDanh sách kiểm tra từ khi được chẩn đoán đến khi bắt đầu điều trị',\n",
       "       'children': [],\n",
       "       'tag_text': 'Danh sách bài viết cùng chủ đề'}],\n",
       "     'tag_text': 'BS. Mạc Yến Thanh'}],\n",
       "   'tag_text': 'Bảo hiểm y tế có thanh toán cho các dịch vụ phục hồi chức năng không?'}],\n",
       " 'tag_text': 'Phục hồi chức năng sau ung thư'}"
      ]
     },
     "execution_count": 134,
     "metadata": {},
     "output_type": "execute_result"
    }
   ],
   "source": [
    "a[0]"
   ]
  }
 ],
 "metadata": {
  "kernelspec": {
   "display_name": "base",
   "language": "python",
   "name": "python3"
  },
  "language_info": {
   "codemirror_mode": {
    "name": "ipython",
    "version": 3
   },
   "file_extension": ".py",
   "mimetype": "text/x-python",
   "name": "python",
   "nbconvert_exporter": "python",
   "pygments_lexer": "ipython3",
   "version": "3.9.13"
  }
 },
 "nbformat": 4,
 "nbformat_minor": 2
}
