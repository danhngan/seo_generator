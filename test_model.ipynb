{
 "cells": [
  {
   "cell_type": "code",
   "execution_count": 1,
   "metadata": {},
   "outputs": [],
   "source": [
    "from big_seo.llm.implement.data_model import (InPageCollection,\n",
    "                                              Base,\n",
    "                                              QdrantConvertor)\n",
    "import uuid\n"
   ]
  },
  {
   "cell_type": "code",
   "execution_count": 2,
   "metadata": {},
   "outputs": [],
   "source": [
    "from big_seo.storage.qdrant import QdrantDB\n",
    "\n",
    "vec_db = QdrantDB(host='localhost',\n",
    "                port=6333)\n",
    "Base.init_instance(vec_db=vec_db)"
   ]
  },
  {
   "cell_type": "code",
   "execution_count": 3,
   "metadata": {},
   "outputs": [
    {
     "data": {
      "text/plain": [
       "{'in_page': <big_seo.storage.qdrant.QdrantCollection at 0x23d291fc340>}"
      ]
     },
     "execution_count": 3,
     "metadata": {},
     "output_type": "execute_result"
    }
   ],
   "source": [
    "Base._storage_collections"
   ]
  },
  {
   "cell_type": "code",
   "execution_count": 4,
   "metadata": {},
   "outputs": [
    {
     "data": {
      "text/plain": [
       "<big_seo.storage.qdrant.QdrantCollection at 0x23d291fc340>"
      ]
     },
     "execution_count": 4,
     "metadata": {},
     "output_type": "execute_result"
    }
   ],
   "source": [
    "Base._storage_collections['in_page']"
   ]
  },
  {
   "cell_type": "code",
   "execution_count": 6,
   "metadata": {},
   "outputs": [],
   "source": [
    "from big_seo.llm.implement.data_model import OutlineDocumentDBType\n",
    "a = OutlineDocumentDBType(header='head',\n",
    "                      content='this is test',\n",
    "                      doc_id=uuid.uuid4().bytes)"
   ]
  },
  {
   "cell_type": "code",
   "execution_count": 7,
   "metadata": {},
   "outputs": [],
   "source": [
    "b = InPageCollection(point_id = str(uuid.uuid4()),\n",
    "                 vector=[0.5]*1024,\n",
    "                 doc=a)"
   ]
  },
  {
   "cell_type": "code",
   "execution_count": 8,
   "metadata": {},
   "outputs": [
    {
     "data": {
      "text/plain": [
       "'in_page'"
      ]
     },
     "execution_count": 8,
     "metadata": {},
     "output_type": "execute_result"
    }
   ],
   "source": [
    "b._collection().to_native_format()"
   ]
  },
  {
   "cell_type": "code",
   "execution_count": 9,
   "metadata": {},
   "outputs": [],
   "source": [
    "Base.add(b)"
   ]
  },
  {
   "cell_type": "code",
   "execution_count": 10,
   "metadata": {},
   "outputs": [],
   "source": [
    "c = Base.query(InPageCollection,limit=10, vector=[0.5]*1024)"
   ]
  },
  {
   "cell_type": "code",
   "execution_count": 11,
   "metadata": {},
   "outputs": [
    {
     "data": {
      "text/plain": [
       "<big_seo.llm.implement.data_model.InPageCollection at 0x20039f45f10>"
      ]
     },
     "execution_count": 11,
     "metadata": {},
     "output_type": "execute_result"
    }
   ],
   "source": [
    "Base._convertor.convert_db_to_python_schema(c[0])"
   ]
  },
  {
   "cell_type": "markdown",
   "metadata": {},
   "source": [
    "## Test indexer"
   ]
  },
  {
   "cell_type": "markdown",
   "metadata": {},
   "source": [
    "### Global"
   ]
  },
  {
   "cell_type": "code",
   "execution_count": 1,
   "metadata": {},
   "outputs": [],
   "source": [
    "# from langchain_openai import ChatOpenAI\n",
    "# from langchain_google_genai import ChatGoogleGenerativeAI\n",
    "import uuid\n",
    "from functools import partial\n",
    "import datetime\n",
    "import uuid\n",
    "from big_seo.common.lang import DocumentLang"
   ]
  },
  {
   "cell_type": "code",
   "execution_count": 2,
   "metadata": {},
   "outputs": [],
   "source": [
    "start = datetime.datetime.now()\n",
    "def get_unique_doc(res):\n",
    "    for doc in res:\n",
    "        doc[1]['doc'].score = doc[0]\n",
    "    return set([doc[1]['doc'] for doc in res])"
   ]
  },
  {
   "cell_type": "code",
   "execution_count": 3,
   "metadata": {},
   "outputs": [],
   "source": [
    "from big_seo.crawler.api import Crawler, UpToDateCrawler\n",
    "from big_seo.llm.implement.indexer import WebPageIndexer, InPageIndexer, UpToDateInPageIndexer\n",
    "from big_seo.llm.implement.parser import WebPageParser, TranslationParser, UpToDateWebPageParser\n",
    "from big_seo.llm.implement.data_model import WebPageDocument, OutlineDocumentDBType, Base, UpToDateCollection\n",
    "from llama_index.embeddings.huggingface import HuggingFaceEmbedding\n",
    "from big_seo.llm.implement.embedding_model import LLamaIndexEmbedding\n",
    "from big_seo.llm.implement.parser import OutlineDocumentCreator\n",
    "\n",
    "\n",
    "from big_seo.translator.core import GeminiHealthcareTranslator\n",
    "\n",
    "\n",
    "from langchain_openai import ChatOpenAI\n",
    "from langchain_google_genai import (ChatGoogleGenerativeAI,\n",
    "                                    HarmBlockThreshold,\n",
    "                                    HarmCategory)\n",
    "\n",
    "hug_model = HuggingFaceEmbedding(model_name=\"BAAI/bge-m3\")\n",
    "embed_model = LLamaIndexEmbedding(hug_model)\n",
    "crawler = Crawler()"
   ]
  },
  {
   "cell_type": "markdown",
   "metadata": {},
   "source": [
    "### Gen outline"
   ]
  },
  {
   "cell_type": "code",
   "execution_count": 4,
   "metadata": {},
   "outputs": [],
   "source": [
    "outline_doc_creator = OutlineDocumentCreator()\n",
    "outline_parser = WebPageParser(doc_creator=outline_doc_creator)\n",
    "\n",
    "model = ChatOpenAI(name='gpt-4-turbo-preview',temperature=0.5)\n",
    "model_gemini = ChatGoogleGenerativeAI(model=\"gemini-pro\",temperature=0.5, safety_settings={\n",
    "            HarmCategory.HARM_CATEGORY_DANGEROUS_CONTENT: HarmBlockThreshold.BLOCK_NONE,\n",
    "        })"
   ]
  },
  {
   "cell_type": "code",
   "execution_count": 5,
   "metadata": {},
   "outputs": [],
   "source": [
    "main_topic = 'trật khớp vai'\n",
    "main_topic_en = 'shoulder dislocations'\n",
    "use_u2d = True\n",
    "webpages = crawler.search(main_topic,n=3)\n",
    "outlines = []\n",
    "for page in webpages:\n",
    "    webpage_doc = WebPageDocument(page)\n",
    "    outline_parser.feed(webpage_doc)\n",
    "    outlines.append(outline_parser.parse(in_doc=True))"
   ]
  },
  {
   "cell_type": "code",
   "execution_count": 6,
   "metadata": {},
   "outputs": [],
   "source": [
    "# from bs4 import BeautifulSoup"
   ]
  },
  {
   "cell_type": "code",
   "execution_count": 7,
   "metadata": {},
   "outputs": [],
   "source": [
    "outlines_headers = ['\\n'.join(map(lambda x: x[0].replace('\\n',''),o)) for o in outlines if len(o) > 0]"
   ]
  },
  {
   "cell_type": "code",
   "execution_count": 8,
   "metadata": {},
   "outputs": [],
   "source": [
    "gen_outline_prompt = \"\"\"Bạn là một bác sĩ đa khoa, bạn có khả năng tạo những dàn ý bài viết đầy đủ, chi tiết cho các chủ đề liên quan y học. Khi tạo dàn ý, bạn cần dựa trên các dàn ý mẫu, các dàn ý mẫu được viết theo dạng <html tag> - <nội dung> , các dàn ý mẫu được phân tách nhau bằng ----, trong các dàn ý mẫu có thể có những mục không liên quan trực tiếp đến bài như 'Bài viết liên quan' 'Liên hệ' hãy bỏ qua các mục này. Nếu các dàn ý mẫu không chứa nội dung liên quan đến chủ đề bài viết, trả lời 'Tôi không biết'. Trong trường hợp các dàn ý mẫu có đề cập đến mục gây chú ý mạnh cho bệnh nhân khiến bệnh nhân muốn đến bệnh viện như 'sự nguy hiểm của bệnh' 'khi nào cần đến bệnh viện' thì hãy thêm vào dàn ý\n",
    "FORMAT: Dàn ý đầu ra cần tuân thủ chặt chẽ theo format. Mỗi ý một dòng. Không trả lời những thông tin không liên quan đến dàn ý.\n",
    "\n",
    "DÀN Ý MẪU: {example}\n",
    "\n",
    "Hãy nêu dàn ý cho bài viết về {topic}\n",
    "Trả lời:\"\"\"\n",
    "\n",
    "# gen_outline_prompt = \"\"\"Bạn là một bác sĩ đa khoa, bạn có khả năng tạo những dàn ý bài viết đầy đủ, dễ hiểu cho các chủ đề liên quan y học. Khi tạo dàn ý, bạn cần dựa trên các dàn ý mẫu, trong các dàn ý mẫu có thể có những mục không liên quan trực tiếp đến bài như 'Bài viết liên quan' 'Liên hệ' hãy bỏ qua các mục này. Nếu các dàn ý mẫu không chứa nội dung liên quan đến chủ đề bài viết, trả lời 'Tôi không biết'. Trong trường hợp các dàn ý mẫu có đề cập đến mục gây chú ý mạnh cho bệnh nhân khiến bệnh nhân muốn đến bệnh viện như 'sự nguy hiểm của bệnh' 'khi nào cần đến bệnh viện' thì hãy thêm vào dàn ý\n",
    "\n",
    "# FORMAT: Dàn ý đầu ra cần tuân thủ chặt chẽ theo format. Mỗi ý một dòng. Không trả lời những thông tin không liên quan đến dàn ý.\n",
    "\n",
    "# DÀN Ý MẪU: {example}\n",
    "\n",
    "# Hãy nêu dàn ý cho bài viết về {topic}\n",
    "# Trả lời:\"\"\""
   ]
  },
  {
   "cell_type": "code",
   "execution_count": 9,
   "metadata": {},
   "outputs": [],
   "source": [
    "model_res = model.invoke(gen_outline_prompt.format(example='\\n----\\n'.join(outlines_headers),topic=main_topic))\n",
    "model_gemini_res = model.invoke(gen_outline_prompt.format(example='\\n----\\n'.join(outlines_headers),topic=main_topic))"
   ]
  },
  {
   "cell_type": "code",
   "execution_count": 10,
   "metadata": {},
   "outputs": [
    {
     "name": "stdout",
     "output_type": "stream",
     "text": [
      "h1 - Trật khớp vai: Nguyên nhân, triệu chứng, điều trị và phòng tránh\n",
      "h2 - Trật khớp vai là gì?\n",
      "h2 - Các dạng trật khớp vai phổ biến\n",
      "h2 - Nguyên nhân gây trật khớp vai\n",
      "h2 - Triệu chứng của trật khớp vai\n",
      "h2 - Sự nguy hiểm của trật khớp vai nếu không được điều trị kịp thời\n",
      "h2 - Khi nào cần đến bệnh viện khi bị trật khớp vai?\n",
      "h2 - Phương pháp điều trị trật khớp vai\n",
      "h3 - Nắn sai khớp vai\n",
      "h3 - Phẫu thuật\n",
      "h3 - Cố định khớp\n",
      "h3 - Sử dụng thuốc\n",
      "h3 - Phục hồi chức năng\n",
      "h2 - Cách phòng tránh trật khớp vai hiệu quả\n"
     ]
    }
   ],
   "source": [
    "org_gen_outline = model_res.content\n",
    "if len(model_gemini_res.content) < 1000:\n",
    "    print(model_gemini_res.content)"
   ]
  },
  {
   "cell_type": "code",
   "execution_count": 11,
   "metadata": {},
   "outputs": [
    {
     "name": "stdout",
     "output_type": "stream",
     "text": [
      "h1 - Trật khớp vai: Nguyên nhân, triệu chứng, điều trị và phòng tránh\n",
      "h2 - Trật khớp vai là gì?\n",
      "h2 - Các dạng trật khớp vai phổ biến\n",
      "h2 - Nguyên nhân gây trật khớp vai\n",
      "h2 - Triệu chứng của trật khớp vai\n",
      "h2 - Sự nguy hiểm của trật khớp vai nếu không được điều trị kịp thời\n",
      "h2 - Cách điều trị trật khớp vai\n",
      "h3 - 1. Nắn sai khớp vai\n",
      "h3 - 2. Phẫu thuật\n",
      "h3 - 3. Cố định khớp vai\n",
      "h3 - 4. Sử dụng thuốc\n",
      "h3 - 5. Phục hồi chức năng\n",
      "h2 - Cách phòng tránh trật khớp vai hiệu quả\n"
     ]
    }
   ],
   "source": [
    "print(org_gen_outline)"
   ]
  },
  {
   "cell_type": "markdown",
   "metadata": {},
   "source": [
    "### Inpage"
   ]
  },
  {
   "cell_type": "code",
   "execution_count": 12,
   "metadata": {},
   "outputs": [],
   "source": [
    "inpage_parser = WebPageParser(doc_creator=outline_doc_creator)"
   ]
  },
  {
   "cell_type": "code",
   "execution_count": 13,
   "metadata": {},
   "outputs": [],
   "source": [
    "from big_seo.storage.qdrant import QdrantDB\n",
    "\n",
    "vec_db = QdrantDB(host='localhost',\n",
    "                port=6333)\n",
    "Base.init_instance(vec_db=vec_db)"
   ]
  },
  {
   "cell_type": "code",
   "execution_count": 14,
   "metadata": {},
   "outputs": [],
   "source": [
    "inpage_parser.parse = partial(inpage_parser.parse, nested=False, in_doc=True,concat_to='h2')\n",
    "webpage_indexer = InPageIndexer(embedding_model=embed_model,\n",
    "              parser=inpage_parser,\n",
    "              Base_model=Base)\n",
    "for page in webpages:\n",
    "    page_doc = WebPageDocument(page)\n",
    "    webpage_indexer.index(page_doc) "
   ]
  },
  {
   "cell_type": "code",
   "execution_count": 16,
   "metadata": {},
   "outputs": [],
   "source": [
    "# up 2 date\n",
    "u2d_crawler = UpToDateCrawler()\n",
    "u2d_parser = UpToDateWebPageParser(doc_creator=outline_doc_creator)\n",
    "u2d_parser.parse = partial(u2d_parser.parse,nested=False, in_doc=True,concat_to='h2')\n",
    "\n",
    "\n",
    "translator = GeminiHealthcareTranslator(model='gemini-pro')\n",
    "translator_parser = TranslationParser(u2d_parser,translator,\n",
    "                               input_lang=DocumentLang.EN,\n",
    "                               target_lang=DocumentLang.VI)\n",
    "\n",
    "\n",
    "translator.translate = partial(translator.translate,other_instruction=f' liên quan đến {main_topic}')\n",
    "u2d_webpages = u2d_crawler.search(main_topic_en,n=2)\n",
    "uptodate_indexer = UpToDateInPageIndexer(embedding_model=embed_model,\n",
    "              parser=translator_parser,\n",
    "              Base_model=Base)\n",
    "if use_u2d:\n",
    "    for page in u2d_webpages:\n",
    "        page_doc = WebPageDocument(page)\n",
    "        uptodate_indexer.index(page_doc)"
   ]
  },
  {
   "cell_type": "code",
   "execution_count": 17,
   "metadata": {},
   "outputs": [],
   "source": [
    "def get_gen_knowledge_fn(webpage_indexer, limit):\n",
    "    def sub(outline):\n",
    "        prompts = [outline[0]]\n",
    "        prompts.extend(outline[1])\n",
    "        docs = set()\n",
    "        for prompt in prompts:\n",
    "            retrieved_docs = webpage_indexer.search(prompt)\n",
    "            docs = docs.union(get_unique_doc(retrieved_docs))\n",
    "            # print(len(docs))\n",
    "        # return sorted(docs, key=lambda x: x.score, reverse=True)[:5]\n",
    "        return '\\n\\n----\\n\\n'.join(map(lambda x: x.get_doc_meta()['header'] +'\\n'+ x.get_doc_content(),sorted(docs, key=lambda x: x.score, reverse=True)[:limit]))\n",
    "    return sub"
   ]
  },
  {
   "cell_type": "code",
   "execution_count": 18,
   "metadata": {},
   "outputs": [],
   "source": [
    "get_knowledge = get_gen_knowledge_fn(webpage_indexer, 4)\n",
    "if use_u2d:\n",
    "    get_u2d_knowledge = get_gen_knowledge_fn(uptodate_indexer, 4)"
   ]
  },
  {
   "cell_type": "markdown",
   "metadata": {},
   "source": [
    "### Gen partial content"
   ]
  },
  {
   "cell_type": "markdown",
   "metadata": {},
   "source": [
    "#### Prompt template"
   ]
  },
  {
   "cell_type": "code",
   "execution_count": 19,
   "metadata": {},
   "outputs": [],
   "source": [
    "partial_prompt = \"\"\"Bạn là một bác sĩ giàu kinh nghiệm trên lĩnh vực {topic}, dựa trên KIẾN THỨC được cung cấp bạn có khả năng lựa chọn những thông tin phù hợp nhất với chủ đề, bạn cũng có khả năng trình bày theo hướng cung cấp kiến thức chuyên sâu, rõ ràng\n",
    "\n",
    "\n",
    "BẮT BUỘC: Đây là vấn đề liên quan trực tiếp đến sức khỏe, chỉ được phép cung cấp các thông tin có trong phần KIẾN THỨC, không sử dụng bất cứ thông tin khác\n",
    "nếu trong phần KIẾN THỨC không chứa nội dung liên quan đến mục bạn đang viết hãy trả lời 'Tôi không biết',\n",
    "\n",
    "\n",
    "########\n",
    "KIẾN THỨC: {knowledge}\n",
    "\n",
    "########\n",
    "NHIỆM VỤ: hãy viết một đoạn từ 300 đến 500 từ về '{headline}' {sub_headline_instruction} Bạn chỉ viết một mục trong bài viết lớn hơn, nên chỉ viết các thông tin liên quan đến '{headline}' không viết các thông tin khác\n",
    "\n",
    "TRẢ LỜI:\"\"\"\n",
    "\n",
    "h1_prompt = \"\"\"Bạn là một bác sĩ giàu kinh nghiệm trong lĩnh vực {topic}, dựa vào KIẾN THỨC được cung cấp bạn có thể trình bày lại ngắn gọn dễ hiểu\n",
    "\n",
    "BẮT BUỘC: nếu trong phần KIẾN THỨC không chứa nội dung liên quan đến mục bạn đang viết hãy trả lời 'Tôi không biết',\n",
    "Đây là vấn đề liên quan trực tiếp đến sức khỏe, chỉ được phép cung cấp các thông tin có trong phần KIẾN THỨC, không sử dụng bất cứ thông tin khác\n",
    "\n",
    "########\n",
    "KIẾN THỨC: {knowledge}\n",
    "\n",
    "NHIỆM VỤ: Hãy viết một đoạn giới thiệu ngắn từ 200 đến 300 từ về chủ đề {topic} trong đó nêu các phần cụ thể như nguyên nhân, cách điều trị\n",
    "\n",
    "TRẢ LỜI:\"\"\"\n",
    "\n",
    "\n",
    "rag_prompt = \"\"\"Bạn là một bác sĩ giàu kinh nghiệm trong lĩnh vực {topic}, dựa trên những KIẾN THỨC được cung cấp, hãy viết một đoạn khoảng 200 từ nêu một số điểm chính liên quan đến {headline}\n",
    "\n",
    "Không cung cấp các thông tin không có trong phần KIẾN THỨC\n",
    "Bạn chỉ viết một mục trong bài viết lớn hơn, nên chỉ viết các thông tin liên quan đến '{headline}' không viết các thông tin khác\n",
    "\n",
    "KIẾN THỨC {knowledge}\"\"\"\n",
    "\n",
    "\n",
    "u2d_enhanced_prompt = \"\"\"Bạn là một bác sĩ giàu kinh nghiệm trên {topic}, dựa trên KIẾN THỨC được cung cấp bạn có khả năng trình bày theo hướng cung cấp kiến thức chuyên sâu, rõ ràng\n",
    "\n",
    "BẮT BUỘC: nếu trong phần KIẾN THỨC không chứa nội dung liên quan đến mục bạn đang viết hãy trả lời 'Tôi không biết',\n",
    "Đây là vấn đề liên quan trực tiếp đến sức khỏe, chỉ được phép cung cấp các thông tin có trong phần KIẾN THỨC, không sử dụng bất cứ thông tin khác\n",
    "\n",
    "########\n",
    "KIẾN THỨC: {knowledge}\n",
    "\n",
    "########\n",
    "NHIỆM VỤ: Hãy viết lại đoạn sau thành đoạn văn khoảng 600 từ về '{headline}' bổ sung thêm các kiến thức liên quan trong phần KIẾN THỨC: {org_content}\n",
    "\n",
    "TRẢ LỜI:\"\"\"\n",
    "\n",
    "\n",
    "web_normalized_prompt = \"\"\"Bạn là một bác sĩ giàu kinh nghiệm trên {topic}, dựa trên KIẾN THỨC được cung cấp bạn có khả năng trình bày theo hướng cung cấp kiến thức chuyên sâu, rõ ràng\n",
    "\n",
    "BẮT BUỘC: nếu trong phần KIẾN THỨC không chứa nội dung liên quan đến mục bạn đang viết hãy trả lời 'Tôi không biết',\n",
    "Đây là vấn đề liên quan trực tiếp đến sức khỏe, chỉ được phép cung cấp các thông tin có trong phần KIẾN THỨC, không sử dụng bất cứ thông tin khác\n",
    "\n",
    "########\n",
    "KIẾN THỨC: {knowledge}\n",
    "\n",
    "########\n",
    "NHIỆM VỤ: Hãy viết lại đoạn sau thành đoạn văn khoảng 600 từ về '{headline}' sử dụng những từ ngữ dễ hiểu với người đọc thông thường sử dụng thông tin trong phần KIẾN THỨC: {org_content}\n",
    "\n",
    "TRẢ LỜI:\"\"\"\n",
    "\n",
    "combine_prompt = \"\"\"Bạn là một bác sĩ giàu kinh nghiệm trên {topic}, dựa trên KIẾN THỨC được cung cấp bạn có khả năng trình bày theo hướng cung cấp kiến thức chuyên sâu, rõ ràng\n",
    "\n",
    "BẮT BUỘC: KHÔNG cung cấp các thông tin không có trong các bài mẫu\n",
    "Đây là vấn đề liên quan trực tiếp đến sức khỏe, bạn tuyệt đối chỉ cung cấp các thông tin có trong phần KIẾN THỨC, không sử dụng bất cứ thông tin khác\n",
    "Nếu cả hai bài mẫu đều không đề cập đến {headline} hãy trả lời 'tôi không biết'\n",
    "\n",
    "\n",
    "Bài mẫu 1: {web_content}\n",
    "\n",
    "\n",
    "\n",
    "Bài mẫu 2: {u2d_content}\n",
    "\n",
    "########\n",
    "NHIỆM VỤ: Hãy kết hợp thông tin từ 2 bài mẫu và viết lại đoạn sau thành đoạn văn khoảng 600 từ về '{headline}'. Bạn chỉ viết một mục trong bài viết lớn hơn, nên chỉ viết các thông tin liên quan đến '{headline}' không viết các thông tin khác\n",
    "\n",
    "TRẢ LỜI:\"\"\""
   ]
  },
  {
   "cell_type": "markdown",
   "metadata": {},
   "source": [
    "#### Helper functions"
   ]
  },
  {
   "cell_type": "code",
   "execution_count": 23,
   "metadata": {},
   "outputs": [],
   "source": [
    "def get_better_knowledge(model, outline, topic):\n",
    "    first_knowledge = get_knowledge(outline=(outline,[]))\n",
    "    prompt = rag_prompt.format(topic=topic, knowledge=first_knowledge,\n",
    "                        headline = outline,\n",
    "                        sub_headline_instruction='')\n",
    "    # gen rag content\n",
    "    res = model.invoke(prompt)\n",
    "    rag_content = res.content\n",
    "\n",
    "    knowledge = get_knowledge(outline=(outline,[res.content]))\n",
    "    u2d_knowledge = get_u2d_knowledge(outline=(outline,[res.content]))\n",
    "\n",
    "    return (rag_content, knowledge, u2d_knowledge)\n",
    "\n",
    "def gen_content(model,topic,knowledge,headline,sub_headline):\n",
    "    prompt = partial_prompt.format(topic=topic, knowledge=knowledge,\n",
    "                        headline = headline,\n",
    "                        sub_headline_instruction=sub_headline)\n",
    "    return model.invoke(prompt).content\n",
    "\n",
    "def combine_content(model,topic,\n",
    "                   web_content,\n",
    "                   u2d_content,\n",
    "                   headline):\n",
    "    res = model.invoke(combine_prompt.format(topic=topic,\n",
    "                   web_content=web_content,\n",
    "                   u2d_content=u2d_content,\n",
    "                   headline = headline))\n",
    "    return res.content"
   ]
  },
  {
   "cell_type": "markdown",
   "metadata": {},
   "source": [
    "#### Pipeline"
   ]
  },
  {
   "cell_type": "code",
   "execution_count": 24,
   "metadata": {},
   "outputs": [],
   "source": [
    "gen_outlines = org_gen_outline.split('\\n')\n",
    "tracking_results = []\n",
    "full_gen_content = []\n",
    "error_knowledge = []\n",
    "for o in gen_outlines:\n",
    "    sub_headline = ''\n",
    "    full_gen_content.append(o)\n",
    "    try:\n",
    "        rag_content, knowledge, u2d_knowledge = get_better_knowledge(model_gemini, o, main_topic)\n",
    "    except:\n",
    "        rag_content, knowledge, u2d_knowledge = get_better_knowledge(model, o, main_topic)\n",
    "\n",
    "\n",
    "    # gen content\n",
    "    prompt = partial_prompt.format(topic=main_topic, knowledge=knowledge,\n",
    "                            headline = o,\n",
    "                            sub_headline_instruction=sub_headline)\n",
    "    web_content = gen_content(model,main_topic,knowledge,o,sub_headline)\n",
    "    u2d_content = gen_content(model,main_topic,u2d_knowledge,o,sub_headline)\n",
    "    combined_content = combine_content(model,main_topic,\n",
    "                    web_content,\n",
    "                    u2d_content,\n",
    "                    o)\n",
    "    tracking_results.append({'outline':o,\n",
    "                             'rag_content':rag_content,\n",
    "                             'web_content': web_content,\n",
    "                             'u2d_content': u2d_content,\n",
    "                             'knowledge': knowledge,\n",
    "                             'u2d_knowledge': u2d_knowledge,\n",
    "                             'combined_content': combined_content\n",
    "                             })\n",
    "    if 'tôi không biết' in combined_content.lower():\n",
    "        print(o)\n",
    "        error_knowledge.append((o, knowledge))\n",
    "    else:\n",
    "        full_gen_content.append(combined_content)\n"
   ]
  },
  {
   "cell_type": "code",
   "execution_count": 25,
   "metadata": {},
   "outputs": [],
   "source": [
    "# print(rag_content)\n",
    "# print(web_content)\n",
    "# print(u2d_content)\n",
    "# print(combined_content)"
   ]
  },
  {
   "cell_type": "markdown",
   "metadata": {},
   "source": [
    "#### Process end result"
   ]
  },
  {
   "cell_type": "code",
   "execution_count": 26,
   "metadata": {},
   "outputs": [],
   "source": [
    "with open(f'test_output/{main_topic}_raw.txt','w',encoding=\"utf-8\") as f:\n",
    "    f.write('\\n'.join(full_gen_content))\n",
    "    # f.write('ok')"
   ]
  },
  {
   "cell_type": "code",
   "execution_count": 27,
   "metadata": {},
   "outputs": [],
   "source": [
    "final_prompt=\"\"\"Bạn là một bác sĩ giàu kinh nghiệm trong lĩnh vực {topic}\n",
    "Dưới đây là một mẫu bài viết về {topic},\n",
    "\n",
    "Bài mẫu: {example}\n",
    "\n",
    "\n",
    "YÊU CẦU bạn hãy viết lại bài viết này thành một bài viết chuyên sâu khoảng 2000 từ theo hướng tối ưu chuẩn SEO, đảm bảo mật độ từ khóa chính {topic} tốt.\n",
    "Với mỗi ý hãy nêu kèm giải thích chọn cách trình bày như liệt kê từng dòng, so sánh hợp lý\n",
    "\n",
    "BẮT BUỘC: bạn không cung cấp bất cứ kiến thức nào khác ngoài bài mẫu\n",
    "\n",
    "TRẢ LỜI\"\"\""
   ]
  },
  {
   "cell_type": "code",
   "execution_count": 28,
   "metadata": {},
   "outputs": [],
   "source": [
    "# final_res = model_gemini.invoke(final_prompt.format(topic=main_topic,\n",
    "#                                 outline=org_gen_outline,\n",
    "#                                 example = '\\n'.join(full_gen_content)))\n",
    "# with open(f'test_output/gemini_rewrite_{main_topic}.txt','w', encoding='utf-8') as f:\n",
    "#     f.write(final_res.content)"
   ]
  },
  {
   "cell_type": "code",
   "execution_count": 29,
   "metadata": {},
   "outputs": [],
   "source": [
    "# final_res = model.invoke(final_prompt.format(topic=main_topic,\n",
    "#                                              outline=org_gen_outline,\n",
    "#                                              example = '\\n'.join(full_gen_content)))\n",
    "# with open(f'test_output/gpt_rewrite_{main_topic}.txt','w',encoding='utf-8') as f:\n",
    "#     f.write(final_res.content)"
   ]
  },
  {
   "cell_type": "markdown",
   "metadata": {},
   "source": [
    "### Check"
   ]
  },
  {
   "cell_type": "code",
   "execution_count": 30,
   "metadata": {},
   "outputs": [],
   "source": [
    "with open('template.txt','r') as f:\n",
    "    template = f.read()"
   ]
  },
  {
   "cell_type": "code",
   "execution_count": 31,
   "metadata": {},
   "outputs": [],
   "source": [
    "data = []\n",
    "data.append(template.format(_id = 0,\n",
    "                           cur_state='cur',\n",
    "                           outline=org_gen_outline.replace('\\n','<br>'),\n",
    "                           model_output='<br>'.join(full_gen_content).replace('\\n','<br>'),\n",
    "                           knowledge='',ud_output='',\n",
    "                           ud_knowledge='',\n",
    "                           web_output='',))\n",
    "for i, point in enumerate(tracking_results):\n",
    "    u2d_output = point['u2d_content']\n",
    "    web_output = point['web_content']\n",
    "    u2d_knowledge = point['u2d_knowledge']\n",
    "    knowledge = point['knowledge']\n",
    "    outline = point['outline']\n",
    "    model_output = point['combined_content']\n",
    "    _id = i + 1\n",
    "    cur_state = 'hidden'\n",
    "    temp = template.format(_id = _id,\n",
    "                        cur_state=cur_state,\n",
    "                        outline=outline,\n",
    "                        model_output=model_output,\n",
    "                        knowledge=knowledge.replace('\\n','<br>'),\n",
    "                        ud_output=u2d_output,\n",
    "                        web_output=web_output,\n",
    "                        ud_knowledge=u2d_knowledge.replace('\\n','<br>'))\n",
    "    data.append(temp)"
   ]
  },
  {
   "cell_type": "code",
   "execution_count": 32,
   "metadata": {},
   "outputs": [],
   "source": [
    "with open('index.txt','r') as f:\n",
    "    index_page = f.read()"
   ]
  },
  {
   "cell_type": "code",
   "execution_count": 33,
   "metadata": {},
   "outputs": [],
   "source": [
    "index_page = index_page.format(data='\\n'.join(data))\n",
    "with open('index.html','w', encoding='utf-8') as f:\n",
    "    f.write(index_page)"
   ]
  },
  {
   "cell_type": "code",
   "execution_count": 34,
   "metadata": {},
   "outputs": [
    {
     "data": {
      "text/plain": [
       "18.583333333333332"
      ]
     },
     "execution_count": 34,
     "metadata": {},
     "output_type": "execute_result"
    }
   ],
   "source": [
    "end = datetime.datetime.now()\n",
    "(end - start).seconds/60"
   ]
  },
  {
   "cell_type": "code",
   "execution_count": null,
   "metadata": {},
   "outputs": [],
   "source": [
    "# Base.close_instance(delete_model=True)"
   ]
  }
 ],
 "metadata": {
  "kernelspec": {
   "display_name": "base",
   "language": "python",
   "name": "python3"
  },
  "language_info": {
   "codemirror_mode": {
    "name": "ipython",
    "version": 3
   },
   "file_extension": ".py",
   "mimetype": "text/x-python",
   "name": "python",
   "nbconvert_exporter": "python",
   "pygments_lexer": "ipython3",
   "version": "3.9.13"
  }
 },
 "nbformat": 4,
 "nbformat_minor": 2
}
