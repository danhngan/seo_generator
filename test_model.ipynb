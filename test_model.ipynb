{
 "cells": [
  {
   "cell_type": "markdown",
   "metadata": {},
   "source": [
    "## Test indexer"
   ]
  },
  {
   "cell_type": "markdown",
   "metadata": {},
   "source": [
    "### Global"
   ]
  },
  {
   "cell_type": "code",
   "execution_count": 1,
   "metadata": {},
   "outputs": [],
   "source": [
    "# from langchain_openai import ChatOpenAI\n",
    "# from langchain_google_genai import ChatGoogleGenerativeAI\n",
    "import uuid\n",
    "from functools import partial\n",
    "import datetime\n",
    "import uuid\n",
    "from big_seo.common.lang import DocumentLang"
   ]
  },
  {
   "cell_type": "code",
   "execution_count": 2,
   "metadata": {},
   "outputs": [],
   "source": [
    "start = datetime.datetime.now()\n",
    "def get_unique_doc(res):\n",
    "    for doc in res:\n",
    "        doc[1]['doc'].score = doc[0]\n",
    "    return set([doc[1]['doc'] for doc in res])"
   ]
  },
  {
   "cell_type": "code",
   "execution_count": 3,
   "metadata": {},
   "outputs": [],
   "source": [
    "from big_seo.crawler.api import Crawler, UpToDateCrawler\n",
    "from big_seo.llm.implement.indexer import WebPageIndexer, InPageIndexer, UpToDateInPageIndexer\n",
    "from big_seo.llm.implement.parser import WebPageParser, TranslationParser, UpToDateWebPageParser\n",
    "from big_seo.llm.implement.data_model import WebPageDocument, OutlineDocumentDBType, Base, UpToDateCollection\n",
    "from llama_index.embeddings.huggingface import HuggingFaceEmbedding\n",
    "from big_seo.llm.implement.embedding_model import LLamaIndexEmbedding\n",
    "from big_seo.llm.implement.parser import OutlineDocumentCreator\n",
    "\n",
    "\n",
    "from big_seo.translator.core import GeminiHealthcareTranslator\n",
    "\n",
    "\n",
    "from langchain_openai import ChatOpenAI\n",
    "from langchain_google_genai import (ChatGoogleGenerativeAI,\n",
    "                                    HarmBlockThreshold,\n",
    "                                    HarmCategory)\n",
    "\n",
    "hug_model = HuggingFaceEmbedding(model_name=\"BAAI/bge-m3\")\n",
    "embed_model = LLamaIndexEmbedding(hug_model)\n",
    "crawler = Crawler()"
   ]
  },
  {
   "cell_type": "markdown",
   "metadata": {},
   "source": [
    "### Gen outline"
   ]
  },
  {
   "cell_type": "code",
   "execution_count": 4,
   "metadata": {},
   "outputs": [],
   "source": [
    "outline_doc_creator = OutlineDocumentCreator()\n",
    "outline_parser = WebPageParser(doc_creator=outline_doc_creator)\n",
    "\n",
    "model = ChatOpenAI(name='gpt-4-turbo-preview',temperature=0.5)\n",
    "model_gemini = ChatGoogleGenerativeAI(model=\"gemini-pro\",temperature=0.5, safety_settings={\n",
    "            HarmCategory.HARM_CATEGORY_DANGEROUS_CONTENT: HarmBlockThreshold.BLOCK_NONE,\n",
    "        })\n"
   ]
  },
  {
   "cell_type": "code",
   "execution_count": 5,
   "metadata": {},
   "outputs": [],
   "source": [
    "main_topic = 'thắt ống dẫn tinh'\n",
    "main_topic_en = 'vasectomy'\n",
    "use_u2d = True\n",
    "webpages = crawler.search(main_topic,n=3) # n : số bài top seo lấy về\n",
    "outlines = []\n",
    "for page in webpages:\n",
    "    webpage_doc = WebPageDocument(page)\n",
    "    outline_parser.feed(webpage_doc)\n",
    "    outlines.append(outline_parser.parse(in_doc=True))"
   ]
  },
  {
   "cell_type": "code",
   "execution_count": 6,
   "metadata": {},
   "outputs": [],
   "source": [
    "outlines_headers = ['\\n'.join(map(lambda x: x[0].replace('\\n',''),o)) for o in outlines if len(o) > 0]"
   ]
  },
  {
   "cell_type": "code",
   "execution_count": 7,
   "metadata": {},
   "outputs": [],
   "source": [
    "gen_outline_prompt = \"\"\"Bạn là một bác sĩ đa khoa, bạn có khả năng tạo những dàn ý bài viết đầy đủ, chi tiết cho các chủ đề liên quan y học. Khi tạo dàn ý, bạn cần dựa trên các dàn ý mẫu, các dàn ý mẫu được viết theo dạng <html tag> - <nội dung> , các dàn ý mẫu được phân tách nhau bằng ----, trong các dàn ý mẫu có thể có những mục không liên quan trực tiếp đến bài như 'Bài viết liên quan' 'Liên hệ' hãy bỏ qua các mục này. Nếu các dàn ý mẫu không chứa nội dung liên quan đến chủ đề bài viết, trả lời 'Tôi không biết'. Trong trường hợp các dàn ý mẫu có đề cập đến mục gây chú ý mạnh cho bệnh nhân khiến bệnh nhân muốn đến bệnh viện như 'sự nguy hiểm của bệnh' 'khi nào cần đến bệnh viện' thì hãy thêm vào dàn ý\n",
    "FORMAT: Dàn ý đầu ra cần tuân thủ chặt chẽ theo format. Mỗi ý một dòng. Không trả lời những thông tin không liên quan đến dàn ý.\n",
    "\n",
    "DÀN Ý MẪU: {example}\n",
    "\n",
    "Hãy nêu dàn ý cho bài viết về {topic}\n",
    "Trả lời:\"\"\"\n",
    "\n",
    "# gen_outline_prompt = \"\"\"Bạn là một bác sĩ đa khoa, bạn có khả năng tạo những dàn ý bài viết đầy đủ, dễ hiểu cho các chủ đề liên quan y học. Khi tạo dàn ý, bạn cần dựa trên các dàn ý mẫu, trong các dàn ý mẫu có thể có những mục không liên quan trực tiếp đến bài như 'Bài viết liên quan' 'Liên hệ' hãy bỏ qua các mục này. Nếu các dàn ý mẫu không chứa nội dung liên quan đến chủ đề bài viết, trả lời 'Tôi không biết'. Trong trường hợp các dàn ý mẫu có đề cập đến mục gây chú ý mạnh cho bệnh nhân khiến bệnh nhân muốn đến bệnh viện như 'sự nguy hiểm của bệnh' 'khi nào cần đến bệnh viện' thì hãy thêm vào dàn ý\n",
    "\n",
    "# FORMAT: Dàn ý đầu ra cần tuân thủ chặt chẽ theo format. Mỗi ý một dòng. Không trả lời những thông tin không liên quan đến dàn ý.\n",
    "\n",
    "# DÀN Ý MẪU: {example}\n",
    "\n",
    "# Hãy nêu dàn ý cho bài viết về {topic}\n",
    "# Trả lời:\"\"\""
   ]
  },
  {
   "cell_type": "code",
   "execution_count": 8,
   "metadata": {},
   "outputs": [],
   "source": [
    "model_res = model.invoke(gen_outline_prompt.format(example='\\n----\\n'.join(outlines_headers),topic=main_topic))\n",
    "model_gemini_res = model.invoke(gen_outline_prompt.format(example='\\n----\\n'.join(outlines_headers),topic=main_topic))"
   ]
  },
  {
   "cell_type": "code",
   "execution_count": 9,
   "metadata": {},
   "outputs": [
    {
     "name": "stdout",
     "output_type": "stream",
     "text": [
      "outline lấy từ web\n",
      "h1 - Ưu nhược điểm của thắt ống dẫn tinh\n",
      "h2 - 1. Thắt ống dẫn tinh là gì?\n",
      "h2 - 2. Đối tượng nào nên thắt ống dẫn tinh\n",
      "h2 - 3. Ưu nhược điểm của thắt ống dẫn tinh\n",
      "h3 - 3.1 Ưu điểm của thắt ống dẫn tinh\n",
      "h3 - 3.2 Nhược điểm của thắt ống dẫn tinh\n",
      "h2 - 4. Thắt ống dẫn tinh có ảnh hưởng gì không?\n",
      "h2 - 5. Các biến chứng do thủ thuật thắt ống dẫn tinh\n",
      "---\n",
      "h1 - Tin tức\n",
      "h1 - Thắt ống dẫn tinh là gì? Có đau không? Khi nào nên thực hiện?\n",
      "h2 - 1. Thắt ống dẫn tinh \n",
      "h3 - 1.1. Ống dẫn tinh là gì? \n",
      "h3 - 1.2. Thắt ống dẫn tinh là gì?\n",
      "h2 - 2. Khi nào cần thắt ống dẫn tinh?\n",
      "h2 - 3. Quy trình thắt ống dẫn tinh\n",
      "h3 - 3.1. Bác sĩ tư vấn \n",
      "h3 - 3.2. Khám tiền thủ thuật\n",
      "h3 - 3.3. Tiến hành thủ thuật\n",
      "h2 - 4. Những câu hỏi thường gặp \n",
      "h3 - 4.1. Thắt ống dẫn tinh có đau không?\n",
      "h3 - 4.2. Đàn ông có bị mất ham muốn nếu thắt ống dẫn tinh không?\n",
      "h3 - 4.3. Sau khi thực hiện thì phải kiêng quan hệ bao lâu?\n",
      "h2 - Bình luận ()\n",
      "---\n",
      "h1 - Thắt ống dẫn tinh: Lợi ích và nguy cơ\n",
      "h2 - 1. Thắt ống dẫn tinh là gì?\n",
      "h2 - 2. Chi phí cần có cho thắt ống dẫn tinh\n",
      "h2 - 3. Cách thực hiện thắt ống dẫn tinh\n",
      "h2 - 4. Phục hồi sau thắt ống dẫn tinh\n",
      "h2 - 5. Hiệu quả của thắt ống dẫn tinh\n",
      "h2 - 6. Một số rủi ro do thắt ống dẫn tinh\n",
      "h2 - 7. Thắt ống dẫn tinh và sự ảnh hưởng đến đời sống tình dục\n",
      "h2 - 8. Sự phục hồi của quá trình thắt ống dẫn tinh\n",
      "h2 - 9. Thắt ống dẫn tinh có phải là một lựa chọn tốt để tránh thai không?\n"
     ]
    }
   ],
   "source": [
    "print('outline lấy từ web')\n",
    "print('\\n---\\n'.join(outlines_headers))"
   ]
  },
  {
   "cell_type": "code",
   "execution_count": 10,
   "metadata": {},
   "outputs": [
    {
     "name": "stdout",
     "output_type": "stream",
     "text": [
      "outline từ gemini (ko được lấy mặc định)\n",
      "h1 - Thắt ống dẫn tinh: Lợi ích và nguy cơ\n",
      "h2 - 1. Thắt ống dẫn tinh là gì?\n",
      "h2 - 2. Lợi ích của thắt ống dẫn tinh\n",
      "h3 - 2.1. Giảm nguy cơ thai không mong muốn\n",
      "h3 - 2.2. Giảm nguy cơ lây nhiễm các bệnh lây truyền qua đường tình dục\n",
      "h3 - 2.3. Cải thiện chất lượng cuộc sống tình dục\n",
      "h2 - 3. Nguy cơ và rủi ro của thắt ống dẫn tinh\n",
      "h3 - 3.1. Nguy cơ nhiễm trùng sau thủ thuật\n",
      "h3 - 3.2. Nguy cơ xuất hiện các vấn đề về tinh trùng\n",
      "h3 - 3.3. Nguy cơ xuất hiện các biến chứng sau thủ thuật\n",
      "h2 - 4. Quy trình thực hiện thắt ống dẫn tinh\n",
      "h3 - 4.1. Chuẩn bị trước thủ thuật\n",
      "h3 - 4.2. Tiến hành thủ thuật thắt ống dẫn tinh\n",
      "h3 - 4.3. Hồi phục sau thủ thuật và các biện pháp chăm sóc sau thủ thuật\n",
      "h2 - 5. Câu hỏi thường gặp về thắt ống dẫn tinh\n",
      "h3 - 5.1. Thắt ống dẫn tinh có đau không?\n",
      "h3 - 5.2. Thời gian phục hồi sau thủ thuật là bao lâu?\n",
      "h3 - 5.3. Thắt ống dẫn tinh có ảnh hưởng đến khả năng sinh sản sau này không?\n",
      "h2 - 6. Bài viết liên quan\n",
      "h2 - 7. Liên hệ\n"
     ]
    }
   ],
   "source": [
    "org_gen_outline = model_res.content\n",
    "if len(model_gemini_res.content) < 1000:\n",
    "    print('outline từ gemini (ko được lấy mặc định)')\n",
    "    print(model_gemini_res.content)"
   ]
  },
  {
   "cell_type": "code",
   "execution_count": null,
   "metadata": {},
   "outputs": [],
   "source": [
    "print('outline từ gpt 4 (lấy mặc định)')\n",
    "print(org_gen_outline)"
   ]
  },
  {
   "cell_type": "code",
   "execution_count": 12,
   "metadata": {},
   "outputs": [
    {
     "name": "stdout",
     "output_type": "stream",
     "text": [
      "outline từ gpt 4 (lấy mặc định)\n",
      "h1 - Thắt ống dẫn tinh: Lợi ích và nguy cơ\n",
      "h2 - 1. Thắt ống dẫn tinh là gì?\n",
      "h3 - 1.1. Khái niệm về thắt ống dẫn tinh\n",
      "h3 - 1.2. Mục đích của thắt ống dẫn tinh\n",
      "h2 - 2. Các yếu tố ảnh hưởng đến quyết định thắt ống dẫn tinh\n",
      "h3 - 2.1. Đối tượng nào nên thực hiện thắt ống dẫn tinh\n",
      "h3 - 2.2. Lợi ích của việc thắt ống dẫn tinh\n",
      "h2 - 3. Quy trình thực hiện thắt ống dẫn tinh\n",
      "h3 - 3.1. Chuẩn bị trước khi thực hiện thắt ống dẫn tinh\n",
      "h3 - 3.2. Tiến trình thực hiện thủ thuật\n",
      "h3 - 3.3. Cách phục hồi sau khi thắt ống dẫn tinh\n",
      "h2 - 4. Nguy cơ và biến chứng của thắt ống dẫn tinh\n",
      "h3 - 4.1. Các rủi ro và nguy cơ phát sinh sau thủ thuật\n",
      "h3 - 4.2. Biến chứng có thể xảy ra sau khi thực hiện thắt ống dẫn tinh\n",
      "h2 - 5. Thắt ống dẫn tinh và ảnh hưởng đến đời sống tình dục\n",
      "h3 - 5.1. Tác động của thắt ống dẫn tinh đến ham muốn tình dục\n",
      "h3 - 5.2. Khả năng phục hồi của chức năng tình dục sau thủ thuật\n",
      "h2 - 6. Khi nào cần tham khảo ý kiến bác sĩ và quyết định thực hiện thắt ống dẫn tinh\n",
      "h3 - 6.1. Yếu tố cần xem xét khi quyết định thực hiện thủ thuật\n",
      "h3 - 6.2. Tầm quan trọng của việc tham khảo ý kiến chuyên gia trước khi quyết định thắt ống dẫn tinh\n"
     ]
    }
   ],
   "source": [
    "if input() != 'y':\n",
    "    raise ValueError('error')"
   ]
  },
  {
   "cell_type": "code",
   "execution_count": 13,
   "metadata": {},
   "outputs": [],
   "source": [
    "# # Nếu cần lấy outline tùy chỉnh thì sửa ở mục dưới\n",
    "\n",
    "# org_gen_outline = \"\"\"h1 - Rối loạn cương dương: Nguyên nhân, triệu chứng, chẩn đoán và điều trị\n",
    "# h2 - Hình ảnh bệnh Rối loạn cương dương\n",
    "# h2 - Tổng quan bệnh Rối loạn cương dương\n",
    "# h2 - Nguyên nhân bệnh Rối loạn cương dương\n",
    "# h2 - Triệu chứng bệnh Rối loạn cương dương\n",
    "# h2 - Đối tượng nguy cơ bệnh Rối loạn cương dương\n",
    "# h2 - Phòng ngừa bệnh Rối loạn cương dương\n",
    "# h2 - Các biện pháp chẩn đoán bệnh Rối loạn cương dương\n",
    "# h3 - Khai thác bệnh sử\n",
    "# h3 - Đánh giá chức năng cương dương\n",
    "# h3 - Đặt bộ câu hỏi đánh giá\n",
    "# h3 - Đánh giá mức độ rối loạn cương dương\n",
    "# h3 - Thăm khám thực thể\n",
    "# h4 - 3 điểm cần khám lâm sàng:\n",
    "# h4 - Cận lâm sàng:\n",
    "# h2 - Các biện pháp điều trị bệnh Rối loạn cương dương\n",
    "# h3 - Thuốc nhóm ức chế PDE5\n",
    "# h3 - Sử dụng testosterone\n",
    "# h3 - Bơm hút chân không\n",
    "# h3 - Tiêm trực tiếp vào hang vật các thuốc giãn mạch tác động trực tiếp lên dương vật\n",
    "# h3 - Sử dụng các bài thuốc cổ truyền\n",
    "# h3 - Phẫu thuật điều trị rối loạn cương dương\"\"\""
   ]
  },
  {
   "cell_type": "markdown",
   "metadata": {},
   "source": [
    "### Inpage"
   ]
  },
  {
   "cell_type": "code",
   "execution_count": 14,
   "metadata": {},
   "outputs": [],
   "source": [
    "inpage_parser = WebPageParser(doc_creator=outline_doc_creator)"
   ]
  },
  {
   "cell_type": "code",
   "execution_count": 15,
   "metadata": {},
   "outputs": [],
   "source": [
    "from big_seo.storage.qdrant import QdrantDB\n",
    "\n",
    "vec_db = QdrantDB(host='localhost',\n",
    "                port=6333)\n",
    "Base.init_instance(vec_db=vec_db)"
   ]
  },
  {
   "cell_type": "code",
   "execution_count": 16,
   "metadata": {},
   "outputs": [],
   "source": [
    "inpage_parser.parse = partial(inpage_parser.parse, nested=False, in_doc=True,concat_to='h2')\n",
    "webpage_indexer = InPageIndexer(embedding_model=embed_model,\n",
    "              parser=inpage_parser,\n",
    "              Base_model=Base)\n",
    "for page in webpages:\n",
    "    page_doc = WebPageDocument(page)\n",
    "    webpage_indexer.index(page_doc)"
   ]
  },
  {
   "cell_type": "code",
   "execution_count": 17,
   "metadata": {},
   "outputs": [],
   "source": [
    "# up 2 date\n",
    "u2d_crawler = UpToDateCrawler()\n",
    "u2d_parser = UpToDateWebPageParser(doc_creator=outline_doc_creator)\n",
    "u2d_parser.parse = partial(u2d_parser.parse,nested=False, in_doc=True,concat_to='h2')\n",
    "\n",
    "\n",
    "translator = GeminiHealthcareTranslator(model='gemini-pro')\n",
    "translator_parser = TranslationParser(u2d_parser,translator,\n",
    "                               input_lang=DocumentLang.EN,\n",
    "                               target_lang=DocumentLang.VI)\n",
    "\n",
    "\n",
    "translator.translate = partial(translator.translate,other_instruction=f' liên quan đến {main_topic}')\n",
    "u2d_webpages = u2d_crawler.search(main_topic_en,n=2)\n",
    "uptodate_indexer = UpToDateInPageIndexer(embedding_model=embed_model,\n",
    "              parser=translator_parser,\n",
    "              Base_model=Base)\n",
    "if use_u2d:\n",
    "    for page in u2d_webpages:\n",
    "        page_doc = WebPageDocument(page)\n",
    "        uptodate_indexer.index(page_doc)"
   ]
  },
  {
   "cell_type": "code",
   "execution_count": null,
   "metadata": {},
   "outputs": [],
   "source": [
    "global_knowledge = set()\n",
    "def get_gen_knowledge_fn(webpage_indexer, limit):\n",
    "    def sub(outline):\n",
    "        prompts = [outline[0]]\n",
    "        prompts.extend(outline[1])\n",
    "        docs = set()\n",
    "        for prompt in prompts:\n",
    "            retrieved_docs = webpage_indexer.search(prompt)\n",
    "            docs = docs.union(get_unique_doc(retrieved_docs))\n",
    "            global_knowledge.update(docs)\n",
    "            # print(len(docs))\n",
    "        # return sorted(docs, key=lambda x: x.score, reverse=True)[:5]\n",
    "        return '\\n\\n----\\n\\n'.join(map(lambda x: x.get_doc_meta()['header'] +'\\n'+ x.get_doc_content(),sorted(docs, key=lambda x: x.score, reverse=True)[:limit]))\n",
    "    return sub"
   ]
  },
  {
   "cell_type": "code",
   "execution_count": null,
   "metadata": {},
   "outputs": [],
   "source": [
    "get_knowledge = get_gen_knowledge_fn(webpage_indexer, 4)\n",
    "if use_u2d:\n",
    "    get_u2d_knowledge = get_gen_knowledge_fn(uptodate_indexer, 4)"
   ]
  },
  {
   "cell_type": "markdown",
   "metadata": {},
   "source": [
    "### Gen partial content"
   ]
  },
  {
   "cell_type": "markdown",
   "metadata": {},
   "source": [
    "#### Prompt template"
   ]
  },
  {
   "cell_type": "code",
   "execution_count": null,
   "metadata": {},
   "outputs": [],
   "source": [
    "partial_prompt = \"\"\"Bạn là một bác sĩ giàu kinh nghiệm trên lĩnh vực {topic}, dựa trên KIẾN THỨC được cung cấp bạn có khả năng lựa chọn những thông tin phù hợp nhất với chủ đề, bạn cũng có khả năng trình bày theo hướng cung cấp kiến thức chuyên sâu, rõ ràng\n",
    "\n",
    "\n",
    "BẮT BUỘC: Chỉ được phép cung cấp các thông tin có trong phần KIẾN THỨC, không sử dụng bất cứ thông tin khác .nếu trong phần KIẾN THỨC không chứa nội dung liên quan đến mục bạn đang viết hãy trả lời 'Tôi không biết'\n",
    "\n",
    "\n",
    "########\n",
    "KIẾN THỨC: {knowledge}\n",
    "\n",
    "########\n",
    "NHIỆM VỤ: hãy viết một đoạn {num_of_words} bằng tiếng Việt về '{headline}' {sub_headline_instruction} Bạn chỉ viết một mục trong bài viết lớn hơn, nên chỉ viết các thông tin liên quan đến '{headline}' không viết các thông tin khác\n",
    "\n",
    "TRẢ LỜI:\"\"\"\n",
    "\n",
    "h1_prompt = \"\"\"Bạn là một bác sĩ giàu kinh nghiệm trong lĩnh vực {topic}, dựa vào KIẾN THỨC được cung cấp bạn có thể trình bày lại ngắn gọn dễ hiểu\n",
    "\n",
    "BẮT BUỘC: nếu trong phần KIẾN THỨC không chứa nội dung liên quan đến mục bạn đang viết hãy trả lời 'Tôi không biết',\n",
    "Đây là vấn đề liên quan trực tiếp đến sức khỏe, chỉ được phép cung cấp các thông tin có trong phần KIẾN THỨC, không sử dụng bất cứ thông tin khác\n",
    "\n",
    "########\n",
    "KIẾN THỨC: {knowledge}\n",
    "\n",
    "NHIỆM VỤ: Hãy viết một đoạn giới thiệu ngắn từ 200 đến 300 từ về chủ đề {topic} trong đó nêu các phần cụ thể như nguyên nhân, cách điều trị\n",
    "\n",
    "TRẢ LỜI:\"\"\"\n",
    "\n",
    "\n",
    "rag_prompt = \"\"\"Bạn là một bác sĩ giàu kinh nghiệm trong lĩnh vực {topic}, dựa trên những KIẾN THỨC được cung cấp, hãy viết một đoạn khoảng 200 từ nêu một số điểm chính liên quan đến {headline}\n",
    "\n",
    "Không cung cấp các thông tin không có trong phần KIẾN THỨC\n",
    "Bạn chỉ viết một mục trong bài viết lớn hơn, nên chỉ viết các thông tin liên quan đến '{headline}' không viết các thông tin khác\n",
    "\n",
    "KIẾN THỨC {knowledge}\"\"\"\n",
    "\n",
    "\n",
    "u2d_enhanced_prompt = \"\"\"Bạn là một bác sĩ giàu kinh nghiệm trên {topic}, dựa trên KIẾN THỨC được cung cấp bạn có khả năng trình bày theo hướng cung cấp kiến thức chuyên sâu, rõ ràng\n",
    "\n",
    "BẮT BUỘC: Chỉ được phép cung cấp các thông tin có trong phần KIẾN THỨC, không sử dụng bất cứ thông tin khác .nếu trong phần KIẾN THỨC không chứa nội dung liên quan đến mục bạn đang viết hãy trả lời 'Tôi không biết'\n",
    "\n",
    "\n",
    "########\n",
    "KIẾN THỨC: {knowledge}\n",
    "\n",
    "########\n",
    "NHIỆM VỤ: Hãy viết lại đoạn sau thành đoạn văn khoảng {num_of_words} về '{headline}' bổ sung thêm các kiến thức liên quan trong phần KIẾN THỨC: {org_content}\n",
    "\n",
    "TRẢ LỜI:\"\"\"\n",
    "\n",
    "\n",
    "web_normalized_prompt = \"\"\"Bạn là một bác sĩ giàu kinh nghiệm trên {topic}, dựa trên KIẾN THỨC được cung cấp bạn có khả năng trình bày theo hướng cung cấp kiến thức chuyên sâu, rõ ràng\n",
    "\n",
    "BẮT BUỘC: Chỉ được phép cung cấp các thông tin có trong phần KIẾN THỨC, không sử dụng bất cứ thông tin khác .nếu trong phần KIẾN THỨC không chứa nội dung liên quan đến mục bạn đang viết hãy trả lời 'Tôi không biết'\n",
    "\n",
    "########\n",
    "KIẾN THỨC: {knowledge}\n",
    "\n",
    "########\n",
    "NHIỆM VỤ: Hãy viết lại đoạn sau thành đoạn văn khoảng 600 từ về '{headline}' sử dụng những từ ngữ dễ hiểu với người đọc thông thường sử dụng thông tin trong phần KIẾN THỨC: {org_content}\n",
    "\n",
    "TRẢ LỜI:\"\"\"\n",
    "\n",
    "combine_prompt = \"\"\"Bạn là một bác sĩ giàu kinh nghiệm trên {topic}, dựa trên KIẾN THỨC được cung cấp bạn có khả năng trình bày theo hướng cung cấp kiến thức chuyên sâu, rõ ràng\n",
    "\n",
    "BẮT BUỘC: Chỉ được phép cung cấp các thông tin có trong phần KIẾN THỨC, không sử dụng bất cứ thông tin khác .nếu trong phần KIẾN THỨC không chứa nội dung liên quan đến mục bạn đang viết hãy trả lời 'Tôi không biết'\n",
    "Nếu cả hai bài mẫu đều không đề cập đến {headline} hãy trả lời 'tôi không biết'\n",
    "\n",
    "\n",
    "Bài mẫu 1: {web_content}\n",
    "\n",
    "\n",
    "\n",
    "Bài mẫu 2: {u2d_content}\n",
    "\n",
    "########\n",
    "NHIỆM VỤ: Hãy kết hợp thông tin từ 2 bài mẫu và viết một đoạn {num_of_words} bằng tiếng Việt về '{headline}'. Bạn chỉ viết một mục trong bài viết lớn hơn, nên chỉ viết các thông tin liên quan đến '{headline}' không viết các thông tin khác\n",
    "\n",
    "TRẢ LỜI:\"\"\""
   ]
  },
  {
   "cell_type": "markdown",
   "metadata": {},
   "source": [
    "#### Helper functions"
   ]
  },
  {
   "cell_type": "code",
   "execution_count": null,
   "metadata": {},
   "outputs": [],
   "source": [
    "def get_num_of_words(n_of_outlines, max_n = 400, min_n = 150):\n",
    "    avg = int((3000/n_of_outlines)/50)*50\n",
    "    return max(min(avg, max_n), min_n)\n",
    "def get_better_knowledge(model, outline, topic):\n",
    "    first_knowledge = get_knowledge(outline=(outline,[]))\n",
    "    prompt = rag_prompt.format(topic=topic, knowledge=first_knowledge,\n",
    "                        headline = outline,\n",
    "                        sub_headline_instruction='')\n",
    "    # gen rag content\n",
    "    res = model.invoke(prompt)\n",
    "    rag_content = res.content\n",
    "\n",
    "    knowledge = get_knowledge(outline=(outline,[res.content]))\n",
    "    u2d_knowledge = get_u2d_knowledge(outline=(outline,[res.content]))\n",
    "\n",
    "    return (rag_content, knowledge, u2d_knowledge)\n",
    "\n",
    "def gen_content(model,topic,knowledge,headline,sub_headline,n_of_outlines):\n",
    "    prompt = partial_prompt.format(topic=topic, knowledge=knowledge,\n",
    "                        headline = headline,\n",
    "                        sub_headline_instruction=sub_headline,\n",
    "                        num_of_words=f'từ {get_num_of_words(n_of_outlines)} đến {get_num_of_words(n_of_outlines) + 100} từ')\n",
    "    return model.invoke(prompt).content\n",
    "\n",
    "def combine_content(model,topic,\n",
    "                   web_content,\n",
    "                   u2d_content,\n",
    "                   headline,\n",
    "                   n_of_outlines):\n",
    "    res = model.invoke(combine_prompt.format(topic=topic,\n",
    "                   web_content=web_content,\n",
    "                   u2d_content=u2d_content,\n",
    "                   headline = headline,\n",
    "                   num_of_words=f'từ {get_num_of_words(n_of_outlines)} đến {get_num_of_words(n_of_outlines) + 100} từ'))\n",
    "    return res.content"
   ]
  },
  {
   "cell_type": "markdown",
   "metadata": {},
   "source": [
    "#### Pipeline"
   ]
  },
  {
   "cell_type": "code",
   "execution_count": null,
   "metadata": {},
   "outputs": [
    {
     "name": "stdout",
     "output_type": "stream",
     "text": [
      "h3 - 3. Lạc nội mạc tử cung có hết sau mãn kinh không?\n"
     ]
    }
   ],
   "source": [
    "gen_outlines = org_gen_outline.split('\\n')\n",
    "tracking_results = []\n",
    "full_gen_content = []\n",
    "error_knowledge = []\n",
    "for o in gen_outlines:\n",
    "    sub_headline = ''\n",
    "    full_gen_content.append(o)\n",
    "    try:\n",
    "        rag_content, knowledge, u2d_knowledge = get_better_knowledge(model_gemini, o, main_topic)\n",
    "    except:\n",
    "        rag_content, knowledge, u2d_knowledge = get_better_knowledge(model, o, main_topic)\n",
    "\n",
    "\n",
    "    # gen content\n",
    "    prompt = partial_prompt.format(topic=main_topic, knowledge=knowledge,\n",
    "                            headline = o,\n",
    "                            sub_headline_instruction=sub_headline,\n",
    "                            num_of_words=f'từ {get_num_of_words(len(gen_outlines))} đến {get_num_of_words(len(gen_outlines)) + 100} từ')\n",
    "    web_content = gen_content(model,main_topic,knowledge,o,sub_headline, len(gen_outlines))\n",
    "    u2d_content = gen_content(model,main_topic,u2d_knowledge,o,sub_headline, len(gen_outlines))\n",
    "    combined_content = combine_content(model,main_topic,\n",
    "                    web_content,\n",
    "                    u2d_content,\n",
    "                    o,\n",
    "                    len(gen_outlines))\n",
    "    tracking_results.append({'outline':o,\n",
    "                             'rag_content':rag_content,\n",
    "                             'web_content': web_content,\n",
    "                             'u2d_content': u2d_content,\n",
    "                             'knowledge': knowledge,\n",
    "                             'u2d_knowledge': u2d_knowledge,\n",
    "                             'combined_content': combined_content\n",
    "                             })\n",
    "    if 'tôi không biết' in combined_content.lower():\n",
    "        print(o)\n",
    "        error_knowledge.append((o, knowledge))\n",
    "    else:\n",
    "        full_gen_content.append(combined_content)\n"
   ]
  },
  {
   "cell_type": "code",
   "execution_count": null,
   "metadata": {},
   "outputs": [],
   "source": [
    "# print(rag_content)\n",
    "# print(web_content)\n",
    "# print(u2d_content)\n",
    "# print(combined_content)"
   ]
  },
  {
   "cell_type": "markdown",
   "metadata": {},
   "source": [
    "#### Process end result"
   ]
  },
  {
   "cell_type": "code",
   "execution_count": null,
   "metadata": {},
   "outputs": [],
   "source": [
    "with open(f'test_output/{main_topic}_raw.txt','w',encoding=\"utf-8\") as f:\n",
    "    f.write('\\n'.join(full_gen_content))\n",
    "    # f.write('ok')"
   ]
  },
  {
   "cell_type": "code",
   "execution_count": null,
   "metadata": {},
   "outputs": [],
   "source": [
    "final_prompt=\"\"\"Bạn là một bác sĩ giàu kinh nghiệm trong lĩnh vực {topic}\n",
    "Dưới đây là một mẫu bài viết về {topic},\n",
    "\n",
    "Bài mẫu: {example}\n",
    "\n",
    "\n",
    "YÊU CẦU bạn hãy viết lại bài viết này thành một bài viết chuyên sâu khoảng 2000 từ theo hướng tối ưu chuẩn SEO, đảm bảo mật độ từ khóa chính {topic} tốt.\n",
    "Với mỗi ý hãy nêu kèm giải thích chọn cách trình bày như liệt kê từng dòng, so sánh hợp lý\n",
    "\n",
    "BẮT BUỘC: bạn không cung cấp bất cứ kiến thức nào khác ngoài bài mẫu\n",
    "\n",
    "TRẢ LỜI\"\"\""
   ]
  },
  {
   "cell_type": "code",
   "execution_count": null,
   "metadata": {},
   "outputs": [],
   "source": [
    "# final_res = model_gemini.invoke(final_prompt.format(topic=main_topic,\n",
    "#                                 outline=org_gen_outline,\n",
    "#                                 example = '\\n'.join(full_gen_content)))\n",
    "# with open(f'test_output/gemini_rewrite_{main_topic}.txt','w', encoding='utf-8') as f:\n",
    "#     f.write(final_res.content)"
   ]
  },
  {
   "cell_type": "code",
   "execution_count": null,
   "metadata": {},
   "outputs": [],
   "source": [
    "# final_res = model.invoke(final_prompt.format(topic=main_topic,\n",
    "#                                              outline=org_gen_outline,\n",
    "#                                              example = '\\n'.join(full_gen_content)))\n",
    "# with open(f'test_output/gpt_rewrite_{main_topic}.txt','w',encoding='utf-8') as f:\n",
    "#     f.write(final_res.content)"
   ]
  },
  {
   "cell_type": "code",
   "execution_count": null,
   "metadata": {},
   "outputs": [],
   "source": [
    "# Base.close_instance(delete_model=True)"
   ]
  },
  {
   "cell_type": "markdown",
   "metadata": {},
   "source": [
    "### Check"
   ]
  },
  {
   "cell_type": "code",
   "execution_count": null,
   "metadata": {},
   "outputs": [],
   "source": [
    "import re\n",
    "import os\n",
    "def no_accent_vietnamese(s):\n",
    "    s = re.sub(r'[àáạảãâầấậẩẫăằắặẳẵ]', 'a', s)\n",
    "    s = re.sub(r'[ÀÁẠẢÃĂẰẮẶẲẴÂẦẤẬẨẪ]', 'A', s)\n",
    "    s = re.sub(r'[èéẹẻẽêềếệểễ]', 'e', s)\n",
    "    s = re.sub(r'[ÈÉẸẺẼÊỀẾỆỂỄ]', 'E', s)\n",
    "    s = re.sub(r'[òóọỏõôồốộổỗơờớợởỡ]', 'o', s)\n",
    "    s = re.sub(r'[ÒÓỌỎÕÔỒỐỘỔỖƠỜỚỢỞỠ]', 'O', s)\n",
    "    s = re.sub(r'[ìíịỉĩ]', 'i', s)\n",
    "    s = re.sub(r'[ÌÍỊỈĨ]', 'I', s)\n",
    "    s = re.sub(r'[ùúụủũưừứựửữ]', 'u', s)\n",
    "    s = re.sub(r'[ƯỪỨỰỬỮÙÚỤỦŨ]', 'U', s)\n",
    "    s = re.sub(r'[ỳýỵỷỹ]', 'y', s)\n",
    "    s = re.sub(r'[ỲÝỴỶỸ]', 'Y', s)\n",
    "    s = re.sub(r'[Đ]', 'D', s)\n",
    "    s = re.sub(r'[đ]', 'd', s)\n",
    "    return s"
   ]
  },
  {
   "cell_type": "code",
   "execution_count": null,
   "metadata": {},
   "outputs": [],
   "source": [
    "# Create new folder\n",
    "folder_name = 'test_output/' + '-'.join(no_accent_vietnamese(main_topic).split(' '))\n",
    "if not os.path.exists(folder_name):\n",
    "    os.mkdir(folder_name)\n",
    "    os.mkdir(folder_name+'/corr')\n",
    "\n"
   ]
  },
  {
   "cell_type": "markdown",
   "metadata": {},
   "source": [
    "#### General check"
   ]
  },
  {
   "cell_type": "code",
   "execution_count": null,
   "metadata": {},
   "outputs": [],
   "source": [
    "if input('general check: ') != 'y':\n",
    "    raise ValueError('not to check')"
   ]
  },
  {
   "cell_type": "code",
   "execution_count": null,
   "metadata": {},
   "outputs": [],
   "source": [
    "with open('template.txt','r') as f:\n",
    "    template = f.read()"
   ]
  },
  {
   "cell_type": "code",
   "execution_count": null,
   "metadata": {},
   "outputs": [],
   "source": [
    "data = []\n",
    "data.append(template.format(_id = 0,\n",
    "                           cur_state='cur',\n",
    "                           outline=org_gen_outline.replace('\\n','<br>'),\n",
    "                           model_output='<br>'.join(full_gen_content).replace('\\n','<br>'),\n",
    "                           knowledge='',ud_output='',\n",
    "                           ud_knowledge='',\n",
    "                           web_output='',))\n",
    "for i, point in enumerate(tracking_results):\n",
    "    u2d_output = point['u2d_content']\n",
    "    web_output = point['web_content']\n",
    "    u2d_knowledge = point['u2d_knowledge']\n",
    "    knowledge = point['knowledge']\n",
    "    outline = point['outline']\n",
    "    model_output = point['combined_content']\n",
    "    _id = i + 1\n",
    "    cur_state = 'hidden'\n",
    "    temp = template.format(_id = _id,\n",
    "                        cur_state=cur_state,\n",
    "                        outline=outline,\n",
    "                        model_output=model_output,\n",
    "                        knowledge=knowledge.replace('\\n','<br>'),\n",
    "                        ud_output=u2d_output,\n",
    "                        web_output=web_output,\n",
    "                        ud_knowledge=u2d_knowledge.replace('\\n','<br>'))\n",
    "    data.append(temp)"
   ]
  },
  {
   "cell_type": "code",
   "execution_count": null,
   "metadata": {},
   "outputs": [
    {
     "data": {
      "text/plain": [
       "0"
      ]
     },
     "execution_count": 33,
     "metadata": {},
     "output_type": "execute_result"
    }
   ],
   "source": [
    "with open('index.txt','r') as f:\n",
    "    index_page = f.read()\n",
    "index_page = index_page.format(data='\\n'.join(data))\n",
    "\n",
    "\n",
    "with open(folder_name+'/index.html','w', encoding='utf-8') as f:\n",
    "    f.write(index_page)\n",
    "\n",
    "\n",
    "os.system(r'copy general_check\\scripts.js ' + '\\\\'.join(folder_name.split('/')) + '\\scripts.js')\n",
    "os.system(r'copy general_check\\style.css ' + '\\\\'.join(folder_name.split('/')) + '\\style.css')\n",
    "\n",
    "os.system(r'copy corr\\corr-scripts.js ' + '\\\\'.join(folder_name.split('/')) + '\\corr\\corr-scripts.js')\n",
    "os.system(r'copy corr\\corr-style.css ' + '\\\\'.join(folder_name.split('/')) + '\\corr\\corr-style.css')"
   ]
  },
  {
   "cell_type": "code",
   "execution_count": null,
   "metadata": {},
   "outputs": [
    {
     "data": {
      "text/plain": [
       "19.9"
      ]
     },
     "execution_count": 34,
     "metadata": {},
     "output_type": "execute_result"
    }
   ],
   "source": [
    "end = datetime.datetime.now()\n",
    "(end - start).seconds/60"
   ]
  },
  {
   "cell_type": "code",
   "execution_count": null,
   "metadata": {},
   "outputs": [],
   "source": [
    "# Base.close_instance(delete_model=True)"
   ]
  },
  {
   "cell_type": "markdown",
   "metadata": {},
   "source": [
    "#### Corr check"
   ]
  },
  {
   "cell_type": "code",
   "execution_count": null,
   "metadata": {},
   "outputs": [
    {
     "data": {
      "text/plain": [
       "37"
      ]
     },
     "execution_count": 36,
     "metadata": {},
     "output_type": "execute_result"
    }
   ],
   "source": [
    "len(full_gen_content)"
   ]
  },
  {
   "cell_type": "code",
   "execution_count": null,
   "metadata": {},
   "outputs": [],
   "source": [
    "if input('corr check: ') != 'y':\n",
    "    raise ValueError('not to check')"
   ]
  },
  {
   "cell_type": "code",
   "execution_count": null,
   "metadata": {},
   "outputs": [],
   "source": [
    "import numpy as np\n",
    "def get_sentence_vec_from_content(content):\n",
    "    for sentence in content.split('.'):\n",
    "        if len(sentence) < 10:\n",
    "            continue\n",
    "        vec = embed_model.get_embedding(sentence)\n",
    "        yield {'vec': np.array(vec),\n",
    "               'sentence': sentence.replace('\\n',' ') + '.'}\n",
    "def gen_global_knowledge_vec(global_knowledge: set[OutlineDocumentDBType]):\n",
    "    vecs = []\n",
    "    for knowledge_doc in global_knowledge:\n",
    "        knowledge = knowledge_doc.get_doc_content()\n",
    "        for res in get_sentence_vec_from_content(knowledge):\n",
    "            vecs.append(res)\n",
    "    return vecs\n",
    "\n",
    "def gen_frontend_knowledge(global_knowledge_vecs):\n",
    "    res = []\n",
    "    for i in range(len(global_knowledge_vecs)):\n",
    "        res.append(f'<span id=\"knowledge-{i}\">{global_knowledge_vecs[i][\"sentence\"]}</span>')\n",
    "    return '\\n'.join(res)"
   ]
  },
  {
   "cell_type": "code",
   "execution_count": null,
   "metadata": {},
   "outputs": [],
   "source": [
    "global_knowledge_vecs = gen_global_knowledge_vec(global_knowledge)\n",
    "def corr_scale(corr):\n",
    "    if corr > 0.9:\n",
    "        return 'veryHigh'\n",
    "    elif corr > 0.8:\n",
    "        return 'high'\n",
    "    elif corr > 0.7:\n",
    "        return 'med'\n",
    "    else:\n",
    "        return None\n",
    "\n",
    "def calculate_corr(sentence):\n",
    "    vec = embed_model.get_embedding(sentence)\n",
    "    res = {'veryHigh':[],\n",
    "            'high':[],\n",
    "            'med':[],\n",
    "            'low':[]}\n",
    "    for i,k in enumerate(global_knowledge_vecs):\n",
    "        corr = corr_scale(np.dot(k['vec'], vec))\n",
    "        if corr is not None:\n",
    "            res[corr].append(str(i))\n",
    "    return res"
   ]
  },
  {
   "cell_type": "code",
   "execution_count": null,
   "metadata": {},
   "outputs": [],
   "source": [
    "def process_frontend_gen_content(gen_content):\n",
    "    res = []\n",
    "    for sentence in gen_content.split('.'):\n",
    "        if len(sentence) < 10:\n",
    "            res.append(f'<span>{sentence}</span>')\n",
    "        else:\n",
    "            class_list = 'gen-content'\n",
    "            attr = ''\n",
    "            corr = calculate_corr(sentence)\n",
    "            if len(corr['veryHigh']) > 0:\n",
    "                class_list += ' veryHigh'\n",
    "                attr += f' veryHigh=\"{\",\".join(corr[\"veryHigh\"][:3])}\"'\n",
    "            if len(corr['high']) > 0:\n",
    "                class_list += ' high'\n",
    "                attr += f' high=\"{\",\".join(corr[\"high\"][:3])}\"'\n",
    "            if len(corr['med']) > 0:\n",
    "                class_list += ' med'\n",
    "                attr += f' med=\"{\",\".join(corr[\"med\"][:3])}\"'\n",
    "            res.append(f'<span class=\"{class_list}\" {attr}>{sentence}.</span>')\n",
    "    return ''.join(res)"
   ]
  },
  {
   "cell_type": "code",
   "execution_count": null,
   "metadata": {},
   "outputs": [],
   "source": [
    "with open('corr-template.txt','r') as f:\n",
    "    template = f.read()"
   ]
  },
  {
   "cell_type": "code",
   "execution_count": null,
   "metadata": {},
   "outputs": [],
   "source": [
    "template = template.format(gen_content = process_frontend_gen_content('\\n'.join(full_gen_content)).replace('\\n','<br>'),\n",
    "global_knowledge=gen_frontend_knowledge(global_knowledge_vecs))"
   ]
  },
  {
   "cell_type": "code",
   "execution_count": null,
   "metadata": {},
   "outputs": [],
   "source": [
    "with open('corr-index.txt','r') as f:\n",
    "    index_page = f.read()\n",
    "index_page = index_page.format(data=template)\n",
    "with open(folder_name+'/corr/index.html','w', encoding='utf-8') as f:\n",
    "    f.write(index_page)"
   ]
  },
  {
   "cell_type": "code",
   "execution_count": null,
   "metadata": {},
   "outputs": [],
   "source": [
    "Base.close_instance(delete_model=True)"
   ]
  },
  {
   "cell_type": "markdown",
   "metadata": {},
   "source": [
    "## Curator"
   ]
  }
 ],
 "metadata": {
  "kernelspec": {
   "display_name": "base",
   "language": "python",
   "name": "python3"
  },
  "language_info": {
   "codemirror_mode": {
    "name": "ipython",
    "version": 3
   },
   "file_extension": ".py",
   "mimetype": "text/x-python",
   "name": "python",
   "nbconvert_exporter": "python",
   "pygments_lexer": "ipython3",
   "version": "3.9.13"
  }
 },
 "nbformat": 4,
 "nbformat_minor": 2
}
