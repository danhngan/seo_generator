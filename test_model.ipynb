{
 "cells": [
  {
   "cell_type": "code",
   "execution_count": 1,
   "metadata": {},
   "outputs": [],
   "source": [
    "from big_seo.llm.implement.data_model import (InPageCollection,\n",
    "                                              Base,\n",
    "                                              QdrantConvertor)\n",
    "import uuid\n"
   ]
  },
  {
   "cell_type": "code",
   "execution_count": 2,
   "metadata": {},
   "outputs": [],
   "source": [
    "from big_seo.storage.qdrant import QdrantDB\n",
    "\n",
    "vec_db = QdrantDB(host='localhost',\n",
    "                port=6333)\n",
    "Base.init_instance(vec_db=vec_db)"
   ]
  },
  {
   "cell_type": "code",
   "execution_count": 6,
   "metadata": {},
   "outputs": [],
   "source": [
    "from big_seo.llm.implement.data_model import OutlineDocumentDBType\n",
    "a = OutlineDocumentDBType(header='head',\n",
    "                      content='this is test',\n",
    "                      doc_id=uuid.uuid4().bytes)"
   ]
  },
  {
   "cell_type": "code",
   "execution_count": 7,
   "metadata": {},
   "outputs": [],
   "source": [
    "b = InPageCollection(point_id = str(uuid.uuid4()),\n",
    "                 vector=[0.5]*1024,\n",
    "                 doc=a)"
   ]
  },
  {
   "cell_type": "markdown",
   "metadata": {},
   "source": [
    "## Test indexer"
   ]
  },
  {
   "cell_type": "markdown",
   "metadata": {},
   "source": [
    "### Global"
   ]
  },
  {
   "cell_type": "code",
   "execution_count": 4,
   "metadata": {},
   "outputs": [],
   "source": [
    "# from langchain_openai import ChatOpenAI\n",
    "# from langchain_google_genai import ChatGoogleGenerativeAI\n",
    "import uuid\n",
    "from functools import partial\n",
    "import datetime\n",
    "import uuid\n",
    "from big_seo.common.lang import DocumentLang"
   ]
  },
  {
   "cell_type": "code",
   "execution_count": 5,
   "metadata": {},
   "outputs": [],
   "source": [
    "start = datetime.datetime.now()\n",
    "def get_unique_doc(res):\n",
    "    for doc in res:\n",
    "        doc[1]['doc'].score = doc[0]\n",
    "    return set([doc[1]['doc'] for doc in res])"
   ]
  },
  {
   "cell_type": "code",
   "execution_count": 6,
   "metadata": {},
   "outputs": [],
   "source": [
    "from big_seo.crawler.api import Crawler, UpToDateCrawler\n",
    "from big_seo.llm.implement.indexer import WebPageIndexer, InPageIndexer, UpToDateInPageIndexer\n",
    "from big_seo.llm.implement.parser import WebPageParser, TranslationParser, UpToDateWebPageParser\n",
    "from big_seo.llm.implement.data_model import WebPageDocument, OutlineDocumentDBType, Base, UpToDateCollection\n",
    "from llama_index.embeddings.huggingface import HuggingFaceEmbedding\n",
    "from big_seo.llm.implement.embedding_model import LLamaIndexEmbedding\n",
    "from big_seo.llm.implement.parser import OutlineDocumentCreator\n",
    "\n",
    "\n",
    "from big_seo.translator.core import GeminiHealthcareTranslator\n",
    "\n",
    "\n",
    "from langchain_openai import ChatOpenAI\n",
    "from langchain_google_genai import (ChatGoogleGenerativeAI,\n",
    "                                    HarmBlockThreshold,\n",
    "                                    HarmCategory)\n",
    "\n",
    "hug_model = HuggingFaceEmbedding(model_name=\"BAAI/bge-m3\")\n",
    "embed_model = LLamaIndexEmbedding(hug_model)\n",
    "crawler = Crawler()"
   ]
  },
  {
   "cell_type": "markdown",
   "metadata": {},
   "source": [
    "### Gen outline"
   ]
  },
  {
   "cell_type": "code",
   "execution_count": 7,
   "metadata": {},
   "outputs": [],
   "source": [
    "outline_doc_creator = OutlineDocumentCreator()\n",
    "outline_parser = WebPageParser(doc_creator=outline_doc_creator)\n",
    "\n",
    "model = ChatOpenAI(name='gpt-4-turbo-preview',temperature=0.5)\n",
    "model_gemini = ChatGoogleGenerativeAI(model=\"gemini-pro\",temperature=0.5, safety_settings={\n",
    "            HarmCategory.HARM_CATEGORY_DANGEROUS_CONTENT: HarmBlockThreshold.BLOCK_NONE,\n",
    "        })"
   ]
  },
  {
   "cell_type": "code",
   "execution_count": 18,
   "metadata": {},
   "outputs": [],
   "source": [
    "main_topic = 'nang naboth cổ tử cung'\n",
    "main_topic_en = 'nabothian cyst'\n",
    "use_u2d = True\n",
    "webpages = crawler.search(main_topic,n=5)\n",
    "outlines = []\n",
    "for page in webpages:\n",
    "    webpage_doc = WebPageDocument(page)\n",
    "    outline_parser.feed(webpage_doc)\n",
    "    outlines.append(outline_parser.parse(in_doc=True))"
   ]
  },
  {
   "cell_type": "code",
   "execution_count": 9,
   "metadata": {},
   "outputs": [],
   "source": [
    "# from bs4 import BeautifulSoup"
   ]
  },
  {
   "cell_type": "code",
   "execution_count": 19,
   "metadata": {},
   "outputs": [],
   "source": [
    "outlines_headers = ['\\n'.join(map(lambda x: x[0].replace('\\n',''),o)) for o in outlines if len(o) > 0]"
   ]
  },
  {
   "cell_type": "code",
   "execution_count": 20,
   "metadata": {},
   "outputs": [],
   "source": [
    "gen_outline_prompt = \"\"\"Bạn là một bác sĩ đa khoa, bạn có khả năng tạo những dàn ý bài viết đầy đủ, chi tiết cho các chủ đề liên quan y học. Khi tạo dàn ý, bạn cần dựa trên các dàn ý mẫu, các dàn ý mẫu được viết theo dạng <html tag> - <nội dung> , các dàn ý mẫu được phân tách nhau bằng ----, trong các dàn ý mẫu có thể có những mục không liên quan trực tiếp đến bài như 'Bài viết liên quan' 'Liên hệ' hãy bỏ qua các mục này. Nếu các dàn ý mẫu không chứa nội dung liên quan đến chủ đề bài viết, trả lời 'Tôi không biết'. Trong trường hợp các dàn ý mẫu có đề cập đến mục gây chú ý mạnh cho bệnh nhân khiến bệnh nhân muốn đến bệnh viện như 'sự nguy hiểm của bệnh' 'khi nào cần đến bệnh viện' thì hãy thêm vào dàn ý\n",
    "FORMAT: Dàn ý đầu ra cần tuân thủ chặt chẽ theo format. Mỗi ý một dòng. Không trả lời những thông tin không liên quan đến dàn ý.\n",
    "\n",
    "DÀN Ý MẪU: {example}\n",
    "\n",
    "Hãy nêu dàn ý cho bài viết về {topic}\n",
    "Trả lời:\"\"\"\n",
    "\n",
    "# gen_outline_prompt = \"\"\"Bạn là một bác sĩ đa khoa, bạn có khả năng tạo những dàn ý bài viết đầy đủ, dễ hiểu cho các chủ đề liên quan y học. Khi tạo dàn ý, bạn cần dựa trên các dàn ý mẫu, trong các dàn ý mẫu có thể có những mục không liên quan trực tiếp đến bài như 'Bài viết liên quan' 'Liên hệ' hãy bỏ qua các mục này. Nếu các dàn ý mẫu không chứa nội dung liên quan đến chủ đề bài viết, trả lời 'Tôi không biết'. Trong trường hợp các dàn ý mẫu có đề cập đến mục gây chú ý mạnh cho bệnh nhân khiến bệnh nhân muốn đến bệnh viện như 'sự nguy hiểm của bệnh' 'khi nào cần đến bệnh viện' thì hãy thêm vào dàn ý\n",
    "\n",
    "# FORMAT: Dàn ý đầu ra cần tuân thủ chặt chẽ theo format. Mỗi ý một dòng. Không trả lời những thông tin không liên quan đến dàn ý.\n",
    "\n",
    "# DÀN Ý MẪU: {example}\n",
    "\n",
    "# Hãy nêu dàn ý cho bài viết về {topic}\n",
    "# Trả lời:\"\"\""
   ]
  },
  {
   "cell_type": "code",
   "execution_count": 21,
   "metadata": {},
   "outputs": [],
   "source": [
    "model_res = model.invoke(gen_outline_prompt.format(example='\\n----\\n'.join(outlines_headers),topic=main_topic))\n",
    "model_gemini_res = model.invoke(gen_outline_prompt.format(example='\\n----\\n'.join(outlines_headers),topic=main_topic))"
   ]
  },
  {
   "cell_type": "code",
   "execution_count": 22,
   "metadata": {},
   "outputs": [
    {
     "name": "stdout",
     "output_type": "stream",
     "text": [
      "h1 - Sự hình thành nang naboth cổ tử cung - nang này có nguy hiểm?\n",
      "h2 - 1. Nang naboth cổ tử cung là gì?\n",
      "h2 - 2. Nang naboth cổ tử cung có nguy hiểm\n",
      "h2 - 3. Điều trị nang naboth cổ tử cung\n",
      "---\n",
      "h1 - Liệu nang naboth cổ tử cung có phải bệnh lý nguy hiểm? Nguyên nhân và cách điều trị\n",
      "h2 - Nang naboth là gì?\n",
      "h2 - Dấu hiệu nhận biết nang naboth\n",
      "h2 - Mắc nang naboth cổ tử cung do đâu?\n",
      "h2 - U nang naboth ở cổ tử cung có nguy hiểm không?\n",
      "h3 - Dùng thuốc\n",
      "h3 - Chọc hút dịch\n",
      "h3 - Đốt nang naboth\n",
      "---\n",
      "h1 - Nang naboth cổ tử cung: Khi nào cần điều trị?\n",
      "h2 - 1. Nang naboth là gì?\n",
      "h2 - 2. Nang naboth cổ tử cung có nguy hiểm không?\n",
      "h2 - 3. Điều trị nang naboth\n",
      "---\n",
      "h1 - Nang naboth cổ tử cung 8mm có nguy hiểm không?\n",
      "h2 - Nang naboth cổ tử cung 8mm là bệnh gì?\n",
      "h2 - Nguyên nhân gây nang naboth cổ tử cung 8mm\n",
      "h2 - Nang naboth cổ tử cung 8mm có nguy hiểm không?\n",
      "h2 - Điều trị nang naboth cổ tử cung 8mm như thế nào?\n",
      "h3 - Điều trị nội khoa\n",
      "h3 - Điều trị ngoại khoa\n",
      "---\n",
      "h1 - Bệnh nang naboth cổ tử cung là gì?\n",
      "h2 - 1. Bệnh nang naboth cổ tử cung là gì?\n",
      "h2 - 2. Điều gì gây ra bệnh nang naboth cổ tử cung?\n",
      "h2 - 3. Triệu chứng của bệnh nang naboth cổ tử cung\n",
      "h2 - 4. Bệnh nang naboth cổ tử cung gây ra biến chứng gì?\n",
      "h2 - 5. Tổng hợp phương pháp điều trị bệnh nang naboth cổ tử cung\n",
      "h3 - 5.1. Điều trị nội khoa\n",
      "h3 - 5.2. Chọc hút nang\n",
      "h3 - 5.3. Đốt nang naboth cổ tử cung\n"
     ]
    }
   ],
   "source": [
    "print('\\n---\\n'.join(outlines_headers))"
   ]
  },
  {
   "cell_type": "code",
   "execution_count": null,
   "metadata": {},
   "outputs": [],
   "source": [
    "org_gen_outline = model_res.content\n",
    "if len(model_gemini_res.content) < 1000:\n",
    "    print(model_gemini_res.content)"
   ]
  },
  {
   "cell_type": "code",
   "execution_count": null,
   "metadata": {},
   "outputs": [],
   "source": [
    "print(org_gen_outline)\n",
    "if input() != 'y':\n",
    "    raise ValueError('error')"
   ]
  },
  {
   "cell_type": "markdown",
   "metadata": {},
   "source": [
    "### Inpage"
   ]
  },
  {
   "cell_type": "code",
   "execution_count": null,
   "metadata": {},
   "outputs": [],
   "source": [
    "inpage_parser = WebPageParser(doc_creator=outline_doc_creator)"
   ]
  },
  {
   "cell_type": "code",
   "execution_count": null,
   "metadata": {},
   "outputs": [],
   "source": [
    "from big_seo.storage.qdrant import QdrantDB\n",
    "\n",
    "vec_db = QdrantDB(host='localhost',\n",
    "                port=6333)\n",
    "Base.init_instance(vec_db=vec_db)"
   ]
  },
  {
   "cell_type": "code",
   "execution_count": null,
   "metadata": {},
   "outputs": [],
   "source": [
    "inpage_parser.parse = partial(inpage_parser.parse, nested=False, in_doc=True,concat_to='h2')\n",
    "webpage_indexer = InPageIndexer(embedding_model=embed_model,\n",
    "              parser=inpage_parser,\n",
    "              Base_model=Base)\n",
    "for page in webpages:\n",
    "    page_doc = WebPageDocument(page)\n",
    "    webpage_indexer.index(page_doc)"
   ]
  },
  {
   "cell_type": "code",
   "execution_count": null,
   "metadata": {},
   "outputs": [],
   "source": [
    "# up 2 date\n",
    "u2d_crawler = UpToDateCrawler()\n",
    "u2d_parser = UpToDateWebPageParser(doc_creator=outline_doc_creator)\n",
    "u2d_parser.parse = partial(u2d_parser.parse,nested=False, in_doc=True,concat_to='h2')\n",
    "\n",
    "\n",
    "translator = GeminiHealthcareTranslator(model='gemini-pro')\n",
    "translator_parser = TranslationParser(u2d_parser,translator,\n",
    "                               input_lang=DocumentLang.EN,\n",
    "                               target_lang=DocumentLang.VI)\n",
    "\n",
    "\n",
    "translator.translate = partial(translator.translate,other_instruction=f' liên quan đến {main_topic}')\n",
    "u2d_webpages = u2d_crawler.search(main_topic_en,n=2)\n",
    "uptodate_indexer = UpToDateInPageIndexer(embedding_model=embed_model,\n",
    "              parser=translator_parser,\n",
    "              Base_model=Base)\n",
    "if use_u2d:\n",
    "    for page in u2d_webpages:\n",
    "        page_doc = WebPageDocument(page)\n",
    "        uptodate_indexer.index(page_doc)"
   ]
  },
  {
   "cell_type": "code",
   "execution_count": null,
   "metadata": {},
   "outputs": [],
   "source": [
    "global_knowledge = set()\n",
    "def get_gen_knowledge_fn(webpage_indexer, limit):\n",
    "    def sub(outline):\n",
    "        prompts = [outline[0]]\n",
    "        prompts.extend(outline[1])\n",
    "        docs = set()\n",
    "        for prompt in prompts:\n",
    "            retrieved_docs = webpage_indexer.search(prompt)\n",
    "            docs = docs.union(get_unique_doc(retrieved_docs))\n",
    "            global_knowledge.update(docs)\n",
    "            # print(len(docs))\n",
    "        # return sorted(docs, key=lambda x: x.score, reverse=True)[:5]\n",
    "        return '\\n\\n----\\n\\n'.join(map(lambda x: x.get_doc_meta()['header'] +'\\n'+ x.get_doc_content(),sorted(docs, key=lambda x: x.score, reverse=True)[:limit]))\n",
    "    return sub"
   ]
  },
  {
   "cell_type": "code",
   "execution_count": null,
   "metadata": {},
   "outputs": [],
   "source": [
    "get_knowledge = get_gen_knowledge_fn(webpage_indexer, 4)\n",
    "if use_u2d:\n",
    "    get_u2d_knowledge = get_gen_knowledge_fn(uptodate_indexer, 4)"
   ]
  },
  {
   "cell_type": "markdown",
   "metadata": {},
   "source": [
    "### Gen partial content"
   ]
  },
  {
   "cell_type": "markdown",
   "metadata": {},
   "source": [
    "#### Prompt template"
   ]
  },
  {
   "cell_type": "code",
   "execution_count": null,
   "metadata": {},
   "outputs": [],
   "source": [
    "partial_prompt = \"\"\"Bạn là một bác sĩ giàu kinh nghiệm trên lĩnh vực {topic}, dựa trên KIẾN THỨC được cung cấp bạn có khả năng lựa chọn những thông tin phù hợp nhất với chủ đề, bạn cũng có khả năng trình bày theo hướng cung cấp kiến thức chuyên sâu, rõ ràng\n",
    "\n",
    "\n",
    "BẮT BUỘC: Đây là vấn đề liên quan trực tiếp đến sức khỏe, chỉ được phép cung cấp các thông tin có trong phần KIẾN THỨC, không sử dụng bất cứ thông tin khác\n",
    "nếu trong phần KIẾN THỨC không chứa nội dung liên quan đến mục bạn đang viết hãy trả lời 'Tôi không biết',\n",
    "\n",
    "\n",
    "########\n",
    "KIẾN THỨC: {knowledge}\n",
    "\n",
    "########\n",
    "NHIỆM VỤ: hãy viết một đoạn {num_of_words} về '{headline}' {sub_headline_instruction} Bạn chỉ viết một mục trong bài viết lớn hơn, nên chỉ viết các thông tin liên quan đến '{headline}' không viết các thông tin khác\n",
    "\n",
    "TRẢ LỜI:\"\"\"\n",
    "\n",
    "h1_prompt = \"\"\"Bạn là một bác sĩ giàu kinh nghiệm trong lĩnh vực {topic}, dựa vào KIẾN THỨC được cung cấp bạn có thể trình bày lại ngắn gọn dễ hiểu\n",
    "\n",
    "BẮT BUỘC: nếu trong phần KIẾN THỨC không chứa nội dung liên quan đến mục bạn đang viết hãy trả lời 'Tôi không biết',\n",
    "Đây là vấn đề liên quan trực tiếp đến sức khỏe, chỉ được phép cung cấp các thông tin có trong phần KIẾN THỨC, không sử dụng bất cứ thông tin khác\n",
    "\n",
    "########\n",
    "KIẾN THỨC: {knowledge}\n",
    "\n",
    "NHIỆM VỤ: Hãy viết một đoạn giới thiệu ngắn từ 200 đến 300 từ về chủ đề {topic} trong đó nêu các phần cụ thể như nguyên nhân, cách điều trị\n",
    "\n",
    "TRẢ LỜI:\"\"\"\n",
    "\n",
    "\n",
    "rag_prompt = \"\"\"Bạn là một bác sĩ giàu kinh nghiệm trong lĩnh vực {topic}, dựa trên những KIẾN THỨC được cung cấp, hãy viết một đoạn khoảng 200 từ nêu một số điểm chính liên quan đến {headline}\n",
    "\n",
    "Không cung cấp các thông tin không có trong phần KIẾN THỨC\n",
    "Bạn chỉ viết một mục trong bài viết lớn hơn, nên chỉ viết các thông tin liên quan đến '{headline}' không viết các thông tin khác\n",
    "\n",
    "KIẾN THỨC {knowledge}\"\"\"\n",
    "\n",
    "\n",
    "u2d_enhanced_prompt = \"\"\"Bạn là một bác sĩ giàu kinh nghiệm trên {topic}, dựa trên KIẾN THỨC được cung cấp bạn có khả năng trình bày theo hướng cung cấp kiến thức chuyên sâu, rõ ràng\n",
    "\n",
    "BẮT BUỘC: nếu trong phần KIẾN THỨC không chứa nội dung liên quan đến mục bạn đang viết hãy trả lời 'Tôi không biết',\n",
    "Đây là vấn đề liên quan trực tiếp đến sức khỏe, chỉ được phép cung cấp các thông tin có trong phần KIẾN THỨC, không sử dụng bất cứ thông tin khác\n",
    "\n",
    "########\n",
    "KIẾN THỨC: {knowledge}\n",
    "\n",
    "########\n",
    "NHIỆM VỤ: Hãy viết lại đoạn sau thành đoạn văn khoảng {num_of_words} về '{headline}' bổ sung thêm các kiến thức liên quan trong phần KIẾN THỨC: {org_content}\n",
    "\n",
    "TRẢ LỜI:\"\"\"\n",
    "\n",
    "\n",
    "web_normalized_prompt = \"\"\"Bạn là một bác sĩ giàu kinh nghiệm trên {topic}, dựa trên KIẾN THỨC được cung cấp bạn có khả năng trình bày theo hướng cung cấp kiến thức chuyên sâu, rõ ràng\n",
    "\n",
    "BẮT BUỘC: nếu trong phần KIẾN THỨC không chứa nội dung liên quan đến mục bạn đang viết hãy trả lời 'Tôi không biết',\n",
    "Đây là vấn đề liên quan trực tiếp đến sức khỏe, chỉ được phép cung cấp các thông tin có trong phần KIẾN THỨC, không sử dụng bất cứ thông tin khác\n",
    "\n",
    "########\n",
    "KIẾN THỨC: {knowledge}\n",
    "\n",
    "########\n",
    "NHIỆM VỤ: Hãy viết lại đoạn sau thành đoạn văn khoảng 600 từ về '{headline}' sử dụng những từ ngữ dễ hiểu với người đọc thông thường sử dụng thông tin trong phần KIẾN THỨC: {org_content}\n",
    "\n",
    "TRẢ LỜI:\"\"\"\n",
    "\n",
    "combine_prompt = \"\"\"Bạn là một bác sĩ giàu kinh nghiệm trên {topic}, dựa trên KIẾN THỨC được cung cấp bạn có khả năng trình bày theo hướng cung cấp kiến thức chuyên sâu, rõ ràng\n",
    "\n",
    "BẮT BUỘC: KHÔNG cung cấp các thông tin không có trong các bài mẫu\n",
    "Đây là vấn đề liên quan trực tiếp đến sức khỏe, bạn tuyệt đối chỉ cung cấp các thông tin có trong phần KIẾN THỨC, không sử dụng bất cứ thông tin khác\n",
    "Nếu cả hai bài mẫu đều không đề cập đến {headline} hãy trả lời 'tôi không biết'\n",
    "\n",
    "\n",
    "Bài mẫu 1: {web_content}\n",
    "\n",
    "\n",
    "\n",
    "Bài mẫu 2: {u2d_content}\n",
    "\n",
    "########\n",
    "NHIỆM VỤ: Hãy kết hợp thông tin từ 2 bài mẫu và viết lại đoạn sau thành đoạn văn khoảng 600 từ về '{headline}'. Bạn chỉ viết một mục trong bài viết lớn hơn, nên chỉ viết các thông tin liên quan đến '{headline}' không viết các thông tin khác\n",
    "\n",
    "TRẢ LỜI:\"\"\""
   ]
  },
  {
   "cell_type": "markdown",
   "metadata": {},
   "source": [
    "#### Helper functions"
   ]
  },
  {
   "cell_type": "code",
   "execution_count": null,
   "metadata": {},
   "outputs": [],
   "source": [
    "def get_num_of_words(n_of_outlines, max_n = 400, min_n = 150):\n",
    "    avg = int((3000/n_of_outlines)/50)*50\n",
    "    return max(min(avg, max_n), min_n)\n",
    "def get_better_knowledge(model, outline, topic):\n",
    "    first_knowledge = get_knowledge(outline=(outline,[]))\n",
    "    prompt = rag_prompt.format(topic=topic, knowledge=first_knowledge,\n",
    "                        headline = outline,\n",
    "                        sub_headline_instruction='')\n",
    "    # gen rag content\n",
    "    res = model.invoke(prompt)\n",
    "    rag_content = res.content\n",
    "\n",
    "    knowledge = get_knowledge(outline=(outline,[res.content]))\n",
    "    u2d_knowledge = get_u2d_knowledge(outline=(outline,[res.content]))\n",
    "\n",
    "    return (rag_content, knowledge, u2d_knowledge)\n",
    "\n",
    "def gen_content(model,topic,knowledge,headline,sub_headline,n_of_outlines):\n",
    "    prompt = partial_prompt.format(topic=topic, knowledge=knowledge,\n",
    "                        headline = headline,\n",
    "                        sub_headline_instruction=sub_headline,\n",
    "                        num_of_words=f'từ {get_num_of_words(n_of_outlines)} đến {get_num_of_words(n_of_outlines) + 100} từ')\n",
    "    return model.invoke(prompt).content\n",
    "\n",
    "def combine_content(model,topic,\n",
    "                   web_content,\n",
    "                   u2d_content,\n",
    "                   headline):\n",
    "    res = model.invoke(combine_prompt.format(topic=topic,\n",
    "                   web_content=web_content,\n",
    "                   u2d_content=u2d_content,\n",
    "                   headline = headline))\n",
    "    return res.content"
   ]
  },
  {
   "cell_type": "markdown",
   "metadata": {},
   "source": [
    "#### Pipeline"
   ]
  },
  {
   "cell_type": "code",
   "execution_count": null,
   "metadata": {},
   "outputs": [],
   "source": [
    "gen_outlines = org_gen_outline.split('\\n')\n",
    "tracking_results = []\n",
    "full_gen_content = []\n",
    "error_knowledge = []\n",
    "for o in gen_outlines:\n",
    "    sub_headline = ''\n",
    "    full_gen_content.append(o)\n",
    "    try:\n",
    "        rag_content, knowledge, u2d_knowledge = get_better_knowledge(model_gemini, o, main_topic)\n",
    "    except:\n",
    "        rag_content, knowledge, u2d_knowledge = get_better_knowledge(model, o, main_topic)\n",
    "\n",
    "\n",
    "    # gen content\n",
    "    prompt = partial_prompt.format(topic=main_topic, knowledge=knowledge,\n",
    "                            headline = o,\n",
    "                            sub_headline_instruction=sub_headline,\n",
    "                            num_of_words=f'từ {get_num_of_words(len(gen_outlines))} đến {get_num_of_words(len(gen_outlines)) + 100} từ')\n",
    "    web_content = gen_content(model,main_topic,knowledge,o,sub_headline, len(gen_outlines))\n",
    "    u2d_content = gen_content(model,main_topic,u2d_knowledge,o,sub_headline, len(gen_outlines))\n",
    "    combined_content = combine_content(model,main_topic,\n",
    "                    web_content,\n",
    "                    u2d_content,\n",
    "                    o)\n",
    "    tracking_results.append({'outline':o,\n",
    "                             'rag_content':rag_content,\n",
    "                             'web_content': web_content,\n",
    "                             'u2d_content': u2d_content,\n",
    "                             'knowledge': knowledge,\n",
    "                             'u2d_knowledge': u2d_knowledge,\n",
    "                             'combined_content': combined_content\n",
    "                             })\n",
    "    if 'tôi không biết' in combined_content.lower():\n",
    "        print(o)\n",
    "        error_knowledge.append((o, knowledge))\n",
    "    else:\n",
    "        full_gen_content.append(combined_content)\n"
   ]
  },
  {
   "cell_type": "code",
   "execution_count": null,
   "metadata": {},
   "outputs": [],
   "source": [
    "# print(rag_content)\n",
    "# print(web_content)\n",
    "# print(u2d_content)\n",
    "# print(combined_content)"
   ]
  },
  {
   "cell_type": "markdown",
   "metadata": {},
   "source": [
    "#### Process end result"
   ]
  },
  {
   "cell_type": "code",
   "execution_count": null,
   "metadata": {},
   "outputs": [],
   "source": [
    "with open(f'test_output/{main_topic}_raw.txt','w',encoding=\"utf-8\") as f:\n",
    "    f.write('\\n'.join(full_gen_content))\n",
    "    # f.write('ok')"
   ]
  },
  {
   "cell_type": "code",
   "execution_count": null,
   "metadata": {},
   "outputs": [],
   "source": [
    "final_prompt=\"\"\"Bạn là một bác sĩ giàu kinh nghiệm trong lĩnh vực {topic}\n",
    "Dưới đây là một mẫu bài viết về {topic},\n",
    "\n",
    "Bài mẫu: {example}\n",
    "\n",
    "\n",
    "YÊU CẦU bạn hãy viết lại bài viết này thành một bài viết chuyên sâu khoảng 2000 từ theo hướng tối ưu chuẩn SEO, đảm bảo mật độ từ khóa chính {topic} tốt.\n",
    "Với mỗi ý hãy nêu kèm giải thích chọn cách trình bày như liệt kê từng dòng, so sánh hợp lý\n",
    "\n",
    "BẮT BUỘC: bạn không cung cấp bất cứ kiến thức nào khác ngoài bài mẫu\n",
    "\n",
    "TRẢ LỜI\"\"\""
   ]
  },
  {
   "cell_type": "code",
   "execution_count": null,
   "metadata": {},
   "outputs": [],
   "source": [
    "# final_res = model_gemini.invoke(final_prompt.format(topic=main_topic,\n",
    "#                                 outline=org_gen_outline,\n",
    "#                                 example = '\\n'.join(full_gen_content)))\n",
    "# with open(f'test_output/gemini_rewrite_{main_topic}.txt','w', encoding='utf-8') as f:\n",
    "#     f.write(final_res.content)"
   ]
  },
  {
   "cell_type": "code",
   "execution_count": null,
   "metadata": {},
   "outputs": [],
   "source": [
    "# final_res = model.invoke(final_prompt.format(topic=main_topic,\n",
    "#                                              outline=org_gen_outline,\n",
    "#                                              example = '\\n'.join(full_gen_content)))\n",
    "# with open(f'test_output/gpt_rewrite_{main_topic}.txt','w',encoding='utf-8') as f:\n",
    "#     f.write(final_res.content)"
   ]
  },
  {
   "cell_type": "code",
   "execution_count": null,
   "metadata": {},
   "outputs": [],
   "source": [
    "# Base.close_instance(delete_model=True)"
   ]
  },
  {
   "cell_type": "markdown",
   "metadata": {},
   "source": [
    "### Check"
   ]
  },
  {
   "cell_type": "markdown",
   "metadata": {},
   "source": [
    "#### General check"
   ]
  },
  {
   "cell_type": "code",
   "execution_count": null,
   "metadata": {},
   "outputs": [],
   "source": [
    "if input('general check: ') != 'y':\n",
    "    raise ValueError('not to check')"
   ]
  },
  {
   "cell_type": "code",
   "execution_count": null,
   "metadata": {},
   "outputs": [],
   "source": [
    "with open('template.txt','r') as f:\n",
    "    template = f.read()"
   ]
  },
  {
   "cell_type": "code",
   "execution_count": null,
   "metadata": {},
   "outputs": [],
   "source": [
    "data = []\n",
    "data.append(template.format(_id = 0,\n",
    "                           cur_state='cur',\n",
    "                           outline=org_gen_outline.replace('\\n','<br>'),\n",
    "                           model_output='<br>'.join(full_gen_content).replace('\\n','<br>'),\n",
    "                           knowledge='',ud_output='',\n",
    "                           ud_knowledge='',\n",
    "                           web_output='',))\n",
    "for i, point in enumerate(tracking_results):\n",
    "    u2d_output = point['u2d_content']\n",
    "    web_output = point['web_content']\n",
    "    u2d_knowledge = point['u2d_knowledge']\n",
    "    knowledge = point['knowledge']\n",
    "    outline = point['outline']\n",
    "    model_output = point['combined_content']\n",
    "    _id = i + 1\n",
    "    cur_state = 'hidden'\n",
    "    temp = template.format(_id = _id,\n",
    "                        cur_state=cur_state,\n",
    "                        outline=outline,\n",
    "                        model_output=model_output,\n",
    "                        knowledge=knowledge.replace('\\n','<br>'),\n",
    "                        ud_output=u2d_output,\n",
    "                        web_output=web_output,\n",
    "                        ud_knowledge=u2d_knowledge.replace('\\n','<br>'))\n",
    "    data.append(temp)"
   ]
  },
  {
   "cell_type": "code",
   "execution_count": null,
   "metadata": {},
   "outputs": [],
   "source": [
    "with open('index.txt','r') as f:\n",
    "    index_page = f.read()\n",
    "index_page = index_page.format(data='\\n'.join(data))\n",
    "with open('index.html','w', encoding='utf-8') as f:\n",
    "    f.write(index_page)"
   ]
  },
  {
   "cell_type": "code",
   "execution_count": null,
   "metadata": {},
   "outputs": [
    {
     "data": {
      "text/plain": [
       "22.766666666666666"
      ]
     },
     "execution_count": 32,
     "metadata": {},
     "output_type": "execute_result"
    }
   ],
   "source": [
    "end = datetime.datetime.now()\n",
    "(end - start).seconds/60"
   ]
  },
  {
   "cell_type": "code",
   "execution_count": null,
   "metadata": {},
   "outputs": [],
   "source": [
    "# Base.close_instance(delete_model=True)"
   ]
  },
  {
   "cell_type": "markdown",
   "metadata": {},
   "source": [
    "#### Corr check"
   ]
  },
  {
   "cell_type": "code",
   "execution_count": null,
   "metadata": {},
   "outputs": [
    {
     "data": {
      "text/plain": [
       "16"
      ]
     },
     "execution_count": 35,
     "metadata": {},
     "output_type": "execute_result"
    }
   ],
   "source": [
    "len(full_gen_content)"
   ]
  },
  {
   "cell_type": "code",
   "execution_count": null,
   "metadata": {},
   "outputs": [],
   "source": [
    "if input('corr check: ') != 'y':\n",
    "    raise ValueError('not to check')"
   ]
  },
  {
   "cell_type": "code",
   "execution_count": null,
   "metadata": {},
   "outputs": [],
   "source": [
    "import numpy as np\n",
    "def get_sentence_vec_from_content(content):\n",
    "    for sentence in content.split('.'):\n",
    "        if len(sentence) < 10:\n",
    "            continue\n",
    "        vec = embed_model.get_embedding(sentence)\n",
    "        yield {'vec': np.array(vec),\n",
    "               'sentence': sentence.replace('\\n',' ') + '.'}\n",
    "def gen_global_knowledge_vec(global_knowledge: set[OutlineDocumentDBType]):\n",
    "    vecs = []\n",
    "    for knowledge_doc in global_knowledge:\n",
    "        knowledge = knowledge_doc.get_doc_content()\n",
    "        for res in get_sentence_vec_from_content(knowledge):\n",
    "            vecs.append(res)\n",
    "    return vecs\n",
    "\n",
    "def gen_frontend_knowledge(global_knowledge_vecs):\n",
    "    res = []\n",
    "    for i in range(len(global_knowledge_vecs)):\n",
    "        res.append(f'<span id=\"knowledge-{i}\">{global_knowledge_vecs[i][\"sentence\"]}</span>')\n",
    "    return '\\n'.join(res)"
   ]
  },
  {
   "cell_type": "code",
   "execution_count": null,
   "metadata": {},
   "outputs": [],
   "source": [
    "global_knowledge_vecs = gen_global_knowledge_vec(global_knowledge)\n",
    "def corr_scale(corr):\n",
    "    if corr > 0.9:\n",
    "        return 'veryHigh'\n",
    "    elif corr > 0.8:\n",
    "        return 'high'\n",
    "    elif corr > 0.7:\n",
    "        return 'med'\n",
    "    else:\n",
    "        return None\n",
    "\n",
    "def calculate_corr(sentence):\n",
    "    vec = embed_model.get_embedding(sentence)\n",
    "    res = {'veryHigh':[],\n",
    "            'high':[],\n",
    "            'med':[],\n",
    "            'low':[]}\n",
    "    for i,k in enumerate(global_knowledge_vecs):\n",
    "        corr = corr_scale(np.dot(k['vec'], vec))\n",
    "        if corr is not None:\n",
    "            res[corr].append(str(i))\n",
    "    return res"
   ]
  },
  {
   "cell_type": "code",
   "execution_count": null,
   "metadata": {},
   "outputs": [],
   "source": [
    "def process_frontend_gen_content(gen_content):\n",
    "    res = []\n",
    "    for sentence in gen_content.split('.'):\n",
    "        if len(sentence) < 10:\n",
    "            res.append(f'<span>{sentence}</span>')\n",
    "        else:\n",
    "            class_list = 'gen-content'\n",
    "            attr = ''\n",
    "            corr = calculate_corr(sentence)\n",
    "            if len(corr['veryHigh']) > 0:\n",
    "                class_list += ' veryHigh'\n",
    "                attr += f' veryHigh=\"{\",\".join(corr[\"veryHigh\"][:3])}\"'\n",
    "            if len(corr['high']) > 0:\n",
    "                class_list += ' high'\n",
    "                attr += f' high=\"{\",\".join(corr[\"high\"][:3])}\"'\n",
    "            if len(corr['med']) > 0:\n",
    "                class_list += ' med'\n",
    "                attr += f' med=\"{\",\".join(corr[\"med\"][:3])}\"'\n",
    "            res.append(f'<span class=\"{class_list}\" {attr}>{sentence}.</span>')\n",
    "    return ''.join(res)"
   ]
  },
  {
   "cell_type": "code",
   "execution_count": null,
   "metadata": {},
   "outputs": [],
   "source": [
    "with open('corr-template.txt','r') as f:\n",
    "    template = f.read()"
   ]
  },
  {
   "cell_type": "code",
   "execution_count": null,
   "metadata": {},
   "outputs": [],
   "source": [
    "template = template.format(gen_content = process_frontend_gen_content('\\n'.join(full_gen_content[:10])).replace('\\n','<br>'),\n",
    "global_knowledge=gen_frontend_knowledge(global_knowledge_vecs))"
   ]
  },
  {
   "cell_type": "code",
   "execution_count": null,
   "metadata": {},
   "outputs": [],
   "source": [
    "with open('corr-index.txt','r') as f:\n",
    "    index_page = f.read()\n",
    "index_page = index_page.format(data=template)\n",
    "with open('corr/index.html','w', encoding='utf-8') as f:\n",
    "    f.write(index_page)"
   ]
  },
  {
   "cell_type": "code",
   "execution_count": null,
   "metadata": {},
   "outputs": [
    {
     "data": {
      "text/plain": [
       "'https://www.uptodate.com/contents/invasive-cervical-cancer-epidemiology-risk-factors-clinical-manifestations-and-diagnosis'"
      ]
     },
     "execution_count": 47,
     "metadata": {},
     "output_type": "execute_result"
    }
   ],
   "source": [
    "u2d_webpages[1].url"
   ]
  },
  {
   "cell_type": "markdown",
   "metadata": {},
   "source": [
    "## Curator"
   ]
  }
 ],
 "metadata": {
  "kernelspec": {
   "display_name": "base",
   "language": "python",
   "name": "python3"
  },
  "language_info": {
   "codemirror_mode": {
    "name": "ipython",
    "version": 3
   },
   "file_extension": ".py",
   "mimetype": "text/x-python",
   "name": "python",
   "nbconvert_exporter": "python",
   "pygments_lexer": "ipython3",
   "version": "3.9.13"
  }
 },
 "nbformat": 4,
 "nbformat_minor": 2
}
