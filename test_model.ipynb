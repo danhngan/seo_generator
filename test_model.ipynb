{
 "cells": [
  {
   "cell_type": "code",
   "execution_count": 1,
   "metadata": {},
   "outputs": [],
   "source": [
    "from big_seo.llm.implement.data_model import (InPageCollection,\n",
    "                                              Base,\n",
    "                                              QdrantConvertor)\n",
    "import uuid\n"
   ]
  },
  {
   "cell_type": "code",
   "execution_count": 2,
   "metadata": {},
   "outputs": [],
   "source": [
    "from big_seo.storage.qdrant import QdrantDB\n",
    "\n",
    "vec_db = QdrantDB(host='localhost',\n",
    "                port=6333)\n",
    "Base.init_instance(vec_db=vec_db)"
   ]
  },
  {
   "cell_type": "code",
   "execution_count": 6,
   "metadata": {},
   "outputs": [],
   "source": [
    "from big_seo.llm.implement.data_model import OutlineDocumentDBType\n",
    "a = OutlineDocumentDBType(header='head',\n",
    "                      content='this is test',\n",
    "                      doc_id=uuid.uuid4().bytes)"
   ]
  },
  {
   "cell_type": "code",
   "execution_count": 7,
   "metadata": {},
   "outputs": [],
   "source": [
    "b = InPageCollection(point_id = str(uuid.uuid4()),\n",
    "                 vector=[0.5]*1024,\n",
    "                 doc=a)"
   ]
  },
  {
   "cell_type": "markdown",
   "metadata": {},
   "source": [
    "## Test indexer"
   ]
  },
  {
   "cell_type": "markdown",
   "metadata": {},
   "source": [
    "### Global"
   ]
  },
  {
   "cell_type": "code",
   "execution_count": 1,
   "metadata": {},
   "outputs": [],
   "source": [
    "# from langchain_openai import ChatOpenAI\n",
    "# from langchain_google_genai import ChatGoogleGenerativeAI\n",
    "import uuid\n",
    "from functools import partial\n",
    "import datetime\n",
    "import uuid\n",
    "from big_seo.common.lang import DocumentLang"
   ]
  },
  {
   "cell_type": "code",
   "execution_count": 2,
   "metadata": {},
   "outputs": [],
   "source": [
    "start = datetime.datetime.now()\n",
    "def get_unique_doc(res):\n",
    "    for doc in res:\n",
    "        doc[1]['doc'].score = doc[0]\n",
    "    return set([doc[1]['doc'] for doc in res])"
   ]
  },
  {
   "cell_type": "code",
   "execution_count": 3,
   "metadata": {},
   "outputs": [],
   "source": [
    "from big_seo.crawler.api import Crawler, UpToDateCrawler\n",
    "from big_seo.llm.implement.indexer import WebPageIndexer, InPageIndexer, UpToDateInPageIndexer\n",
    "from big_seo.llm.implement.parser import WebPageParser, TranslationParser, UpToDateWebPageParser\n",
    "from big_seo.llm.implement.data_model import WebPageDocument, OutlineDocumentDBType, Base, UpToDateCollection\n",
    "from llama_index.embeddings.huggingface import HuggingFaceEmbedding\n",
    "from big_seo.llm.implement.embedding_model import LLamaIndexEmbedding\n",
    "from big_seo.llm.implement.parser import OutlineDocumentCreator\n",
    "\n",
    "\n",
    "from big_seo.translator.core import GeminiHealthcareTranslator\n",
    "\n",
    "\n",
    "from langchain_openai import ChatOpenAI\n",
    "from langchain_google_genai import (ChatGoogleGenerativeAI,\n",
    "                                    HarmBlockThreshold,\n",
    "                                    HarmCategory)\n",
    "\n",
    "hug_model = HuggingFaceEmbedding(model_name=\"BAAI/bge-m3\")\n",
    "embed_model = LLamaIndexEmbedding(hug_model)\n",
    "crawler = Crawler()"
   ]
  },
  {
   "cell_type": "markdown",
   "metadata": {},
   "source": [
    "### Gen outline"
   ]
  },
  {
   "cell_type": "code",
   "execution_count": 4,
   "metadata": {},
   "outputs": [],
   "source": [
    "outline_doc_creator = OutlineDocumentCreator()\n",
    "outline_parser = WebPageParser(doc_creator=outline_doc_creator)\n",
    "\n",
    "model = ChatOpenAI(name='gpt-4-turbo-preview',temperature=0.5)\n",
    "model_gemini = ChatGoogleGenerativeAI(model=\"gemini-pro\",temperature=0.5, safety_settings={\n",
    "            HarmCategory.HARM_CATEGORY_DANGEROUS_CONTENT: HarmBlockThreshold.BLOCK_NONE,\n",
    "        })\n"
   ]
  },
  {
   "cell_type": "code",
   "execution_count": 5,
   "metadata": {},
   "outputs": [],
   "source": [
    "main_topic = 'ung thư tiêu hóa'\n",
    "main_topic_en = 'gastrointestinal cancer'\n",
    "use_u2d = True\n",
    "webpages = crawler.search(main_topic,n=3)\n",
    "outlines = []\n",
    "for page in webpages:\n",
    "    webpage_doc = WebPageDocument(page)\n",
    "    outline_parser.feed(webpage_doc)\n",
    "    outlines.append(outline_parser.parse(in_doc=True))"
   ]
  },
  {
   "cell_type": "code",
   "execution_count": 6,
   "metadata": {},
   "outputs": [],
   "source": [
    "outlines_headers = ['\\n'.join(map(lambda x: x[0].replace('\\n',''),o)) for o in outlines if len(o) > 0]"
   ]
  },
  {
   "cell_type": "code",
   "execution_count": 7,
   "metadata": {},
   "outputs": [],
   "source": [
    "gen_outline_prompt = \"\"\"Bạn là một bác sĩ đa khoa, bạn có khả năng tạo những dàn ý bài viết đầy đủ, chi tiết cho các chủ đề liên quan y học. Khi tạo dàn ý, bạn cần dựa trên các dàn ý mẫu, các dàn ý mẫu được viết theo dạng <html tag> - <nội dung> , các dàn ý mẫu được phân tách nhau bằng ----, trong các dàn ý mẫu có thể có những mục không liên quan trực tiếp đến bài như 'Bài viết liên quan' 'Liên hệ' hãy bỏ qua các mục này. Nếu các dàn ý mẫu không chứa nội dung liên quan đến chủ đề bài viết, trả lời 'Tôi không biết'. Trong trường hợp các dàn ý mẫu có đề cập đến mục gây chú ý mạnh cho bệnh nhân khiến bệnh nhân muốn đến bệnh viện như 'sự nguy hiểm của bệnh' 'khi nào cần đến bệnh viện' thì hãy thêm vào dàn ý\n",
    "FORMAT: Dàn ý đầu ra cần tuân thủ chặt chẽ theo format. Mỗi ý một dòng. Không trả lời những thông tin không liên quan đến dàn ý.\n",
    "\n",
    "DÀN Ý MẪU: {example}\n",
    "\n",
    "Hãy nêu dàn ý cho bài viết về {topic}\n",
    "Trả lời:\"\"\"\n",
    "\n",
    "# gen_outline_prompt = \"\"\"Bạn là một bác sĩ đa khoa, bạn có khả năng tạo những dàn ý bài viết đầy đủ, dễ hiểu cho các chủ đề liên quan y học. Khi tạo dàn ý, bạn cần dựa trên các dàn ý mẫu, trong các dàn ý mẫu có thể có những mục không liên quan trực tiếp đến bài như 'Bài viết liên quan' 'Liên hệ' hãy bỏ qua các mục này. Nếu các dàn ý mẫu không chứa nội dung liên quan đến chủ đề bài viết, trả lời 'Tôi không biết'. Trong trường hợp các dàn ý mẫu có đề cập đến mục gây chú ý mạnh cho bệnh nhân khiến bệnh nhân muốn đến bệnh viện như 'sự nguy hiểm của bệnh' 'khi nào cần đến bệnh viện' thì hãy thêm vào dàn ý\n",
    "\n",
    "# FORMAT: Dàn ý đầu ra cần tuân thủ chặt chẽ theo format. Mỗi ý một dòng. Không trả lời những thông tin không liên quan đến dàn ý.\n",
    "\n",
    "# DÀN Ý MẪU: {example}\n",
    "\n",
    "# Hãy nêu dàn ý cho bài viết về {topic}\n",
    "# Trả lời:\"\"\""
   ]
  },
  {
   "cell_type": "code",
   "execution_count": 8,
   "metadata": {},
   "outputs": [],
   "source": [
    "model_res = model.invoke(gen_outline_prompt.format(example='\\n----\\n'.join(outlines_headers),topic=main_topic))\n",
    "model_gemini_res = model.invoke(gen_outline_prompt.format(example='\\n----\\n'.join(outlines_headers),topic=main_topic))"
   ]
  },
  {
   "cell_type": "code",
   "execution_count": 44,
   "metadata": {},
   "outputs": [
    {
     "data": {
      "text/plain": [
       "'\\r\\n<!DOCTYPE html PUBLIC \"-//W3C//DTD XHTML 1.0 Transitional//EN\" \"http://www.w3.org/TR/xhtml1/DTD/xhtml1-transitional.dtd\">\\r\\n<html xmlns=\"http://www.w3.org/1999/xhtml\" xmlns:fb=\"http://www.facebook.com/2008/fbml\">\\r\\n<head>\\r\\n<meta http-equiv=\"Content-Type\" content=\"text/html; charset=UTF-8\" />\\r\\n<title>Nhá»¯ng dáº¥u hiá»\\x87u nháº\\xadn biáº¿t ung thÆ° Ä\\x91Æ°á»\\x9dng tiÃªu hÃ³a</title>\\r\\n<meta name=\"keywords\" CONTENT=\"ung thÆ° Ä\\x91Æ°á»\\x9dng tiÃªu hÃ³a\" />\\r\\n<meta name=\"description\" CONTENT=\"Ung thÆ° Ä\\x91Æ°á»\\x9dng tiÃªu hÃ³a lÃ\\xa0 nhÃ³m ung thÆ° phá»\\x95 biáº¿n táº¡i nÆ°á»\\x9bc ta, tuy nhiÃªn nhá»¯ng dáº¥u hiá»\\x87u cá»§a ung thÆ° tiÃªu hÃ³a thÆ°á»\\x9dng mÆ¡ há»\\x93, khÃ³ cháº©n Ä\\x91oÃ¡n.\" />\\r\\n<meta name=\"robots\" content=\"index, follow\"/>\\r\\n<meta name=\"google-site-verification=znIATaXqf45t4tUtAWA-IRA60FEDh9jNzBYCEpLruw8\" />\\r\\n<!-- Global site tag (gtag.js) - Google Analytics -->\\r\\n<script async src=\"https://www.googletagmanager.com/gtag/js?id=G-0Z9RW8V7Y2\"></script>\\r\\n<script>\\r\\n  window.dataLayer = window.dataLayer || [];\\r\\n  function gtag(){dataLayer.push(arguments);}\\r\\n  gtag(\\'js\\', new Date());\\r\\n\\r\\n  gtag(\\'config\\', \\'G-0Z9RW8V7Y2\\');\\r\\n</script>\\n<link rel=\"canonical\" href=\"https://bvtamtridongthap.com.vn/en/nhung-dau-hieu-nhan-biet-ung-thu-duong-tieu-hoa.html\" />\\n<link rel=\"alternate\" media=\"handheld\" href=\"https://bvtamtridongthap.com.vn/en/nhung-dau-hieu-nhan-biet-ung-thu-duong-tieu-hoa.html\"/>\\n<meta itemprop=\"headline\" content=\"Nhá»¯ng dáº¥u hiá»\\x87u nháº\\xadn biáº¿t ung thÆ° Ä\\x91Æ°á»\\x9dng tiÃªu hÃ³a\" />\\n<meta property=\"og:url\" itemprop=\"url\" content=\"https://bvtamtridongthap.com.vn/en/nhung-dau-hieu-nhan-biet-ung-thu-duong-tieu-hoa.html\" />\\n<meta property=\"og:type\" content=\"article\" />\\n<meta property=\"og:title\" name=\"title\" itemprop=\"name\" content=\"Nhá»¯ng dáº¥u hiá»\\x87u nháº\\xadn biáº¿t ung thÆ° Ä\\x91Æ°á»\\x9dng tiÃªu hÃ³a\" />\\n<meta property=\"og:description\" itemprop=\"description\" name=\"description\" content=\"Ung thÆ° Ä\\x91Æ°á»\\x9dng tiÃªu hÃ³a lÃ\\xa0 nhÃ³m ung thÆ° phá»\\x95 biáº¿n táº¡i nÆ°á»\\x9bc ta, tuy nhiÃªn nhá»¯ng dáº¥u hiá»\\x87u cá»§a ung thÆ° tiÃªu hÃ³a thÆ°á»\\x9dng mÆ¡ há»\\x93, khÃ³ cháº©n Ä\\x91oÃ¡n.\" />\\n<link rel=\"image_src\" href=\"https://bvtamtridongthap.com.vn/vnt_upload/news/12_2022/ung-thu-duong-tieu-hoa.jpg\" / >\\n<meta property=\"og:image\" itemprop=\"thumbnailUrl\" content=\"https://bvtamtridongthap.com.vn/vnt_upload/news/12_2022/ung-thu-duong-tieu-hoa.jpg\"  />\\n<meta itemprop=\"image\" content=\"https://bvtamtridongthap.com.vn/vnt_upload/news/12_2022/ung-thu-duong-tieu-hoa.jpg\">\\r\\n<link rel=\"SHORTCUT ICON\" href=\"/vnt_upload/File/Image/icon-logo.jpg\" type=\"image/x-icon\" />\\r\\n<link rel=\"icon\" href=\"/vnt_upload/File/Image/icon-logo.jpg\" type=\"image/gif\" />\\r\\n<link href=\"https://bvtamtridongthap.com.vn/js/bootstrap/css/bootstrap.min.css\" rel=\"stylesheet\" type=\"text/css\" />\\r\\n<link href=\"https://bvtamtridongthap.com.vn/skins/default/fontawesome/css/font-awesome.min.css\" rel=\"stylesheet\" type=\"text/css\" />\\r\\n<link href=\"https://bvtamtridongthap.com.vn/js/fancybox/jquery.fancybox.css\" rel=\"stylesheet\" type=\"text/css\" /> \\r\\n<link href=\"https://bvtamtridongthap.com.vn/skins/default/style/screen.css?v=1.0\" rel=\"stylesheet\" type=\"text/css\" />\\r\\n<link href=\"https://bvtamtridongthap.com.vn/js/sf_slick_slider/slick-theme.css\" rel=\"stylesheet\" type=\"text/css\"/>\\r\\n<link href=\"https://bvtamtridongthap.com.vn/js/sf_slick_slider/slick.css\" rel=\"stylesheet\" type=\"text/css\"/>\\r\\n\\r\\n\\r\\n<script language=\"javascript\" >\\tvar ROOT = \"https://bvtamtridongthap.com.vn/\";\\tvar DIR_IMAGE = \"https://bvtamtridongthap.com.vn/skins/default/images\";\\tvar cmd = \"vnTRUST\"; </script> \\r\\n<script type=\"text/javascript\" src=\"https://bvtamtridongthap.com.vn/js/jquery.min.js\"></script>\\r\\n<script type=\"text/javascript\" src=\"https://bvtamtridongthap.com.vn/js/jquery-migrate.min.js\"></script>\\r\\n<script type=\"text/javascript\" src=\"https://bvtamtridongthap.com.vn/js/bootstrap/js/bootstrap.min.js\"></script>\\r\\n<script type=\"text/javascript\" src=\"https://bvtamtridongthap.com.vn/js/fancybox/jquery.fancybox.js\"></script>\\r\\n<script type=\"text/javascript\" src=\"https://bvtamtridongthap.com.vn/js/sf_slick_slider/slick.min.js\"></script>\\r\\n<script type=\"text/javascript\" src=\"https://bvtamtridongthap.com.vn/js/core.js\"></script>\\r\\n<script type=\"text/javascript\" src=\"https://bvtamtridongthap.com.vn/js/widgets.js\"></script>\\r\\n<script type=\"text/javascript\" src=\"https://bvtamtridongthap.com.vn/js/javascript.js\"></script>\\r\\n<script type=\"text/javascript\" src=\"https://bvtamtridongthap.com.vn/js/floater_xlib.js\"></script>\\r\\n<script type=\"text/javascript\" src=\"https://bvtamtridongthap.com.vn/js/style.js\"></script>\\r\\n\\t<link rel=\"stylesheet\" href=\"https://bvtamtridongthap.com.vn/modules/news/css/news.css\" type=\"text/css\" />\\n\\t<link rel=\"stylesheet\" href=\"https://bvtamtridongthap.com.vn/js/thickbox/thickbox.css\" type=\"text/css\" />\\n\\t<link rel=\"stylesheet\" href=\"https://bvtamtridongthap.com.vn/js/jquery_alerts/jquery.alerts.css\" type=\"text/css\" />\\n\\t<script type=\"text/javascript\" src=\"https://bvtamtridongthap.com.vn/modules/news/js/news.js\"></script>\\n\\t<script type=\"text/javascript\" src=\"https://bvtamtridongthap.com.vn/js/thickbox/thickbox.js\"></script>\\n\\t<script type=\"text/javascript\" src=\"https://bvtamtridongthap.com.vn/js/jquery_alerts/jquery.alerts.js\"></script>\\n\\t<script type=\"text/javascript\">\\n\\n          $(window).load(function() {\\n            var has_class = $(\\'body,html\\').find(\\'.vnt-banner\\').length, sf_carousel = $(\\'#vnt-slider\\');\\n            if (has_class > 0) {\\n                $(sf_carousel).on(\\'init\\', function (event, slick) {\\n                    $(\\'ul.slick-dots\\').wrap(\\'<div class=\\\\\\'wrapperDots\\\\\\'><div class=\\\\\\'mDots\\\\\\'></div></div>\\');\\n                });\\n                $(sf_carousel).slick({\\n                    dots: false,\\n                    arrows: true,\\n                    infinite: true,\\n                    speed: 700,\\n                    fade: true,\\n                    cssEase: \\'linear\\',\\n                    autoplay: true,\\n                    autoplaySpeed: 4000\\n                });\\n\\n            } else {\\n                return false;\\n            }\\n          });\\n        \\n\\t</script>\\n\\r\\n</head>\\r\\n<body >\\r\\n\\r\\n<div id=\"vnt-wrapper\">\\r\\n    <div id=\"vnt-container\">\\r\\n        <!--- BEGIN - HEADER -->\\r\\n        <div id=\"vnt-header\">\\r\\n            <div class=\"wrapper\">\\r\\n                <div class=\"header-logo\">\\r\\n                    <div class=\"logo\">\\r\\n                        <a onmousedown=\"return rwt(this,\\'advertise\\',1)\" href=\\'https://bvtamtridongthap.com.vn/en/trang-chu.html\\' target=\\'_blank\\' title=\\'Bá»\\x87nh viá»\\x87n Ä\\x91a khoa TÃ¢m TrÃ\\xad Ä\\x90á»\\x93ng ThÃ¡p\\'  ><img  src=\\'https://bvtamtridongthap.com.vn/vnt_upload/weblink/logo-tamtri-tieng-anh.png\\' alt=\\'Bá»\\x87nh viá»\\x87n Ä\\x91a khoa TÃ¢m TrÃ\\xad Ä\\x90á»\\x93ng ThÃ¡p\\'  class=\\'png\\' /></a>\\r\\n                    </div>\\r\\n                    <div class=\"slogan\">\\r\\n                        <div class=\"mslogan\">\\r\\n                            <h2>TAM TRI - Ä\\x90ONG THAP</h2>\\r\\n                            <h4>General Hospital</h4>\\r\\n                        </div>\\r\\n                    </div>\\r\\n                </div>\\r\\n                <div class=\"header-control\">\\r\\n                    <div class=\"group-hotline\">\\r\\n                        <div class=\"item-hotline\">\\r\\n                            <div class=\"by-content\">\\r\\n                                <span>Permanent Doctor</span>\\r\\n                                <span>096 232 1155</span>\\r\\n                            </div>\\r\\n                        </div>\\r\\n                        <div class=\"item-hotline\">\\r\\n                            <i class=\"icon-sf-hotline\"></i>\\r\\n                            <div class=\"by-content\">\\r\\n                                <span>Emergency Hotline</span>\\r\\n                                <span>02773 895 115</span>\\r\\n                            </div>\\r\\n                        </div>\\r\\n                    </div>\\r\\n                    <div class=\"group-search\">\\r\\n                    \\t\\r\\n<script language=\"javascript\" >\\r\\n\\tfunction check_search(f)\\r\\n\\t{\\r\\n\\t\\tvar key_default = \"\" ;\\r\\n\\t\\tvar keyword = f.keyword.value;\\t\\t\\r\\n\\t\\tvar key_len = f.keyword.value.length;\\r\\n\\t\\tif(keyword==\\'\\' )\\t\\t{\\r\\n\\t\\t\\talert(\"Please enter the keywords\");\\r\\n\\t\\t\\tf.keyword.focus();\\r\\n\\t\\t\\treturn false;\\r\\n\\t\\t}\\r\\n\\t\\tif( key_len<2 ){\\r\\n\\t\\t\\talert(\"Keyword must least 2 character\");\\r\\n\\t\\t\\tf.keyword.focus();\\r\\n\\t\\t\\treturn false;\\r\\n\\t\\t} \\r\\n\\t\\treturn true;\\r\\n\\t}\\t\\r\\n\\r\\n</script>\\r\\n<div class=\"boxSearch\">\\r\\n    <a href=\"javascript:void(0);\" class=\"link-search\"><i class=\"fa fa-search\"></i></a>\\r\\n    <div class=\"s-searchBox\">\\r\\n        <form id=\"formSearch\" name=\"formSearch\" method=\"post\" action=\"https://bvtamtridongthap.com.vn/en/search.html\" onSubmit=\"return check_search(this);\" class=\"box_search\">\\r\\n            <input name=\"keyword\" id=\"keyword\" type=\"text\" class=\"text_search\"\\r\\n                   placeholder=\"Keyword\" value=\"\"/>\\r\\n            <button id=\"btn-search\" name=\"btn-search\" type=\"submit\" class=\"btn\"\\r\\n                    value=\"Search\">Search\\r\\n            </button>\\r\\n            <input name=\"do_search\" value=\"1\" type=\"hidden\"/>\\r\\n            <div class=\"clear\"></div>\\r\\n        </form>\\r\\n    </div>\\r\\n</div>\\r\\n\\r\\n                        <div class=\"lang-box\">\\r\\n                        \\t<button type=\"button\" class=\"btn btn-default dropdown-toggle\" data-toggle=\"dropdown\" aria-expanded=\"false\">\\n                              <span class=\"selected\">English</span>\\n                              <span class=\"caret\"></span>\\n                          </button><ul class=\"dropdown-menu option\" role=\"menu\">\\n                 <li><a href=\"https://bvtamtridongthap.com.vn/vn/nhung-dau-hieu-nhan-biet-ung-thu-duong-tieu-hoa.html\"  ><img src=\"https://bvtamtridongthap.com.vn/vnt_upload/lang/flag-vi.png\"  align=\"absmiddle\" />Vietnamese</a></li><li><a href=\"https://bvtamtridongthap.com.vn/en/nhung-dau-hieu-nhan-biet-ung-thu-duong-tieu-hoa.html\" class=\\'current\\' ><img src=\"https://bvtamtridongthap.com.vn/vnt_upload/lang/flag-en.png\"  align=\"absmiddle\" />English</a></li>\\n              </ul>\\r\\n                        </div>\\r\\n                    </div>\\r\\n                </div>\\r\\n            </div>\\r\\n            <div class=\"vnt-menu\">\\r\\n                <div class=\"wrapper\">\\r\\n                \\t<ul><li   ><a href=\"https://bvtamtridongthap.com.vn/en/https://bvtamtridongthap.com.vn/vn/tim-bac-si.html\" target=\"_self\"   ><span>TÃ¬m bÃ¡c sÄ©</span></a></li><li   ><a href=\"https://bvtamtridongthap.com.vn/en/dat-lich-hen.html\" target=\"_self\"   ><span>Ä\\x90áº·t lá»\\x8bch háº¹n</span></a></li><li   ><a href=\"https://bvtamtridongthap.com.vn/en/main.html\" target=\"_self\"   ><span>Homepage</span></a></li><li   ><a href=\"https://bvtamtridongthap.com.vn/en/about.html\" target=\"_self\"   ><span>About Us</span></a><div class=\"sub-menu\"><ul><li><a href=\"https://bvtamtridongthap.com.vn/en/tong-quan.html\" target=\"_self\"   ><span>Tá»\\x95ng quan</span></a></li><li><a href=\"https://bvtamtridongthap.com.vn/en/nen-tang.html\" target=\"_self\"   ><span>Ná»\\x81n táº£ng</span></a></li><li><a href=\"https://bvtamtridongthap.com.vn/en/triet-ly.html\" target=\"_self\"   ><span>Triáº¿t LÃ½</span></a></li><li><a href=\"https://bvtamtridongthap.com.vn/en/su-menh.html\" target=\"_self\"   ><span>Sá»© Má»\\x87nh</span></a></li><li><a href=\"https://bvtamtridongthap.com.vn/en/van-hoa-cong-ty.html\" target=\"_self\"   ><span>VÄ\\x83n HÃ³a CÃ´ng Ty</span></a></li><li><a href=\"https://bvtamtridongthap.com.vn/en/van-hoa-kinh-doanh.html\" target=\"_self\"   ><span>VÄ\\x83n HÃ³a Kinh Doanh</span></a></li><li><a href=\"https://bvtamtridongthap.com.vn/en/slogan.html\" target=\"_self\"   ><span>Slogan</span></a></li><li><a href=\"https://bvtamtridongthap.com.vn/en/triet-ly.html\" target=\"_self\"   ><span>Triáº¿t lÃ½</span></a></li><li><a href=\"https://bvtamtridongthap.com.vn/en/ban-quan-tri.html\" target=\"_self\"   ><span>Ban quáº£n trá»\\x8b</span></a></li></ul></div></li><li   ><a href=\"https://bvtamtridongthap.com.vn/en/specialties.html\" target=\"_self\"   ><span>Specialties</span></a><div class=\"sub-menu\"><ul><li><a href=\"https://bvtamtridongthap.com.vn/en/khoa-kham-benh.html\" target=\"_self\"   ><span>Khoa kham bá»\\x87nh</span></a></li><li><a href=\"https://bvtamtridongthap.com.vn/en/khoa-hoi-suc-cap-cuu.html\" target=\"_self\"   ><span>Khoa Há»\\x93i Sá»©c - Cáº¥p Cá»©u</span></a></li><li><a href=\"https://bvtamtridongthap.com.vn/en/khoa-vltl.html\" target=\"_self\"   ><span>Khoa Váº\\xadt lÃ½ trá»\\x8b liá»\\x87u - PHCN</span></a></li><li><a href=\"https://bvtamtridongthap.com.vn/en/phong-kham-quoc-te.html\" target=\"_self\"   ><span>PhÃ²ng khÃ¡m quá»\\x91c táº¿</span></a></li><li><a href=\"https://bvtamtridongthap.com.vn/en/khoa-noi.html\" target=\"_self\"   ><span>Khoa ná»\\x99i</span></a></li><li><a href=\"https://bvtamtridongthap.com.vn/en/khoa-ngoai.html\" target=\"_self\"   ><span>Khoa ngoáº¡i</span></a></li><li><a href=\"https://bvtamtridongthap.com.vn/en/san-phu-khoa.html\" target=\"_self\"   ><span>Sáº£n phá»¥ khoa</span></a></li><li><a href=\"https://bvtamtridongthap.com.vn/en/khoa-nhi.html\" target=\"_self\"   ><span>Khoa nhi</span></a></li><li><a href=\"https://bvtamtridongthap.com.vn/en/khoa-phau-thuat-gmhs.html\" target=\"_self\"   ><span>khoa PT - GMHS</span></a></li><li><a href=\"https://bvtamtridongthap.com.vn/en/khoa-tim-mach.html\" target=\"_self\"   ><span>Khoa tim máº¡ch</span></a></li><li><a href=\"https://bvtamtridongthap.com.vn/en/khoa-noi-soi.html\" target=\"_self\"   ><span>khoa ná»\\x99i soi</span></a></li><li><a href=\"https://bvtamtridongthap.com.vn/en/tai-mui-hong.html\" target=\"_self\"   ><span>Khoa tai mÅ©i há»\\x8dng</span></a></li><li><a href=\"https://bvtamtridongthap.com.vn/en/chuyen-khoa.html\" target=\"_self\"   ><span>... Xem táº¥t cáº£</span></a></li></ul></div></li><li   ><a href=\"https://bvtamtridongthap.com.vn/en/patient-service.html\" target=\"_self\"   ><span>Patient Services</span></a><div class=\"sub-menu\"><ul><li><a href=\"https://bvtamtridongthap.com.vn/en/\" target=\"_self\"   class=\\'active\\' ><span>Du Lá»\\x8bch Sá»©c Khá»\\x8fe</span></a><div class=\"sub-menu\"><ul><li><a href=\"https://bvtamtridongthap.com.vn/en/\" target=\"_self\"   class=\\'active\\' ><span>Ä\\x90Ä\\x83ng KÃ½ KhÃ¡m</span></a></li><li><a href=\"https://bvtamtridongthap.com.vn/en/\" target=\"_self\"   class=\\'active\\' ><span>Giá»\\x9bi thiá»\\x87u</span></a></li><li><a href=\"https://bvtamtridongthap.com.vn/en/dich-vu.html\" target=\"_self\"   ><span>Dá»\\x8bch Vá»¥</span></a></li></ul></div></li><li><a href=\"https://bvtamtridongthap.com.vn/en/chup-ct-phoi-lieu-thap-phat-hien-som-ung-thu-phoi.html\" target=\"_self\"   class=\\'active\\' ><span>Chá»¥p CT phá»\\x95i liá»\\x81u tháº¥p - phÃ¡t hiá»\\x87n sá»\\x9bm ung thÆ° phá»\\x95i</span></a></li><li><a href=\"https://bvtamtridongthap.com.vn/en/dich-vu-tim-gen-gay-15-loai-ung-thu-di-truyen-va-tam-soat-5-loai-ung-thu-thuong-gap.html\" target=\"_self\"   class=\\'active\\' ><span>Táº§m soÃ¡t Æ°ng thÆ° qua gen di truyá»\\x81n</span></a></li><li><a href=\"https://bvtamtridongthap.com.vn/en/dich-vu-cap-cuu.html\" target=\"_self\"   ><span>Dá»\\x8bch vá»¥ cáº¥p cá»©u</span></a></li><li><a href=\"https://bvtamtridongthap.com.vn/en/\" target=\"_self\"   class=\\'active\\' ><span>KhÃ¡m, táº§m soÃ¡t &amp; Ä\\x91iá»\\x81u trá»\\x8b háº\\xadu Covid-19</span></a></li><li><a href=\"https://bvtamtridongthap.com.vn/en/kham-va-dieu-tri-bhyt.html\" target=\"_self\"   ><span>KhÃ¡m vÃ\\xa0 Ä\\x91iá»\\x81u trá»\\x8b BH</span></a></li><li><a href=\"https://bvtamtridongthap.com.vn/en/\" target=\"_self\"   class=\\'active\\' ><span>KhÃ¡m sá»©c khá»\\x8fe Ä\\x91á»\\x8bnh ká»³ cho cÆ¡ quan, cÃ´ng ty</span></a></li><li><a href=\"https://bvtamtridongthap.com.vn/en/kham-suc-khoe-tong-quat-tam-soat-benh.html\" target=\"_self\"   ><span>KhÃ¡m sá»©c khá»\\x8fe tá»\\x95ng quÃ¡t tÃ¢</span></a></li><li><a href=\"https://bvtamtridongthap.com.vn/en/\" target=\"_self\"   ><span>KhÃ¡m sá»©c khá»\\x8fe theo tuá»\\x95i &amp; giá»\\x9bi</span></a></li><li><a href=\"https://bvtamtridongthap.com.vn/en/kham-benh-tai-nha-clinic-care.html\" target=\"_self\"   ><span>KhÃ¡m bá»\\x87nh táº¡i nhÃ\\xa0</span></a></li><li><a href=\"https://bvtamtridongthap.com.vn/en/\" target=\"_self\"   ><span>Dá»\\x8bch vá»¥ Ä\\x91iá»\\x81u dÆ°á»¡ng &amp; chÄ\\x83m sÃ³c bá»\\x87nh táº¡i nhÃ\\xa0 - Home care</span></a></li><li><a href=\"https://bvtamtridongthap.com.vn/en/dich-vu-tiem-vacxin.html\" target=\"_self\"   ><span>Dá»\\x8bch vá»¥ tim Vacxin</span></a></li><li><a href=\"https://bvtamtridongthap.com.vn/en/tam-soat-benh-ung-thu-vu.html\" target=\"_self\"   ><span>Táº§m soÃ¡t bá»\\x87nh ung thÆ° vÃº</span></a></li><li><a href=\"https://bvtamtridongthap.com.vn/en/tam-soat-benh-mach-vanh.html\" target=\"_self\"   ><span>Táº§m soÃ¡t bá»\\x87nh máº¡ch vÃ\\xa0nh</span></a></li><li><a href=\"https://bvtamtridongthap.com.vn/en/\" target=\"_self\"   ><span>Táº§m soÃ¡t bá»\\x87nh ung thÆ° Ä\\x91áº¡i trÃ\\xa0ng</span></a></li><li><a href=\"https://bvtamtridongthap.com.vn/en/\" target=\"_self\"   ><span>Bá»\\x87nh vÃ´ sinh</span></a></li><li><a href=\"https://bvtamtridongthap.com.vn/en/\" target=\"_self\"   ><span>Dá»\\x8bch vá»¥ ná»\\x99i tru</span></a></li><li><a href=\"https://bvtamtridongthap.com.vn/en/dich-vu-bao-lanh-vien-phi.html\" target=\"_self\"   ><span>Dá»\\x8bch vá»¥ báº£o lÃ£nh viá»\\x87n phÃ\\xad</span></a></li></ul></div></li><li   ><a href=\"https://bvtamtridongthap.com.vn/en/\" target=\"_self\"   ><span>Guide</span></a><div class=\"sub-menu\"><ul><li><a href=\"https://bvtamtridongthap.com.vn/en/huong-dan-su-dung-bao-hiem.html\" target=\"_self\"   ><span>hÆ°á»\\x9bng dáº«n sá»\\xad dá»¥ng báº£o hiá»\\x83m</span></a></li><li><a href=\"https://bvtamtridongthap.com.vn/en/huong-dan-nhap-vien.html\" target=\"_self\"   ><span>HÆ°á»\\x9bng dáº«n nháº\\xadp viá»\\x87n</span></a></li><li><a href=\"https://bvtamtridongthap.com.vn/en/huong-dan-xuat-vien.html\" target=\"_self\"   ><span>hÆ°á»\\x9bng dáº«n xuáº¥t viá»\\x87n</span></a></li><li><a href=\"https://bvtamtridongthap.com.vn/en/gio-kham-benh.html\" target=\"_self\"   ><span>Giá»\\x9d khÃ¡m bá»\\x87nh</span></a></li><li><a href=\"https://bvtamtridongthap.com.vn/en/huong-dan-dat-hen-kham-benh.html\" target=\"_self\"   ><span>HÆ°á»\\x9bng dáº«n Ä\\x91áº·t háº¹n khÃ¡m bá»\\x87nh</span></a></li><li><a href=\"https://bvtamtridongthap.com.vn/en/bang-gia-kham-benh.html\" target=\"_self\"   ><span>Báº£ng giÃ¡ khÃ¡m bá»\\x87nh</span></a></li></ul></div></li><li  class=\\'active\\'  ><a href=\"https://bvtamtridongthap.com.vn/en/news.html\" target=\"_self\"   class=\\'active\\' ><span>News</span></a><div class=\"sub-menu\"><ul><li><a href=\"https://bvtamtridongthap.com.vn/en/tin-tuc-y-khoa.html\" target=\"_self\"   ><span>Tin tá»©c Y Khoa</span></a></li><li><a href=\"https://bvtamtridongthap.com.vn/en/su-kien.html\" target=\"_self\"   ><span>Sá»± kiá»\\x87n</span></a></li><li><a href=\"https://bvtamtridongthap.com.vn/en/hoat-dong-tu-thien-1459234380.html\" target=\"_self\"   ><span>Hoáº¡t Ä\\x91á»\\x99ng tá»« thiá»\\x87n</span></a></li><li><a href=\"https://bvtamtridongthap.com.vn/en/\" target=\"_self\"   class=\\'active\\' ><span>Quáº£n lÃ½ cháº¥t lÆ°á»£ng</span></a></li><li><a href=\"https://bvtamtridongthap.com.vn/en/lich-lam-viec.html\" target=\"_self\"   ><span>Lá»\\x8bch lÃ\\xa0m viá»\\x87c</span></a></li><li><a href=\"http://bvtamtridongthap.com.vn/vn/vaccin\" target=\"_self\"   ><span>ThÃ´ng tin Vaccin</span></a></li><li><a href=\"https://bvtamtridongthap.com.vn/en/gallery.html\" target=\"_self\"   ><span>Gallery</span></a></li><li><a href=\"https://bvtamtridongthap.com.vn/en/video.html\" target=\"_self\"   ><span>Video</span></a></li><li><a href=\"https://bvtamtridongthap.com.vn/en/\" target=\"_self\"   class=\\'active\\' ><span>Medical web</span></a></li></ul></div></li><li   ><a href=\"https://bvtamtridongthap.com.vn/en/career.html\" target=\"_self\"   ><span>Career</span></a><div class=\"sub-menu\"><ul><li><a href=\"https://bvtamtridongthap.com.vn/en/\" target=\"_self\"   ><span>BÃ¡c sÄ©</span></a></li><li><a href=\"https://bvtamtridongthap.com.vn/en/\" target=\"_self\"   ><span>Ä\\x90iá»\\x81u dÆ°á»¡ng &amp; ká»¹ thuáº\\xadt viÃªn</span></a></li><li><a href=\"https://bvtamtridongthap.com.vn/en/\" target=\"_self\"   ><span>Bá»\\x99 pháº\\xadn hÃ\\xa0nh chÃ\\xadnh &amp; dá»\\x8bch vá»¥</span></a></li><li><a href=\"https://bvtamtridongthap.com.vn/en/\" target=\"_self\"   ><span>PCTU: Tuyá»\\x83n sinh Cá»\\xad nhÃ¢n Ä\\x90iá»\\x81u dÆ°á»¡ng chÃ\\xadnh quy</span></a></li></ul></div></li><li   ><a href=\"https://bvtamtridongthap.com.vn/en/contact.html\" target=\"_self\"   ><span>Contact Us</span></a></li></ul>\\r\\n                </div>\\r\\n            </div>\\r\\n        </div>\\r\\n        <!--- END - MENUTOP -->\\r\\n\\r\\n        <div id=\"vnt-content\">\\r\\n            <div class=\"vnt-banner\">\\r\\n            \\t<div  class=\"re-wrapper\">\\r\\n            \\t\\t<div class=\"group-button\">\\r\\n\\t                    <div class=\"\">\\r\\n\\t                        <a href=\"https://bvtamtridongthap.com.vn/en/search-doctor.html\"><i class=\"icon-sf-doctor\"></i>Search Doctor</a>\\r\\n\\t                        <a href=\"https://bvtamtridongthap.com.vn/en/make-an-appointment.html\"><i class=\"icon-sf-calc\"></i>Make An Appointment</a>\\r\\n\\t                    </div>\\r\\n\\t                </div>\\r\\n\\t                <div id=\"vnt-slider\">\\r\\n\\t                \\t<div class=\"item\">\\n                          <a href=\"http://\" target=\"_blank\"  ><img src=\"https://bvtamtridongthap.com.vn/vnt_upload/weblink/banner_03_1.jpg\" alt=\"banner\" /></a>\\n                      </div><div class=\"item\">\\n                          <a href=\"https://dongthap.gov.vn/mekongstartup2022\" target=\"_blank\"  ><img src=\"https://bvtamtridongthap.com.vn/vnt_upload/weblink/banner-dien-dan-mekong.png\" alt=\"mekong\" /></a>\\n                      </div><div class=\"item\">\\n                          <a href=\"http://\" target=\"_blank\"  ><img src=\"https://bvtamtridongthap.com.vn/vnt_upload/weblink/banner-dien-dan-mekong.png\" alt=\"Mekong Starup\" /></a>\\n                      </div>\\r\\n\\t                </div>\\r\\n\\t                <div class=\"sf_breadcrumb\">\\n\\t\\t                        <div id=\"vnt-navation\" class=\"breadcrumb\" itemscope=\"\" itemtype=\"http://data-vocabulary.org/Breadcrumb\">\\n\\t\\t                            <div class=\"navation\">\\n\\t\\t                                \\n                  <ul><li><a href=\"https://bvtamtridongthap.com.vn/en/main.html\" >Home page</a></li><li><a href=\"https://bvtamtridongthap.com.vn/en/news.html\">News</a></li><li><a href=\"https://bvtamtridongthap.com.vn/en/tin-tuc-y-khoa.html\">Tin tá»©c Y khoa</a></li><li class=\"active\">Nhá»¯ng dáº¥u hiá»\\x87u nháº\\xadn biáº¿t ung thÆ° ...</li></ul>\\n\\t\\t                            </div>\\n\\t\\t\\t                    </div>\\n\\t\\t                    </div>\\r\\n            \\t</div>\\r\\n            </div>\\r\\n            \\r\\n<div class=\"sf_content\">\\r\\n    <div class=\"wrapper\">\\r\\n      \\r\\n<div class=\"box\">\\r\\n    <div class=\"big-category\">\\r\\n        <div class=\"title-category\">\\r\\n            News\\r\\n        </div>\\r\\n        <div class=\"box-content\">\\r\\n          <div class=\"box-category\"><ul ><li class=\\'active\\'><a href=\\'https://bvtamtridongthap.com.vn/en/tin-tuc-y-khoa.html\\'><span >Tin tá»©c Y khoa</span></a></li><li ><a href=\\'https://bvtamtridongthap.com.vn/en/su-kien.html\\'><span >Sá»± kiá»\\x87n</span></a></li><li ><a href=\\'https://bvtamtridongthap.com.vn/en/lich-lam-viec.html\\'><span >Lá»\\x8bch lÃ\\xa0m viá»\\x87c</span></a></li><li ><a href=\\'https://bvtamtridongthap.com.vn/en/quan-ly-chat-luong-1573441814.html\\'><span >Quáº£n lÃ½ cháº¥t lÆ°á»£ng</span></a></li><li ><a href=\\'https://bvtamtridongthap.com.vn/en/hoat-dong-tu-thien-1459234380.html\\'><span >Hoáº¡t Ä\\x91á»\\x99ng tá»« thiá»\\x87n</span></a></li><li ><a href=\\'https://bvtamtridongthap.com.vn/en/Medical_web.html\\'><span >Medical web</span></a></li><li ><a href=\\'https://bvtamtridongthap.com.vn/en/vaccin.html\\'><span >TÃ¬nh tráº¡ng vaccin</span></a></li><li ><a href=\\'https://bvtamtridongthap.com.vn/en/gioi-thieu-du-lich-suc-khoe.html.html\\'><span >gioi thieu</span></a></li><li ><a href=\\'https://bvtamtridongthap.com.vn/en/du-lich-suc-khoe-1498559545.html\\'><span >Du lá»\\x8bch sá»©c khá»\\x8fe</span></a></li><li ><a href=\\'https://bvtamtridongthap.com.vn/en/gioi-thieu-du-lich-suc-khoe.html\\'><span >Gioi thieu Du Lich Suc Khoe</span></a></li><li ><a href=\\'https://bvtamtridongthap.com.vn/en/gioi-thieu-du-lich-suc-khoe.html-1498514908.html\\'><span >Giá»\\x9bi thiá»\\x87u du lá»\\x8bch sá»©c khá»\\x8fe</span></a></li><li ><a href=\\'https://bvtamtridongthap.com.vn/en/dich-vu-du-lich.html.html\\'><span >Dá»\\x8bch Vá»¥ Du Lá»\\x8bch Sá»©c Khá»\\x8fe</span></a></li><li><a href=\\'https://bvtamtridongthap.com.vn/en/gallery.html\\'><span >Gallery</span></a><li><a href=\\'https://bvtamtridongthap.com.vn/en/video.html\\'><span >Video</span></a></ul></div>\\r\\n        </div>\\r\\n    </div> \\r\\n    \\r\\n</div>      \\r\\n\\r\\n      \\r\\n<div class=\"box_mid\">\\r\\n  <div class=\"mid-title\">\\r\\n    <div class=\"titleL\"><h1 class=\"has-border\">Nhá»¯ng dáº¥u hiá»\\x87u nháº\\xadn biáº¿t ung thÆ° Ä\\x91Æ°á»\\x9dng tiÃªu hÃ³a</h1></div>\\r\\n    <div class=\"titleR\"></div>\\r\\n    <div class=\"clear\"></div>\\r\\n  </div>\\r\\n  <div class=\"mid-content\">\\r\\n    \\r\\n<div class=\"boxDetail\">\\r\\n\\t<p class=\"date_news\">Friday, 30/12/2022, 07:50 GMT+7</p>\\r\\n\\t<div class=\"content-news\"><div align=\"justify\"><p dir=\"ltr\" style=\"line-height:1.295;text-align: justify;margin-top:0pt;margin-bottom:8pt;\"><span style=\"font-family:arial,helvetica,sans-serif;\"><span style=\"font-size:16px;\"><span id=\"docs-internal-guid-55865aed-7fff-dd97-10aa-4dad00f099c1\"><span style=\"font-weight: 700; font-style: italic; font-variant-numeric: normal; font-variant-east-asian: normal; vertical-align: baseline; white-space: pre-wrap;\">*</span></span></span></span><span style=\"font-style: italic; font-weight: 700; white-space: pre-wrap; font-size: 16px; font-family: arial, helvetica, sans-serif;\">BÃ\\xa0i viáº¿t Ä\\x91Æ°á»£c tÆ° váº¥n chuyÃªn mÃ´n bá»\\x9fi BÃ¡c sÄ© chuyÃªn khoa I Tráº§n VÄ\\x83n Chinh - Bá»\\x87nh viá»\\x87n Ä\\x90a Khoa TÃ¢m TrÃ\\xad Ä\\x90á»\\x93ng ThÃ¡p.</span></p>\\r\\n\\r\\n<p dir=\"ltr\" style=\"line-height:1.295;text-align: justify;margin-top:0pt;margin-bottom:8pt;\"><span style=\"font-family:arial,helvetica,sans-serif;\"><span style=\"font-size:16px;\"><span id=\"docs-internal-guid-55865aed-7fff-dd97-10aa-4dad00f099c1\"><span style=\"font-variant-numeric: normal; font-variant-east-asian: normal; vertical-align: baseline; white-space: pre-wrap;\">Theo thá»\\x91ng kÃª, Viá»\\x87t Nam Ä\\x91á»©ng vá»\\x8b trÃ\\xad thá»© hai trÃªn tháº¿ giá»\\x9bi vá»\\x81 tá»\\x89 lá»\\x87 máº¯c bá»\\x87nh ung thÆ°. Trong Ä\\x91Ã³ ung thÆ° </span><span style=\"background-color: rgb(255, 255, 255); font-variant-numeric: normal; font-variant-east-asian: normal; vertical-align: baseline; white-space: pre-wrap;\">dáº¡ dÃ\\xa0y chiáº¿m 9,8%, ung thÆ° Ä\\x91áº¡i trá»±c trÃ\\xa0ng chiáº¿m 9%, Ä\\x91Ã¢y lÃ\\xa0 nhá»¯ng loáº¡i ung thÆ° Ä\\x91Æ°á»\\x9dng tiÃªu hÃ³a phá»\\x95 biáº¿n táº¡i nÆ°á»\\x9bc ta. Tuy nhiÃªn nhá»¯ng dáº¥u hiá»\\x87u cá»§a ung thÆ° tiÃªu hÃ³a thÆ°á»\\x9dng mÆ¡ há»\\x93, khÃ³ cháº©n Ä\\x91oÃ¡n vÃ\\xa0 ráº¥t dá»\\x85 nháº§m láº«n vá»\\x9bi cÃ¡c bá»\\x87nh lÃ½ khÃ¡c dáº«n Ä\\x91áº¿n ngÆ°á»\\x9di bá»\\x87nh ráº¥t chá»§ quan.</span></span></span></span></p>\\r\\n\\r\\n<p dir=\"ltr\" style=\"line-height:1.295;margin-left: 13.5pt;text-align: center;margin-top:0pt;margin-bottom:8pt;\"><span style=\"font-family:arial,helvetica,sans-serif;\"><span style=\"font-size:16px;\"><span id=\"docs-internal-guid-55865aed-7fff-dd97-10aa-4dad00f099c1\"><span style=\"background-color: rgb(255, 255, 255); font-style: italic; font-variant-numeric: normal; font-variant-east-asian: normal; vertical-align: baseline; white-space: pre-wrap;\"><span style=\"border:none;display:inline-block;overflow:hidden;width:597px;height:379px;\"><img height=\"379\" src=\"https://lh3.googleusercontent.com/QRUbfqQXkOTQO9kyeCEn8ZJwJOE_dtvW1W03beb8KkMNsVzP6VZy6jIMqUyEHmiSXmHRciylUPlXOBT_-o5YC5QOwoCBXXLKEcb-Yz6_70JXhSZiH7nuAG6tsrzRS0A9Sfpgg9zWgDzhTicqEZkKAaZH-o1YEXIUCpBe8WCU4eLjTgR1cxSZKvw-h1Wh975ou-AF9Sg1VA\" style=\"margin-left:0px;margin-top:0px;\" width=\"597\" /></span></span></span></span></span></p>\\r\\n\\r\\n<p dir=\"ltr\" style=\"line-height:1.295;margin-left: 36pt;text-align: center;margin-top:0pt;margin-bottom:8pt;\"><span style=\"font-family:arial,helvetica,sans-serif;\"><span style=\"font-size:16px;\"><span id=\"docs-internal-guid-55865aed-7fff-dd97-10aa-4dad00f099c1\"><span style=\"font-style: italic; font-variant-numeric: normal; font-variant-east-asian: normal; vertical-align: baseline; white-space: pre-wrap;\">SÆ¡ Ä\\x91á»\\x93 vá»\\x81 há»\\x87 thá»\\x91ng tiÃªu hÃ³a (Nguá»\\x93n Internet)</span></span></span></span></p>\\r\\n\\r\\n<h2 dir=\"ltr\" style=\"line-height:1.295;text-align: justify;margin-top:18pt;margin-bottom:4pt;\"><strong><span style=\"font-size:20px;\"><span style=\"font-family:arial,helvetica,sans-serif;\"><span id=\"docs-internal-guid-55865aed-7fff-dd97-10aa-4dad00f099c1\"><span style=\"font-variant-numeric: normal; font-variant-east-asian: normal; vertical-align: baseline; white-space: pre-wrap;\">1. Thá»±c tráº¡ng</span></span></span></span></strong></h2>\\r\\n\\r\\n<p dir=\"ltr\" style=\"line-height:1.2;text-align: justify;margin-top:0pt;margin-bottom:8pt;\"><span style=\"font-family:arial,helvetica,sans-serif;\"><span style=\"font-size:16px;\"><span id=\"docs-internal-guid-55865aed-7fff-dd97-10aa-4dad00f099c1\"><span style=\"background-color: rgb(255, 255, 255); font-variant-numeric: normal; font-variant-east-asian: normal; vertical-align: baseline; white-space: pre-wrap;\">Ung thÆ° tiÃªu hÃ³a ngÃ\\xa0y nay khÃ´ng nhá»¯ng diá»\\x85n ra á»\\x9f ngÆ°á»\\x9di giÃ\\xa0 mÃ\\xa0 ngay cáº£ á»\\x9f giá»\\x9bi tráº» cÃ³ cháº¿ Ä\\x91á»\\x99 Ä\\x83n uá»\\x91ng khÃ´ng lÃ\\xa0nh máº¡nh cÅ©ng dáº«n Ä\\x91áº¿n nhá»¯ng há»\\x87 lá»¥y tiá»\\x81m áº©n vá»\\x81 Ä\\x91Æ°á»\\x9dng tiÃªu hÃ³a. Sau Ä\\x91Ã¢y lÃ\\xa0 má»\\x99t vÃ\\xa0i minh chá»©ng vá»\\x81 cÃ¡c bá»\\x87nh nhÃ¢n cÃ³ nhá»¯ng dáº¥u hiá»\\x87u liÃªn quan tá»\\x9bi há»\\x87 tiÃªu hÃ³a.</span></span></span></span></p>\\r\\n\\r\\n<p dir=\"ltr\" style=\"line-height:1.2;text-align: justify;margin-top:0pt;margin-bottom:8pt;\"><span style=\"font-family:arial,helvetica,sans-serif;\"><span style=\"font-size:16px;\"><span id=\"docs-internal-guid-55865aed-7fff-dd97-10aa-4dad00f099c1\"><span style=\"background-color: rgb(255, 255, 255); font-variant-numeric: normal; font-variant-east-asian: normal; vertical-align: baseline; white-space: pre-wrap;\">TrÆ°á»\\x9dng há»£p cá»§a anh L.V.T (47 tuá»\\x95i, Háº£i PhÃ²ng) Ä\\x91i&nbsp;khÃ¡m bá»\\x87nh, anh nÃ\\xa0y cÃ³ triá»\\x87u chá»©ng tiÃªu phÃ¢n nÃ¡t cÃ³ nháº§y mÅ©i, kÃ¨m theo Ä\\x91au bá»¥ng Ã¢m á»\\x89 vÃ¹ng quanh rá»\\x91n.&nbsp;Káº¿t quáº£ ná»\\x99i soi Ä\\x91áº¡i trÃ\\xa0ng cháº©n Ä\\x91oÃ¡n anh T bá»\\x8b Ung thÆ° Ä\\x91áº¡i trÃ\\xa0ng ngang vÃ\\xa0 nghi ngá»\\x9d di cÄ\\x83n gan</span><span style=\"color: rgb(33, 37, 41); background-color: rgb(255, 255, 255); font-variant-numeric: normal; font-variant-east-asian: normal; vertical-align: baseline; white-space: pre-wrap;\">.</span></span></span></span></p>\\r\\n\\r\\n<p dir=\"ltr\" style=\"line-height:1.2;text-align: justify;background-color:#ffffff;margin-top:0pt;margin-bottom:0pt;padding:0pt 0pt 14pt 0pt;\"><span style=\"font-family:arial,helvetica,sans-serif;\"><span style=\"font-size:16px;\"><span id=\"docs-internal-guid-55865aed-7fff-dd97-10aa-4dad00f099c1\"><span style=\"font-variant-numeric: normal; font-variant-east-asian: normal; vertical-align: baseline; white-space: pre-wrap;\">Bá»\\x87nh nhÃ¢n L. L. A (50 tuá»\\x95i, á»\\x9f Báº¯c Ninh) cÃ³ triá»\\x87u chá»©ng Ä\\x91au bá»¥ng vÃ¹ng háº¡ vá»\\x8b, quáº·n tá»«ng cÆ¡n sau khi Ä\\x83n Ä\\x91á»\\x93 Ä\\x83n láº¡. Tuy nhiÃªn bá»\\x87nh nhÃ¢n nÃ\\xa0y khÃ´ng cÃ³ triá»\\x87u chá»©ng nÃ´n, sá»\\x91t vÃ\\xa0 khÃ´ng sá»¥t cÃ¢n. Bá»\\x87nh nhÃ¢n L.L.A nhiá»\\x81u nÄ\\x83m nay chá»\\x89 Ä\\x91au thi thoáº£ng nhÆ°ng Ä\\x91á»£t nÃ\\xa0y táº§n suáº¥t Ä\\x91au nhiá»\\x81u hÆ¡n, Ä\\x91áº¿n khi BÃ¡c sÄ© thÄ\\x83m khÃ¡m, ná»\\x99i soi Ä\\x91áº¡i trá»±c trÃ\\xa0ng phÃ¡t hiá»\\x87n </span><span style=\"background-color: transparent; font-variant-numeric: normal; font-variant-east-asian: normal; vertical-align: baseline; white-space: pre-wrap;\">bá»\\x8b ung thÆ° Ä\\x91áº¡i trÃ\\xa0ng ngang.</span></span></span></span></p>\\r\\n\\r\\n<p dir=\"ltr\" style=\"line-height:1.2;text-align: justify;background-color:#ffffff;margin-top:0pt;margin-bottom:0pt;padding:0pt 0pt 14pt 0pt;\"><span style=\"font-family:arial,helvetica,sans-serif;\"><span style=\"font-size:16px;\"><span id=\"docs-internal-guid-55865aed-7fff-dd97-10aa-4dad00f099c1\"><span style=\"background-color: transparent; font-variant-numeric: normal; font-variant-east-asian: normal; vertical-align: baseline; white-space: pre-wrap;\">VÃ\\xa0 thÃªm má»\\x99t nhÃ¢n chá»©ng cho bá»\\x87nh ung thÆ° Ä\\x91áº¡i trá»±c trÃ\\xa0ng xuáº¥t hiá»\\x87n á»\\x9f giai Ä\\x91oáº¡n sá»\\x9bm vÃ\\xa0 Ä\\x91Æ°á»£c Ä\\x91iá»\\x81u trá»\\x8b ká»\\x8bp thá»\\x9di. Ä\\x90iá»\\x83n hÃ¬nh Ä\\x91Ã³ lÃ\\xa0 bá»\\x87nh nhÃ¢n </span><span style=\"font-variant-numeric: normal; font-variant-east-asian: normal; vertical-align: baseline; white-space: pre-wrap;\">P.Ä\\x90.Ä\\x90 (54 tuá»\\x95i, Thanh HÃ³a), anh Ä\\x90 khÃ´ng cÃ³ triá»\\x87u chá»©ng gÃ¬ báº¥t thÆ°á»\\x9dng, chá»\\x89 khi anh kiá»\\x83m tra sá»©c khá»\\x8fe Ä\\x91á»\\x8bnh ká»³ hÃ\\xa0ng nÄ\\x83m vÃ\\xa0 Ä\\x91Æ°á»£c BÃ¡c sÄ© tÆ° váº¥n ná»\\x99i soi dáº¡ dÃ\\xa0y â\\x80\\x93 Ä\\x91áº¡i trá»±c trÃ\\xa0ng má»\\x9bi phÃ¡t hiá»\\x87n ra á»\\x9f Ä\\x91áº¡i trÃ\\xa0ng trÃ¡i cÃ³ polyp lá»\\x9bn. BÃ¡c sÄ© Ä\\x91Ã£ tiáº¿n hÃ\\xa0nh cáº¯t polyp thÃ´ng qua ná»\\x99i soi vÃ\\xa0 káº¿t quáº£ lÃ\\xa0 â\\x80\\x9cLoáº¡n sáº£n Ä\\x91á»\\x99 caoâ\\x80\\x9d (tiá»\\x81n ung thÆ° hay ung thÆ° sá»\\x9bm). Ráº¥t may anh Ä\\x90 </span><span style=\"background-color: transparent; font-variant-numeric: normal; font-variant-east-asian: normal; vertical-align: baseline; white-space: pre-wrap;\">Ä\\x91Ã£ Ä\\x91Æ°á»£c phÃ¡t hiá»\\x87n vÃ\\xa0 cáº¯t bá»\\x8f hoÃ\\xa0n toÃ\\xa0n tá»\\x95n thÆ°Æ¡ng á»\\x9f giai Ä\\x91oáº¡n tiá»\\x81n ung thÆ°, trÃ¡nh trá»\\x9f thÃ\\xa0nh ung thÆ° tiáº¿n triá»\\x83n.</span></span></span></span></p>\\r\\n\\r\\n<p dir=\"ltr\" style=\"line-height:1.2;text-align: justify;background-color:#ffffff;margin-top:0pt;margin-bottom:14pt;\"><span style=\"font-family:arial,helvetica,sans-serif;\"><span style=\"font-size:16px;\"><span id=\"docs-internal-guid-55865aed-7fff-dd97-10aa-4dad00f099c1\"><span style=\"background-color: transparent; font-variant-numeric: normal; font-variant-east-asian: normal; vertical-align: baseline; white-space: pre-wrap;\">Ung thÆ° Ä\\x91Æ°á»\\x9dng tiÃªu hÃ³a cÃ³ thá»\\x83 chia thÃ\\xa0nh hai nhÃ³m:</span></span></span></span></p>\\r\\n\\r\\n<ul dir=\"ltr\" style=\"margin-left: 40px;\">\\r\\n\\t<li role=\"presentation\" style=\"list-style-type: disc; font-size: 13pt; font-variant-numeric: normal; font-variant-east-asian: normal; vertical-align: baseline; white-space: pre; line-height: 1.2; text-align: justify; background-color: rgb(255, 255, 255); margin-top: 0pt; margin-bottom: 0pt;\"><span style=\"font-family:arial,helvetica,sans-serif;\"><span style=\"font-size:16px;\"><span id=\"docs-internal-guid-55865aed-7fff-dd97-10aa-4dad00f099c1\"><span style=\"background-color: transparent; font-weight: 700; font-style: italic; font-variant-numeric: normal; font-variant-east-asian: normal; vertical-align: baseline; white-space: pre-wrap;\">NhÃ³m má»\\x99t:</span><span style=\"background-color: transparent; font-variant-numeric: normal; font-variant-east-asian: normal; vertical-align: baseline; white-space: pre-wrap;\"> </span><span style=\"background-color: transparent; font-style: italic; font-variant-numeric: normal; font-variant-east-asian: normal; vertical-align: baseline; white-space: pre-wrap;\">Ung thÆ° Ä\\x91Æ°á»\\x9dng tiÃªu hÃ³a trÃªn</span><span style=\"background-color: transparent; font-variant-numeric: normal; font-variant-east-asian: normal; vertical-align: baseline; white-space: pre-wrap;\"> bao gá»\\x93m ung thÆ° thá»±c quáº£n, ung thÆ° dáº¡ dÃ\\xa0y.</span></span></span></span></li>\\r\\n\\t<li role=\"presentation\" style=\"list-style-type: disc; font-size: 13pt; font-variant-numeric: normal; font-variant-east-asian: normal; vertical-align: baseline; white-space: pre; line-height: 1.2; text-align: justify; background-color: rgb(255, 255, 255); margin-top: 0pt; margin-bottom: 14pt;\"><span style=\"font-family:arial,helvetica,sans-serif;\"><span style=\"font-size:16px;\"><span id=\"docs-internal-guid-55865aed-7fff-dd97-10aa-4dad00f099c1\"><span style=\"background-color: transparent; font-weight: 700; font-style: italic; font-variant-numeric: normal; font-variant-east-asian: normal; vertical-align: baseline; white-space: pre-wrap;\">NhÃ³m hai:</span><span style=\"background-color: transparent; font-variant-numeric: normal; font-variant-east-asian: normal; vertical-align: baseline; white-space: pre-wrap;\"> </span><span style=\"background-color: transparent; font-style: italic; font-variant-numeric: normal; font-variant-east-asian: normal; vertical-align: baseline; white-space: pre-wrap;\">Ung thÆ° Ä\\x91Æ°á»\\x9dng tiÃªu hÃ³a dÆ°á»\\x9bi </span><span style=\"background-color: transparent; font-variant-numeric: normal; font-variant-east-asian: normal; vertical-align: baseline; white-space: pre-wrap;\">bao gá»\\x93m ung thÆ° Ä\\x91áº¡i trÃ\\xa0ng, trá»±c trÃ\\xa0ng,â\\x80¦</span></span></span></span></li>\\r\\n</ul>\\r\\n\\r\\n<h2 dir=\"ltr\" style=\"line-height:1.2;text-align: justify;background-color:#ffffff;margin-top:18pt;margin-bottom:0pt;padding:0pt 0pt 14pt 0pt;\"><strong><span style=\"font-size:20px;\"><span style=\"font-family:arial,helvetica,sans-serif;\"><span id=\"docs-internal-guid-55865aed-7fff-dd97-10aa-4dad00f099c1\"><span style=\"background-color: transparent; font-variant-numeric: normal; font-variant-east-asian: normal; vertical-align: baseline; white-space: pre-wrap;\">2. Dáº¥u hiá»\\x87u nháº\\xadn biáº¿t ung thÆ° tiÃªu hÃ³a</span></span></span></span></strong></h2>\\r\\n\\r\\n<p dir=\"ltr\" style=\"line-height:1.3800000000000001;text-align: justify;margin-top:0pt;margin-bottom:8pt;\"><span style=\"font-family:arial,helvetica,sans-serif;\"><span style=\"font-size:16px;\"><span id=\"docs-internal-guid-55865aed-7fff-dd97-10aa-4dad00f099c1\"><span style=\"background-color: rgb(255, 255, 255); font-variant-numeric: normal; font-variant-east-asian: normal; vertical-align: baseline; white-space: pre-wrap;\">NhÆ° váº\\xady sau khi Ä\\x91Ãºc káº¿t láº¡i tá»« nhá»¯ng trÆ°á»\\x9dng há»£p trÃªn. DÆ°á»\\x9bi Ä\\x91Ã¢y lÃ\\xa0 má»\\x99t vÃ\\xa0i dáº¥u hiá»\\x87u thÃ´ng thÆ°á»\\x9dng Ä\\x91á»\\x83 nháº\\xadn biáº¿t vá»\\x81 ung thÆ° tiÃªu hÃ³a:</span></span></span></span></p>\\r\\n\\r\\n<ul dir=\"ltr\" style=\"margin-left: 40px;\">\\r\\n\\t<li role=\"presentation\" style=\"list-style-type: disc; font-size: 13pt; font-family: Arial; font-variant-numeric: normal; font-variant-east-asian: normal; vertical-align: baseline; white-space: pre; line-height: 1.38; text-align: justify; margin-top: 0pt; margin-bottom: 0pt;\"><span style=\"font-family:arial,helvetica,sans-serif;\"><span style=\"font-size:16px;\"><span id=\"docs-internal-guid-55865aed-7fff-dd97-10aa-4dad00f099c1\"><span style=\"background-color: rgb(255, 255, 255); font-weight: 700; font-style: italic; font-variant-numeric: normal; font-variant-east-asian: normal; vertical-align: baseline; white-space: pre-wrap;\">Giáº£m cÃ¢n khÃ´ng rÃµ nguyÃªn nhÃ¢n:</span><span style=\"background-color: rgb(255, 255, 255); font-variant-numeric: normal; font-variant-east-asian: normal; vertical-align: baseline; white-space: pre-wrap;\"> trá»\\x8dng lÆ°á»£ng cÆ¡ thá»\\x83 trong má»\\x99t Ä\\x91áº¿n 2 thÃ¡ng sá»¥t cÃ¢n nhanh chÃ³ng, giáº£m xuá»\\x91ng 5-7 kg nhÆ°ng váº«n Ä\\x83n uá»\\x91ng á»\\x9f cháº¿ Ä\\x91á»\\x99 bÃ¬nh thÆ°á»\\x9dng nhÆ° má»\\x8di khi. Ä\\x90Ã³ cÅ©ng lÃ\\xa0 má»\\x99t pháº§n dáº¥u hiá»\\x87u giáº£m cÃ¢n chÆ°a rÃµ nguyÃªn nhÃ¢n do Ä\\x91Ã¢u.</span></span></span></span></li>\\r\\n\\t<li role=\"presentation\" style=\"list-style-type: disc; font-size: 13pt; font-family: Arial; font-variant-numeric: normal; font-variant-east-asian: normal; vertical-align: baseline; white-space: pre; line-height: 1.38; text-align: justify; margin-top: 0pt; margin-bottom: 8pt;\"><span style=\"font-family:arial,helvetica,sans-serif;\"><span style=\"font-size:16px;\"><span id=\"docs-internal-guid-55865aed-7fff-dd97-10aa-4dad00f099c1\"><span style=\"background-color: rgb(255, 255, 255); font-weight: 700; font-style: italic; font-variant-numeric: normal; font-variant-east-asian: normal; vertical-align: baseline; white-space: pre-wrap;\">CÃ³ triá»\\x87u chá»©ng Ä\\x91au bá»¥ng:</span><span style=\"background-color: rgb(255, 255, 255); font-variant-numeric: normal; font-variant-east-asian: normal; vertical-align: baseline; white-space: pre-wrap;\"> bá»¥ng cÃ³ triá»\\x87u chá»©ng Ä\\x91au Ã¢m á»\\x89, táº§n suáº¥t Ä\\x91au nhiá»\\x81u láº§n trong ngÃ\\xa0y hoáº·c Ä\\x91au bá»¥ng quáº·n, Ä\\x91au theo tá»«ng cÆ¡n. </span></span></span></span></li>\\r\\n\\t<li role=\"presentation\" style=\"list-style-type: disc; font-size: 13pt; font-family: Arial; font-variant-numeric: normal; font-variant-east-asian: normal; vertical-align: baseline; white-space: pre; line-height: 1.295; text-align: justify; margin-top: 0pt; margin-bottom: 0pt;\"><span style=\"font-family:arial,helvetica,sans-serif;\"><span style=\"font-size:16px;\"><span id=\"docs-internal-guid-55865aed-7fff-dd97-10aa-4dad00f099c1\"><span style=\"background-color: rgb(255, 255, 255); font-weight: 700; font-style: italic; font-variant-numeric: normal; font-variant-east-asian: normal; vertical-align: baseline; white-space: pre-wrap;\">Suy nhÆ°á»£c cÆ¡ thá»\\x83 hoáº·c má»\\x87t má»\\x8fi</span><span style=\"background-color: rgb(255, 255, 255); font-style: italic; font-variant-numeric: normal; font-variant-east-asian: normal; vertical-align: baseline; white-space: pre-wrap;\"> (Ä\\x91Ã´i khi cÃ³ thá»\\x83 do thiáº¿u mÃ¡u): Ä\\x91Ã¢y lÃ\\xa0 </span><span style=\"background-color: rgb(255, 255, 255); font-variant-numeric: normal; font-variant-east-asian: normal; vertical-align: baseline; white-space: pre-wrap;\">triá»\\x87u chá»©ng thÆ°á»\\x9dng xáº£y ra ráº¥t phá»\\x95 biáº¿n nhÆ°ng chÃºng ta ráº¥t lÆ¡ lÃ\\xa0 vÃ\\xa0 hay bá»\\x8f quÃªn dáº¥u hiá»\\x87u nÃ\\xa0y. CÆ¡ thá»\\x83 sáº½ cÃ³ triá»\\x87u chá»©ng má»\\x87t má»\\x8fi, uá»\\x83 oáº£i, ngÆ°á»\\x9di lá»« Ä\\x91á»«, tay chÃ¢n nháº¥c lÃªn náº·ng ná»\\x81 hoáº·c khÃ³ nháº¥c</span></span></span></span></li>\\r\\n\\t<li role=\"presentation\" style=\"list-style-type: disc; font-size: 13pt; font-family: Arial; font-variant-numeric: normal; font-variant-east-asian: normal; vertical-align: baseline; white-space: pre; line-height: 1.295; text-align: justify; margin-top: 0pt; margin-bottom: 0pt;\"><span style=\"font-family:arial,helvetica,sans-serif;\"><span style=\"font-size:16px;\"><span id=\"docs-internal-guid-55865aed-7fff-dd97-10aa-4dad00f099c1\"><span style=\"background-color: rgb(255, 255, 255); font-weight: 700; font-style: italic; font-variant-numeric: normal; font-variant-east-asian: normal; vertical-align: baseline; white-space: pre-wrap;\">PhÃ¢n cÃ³ triá»\\x87u chá»©ng báº¥t thÆ°á»\\x9dng </span><span style=\"background-color: rgb(255, 255, 255); font-style: italic; font-variant-numeric: normal; font-variant-east-asian: normal; vertical-align: baseline; white-space: pre-wrap;\">nhÆ°:</span><span style=\"background-color: rgb(255, 255, 255); font-variant-numeric: normal; font-variant-east-asian: normal; vertical-align: baseline; white-space: pre-wrap;\"> Ä\\x91i ngoÃ\\xa0i nhiá»\\x81u láº§n, tÃ¡o bÃ³n, tiÃªu cháº£y, phÃ¢n cÃ³ mÃ¡u, mÃ\\xa0u Ä\\x91en hoáº·c háº¯c Ã\\xadn,â\\x80¦, kÃ\\xadch thÆ°á»\\x9bc phÃ¢n khÃ¡c láº¡ (phÃ¢n dáº¹t)</span></span></span></span></li>\\r\\n</ul>\\r\\n\\r\\n<p dir=\"ltr\" role=\"presentation\" style=\"list-style-type: disc; font-size: 13pt; font-family: Arial; font-variant-numeric: normal; font-variant-east-asian: normal; vertical-align: baseline; white-space: pre; line-height: 1.295; margin-top: 0pt; margin-bottom: 0pt; text-align: center;\"><img alt=\"dau-bung-kho-chiu\" src=\"/vnt_upload/news/12_2022/dau-bung-kho-chiu.jpg\" style=\"width: 800px; height: 390px;\" /></p>\\r\\n\\r\\n<p dir=\"ltr\" role=\"presentation\" style=\"list-style-type: disc; font-size: 13pt; font-family: Arial; font-variant-numeric: normal; font-variant-east-asian: normal; vertical-align: baseline; white-space: pre; line-height: 1.295; margin-top: 0pt; margin-bottom: 0pt; text-align: center;\"><em><span style=\"font-family:arial,helvetica,sans-serif;\"><span style=\"font-size:16px;\"><span><span style=\"background-color: rgb(255, 255, 255); font-variant-numeric: normal; font-variant-east-asian: normal; vertical-align: baseline; white-space: pre-wrap;\">â\\x80\\x8bÄ\\x90au bá»¥ng lÃ\\xa0 triá»\\x87u chá»©ng cÆ¡ báº£n cá»§a ung thÆ° Ä\\x91Æ°á»\\x9dng tiÃªu hÃ³a</span></span></span></span></em></p>\\r\\n\\r\\n<ul dir=\"ltr\" style=\"margin-left: 40px;\">\\r\\n\\t<li role=\"presentation\" style=\"list-style-type: disc; font-size: 13pt; font-family: Arial; font-variant-numeric: normal; font-variant-east-asian: normal; vertical-align: baseline; white-space: pre; line-height: 1.295; text-align: justify; margin-top: 0pt; margin-bottom: 8pt;\"><span style=\"font-family:arial,helvetica,sans-serif;\"><span style=\"font-size:16px;\"><span id=\"docs-internal-guid-55865aed-7fff-dd97-10aa-4dad00f099c1\"><span style=\"background-color: rgb(255, 255, 255); font-weight: 700; font-style: italic; font-variant-numeric: normal; font-variant-east-asian: normal; vertical-align: baseline; white-space: pre-wrap;\">Ä\\x90áº§y hÆ¡i vÃ\\xa0 khÃ³ tiÃªu</span><span style=\"background-color: rgb(255, 255, 255); font-style: italic; font-variant-numeric: normal; font-variant-east-asian: normal; vertical-align: baseline; white-space: pre-wrap;\">:</span><span style=\"background-color: rgb(255, 255, 255); font-variant-numeric: normal; font-variant-east-asian: normal; vertical-align: baseline; white-space: pre-wrap;\"> cÆ¡ thá»\\x83 cÃ³ triá»\\x87u chá»©ng nhÆ° bá»¥ng phÃ¬nh to, cáº£m giÃ¡c Ã¬ áº¡ch, khÃ³ chá»\\x8bu ngay cáº£ khi báº¡n Ä\\x91Ã£ Ä\\x83n xong ráº¥t lÃ¢u.&nbsp;</span></span></span></span></li>\\r\\n\\t<li role=\"presentation\" style=\"list-style-type: disc; font-size: 13pt; font-family: Arial; font-variant-numeric: normal; font-variant-east-asian: normal; vertical-align: baseline; white-space: pre; line-height: 1.295; text-align: justify; margin-top: 0pt; margin-bottom: 0pt;\"><span style=\"font-family:arial,helvetica,sans-serif;\"><span style=\"font-size:16px;\"><span id=\"docs-internal-guid-55865aed-7fff-dd97-10aa-4dad00f099c1\"><span style=\"background-color: rgb(255, 255, 255); font-weight: 700; font-style: italic; font-variant-numeric: normal; font-variant-east-asian: normal; vertical-align: baseline; white-space: pre-wrap;\">VÃ¹ng thÆ°á»£ng vá»\\x8b bá»\\x8b Ä\\x91au tá»©c</span><span style=\"background-color: rgb(255, 255, 255); font-style: italic; font-variant-numeric: normal; font-variant-east-asian: normal; vertical-align: baseline; white-space: pre-wrap;\">: </span><span style=\"background-color: rgb(255, 255, 255); font-variant-numeric: normal; font-variant-east-asian: normal; vertical-align: baseline; white-space: pre-wrap;\">lÃ\\xa0 ranh giá»\\x9bi tá»« rá»\\x91n trá»\\x9f lÃªn Ä\\x91áº¿n phÃ\\xada dÆ°á»\\x9bi xÆ°Æ¡ng á»©c&nbsp;</span></span></span></span></li>\\r\\n\\t<li role=\"presentation\" style=\"list-style-type: disc; font-size: 13pt; font-family: Arial; font-variant-numeric: normal; font-variant-east-asian: normal; vertical-align: baseline; white-space: pre; line-height: 1.295; text-align: justify; margin-top: 0pt; margin-bottom: 0pt;\"><span style=\"font-family:arial,helvetica,sans-serif;\"><span style=\"font-size:16px;\"><span id=\"docs-internal-guid-55865aed-7fff-dd97-10aa-4dad00f099c1\"><span style=\"background-color: rgb(255, 255, 255); font-weight: 700; font-style: italic; font-variant-numeric: normal; font-variant-east-asian: normal; vertical-align: baseline; white-space: pre-wrap;\">Buá»\\x93n nÃ´n vÃ\\xa0 nÃ´n Ã³i:</span><span style=\"background-color: rgb(255, 255, 255); font-style: italic; font-variant-numeric: normal; font-variant-east-asian: normal; vertical-align: baseline; white-space: pre-wrap;\"> </span><span style=\"background-color: rgb(255, 255, 255); font-variant-numeric: normal; font-variant-east-asian: normal; vertical-align: baseline; white-space: pre-wrap;\">bá»\\x8b nÃ´n, Ã³i nhiá»\\x81u láº§n trong ngÃ\\xa0y</span></span></span></span></li>\\r\\n\\t<li role=\"presentation\" style=\"list-style-type: disc; font-size: 13pt; font-family: Arial; font-variant-numeric: normal; font-variant-east-asian: normal; vertical-align: baseline; white-space: pre; line-height: 1.295; text-align: justify; margin-top: 0pt; margin-bottom: 0pt;\"><span style=\"font-family:arial,helvetica,sans-serif;\"><span style=\"font-size:16px;\"><span id=\"docs-internal-guid-55865aed-7fff-dd97-10aa-4dad00f099c1\"><span style=\"background-color: rgb(255, 255, 255); font-weight: 700; font-style: italic; font-variant-numeric: normal; font-variant-east-asian: normal; vertical-align: baseline; white-space: pre-wrap;\">á»¢ chua, á»£ nÃ³ng:</span><span style=\"background-color: rgb(255, 255, 255); font-style: italic; font-variant-numeric: normal; font-variant-east-asian: normal; vertical-align: baseline; white-space: pre-wrap;\"> </span><span style=\"background-color: rgb(255, 255, 255); font-variant-numeric: normal; font-variant-east-asian: normal; vertical-align: baseline; white-space: pre-wrap;\">thÆ°á»\\x9dng á»£ chua, á»£ nÃ³ng nhiá»\\x81u láº§n trong ngÃ\\xa0y, hay biá»\\x83u hiá»\\x87n vÃ\\xa0o buá»\\x95i sÃ¡ng (Ä\\x90Ã¢y cÃ³ thá»\\x83 dáº¥u hiá»\\x87u vá»\\x81 nhiá»\\x85m HP trong dáº¡ dÃ\\xa0y hoáº·c viÃªm loÃ©t dáº¡ dÃ\\xa0y)</span></span></span></span></li>\\r\\n\\t<li role=\"presentation\" style=\"list-style-type: disc; font-size: 13pt; font-family: Arial; font-variant-numeric: normal; font-variant-east-asian: normal; vertical-align: baseline; white-space: pre; line-height: 1.295; text-align: justify; margin-top: 0pt; margin-bottom: 8pt;\"><span style=\"font-family:arial,helvetica,sans-serif;\"><span style=\"font-size:16px;\"><span id=\"docs-internal-guid-55865aed-7fff-dd97-10aa-4dad00f099c1\"><span style=\"background-color: rgb(255, 255, 255); font-weight: 700; font-style: italic; font-variant-numeric: normal; font-variant-east-asian: normal; vertical-align: baseline; white-space: pre-wrap;\">CÃ³ triá»\\x87u chá»©ng Ä\\x91au há»\\x8dng, nuá»\\x91t Ä\\x91au, khÃ³ nuá»\\x91t, nuá»\\x91t ngháº¹n:</span><span style=\"background-color: rgb(255, 255, 255); font-variant-numeric: normal; font-variant-east-asian: normal; vertical-align: baseline; white-space: pre-wrap;\"> Ä\\x91Ã¢y cÃ³ thá»\\x83 lÃ\\xa0 má»\\x99t trong sá»\\x91 biá»\\x83u hiá»\\x87n vá»\\x81 ung thÆ° thá»±c quáº£n.</span></span></span></span></li>\\r\\n</ul>\\r\\n\\r\\n<h2 dir=\"ltr\" style=\"line-height:1.295;text-align: justify;margin-top:18pt;margin-bottom:4pt;\"><strong><span style=\"font-size:20px;\"><span style=\"font-family:arial,helvetica,sans-serif;\"><span id=\"docs-internal-guid-55865aed-7fff-dd97-10aa-4dad00f099c1\"><span style=\"font-variant-numeric: normal; font-variant-east-asian: normal; vertical-align: baseline; white-space: pre-wrap;\">3. LÃ\\xa0m gÃ¬ Ä\\x91á»\\x83 trÃ¡nh nguy cÆ¡ máº¯c bá»\\x87nh ung thÆ° Ä\\x91Æ°á»\\x9dng tiÃªu hÃ³a?</span></span></span></span></strong></h2>\\r\\n\\r\\n<p dir=\"ltr\" style=\"line-height:1.295;text-align: justify;margin-top:0pt;margin-bottom:8pt;\"><span style=\"font-family:arial,helvetica,sans-serif;\"><span style=\"font-size:16px;\"><span id=\"docs-internal-guid-55865aed-7fff-dd97-10aa-4dad00f099c1\"><span style=\"background-color: rgb(255, 255, 255); font-variant-numeric: normal; font-variant-east-asian: normal; vertical-align: baseline; white-space: pre-wrap;\">DÆ°á»\\x9bi Ä\\x91Ã¢y lÃ\\xa0 má»\\x99t sá»\\x91 cÃ¡ch phÃ²ng ngá»«a ung thÆ° Ä\\x91Æ°á»\\x9dng tiÃªu hÃ³a hiá»\\x87u quáº£</span></span></span></span></p>\\r\\n\\r\\n<ul dir=\"ltr\" style=\"margin-left: 40px;\">\\r\\n\\t<li role=\"presentation\" style=\"list-style-type: disc; font-size: 13pt; font-family: Arial; font-variant-numeric: normal; font-variant-east-asian: normal; vertical-align: baseline; white-space: pre; line-height: 1.295; text-align: justify; margin-top: 0pt; margin-bottom: 0pt;\"><span style=\"font-family:arial,helvetica,sans-serif;\"><span style=\"font-size:16px;\"><span id=\"docs-internal-guid-55865aed-7fff-dd97-10aa-4dad00f099c1\"><span style=\"background-color: rgb(255, 255, 255); font-variant-numeric: normal; font-variant-east-asian: normal; vertical-align: baseline; white-space: pre-wrap;\">Thá»±c hiá»\\x87n cháº¿ Ä\\x91á»\\x99 Ä\\x83n uá»\\x91ng lÃ\\xa0nh máº¡nh nhÆ° Ä\\x83n nhiá»\\x81u rau xanh, trÃ¡i cÃ¢y. Giáº£m cháº¥t bÃ©o. Háº¡n cháº¿ Ä\\x91á»\\x93 chua cay nÃ³ng, cháº¥t kÃ\\xadch thÃ\\xadch, chiÃªn rÃ¡n nÆ°á»\\x9bng, Ä\\x91á»\\x93 Ä\\x83n cÃ´ng nghiá»\\x87p, rÆ°á»£u bia. Bá»\\x8f thuá»\\x91c lÃ¡.</span></span></span></span></li>\\r\\n\\t<li role=\"presentation\" style=\"list-style-type: disc; font-size: 13pt; font-family: Arial; font-variant-numeric: normal; font-variant-east-asian: normal; vertical-align: baseline; white-space: pre; line-height: 1.295; text-align: justify; margin-top: 0pt; margin-bottom: 0pt;\"><span style=\"font-family:arial,helvetica,sans-serif;\"><span style=\"font-size:16px;\"><span id=\"docs-internal-guid-55865aed-7fff-dd97-10aa-4dad00f099c1\"><span style=\"background-color: rgb(255, 255, 255); font-variant-numeric: normal; font-variant-east-asian: normal; vertical-align: baseline; white-space: pre-wrap;\">ThÆ°á»\\x9dng xuyÃªn táº\\xadp thá»\\x83 dá»¥c má»\\x97i ngÃ\\xa0y khÃ´ng chá»\\x89 giÃºp báº¡n rÃ¨n luyá»\\x87n sá»©c khá»\\x8fe mÃ\\xa0 cÃ²n giÃºp báº¡n cÃ³ má»\\x99t vÃ³c dÃ¡ng cÃ¢n Ä\\x91á»\\x91i, háº¡n cháº¿ nguy cÆ¡ bá»\\x87nh táº\\xadt.</span></span></span></span></li>\\r\\n\\t<li role=\"presentation\" style=\"list-style-type: disc; font-size: 13pt; font-family: Arial; font-variant-numeric: normal; font-variant-east-asian: normal; vertical-align: baseline; white-space: pre; line-height: 1.2; text-align: justify; background-color: rgb(255, 255, 255); margin-top: 0pt; margin-bottom: 0pt;\"><span style=\"font-family:arial,helvetica,sans-serif;\"><span style=\"font-size:16px;\"><span id=\"docs-internal-guid-55865aed-7fff-dd97-10aa-4dad00f099c1\"><span style=\"background-color: transparent; font-variant-numeric: normal; font-variant-east-asian: normal; vertical-align: baseline; white-space: pre-wrap;\">KhÃ¡m ngay khi cÃ³ triá»\\x87u chá»©ng báº¥t thÆ°á»\\x9dng nhÆ°: ChÃ¡n Ä\\x83n, Ä\\x91áº§y bá»¥ng, sá»¥t cÃ¢n khÃ´ng rÃµ nguyÃªn nhÃ¢n; Ä\\x90áº¡i tiá»\\x87n phÃ¢n nhá»\\x8f dáº¹t, phÃ¢n mÃ¡u, tÃ¡o bÃ³n hoáº·c tiÃªu cháº£y, â\\x80¦</span></span></span></span></li>\\r\\n\\t<li role=\"presentation\" style=\"list-style-type: disc; font-size: 13pt; font-family: Arial; font-variant-numeric: normal; font-variant-east-asian: normal; vertical-align: baseline; white-space: pre; line-height: 1.295; text-align: justify; margin-top: 0pt; margin-bottom: 8pt;\"><span style=\"font-family:arial,helvetica,sans-serif;\"><span style=\"font-size:16px;\"><span id=\"docs-internal-guid-55865aed-7fff-dd97-10aa-4dad00f099c1\"><span style=\"background-color: rgb(255, 255, 255); font-variant-numeric: normal; font-variant-east-asian: normal; vertical-align: baseline; white-space: pre-wrap;\">Táº§m soÃ¡t ung thÆ° Ä\\x91Æ°á»\\x9dng tiÃªu hÃ³a (há»\\x8dng, dáº¡ dÃ\\xa0y, trá»±c trÃ\\xa0ng, Ä\\x91áº¡i trÃ\\xa0ng,â\\x80¦) Ä\\x91á»\\x8bnh ká»³ á»\\x9f cÃ¡c cÆ¡ sá»\\x9f y táº¿ uy tÃ\\xadn hoáº·c khi cÆ¡ thá»\\x83 chÆ°a cÃ³ cÃ¡c dáº¥u hiá»\\x87u nÃ³i trÃªn.&nbsp;</span></span></span></span></li>\\r\\n</ul>\\r\\n\\r\\n<p dir=\"ltr\" style=\"line-height:1.295;margin-left: 18pt;text-align: center;margin-top:0pt;margin-bottom:8pt;\"><span style=\"font-family:arial,helvetica,sans-serif;\"><span style=\"font-size:16px;\"><span id=\"docs-internal-guid-55865aed-7fff-dd97-10aa-4dad00f099c1\"><span style=\"background-color: rgb(255, 255, 255); font-style: italic; font-variant-numeric: normal; font-variant-east-asian: normal; vertical-align: baseline; white-space: pre-wrap;\"><span style=\"border:none;display:inline-block;overflow:hidden;width:623px;height:467px;\"><img height=\"467\" src=\"https://lh4.googleusercontent.com/RABah5_V4TNqyV2UST4IAExlUyQ-wZkhKpi_wYhOqUgpgQpgIpyUm478JNb7H3fYpwFeIgn8rSiOU3yMWhvGdbrUPNSBekiUlcDF9KjdT_sIrr6Cmjq6dZAVOqISQUMBKbWmt_TA1t-LR5M_Rp4VovQjLNYRaK7nmXs_fUHF3ytwsX4Ly32nluFiqKWCzb0dHamcW9sbrg\" style=\"margin-left:0px;margin-top:0px;\" width=\"623\" /></span></span></span></span></span></p>\\r\\n\\r\\n<p dir=\"ltr\" style=\"line-height:1.295;margin-left: 36pt;text-align: center;margin-top:0pt;margin-bottom:8pt;\"><span style=\"font-family:arial,helvetica,sans-serif;\"><span style=\"font-size:16px;\"><span id=\"docs-internal-guid-55865aed-7fff-dd97-10aa-4dad00f099c1\"><span style=\"background-color: rgb(255, 255, 255); font-style: italic; font-variant-numeric: normal; font-variant-east-asian: normal; vertical-align: baseline; white-space: pre-wrap;\">Ná»\\x99i soi lÃ\\xa0 má»\\x99t trong táº§m soÃ¡t ung thÆ° Ä\\x91Æ°á»\\x9dng tiÃªu hÃ³a hiá»\\x87u quáº£</span></span></span></span></p>\\r\\n\\r\\n<h2 dir=\"ltr\" style=\"line-height:1.295;text-align: justify;margin-top:18pt;margin-bottom:4pt;\"><strong><span style=\"font-size:20px;\"><span style=\"font-family:arial,helvetica,sans-serif;\"><span id=\"docs-internal-guid-55865aed-7fff-dd97-10aa-4dad00f099c1\"><span style=\"font-variant-numeric: normal; font-variant-east-asian: normal; vertical-align: baseline; white-space: pre-wrap;\">4. Táº§m soÃ¡t ung thÆ° Ä\\x91Æ°á»\\x9dng tiÃªu hÃ³a</span></span></span></span></strong></h2>\\r\\n\\r\\n<p dir=\"ltr\" style=\"line-height:1.295;text-align: justify;margin-top:0pt;margin-bottom:8pt;\"><span style=\"font-family:arial,helvetica,sans-serif;\"><span style=\"font-size:16px;\"><span id=\"docs-internal-guid-55865aed-7fff-dd97-10aa-4dad00f099c1\"><span style=\"background-color: rgb(255, 255, 255); font-variant-numeric: normal; font-variant-east-asian: normal; vertical-align: baseline; white-space: pre-wrap;\">Hiá»\\x87n nay, táº¡i </span><span style=\"background-color: rgb(255, 255, 255); font-weight: 700; font-variant-numeric: normal; font-variant-east-asian: normal; vertical-align: baseline; white-space: pre-wrap;\">Bá»\\x87nh viá»\\x87n Ä\\x90a Khoa TÃ¢m TrÃ\\xad Ä\\x90á»\\x93ng ThÃ¡p</span><span style=\"background-color: rgb(255, 255, 255); font-variant-numeric: normal; font-variant-east-asian: normal; vertical-align: baseline; white-space: pre-wrap;\"> Ä\\x91Ã£ </span><span style=\"background-color: rgb(255, 255, 255); font-style: italic; font-variant-numeric: normal; font-variant-east-asian: normal; vertical-align: baseline; white-space: pre-wrap;\">cÃ³ gÃ³i khÃ¡m</span><span style=\"background-color: rgb(255, 255, 255); font-variant-numeric: normal; font-variant-east-asian: normal; vertical-align: baseline; white-space: pre-wrap;\"> chuyÃªn vá»\\x81 â\\x80\\x9cTáº§m soÃ¡t ung thÆ° tiÃªu hÃ³aâ\\x80\\x9d. Vá»\\x9bi gÃ³i khÃ¡m nÃ\\xa0y:</span></span></span></span></p>\\r\\n\\r\\n<p dir=\"ltr\" style=\"line-height:1.295;text-align: justify;margin-top:0pt;margin-bottom:8pt;\"><span style=\"font-family:arial,helvetica,sans-serif;\"><span style=\"font-size:16px;\"><span id=\"docs-internal-guid-55865aed-7fff-dd97-10aa-4dad00f099c1\"><span style=\"background-color: rgb(255, 255, 255); font-variant-numeric: normal; font-variant-east-asian: normal; vertical-align: baseline; white-space: pre-wrap;\">TrÆ°á»\\x9bc tiÃªn, cÃ¡c y BÃ¡c sÄ© sáº½ thÄ\\x83m khÃ¡m vÃ\\xa0 xem tÃ¬nh tráº¡ng thá»±c táº¿ cá»§a khÃ¡ch hÃ\\xa0ng táº¡i thá»\\x9di Ä\\x91iá»\\x83m khÃ¡m. Tá»« Ä\\x91Ã³ sáº½ cÃ³ phÆ°Æ¡ng phÃ¡p, chá»\\x89 Ä\\x91á»\\x8bnh phÃ¹ há»£p vá»\\x9bi tá»«ng Ä\\x91á»\\x91i tÆ°á»£ng.</span></span></span></span></p>\\r\\n\\r\\n<p dir=\"ltr\" style=\"line-height:1.295;text-align: justify;margin-top:0pt;margin-bottom:8pt;\"><span style=\"font-family:arial,helvetica,sans-serif;\"><span style=\"font-size:16px;\"><span id=\"docs-internal-guid-55865aed-7fff-dd97-10aa-4dad00f099c1\"><span style=\"background-color: rgb(255, 255, 255); font-variant-numeric: normal; font-variant-east-asian: normal; vertical-align: baseline; white-space: pre-wrap;\">Sau khi cÃ³ táº¥t cáº£ cÃ¡c káº¿t quáº£ lÃ¢m sÃ\\xa0ng vÃ\\xa0 cáº\\xadn lÃ¢m sÃ\\xa0ng, BÃ¡c sÄ© sáº½ cÄ\\x83n cá»© vÃ\\xa0o Ä\\x91Ã³ cÃ³ thá»\\x83 Ä\\x91Ã¡nh giÃ¡ vá»\\x81 tÃ¬nh tráº¡ng sá»©c khá»\\x8fe hiá»\\x87n táº¡i cá»§a khÃ¡ch hÃ\\xa0ng. VÃ\\xa0 tá»« Ä\\x91Ã³ Ä\\x91Æ°a ra nháº\\xadn Ä\\x91á»\\x8bnh Ä\\x91á»\\x83 bá»\\x87nh nhÃ¢n nháº\\xadn biáº¿t nhá»¯ng Ä\\x91iá»\\x81u cáº§n lÆ°u Ã½ vá»\\x81 </span><span style=\"background-color: rgb(255, 255, 255); font-style: italic; font-variant-numeric: normal; font-variant-east-asian: normal; vertical-align: baseline; white-space: pre-wrap;\">bá»\\x87nh ung thÆ° Ä\\x91Æ°á»\\x9dng tiÃªu hÃ³a</span><span style=\"background-color: rgb(255, 255, 255); font-variant-numeric: normal; font-variant-east-asian: normal; vertical-align: baseline; white-space: pre-wrap;\"> vÃ\\xa0 cÃ³ cÃ¡c biá»\\x87n phÃ¡p phÃ²ng trÃ¡nh, ngÄ\\x83n ngá»«a bá»\\x87nh má»\\x99t cÃ¡ch cÃ³ hiá»\\x87u quáº£.</span></span></span></span></p>\\r\\n\\r\\n<p dir=\"ltr\" style=\"line-height:1.44;text-align: justify;margin-top:0pt;margin-bottom:8pt;\"><span style=\"font-family:arial,helvetica,sans-serif;\"><span style=\"font-size:16px;\"><span id=\"docs-internal-guid-55865aed-7fff-dd97-10aa-4dad00f099c1\"><span style=\"font-weight: 700; font-style: italic; font-variant-numeric: normal; font-variant-east-asian: normal; vertical-align: baseline; white-space: pre-wrap;\">Chi tiáº¿t cÃ¡c gÃ³i khÃ¡m, QuÃ½ khÃ¡ch vui lÃ²ng liÃªn há»\\x87:</span></span></span></span></p>\\r\\n\\r\\n<p dir=\"ltr\" style=\"line-height:1.44;text-align: justify;margin-top:0pt;margin-bottom:0pt;\"><span style=\"font-family:arial,helvetica,sans-serif;\"><span style=\"font-size:16px;\"><span id=\"docs-internal-guid-55865aed-7fff-dd97-10aa-4dad00f099c1\"><span style=\"background-color: rgb(255, 255, 255); font-weight: 700; font-variant-numeric: normal; font-variant-east-asian: normal; vertical-align: baseline; white-space: pre-wrap;\">Bá»\\x87nh Viá»\\x87n Ä\\x90a Khoa TÃ¢m TrÃ\\xad Ä\\x90á»\\x93ng ThÃ¡p</span><br />\\r\\n<span style=\"background-color: rgb(255, 255, 255); font-weight: 700; font-variant-numeric: normal; font-variant-east-asian: normal; vertical-align: baseline; white-space: pre-wrap;\">Ä\\x90á»\\x8ba chá»\\x89:</span><span style=\"background-color: rgb(255, 255, 255); font-variant-numeric: normal; font-variant-east-asian: normal; vertical-align: baseline; white-space: pre-wrap;\">&nbsp;Sá»\\x91 700, Quá»\\x91c lá»\\x99 30, xÃ£ Má»¹ TÃ¢n, TP.Cao LÃ£nh, Ä\\x90á»\\x93ng ThÃ¡p</span><br />\\r\\n<span style=\"background-color: rgb(255, 255, 255); font-weight: 700; font-variant-numeric: normal; font-variant-east-asian: normal; vertical-align: baseline; white-space: pre-wrap;\">Tá»\\x95ng Ä\\x91Ã\\xa0i:</span><span style=\"background-color: rgb(255, 255, 255); font-variant-numeric: normal; font-variant-east-asian: normal; vertical-align: baseline; white-space: pre-wrap;\">&nbsp;02773 875 993</span><br />\\r\\n<span style=\"background-color: rgb(255, 255, 255); font-weight: 700; font-variant-numeric: normal; font-variant-east-asian: normal; vertical-align: baseline; white-space: pre-wrap;\">Email:</span><span style=\"background-color: rgb(255, 255, 255); font-variant-numeric: normal; font-variant-east-asian: normal; vertical-align: baseline; white-space: pre-wrap;\">&nbsp;</span><a href=\"mailto:cskh.dt@tmmchealthcare.com\" style=\"text-decoration-line: none;\"><span style=\"color: rgb(0, 0, 0); background-color: rgb(255, 255, 255); font-variant-numeric: normal; font-variant-east-asian: normal; text-decoration-line: underline; text-decoration-skip-ink: none; vertical-align: baseline; white-space: pre-wrap;\">cskh.dt@tmmchealthcare.com</span></a></span></span></span></p>\\r\\n\\r\\n<p dir=\"ltr\" style=\"line-height:1.44;text-align: justify;margin-top:0pt;margin-bottom:0pt;\"><span style=\"font-family:arial,helvetica,sans-serif;\"><span style=\"font-size:16px;\"><span id=\"docs-internal-guid-55865aed-7fff-dd97-10aa-4dad00f099c1\"><span style=\"background-color: rgb(255, 255, 255); font-variant-numeric: normal; font-variant-east-asian: normal; vertical-align: baseline; white-space: pre-wrap;\">Website: </span><a href=\"http://www.bvtamtridongthap.com.vn\" style=\"text-decoration-line: none;\"><span style=\"color: rgb(0, 0, 0); background-color: rgb(255, 255, 255); font-variant-numeric: normal; font-variant-east-asian: normal; text-decoration-line: underline; text-decoration-skip-ink: none; vertical-align: baseline; white-space: pre-wrap;\">www.bvtamtridongthap.com.vn</span></a></span></span></span></p>\\r\\n\\r\\n<p dir=\"ltr\" style=\"line-height:1.44;text-align: justify;margin-top:0pt;margin-bottom:0pt;\"><span style=\"font-family:arial,helvetica,sans-serif;\"><span style=\"font-size:16px;\"><span id=\"docs-internal-guid-55865aed-7fff-dd97-10aa-4dad00f099c1\"><span style=\"background-color: rgb(255, 255, 255); font-variant-numeric: normal; font-variant-east-asian: normal; vertical-align: baseline; white-space: pre-wrap;\">Fanpage: facebook.com/bvtamtridongthap</span></span></span></span></p>\\r\\n\\r\\n<p dir=\"ltr\" style=\"line-height:1.2;text-align: right;margin-top:0pt;margin-bottom:0pt;\"><span style=\"font-family:arial,helvetica,sans-serif;\"><span style=\"font-size:16px;\"><span id=\"docs-internal-guid-55865aed-7fff-dd97-10aa-4dad00f099c1\"><span style=\"font-weight: 700; font-variant-numeric: normal; font-variant-east-asian: normal; vertical-align: baseline; white-space: pre-wrap;\">Huá»³nh Thá»\\x8b Má»¹ Kim</span></span></span></span></p>\\r\\n\\r\\n<p dir=\"ltr\" style=\"line-height:1.2;text-align: right;margin-top:0pt;margin-bottom:0pt;\"><span style=\"font-family:arial,helvetica,sans-serif;\"><span style=\"font-size:16px;\"><span id=\"docs-internal-guid-55865aed-7fff-dd97-10aa-4dad00f099c1\"><span style=\"font-style: italic; font-variant-numeric: normal; font-variant-east-asian: normal; vertical-align: baseline; white-space: pre-wrap;\">PhÃ²ng Kinh Doanh - Bá»\\x87nh viá»\\x87n Ä\\x90a khoa TÃ¢m TrÃ\\xad Ä\\x90á»\\x93ng ThÃ¡p</span></span></span></span></p>\\r\\n\\r\\n<div>&nbsp;</div></div></div>\\r\\n\\t<br class=\"clear\" />\\r\\n\\t\\r\\n\\t<div style=\\'padding-right:10px;\\' align=\"right\"></div>\\r\\n\\t<div style=\\'padding-right:10px;\\' align=\"right\"></div>\\r\\n\\t<div id=\"tag-cloud\">\\r\\n    <span class=\"tag-title\">TAG:</span>\\r\\n    <ul class=\"menu-tag\"><ul class=\\'menu-tag\\'><li><a href=\"https://bvtamtridongthap.com.vn/en/news/tags/237/benh-ung-thu.html\" >Bá»\\x87nh ung thÆ°</a></li><li><a href=\"https://bvtamtridongthap.com.vn/en/news/tags/277/benh-ung-thu-da-day.html\" >Bá»\\x87nh ung thÆ° dáº¡ dÃ\\xa0y</a></li><li><a href=\"https://bvtamtridongthap.com.vn/en/news/tags/749/tieu-hoa.html\" >tiÃªu hÃ³a</a></li><li><a href=\"https://bvtamtridongthap.com.vn/en/news/tags/157/ung-thu-dai-trang.html\" >Ung thÆ° Ä\\x91áº¡i trÃ\\xa0ng</a></li><li><a href=\"https://bvtamtridongthap.com.vn/en/news/tags/250/ung-thu-dai-truc-trang.html\" >Ung thÆ° Ä\\x91áº¡i trá»±c trÃ\\xa0ng</a></li><li><a href=\"https://bvtamtridongthap.com.vn/en/news/tags/750/ung-thu-duong-tieu-hoa.html\" >ung thÆ° Ä\\x91Æ°á»\\x9dng tiÃªu hÃ³a</a></li></ul></ul>\\r\\n    <br class=\"clear\">\\r\\n  </div> \\r\\n  <div class=\"subscride-box\">\\r\\n      <div class=\"subbox\"><table   border=\"0\" cellspacing=\"2\" cellpadding=\"2\" align=\"center\"><tr><td><a title=\"Chia sáº» qua Facebook.\" href=\"https://www.facebook.com/sharer.php?u=https://bvtamtridongthap.com.vn/en/nhung-dau-hieu-nhan-biet-ung-thu-duong-tieu-hoa.html\" rel=\"nofollow\" style=\"margin-right:20px\" target=\"_blank\"><img src=\"https://bvtamtridongthap.com.vn/skins/default/images/icon_facebook_share.gif\" /></a></td><td><a title=\"Chia sáº» qua Google Plus.\" href=\"https://plus.google.com/share?url=https://bvtamtridongthap.com.vn/en/nhung-dau-hieu-nhan-biet-ung-thu-duong-tieu-hoa.html\" rel=\"nofollow\" style=\"margin-right:20px\" target=\"_blank\"><img src=\"https://bvtamtridongthap.com.vn/skins/default/images/icon_google_share.gif\" /></a></td><td><a href=\"https://twitter.com/share\" class=\"twitter-share-button\">Tweet</a></td><td><iframe src=\"http://www.facebook.com/plugins/like.php?href=https://bvtamtridongthap.com.vn/en/nhung-dau-hieu-nhan-biet-ung-thu-duong-tieu-hoa.html&amp;layout=button_count&amp;show_faces=true&amp;width=90&amp;action=like&amp;colorscheme=light&amp;height=20\" scrolling=\"no\" frameborder=\"0\" style=\"border:none; overflow:hidden; width:90px; height:20px;\" allowTransparency=\"true\"></iframe></td><td><g:plusone href=\"https://bvtamtridongthap.com.vn/en/nhung-dau-hieu-nhan-biet-ung-thu-duong-tieu-hoa.html\" size=\"medium\" ></g:plusone></td></tr></table></div>\\r\\n      <div class=\"subbox-control\">\\r\\n          <ul>\\r\\n              <li><i class=\"sf-ic sf-ic-comment\"></i><a  href=\"#Feddback\" class=\\'sf-comment\\'  onclick=\"vnTcomment.ShowFormComment()\"  >Written feedback</a></li>\\r\\n              <li><i class=\"sf-ic sf-ic-share\"></i><a href=\"https://bvtamtridongthap.com.vn/modules/news/send_news.php?id=807&lang=en&TB_iframe=true&width=550&height=500\" class=\\'thickbox sf-share\\' title=\\'Send to a friend\\'  >Send to a friend</a></li>\\r\\n              <li><i class=\"sf-ic sf-ic-print\"></i><a   href=\"javascript:void();\" onClick=\"javascript:openPopUp(\\'https://bvtamtridongthap.com.vn/en/news/print/807/nhung-dau-hieu-nhan-biet-ung-thu-duong-tieu-hoa.html\\',\\'Print\\',750,600, \\'Yes\\')\" class=\"sf-print\"  >Print</a></a></li>\\r\\n          </ul>\\r\\n      </div>\\r\\n      <div class=\"clear\"></div>\\r\\n  </div>\\r\\n  \\r\\n  \\r\\n  \\r\\n<script language=javascript>\\r\\nvar js_lang=new Array();\\r\\njs_lang[\\'announce\\'] = \"Announce\";\\r\\njs_lang[\\'error\\'] = \"Error\";\\r\\njs_lang[\\'err_name_empty\\'] = \"Please enter name\";\\r\\njs_lang[\\'err_email_empty\\'] = \"Please enter Email\";\\r\\njs_lang[\\'err_email_invalid\\'] = \"Email invalid\";\\r\\njs_lang[\\'security_code_invalid\\'] = \"Security Code invalid\";\\r\\njs_lang[\\'err_security_code_empty\\'] = \"Please enter Security Code\";\\r\\njs_lang[\\'err_title_empty\\'] = \"\";\\r\\njs_lang[\\'err_content_comment_empty\\'] = \"\";\\r\\njs_lang[\\'send_comment_success\\'] = \"Write a review successfully. Please wait for approval  by Webmaster\";  \\r\\njs_lang[\\'mess_error_post\\'] = \"\";  \\r\\n \\r\\n</script> \\r\\n<script type=\"text/javascript\" src=\"https://bvtamtridongthap.com.vn/modules/news/js/comment.js\"></script>\\r\\n \\r\\n<div class=\"boxComment\">\\r\\n \\r\\n  <div  id=\"FormComment\" class=\"FormComment\" style=\"display:none;\" >\\r\\n  \\r\\n  <form action=\"https://bvtamtridongthap.com.vn/en/nhung-dau-hieu-nhan-biet-ung-thu-duong-tieu-hoa.html\" method=\"post\" name=\"fComment\" id=\"fComment\" onsubmit=\"return vnTcomment.post_comment(this,\\'807\\',\\'en\\');\" >\\r\\n<table width=\"100%\" border=\"0\" cellspacing=\"2\" cellpadding=\"2\">\\r\\n  \\r\\n  <tr>\\r\\n    <td>\\r\\n      \\r\\n      <div class=\"row\">\\r\\n        <div class=\"form-group col-xs-6\">\\r\\n          <label for=\"name\">Your name:</label>\\r\\n          <input name=\"name\" value=\"\" type=\"text\" id=\"name\" class=\"form-control\" style=\"width:100%\" />\\r\\n        </div>\\r\\n\\r\\n        <div class=\"form-group col-xs-6\">\\r\\n          <label for=\"email\">Email :</label>\\r\\n          <input name=\"email\" value=\"\" type=\"text\" id=\"email\" class=\"form-control\" style=\"width:100%;\" />\\r\\n        </div>\\r\\n      </div>\\r\\n\\r\\n      <div class=\"row\">\\r\\n        <div class=\"form-group col-xs-6\">\\r\\n          <label for=\"title\"> :</label>\\r\\n          <input name=\"title\" value=\"\" type=\"text\" id=\"title\" class=\"form-control\" style=\"width:100%\"  />\\r\\n        </div>\\r\\n\\r\\n        <div class=\"form-group col-xs-6\">\\r\\n          <label for=\"security_code\">Security Code :</label>\\r\\n          <div class=\"\">\\r\\n              <input class=\"form-control\" name=\"security_code\" id=\"security_code\" type=\"text\" maxlength=\"6\" value=\"\" size=\"10\" style=\"width:150px; float: left;\" />&nbsp; <img src=\"https://bvtamtridongthap.com.vn/includes/do_image.php?code=DNDY3NY2\" align=\"absmiddle\" />\\r\\n          </div>\\r\\n        </div>\\r\\n      </div>\\r\\n\\r\\n  </td>\\r\\n  </tr>\\r\\n  \\r\\n  <tr>\\r\\n    <td><textarea name=\"content\" id=\"content\"  style=\"width:100%\" rows=\"5\" class=\"form-control\" ></textarea></td>\\r\\n  </tr>\\r\\n  \\r\\n  <tr>\\r\\n  <td>\\r\\n    <table width=\"100%\" border=\"0\" cellspacing=\"0\" cellpadding=\"0\">\\r\\n    <tr>\\r\\n      <td> <b>Typing  :</b> <input id=\"him_off\" name=\"viet_method\" onclick=\"setMethod(-1);\" type=\"radio\"> Off \\r\\n      <input id=\"him_telex\" type=\"radio\" onclick=\"setMethod(1);\" name=\"viet_method\" /> Telex \\r\\n      <input id=\"him_vni\" name=\"viet_method\" onclick=\"setMethod(2);\" type=\"radio\"> VNI\\r\\n      \\r\\n      <script type=\"text/javascript\">var method=2, on_off=1, useCookie=0 ; </script>     \\r\\n  </td>\\r\\n      <td width=\"40%\" align=\"right\">\\r\\n      <input type=\"hidden\" name=\"h_code\" value=\"467466\" />\\r\\n      <button  id=\"btnSend\" name=\"btnSend\" type=\"submit\" class=\"btn btn-default\" value=\"Send\" ><span >Send</span></button>\\r\\n       </td>\\r\\n    </tr>\\r\\n  </table>\\r\\n  \\r\\n</td>\\r\\n  </tr>\\r\\n</table>\\r\\n\\r\\n</form>\\r\\n<script language=\"javascript1.2\" src=\"https://bvtamtridongthap.com.vn/js/him.js\"></script>\\r\\n   </div>\\r\\n   \\r\\n    \\r\\n</div>    \\r\\n\\r\\n</div>\\r\\n\\r\\n<div class=\"other-news\">\\n          <h3>Other news :</h3>\\n          <ul><li><a href=\"https://bvtamtridongthap.com.vn/en/trao-nguoc-da-day-va-nhung-dieu-ban-can-bie.html\"  \">TrÃ\\xa0o ngÆ°á»£c dáº¡ dÃ\\xa0y vÃ\\xa0 nhá»¯ng Ä\\x91iá»\\x81u báº¡n cáº§n biáº¿t<span class=\"date_news\"> (18/04/2024)</span></a></li><li><a href=\"https://bvtamtridongthap.com.vn/en/canh-bao-nguy-co-gay-xuong-do-loang-xuong-lam-gi-de-phong-ngua-.html\"  \">Cáº£nh bÃ¡o nguy cÆ¡ gÃ£y xÆ°Æ¡ng do loÃ£ng xÆ°Æ¡ng, lÃ\\xa0m gÃ¬ Ä\\x91á»\\x83 phÃ²ng ngá»«a?<span class=\"date_news\"> (17/04/2024)</span></a></li><li><a href=\"https://bvtamtridongthap.com.vn/en/phau-thuat-thanh-cong-benh-nhan-bi-ung-thu-tuyen-giap.html\"  \">Pháº«u thuáº\\xadt thÃ\\xa0nh cÃ´ng bá»\\x87nh nhÃ¢n bá»\\x8b ung thÆ° tuyáº¿n giÃ¡p<span class=\"date_news\"> (16/04/2024)</span></a></li><li><a href=\"https://bvtamtridongthap.com.vn/en/dich-vu-bao-lanh-vien-phi-tai-benh-vien-da-kho-tam-tri-dong-thap.html\"  \">Dá»\\x8bch vá»¥ báº£o lÃ£nh viá»\\x87n phÃ\\xad táº¡i Bá»\\x87nh viá»\\x87n Ä\\x90a khoa TÃ¢m TrÃ\\xad Ä\\x90á»\\x93ng ThÃ¡p<span class=\"date_news\"> (15/04/2024)</span></a></li><li><a href=\"https://bvtamtridongthap.com.vn/en/quy-trinh-bao-lanh-vien-phi-tai-tam-tri-dong-thap.html\"  \">Quy trÃ¬nh báº£o lÃ£nh viá»\\x87n phÃ\\xad táº¡i TÃ¢m TrÃ\\xad Ä\\x90á»\\x93ng ThÃ¡p<span class=\"date_news\"> (01/03/2024)</span></a></li><li><a href=\"https://bvtamtridongthap.com.vn/en/benh-ly-viem-da-co-dia.html\"  \">Bá»\\x87nh lÃ½ viÃªm da cÆ¡ Ä\\x91á»\\x8ba<span class=\"date_news\"> (14/04/2024)</span></a></li><li><a href=\"https://bvtamtridongthap.com.vn/en/ha-kali-mau-lam-sao-de-nhan-biet-de-dieu-tri-kip-thoi.html\"  \">Háº¡ kali mÃ¡u, lÃ\\xa0m sao Ä\\x91á»\\x83 nháº\\xadn biáº¿t Ä\\x91á»\\x83 Ä\\x91iá»\\x81u trá»\\x8b ká»\\x8bp thá»\\x9di<span class=\"date_news\"> (13/04/2024)</span></a></li><li><a href=\"https://bvtamtridongthap.com.vn/en/soc-nhiet-mua-nang-nong.html\"  \">Sá»\\x91c nhiá»\\x87t mÃ¹a náº¯ng nÃ³ng<span class=\"date_news\"> (12/04/2024)</span></a></li><li><a href=\"https://bvtamtridongthap.com.vn/en/phau-thuat-ket-hop-xuong-thay-khop-hang-tai-benh-vien-tam-tri-dong-thap.html\"  \">Pháº«u thuáº\\xadt káº¿t há»£p xÆ°Æ¡ng, thay khá»\\x9bp hÃ¡ng táº¡i Bá»\\x87nh viá»\\x87n TÃ¢m TrÃ\\xad Ä\\x90á»\\x93ng ThÃ¡p<span class=\"date_news\"> (11/04/2024)</span></a></li><li><a href=\"https://bvtamtridongthap.com.vn/en/nguoi-huyet-ap-cao-can-luu-y-nhung-gi-khi-mua-nong-den-.html\"  \">NgÆ°á»\\x9di huyáº¿t Ã¡p cao cáº§n lÆ°u Ã½ nhá»¯ng gÃ¬ khi mÃ¹a nÃ³ng Ä\\x91áº¿n?<span class=\"date_news\"> (10/04/2024)</span></a></li></ul></div>\\r\\n\\r\\n\\r\\n\\r\\n  </div>          \\r\\n</div> \\r\\n\\r\\n    </div>\\r\\n</div>\\r\\n\\r\\n        </div>\\r\\n\\r\\n        <!--- BEGIN - FOOTER -->\\r\\n        <div id=\"vnt-footer\">\\r\\n            <div class=\"top-footer\">\\r\\n                <div class=\"wrapper\">\\r\\n                    <div class=\"mlogo\">\\r\\n                        <div class=\"div-content\">\\r\\n                            <a  onmousedown=\"return rwt(this,\\'advertise\\',10)\" href=\\'https://bvtamtridongthap.com.vn/en/trang-chu.html\\' target=\\'_self\\' title=\\'Bá»\\x87nh viá»\\x87n Ä\\x91a khoa TÃ¢m TrÃ\\xad Ä\\x90á»\\x93ng ThÃ¡p\\'  > <img  src=\\'https://bvtamtridongthap.com.vn/vnt_upload/weblink/mlogo.png\\' width=\\'117\\' alt=\\'Bá»\\x87nh viá»\\x87n Ä\\x91a khoa TÃ¢m TrÃ\\xad Ä\\x90á»\\x93ng ThÃ¡p\\' class=\\'png\\'  /></a>\\r\\n                            <span>All for your health</span>\\r\\n                        </div>\\r\\n                    </div>\\r\\n                    <div class=\"mwidget\">\\r\\n                        <div class=\"footer-widget\">\\r\\n                            <div class=\"title-widget\">\\n                                TAM TRI DONGTHAP GENERAL HOSPITAL\\n                            </div>\\n                            <div class=\"detail-widget\">\\n                                <ul class=\"list-address\">\\n                                    <li>No.700, Highway 30, My Tan commune, Cao Lanh city - Dong Thap province, Vietnam</li>\\n                                    <li>Phone : +84 2773 875 993 - 2773 875 945</li>\\n                                    <li>Fax : +84 2773 875 946</li>\\n                                    <li>Email : <a href=\"mailto:cskh.dt@tmmchealthcare.com?subject=feedback\" \"Email me\" class=\"my-mail\">cskh.dt@tmmchealthcare.com</a></li>\\n                                </ul>\\n                            </div>\\r\\n                        </div>\\r\\n                        <div class=\"footer-widget\">\\r\\n                            <div class=\"title-widget\">\\n                                Our Hospitals\\n                            </div>\\n                            <div class=\"detail-widget\">\\n                                <ul class=\"list-hospital\"><li ><a href=\"https://bvtamtridongthap.com.vn/en/https://bvtamtriquangnam.com/\" target=\"_blank\"   >Bá»\\x87nh Viá»\\x87n Ä\\x90a Khoa TÃ¢m TrÃ\\xad QuÃ£ng Nam</a></li><li ><a href=\"http://bvtamtridanang.com.vn/\" target=\"_blank\"   >Bá»\\x87nh Viá»\\x87n Ä\\x90a Khoa TÃ¢m TrÃ\\xad Ä\\x90Ã\\xa0 Náºµng</a></li><li ><a href=\"http://bvtamtrinhatrang.com.vn\" target=\"_blank\"   >Bá»\\x87nh Viá»\\x87n Ä\\x90a Khoa TÃ¢m TrÃ\\xad Nha Trang</a></li><li ><a href=\"http://bvtamtrisaigon.com.vn\" target=\"_blank\"   >Bá»\\x87nh Viá»\\x87n Ä\\x90a Khoa TÃ¢m TrÃ\\xad SÃ\\xa0i GÃ²n</a></li><li  class=\\'active\\'><a href=\"http://bvtamtridongthap.com.vn\" target=\"_self\"   >Bá»\\x87nh Viá»\\x87n Ä\\x90a Khoa TÃ¢m TrÃ\\xad Ä\\x90á»\\x93ng ThÃ¡p</a></li><li ><a href=\"http://bvtamtridongthap.com.vn/\" target=\"_blank\"   >Bá»\\x87nh Viá»\\x87n Ä\\x90a Khoa TÃ¢m TrÃ\\xad Cao LÃ£nh</a></li><li ><a href=\"http://bvtamtrihongngu.com.vn/\" target=\"_blank\"   >Bá»\\x87nh Viá»\\x87n Ä\\x90a Khoa TÃ¢m TrÃ\\xad Há»\\x93ng Ngá»±</a></li><li ><a href=\"https://bvtamtridongthap.com.vn/en/https://bvdaihocpctu.com/\" target=\"_blank\"   >Bá»\\x87nh Viá»\\x87n Ä\\x90áº¡i Há»\\x8dc Phan ChÃ¢u Trinh</a></li></ul>\\n                            </div>\\r\\n                        </div>\\r\\n                        <div class=\"footer-widget\">\\r\\n                            <div class=\"title-widget\">\\r\\n                                Connect with Us\\r\\n                            </div>\\r\\n                            <div class=\"detail-widget social-network\">\\r\\n                            \\t<a href=\\'http://tiktok.com/@bvtamtridongthap\\' target=\\'_blank\\' ><img src=\"https://bvtamtridongthap.com.vn/vnt_upload/weblink/tiktok.png\" alt=\"Tik Tok\" /></a><a href=\\'https://zalo.me/0917375993\\' target=\\'_blank\\' ><img src=\"https://bvtamtridongthap.com.vn/vnt_upload/weblink/zalo.png\" alt=\"Zalo\" /></a><a href=\\'https://www.facebook.com/bvtamtridongthap/\\' target=\\'_blank\\' ><img src=\"https://bvtamtridongthap.com.vn/vnt_upload/weblink/facebook.png\" alt=\"Facebook\" /></a><a href=\\'https://www.youtube.com/channel/UC-tGrfpzgJEKgZ7jXriAsxw\\' target=\\'_blank\\' ><img src=\"https://bvtamtridongthap.com.vn/vnt_upload/weblink/youtube.png\" alt=\"Youtube\" /></a>\\r\\n                                <div class=\"btn_destop\"><a href=\"https://bvtamtridongthap.com.vn/?setDevice=mobile\"><span>View Mobile Version</span></a></div>\\r\\n                            </div>\\r\\n                        </div>\\r\\n                    </div>\\r\\n                </div>\\r\\n            </div>\\r\\n            <div class=\"bottom-footer\">\\r\\n                <div class=\"wrapper\">\\r\\n                    <div class=\"by_copyright\"><p>Copyright Â© 2016 <span>Tam Tri Dong Thap General Hospital</span></p></div>\\r\\n                    <div class=\"mmenu\">\\r\\n                    \\t<ul><li><a href=\"https://bvtamtridongthap.com.vn/en/chinh-sach-bao-mat.html\" target=\"_self\"   >ChÃ\\xadnh sÃ¡ch báº£o máº\\xadt</a></li><li><a href=\"https://bvtamtridongthap.com.vn/en/dieu-khoan-su-dung.html\" target=\"_self\"   >Ä\\x90iá»\\x81u khoáº£n sá»\\xad dá»¥ng</a></li></ul>\\r\\n                    </div>\\r\\n                </div>\\r\\n            </div>\\r\\n        </div>\\r\\n        <!--- END - FOOTER -->\\r\\n    </div>\\r\\n</div>\\r\\n\\r\\n\\r\\n<script type=\"text/javascript\">\\r\\n$(window).load(function(){ initLoaded(); });\\r\\nvar slideTime = 700;\\r\\nvar rootWidth = 1000;\\r\\nvar floatAtBottom = false;\\r\\nfunction Ad_floating_init()\\r\\n{\\r\\n\\txMoveTo(\\'floating_banner_right\\', rootWidth - (rootWidth-screen.width), 0);\\r\\n\\txMoveTo(\\'floating_banner_left\\', rootWidth - (screen.width), 0);\\r\\n\\twinOnResize(); // set initial position\\r\\n\\txAddEventListener(window, \\'resize\\', winOnResize, false);\\r\\n\\txAddEventListener(window, \\'scroll\\', winOnScroll, false);\\r\\n}\\r\\nfunction winOnResize() {\\r\\n\\tcheckScreenWidth();\\r\\n\\twinOnScroll(); // initial slide\\r\\n}\\r\\nfunction winOnScroll() {\\r\\n\\tvar y = xScrollTop();\\r\\n\\t\\tif( y<=135 ) y=135;\\r\\n\\tif (floatAtBottom) {\\r\\n\\t\\ty += xClientHeight() - xHeight(\\'floating_banner_left\\');\\r\\n\\t}\\r\\n\\txSlideTo(\\'floating_banner_left\\', (screen.width - rootWidth)/2 - (110 +15) , y, slideTime);\\r\\n\\txSlideTo(\\'floating_banner_right\\', (screen.width + rootWidth)/2 - 2 , y, slideTime);\\r\\n}\\r\\nfunction checkScreenWidth()\\r\\n{\\r\\n\\tif( screen.width <= 1230 )\\r\\n\\t{\\r\\n\\t\\tdocument.getElementById(\\'floating_banner_left\\').style.display = \\'none\\';\\r\\n\\t\\tdocument.getElementById(\\'floating_banner_right\\').style.display = \\'none\\';\\r\\n\\t}\\r\\n}\\r\\n\\r\\nAd_floating_init();\\r\\n</script>\\r\\n<style type=\"text/css\">\\r\\n.group-button{\\r\\ndisplay: none;\\r\\n}\\r\\n</style>\\n<script type=\"text/javascript\" src=\"https://bvtamtridongthap.com.vn/js/addthis/addthis_widget.js\"></script>\\n<script type=\"text/javascript\" src=\"https://bvtamtridongthap.com.vn/js/addthis/addthis_core.js\"></script>\\r\\n</body>\\r\\n</html>      \\r\\n'"
      ]
     },
     "execution_count": 44,
     "metadata": {},
     "output_type": "execute_result"
    }
   ],
   "source": [
    "webpages[-1].full_content"
   ]
  },
  {
   "cell_type": "code",
   "execution_count": 9,
   "metadata": {},
   "outputs": [
    {
     "name": "stdout",
     "output_type": "stream",
     "text": [
      "h1 - Tin tức\n",
      "h2 - “Mục sở thị” biểu hiện bệnh ung thư dạ dày, đại trực tràng \n",
      "h2 - Những điều nên làm ngay để tránh nguy cơ mắc ung thư\n",
      "h2 - “Công thức” chuẩn trong kiểm tra bệnh đường tiêu hóa\n",
      "---\n",
      "h1 - Dấu hiệu gợi ý ung thư tiêu hóa\n",
      "h2 - 1. Tìm hiểu về ung thư tiêu hóa\n",
      "h2 - 2. Các dấu hiệu ung thư tiêu hóa\n",
      "h2 - 3. Vì sao phải tầm soát ung thư tiêu hóa?\n",
      "---\n",
      "h1 - Nhá»¯ng dáº¥u hiá»u nháº­n biáº¿t ung thÆ° ÄÆ°á»ng tiÃªu hÃ³a\n",
      "h2 - 1. Thá»±c tráº¡ng\n",
      "h2 - 2. Dáº¥u hiá»u nháº­n biáº¿t ung thÆ° tiÃªu hÃ³a\n",
      "h2 - 3. LÃ m gÃ¬ Äá» trÃ¡nh nguy cÆ¡ máº¯c bá»nh ung thÆ° ÄÆ°á»ng tiÃªu hÃ³a?\n",
      "h2 - 4. Táº§m soÃ¡t ung thÆ° ÄÆ°á»ng tiÃªu hÃ³a\n"
     ]
    }
   ],
   "source": [
    "print('\\n---\\n'.join(outlines_headers))"
   ]
  },
  {
   "cell_type": "code",
   "execution_count": 10,
   "metadata": {},
   "outputs": [
    {
     "name": "stdout",
     "output_type": "stream",
     "text": [
      "h1 - Ung thư tiêu hóa: Nguyên nhân, triệu chứng và phòng ngừa\n",
      "h2 - 1. Tìm hiểu về ung thư tiêu hóa\n",
      "h2 - 2. Các dấu hiệu nhận biết ung thư tiêu hóa\n",
      "h2 - 3. Làm gì để tránh nguy cơ mắc bệnh ung thư tiêu hóa?\n",
      "h2 - 4. Tầm soát ung thư tiêu hóa\n"
     ]
    }
   ],
   "source": [
    "org_gen_outline = model_res.content\n",
    "if len(model_gemini_res.content) < 1000:\n",
    "    print(model_gemini_res.content)"
   ]
  },
  {
   "cell_type": "code",
   "execution_count": 11,
   "metadata": {},
   "outputs": [
    {
     "name": "stdout",
     "output_type": "stream",
     "text": [
      "h1 - Ung thư tiêu hóa: Nguyên nhân, triệu chứng và phòng ngừa\n",
      "h2 - 1. Tìm hiểu về ung thư tiêu hóa\n",
      "h2 - 2. Các dấu hiệu và triệu chứng của ung thư tiêu hóa\n",
      "h2 - 3. Tầm quan trọng của việc tầm soát ung thư tiêu hóa\n",
      "h2 - 4. Sự nguy hiểm của bệnh ung thư tiêu hóa và khi nào cần đến bệnh viện\n"
     ]
    }
   ],
   "source": [
    "print(org_gen_outline)\n",
    "if input() != 'y':\n",
    "    raise ValueError('error')"
   ]
  },
  {
   "cell_type": "markdown",
   "metadata": {},
   "source": [
    "### Inpage"
   ]
  },
  {
   "cell_type": "code",
   "execution_count": 12,
   "metadata": {},
   "outputs": [],
   "source": [
    "inpage_parser = WebPageParser(doc_creator=outline_doc_creator)"
   ]
  },
  {
   "cell_type": "code",
   "execution_count": 13,
   "metadata": {},
   "outputs": [],
   "source": [
    "from big_seo.storage.qdrant import QdrantDB\n",
    "\n",
    "vec_db = QdrantDB(host='localhost',\n",
    "                port=6333)\n",
    "Base.init_instance(vec_db=vec_db)"
   ]
  },
  {
   "cell_type": "code",
   "execution_count": 14,
   "metadata": {},
   "outputs": [],
   "source": [
    "inpage_parser.parse = partial(inpage_parser.parse, nested=False, in_doc=True,concat_to='h2')\n",
    "webpage_indexer = InPageIndexer(embedding_model=embed_model,\n",
    "              parser=inpage_parser,\n",
    "              Base_model=Base)\n",
    "for page in webpages:\n",
    "    page_doc = WebPageDocument(page)\n",
    "    webpage_indexer.index(page_doc)"
   ]
  },
  {
   "cell_type": "code",
   "execution_count": 15,
   "metadata": {},
   "outputs": [],
   "source": [
    "# up 2 date\n",
    "u2d_crawler = UpToDateCrawler()\n",
    "u2d_parser = UpToDateWebPageParser(doc_creator=outline_doc_creator)\n",
    "u2d_parser.parse = partial(u2d_parser.parse,nested=False, in_doc=True,concat_to='h2')\n",
    "\n",
    "\n",
    "translator = GeminiHealthcareTranslator(model='gemini-pro')\n",
    "translator_parser = TranslationParser(u2d_parser,translator,\n",
    "                               input_lang=DocumentLang.EN,\n",
    "                               target_lang=DocumentLang.VI)\n",
    "\n",
    "\n",
    "translator.translate = partial(translator.translate,other_instruction=f' liên quan đến {main_topic}')\n",
    "u2d_webpages = u2d_crawler.search(main_topic_en,n=2)\n",
    "uptodate_indexer = UpToDateInPageIndexer(embedding_model=embed_model,\n",
    "              parser=translator_parser,\n",
    "              Base_model=Base)\n",
    "if use_u2d:\n",
    "    for page in u2d_webpages:\n",
    "        page_doc = WebPageDocument(page)\n",
    "        uptodate_indexer.index(page_doc)"
   ]
  },
  {
   "cell_type": "code",
   "execution_count": 16,
   "metadata": {},
   "outputs": [],
   "source": [
    "global_knowledge = set()\n",
    "def get_gen_knowledge_fn(webpage_indexer, limit):\n",
    "    def sub(outline):\n",
    "        prompts = [outline[0]]\n",
    "        prompts.extend(outline[1])\n",
    "        docs = set()\n",
    "        for prompt in prompts:\n",
    "            retrieved_docs = webpage_indexer.search(prompt)\n",
    "            docs = docs.union(get_unique_doc(retrieved_docs))\n",
    "            global_knowledge.update(docs)\n",
    "            # print(len(docs))\n",
    "        # return sorted(docs, key=lambda x: x.score, reverse=True)[:5]\n",
    "        return '\\n\\n----\\n\\n'.join(map(lambda x: x.get_doc_meta()['header'] +'\\n'+ x.get_doc_content(),sorted(docs, key=lambda x: x.score, reverse=True)[:limit]))\n",
    "    return sub"
   ]
  },
  {
   "cell_type": "code",
   "execution_count": 17,
   "metadata": {},
   "outputs": [],
   "source": [
    "get_knowledge = get_gen_knowledge_fn(webpage_indexer, 4)\n",
    "if use_u2d:\n",
    "    get_u2d_knowledge = get_gen_knowledge_fn(uptodate_indexer, 4)"
   ]
  },
  {
   "cell_type": "markdown",
   "metadata": {},
   "source": [
    "### Gen partial content"
   ]
  },
  {
   "cell_type": "markdown",
   "metadata": {},
   "source": [
    "#### Prompt template"
   ]
  },
  {
   "cell_type": "code",
   "execution_count": 18,
   "metadata": {},
   "outputs": [],
   "source": [
    "partial_prompt = \"\"\"Bạn là một bác sĩ giàu kinh nghiệm trên lĩnh vực {topic}, dựa trên KIẾN THỨC được cung cấp bạn có khả năng lựa chọn những thông tin phù hợp nhất với chủ đề, bạn cũng có khả năng trình bày theo hướng cung cấp kiến thức chuyên sâu, rõ ràng\n",
    "\n",
    "\n",
    "BẮT BUỘC: Đây là vấn đề liên quan trực tiếp đến sức khỏe, chỉ được phép cung cấp các thông tin có trong phần KIẾN THỨC, không sử dụng bất cứ thông tin khác\n",
    "nếu trong phần KIẾN THỨC không chứa nội dung liên quan đến mục bạn đang viết hãy trả lời 'Tôi không biết',\n",
    "\n",
    "\n",
    "########\n",
    "KIẾN THỨC: {knowledge}\n",
    "\n",
    "########\n",
    "NHIỆM VỤ: hãy viết một đoạn {num_of_words} về '{headline}' {sub_headline_instruction} Bạn chỉ viết một mục trong bài viết lớn hơn, nên chỉ viết các thông tin liên quan đến '{headline}' không viết các thông tin khác\n",
    "\n",
    "TRẢ LỜI:\"\"\"\n",
    "\n",
    "h1_prompt = \"\"\"Bạn là một bác sĩ giàu kinh nghiệm trong lĩnh vực {topic}, dựa vào KIẾN THỨC được cung cấp bạn có thể trình bày lại ngắn gọn dễ hiểu\n",
    "\n",
    "BẮT BUỘC: nếu trong phần KIẾN THỨC không chứa nội dung liên quan đến mục bạn đang viết hãy trả lời 'Tôi không biết',\n",
    "Đây là vấn đề liên quan trực tiếp đến sức khỏe, chỉ được phép cung cấp các thông tin có trong phần KIẾN THỨC, không sử dụng bất cứ thông tin khác\n",
    "\n",
    "########\n",
    "KIẾN THỨC: {knowledge}\n",
    "\n",
    "NHIỆM VỤ: Hãy viết một đoạn giới thiệu ngắn từ 200 đến 300 từ về chủ đề {topic} trong đó nêu các phần cụ thể như nguyên nhân, cách điều trị\n",
    "\n",
    "TRẢ LỜI:\"\"\"\n",
    "\n",
    "\n",
    "rag_prompt = \"\"\"Bạn là một bác sĩ giàu kinh nghiệm trong lĩnh vực {topic}, dựa trên những KIẾN THỨC được cung cấp, hãy viết một đoạn khoảng 200 từ nêu một số điểm chính liên quan đến {headline}\n",
    "\n",
    "Không cung cấp các thông tin không có trong phần KIẾN THỨC\n",
    "Bạn chỉ viết một mục trong bài viết lớn hơn, nên chỉ viết các thông tin liên quan đến '{headline}' không viết các thông tin khác\n",
    "\n",
    "KIẾN THỨC {knowledge}\"\"\"\n",
    "\n",
    "\n",
    "u2d_enhanced_prompt = \"\"\"Bạn là một bác sĩ giàu kinh nghiệm trên {topic}, dựa trên KIẾN THỨC được cung cấp bạn có khả năng trình bày theo hướng cung cấp kiến thức chuyên sâu, rõ ràng\n",
    "\n",
    "BẮT BUỘC: nếu trong phần KIẾN THỨC không chứa nội dung liên quan đến mục bạn đang viết hãy trả lời 'Tôi không biết',\n",
    "Đây là vấn đề liên quan trực tiếp đến sức khỏe, chỉ được phép cung cấp các thông tin có trong phần KIẾN THỨC, không sử dụng bất cứ thông tin khác\n",
    "\n",
    "########\n",
    "KIẾN THỨC: {knowledge}\n",
    "\n",
    "########\n",
    "NHIỆM VỤ: Hãy viết lại đoạn sau thành đoạn văn khoảng {num_of_words} về '{headline}' bổ sung thêm các kiến thức liên quan trong phần KIẾN THỨC: {org_content}\n",
    "\n",
    "TRẢ LỜI:\"\"\"\n",
    "\n",
    "\n",
    "web_normalized_prompt = \"\"\"Bạn là một bác sĩ giàu kinh nghiệm trên {topic}, dựa trên KIẾN THỨC được cung cấp bạn có khả năng trình bày theo hướng cung cấp kiến thức chuyên sâu, rõ ràng\n",
    "\n",
    "BẮT BUỘC: nếu trong phần KIẾN THỨC không chứa nội dung liên quan đến mục bạn đang viết hãy trả lời 'Tôi không biết',\n",
    "Đây là vấn đề liên quan trực tiếp đến sức khỏe, chỉ được phép cung cấp các thông tin có trong phần KIẾN THỨC, không sử dụng bất cứ thông tin khác\n",
    "\n",
    "########\n",
    "KIẾN THỨC: {knowledge}\n",
    "\n",
    "########\n",
    "NHIỆM VỤ: Hãy viết lại đoạn sau thành đoạn văn khoảng 600 từ về '{headline}' sử dụng những từ ngữ dễ hiểu với người đọc thông thường sử dụng thông tin trong phần KIẾN THỨC: {org_content}\n",
    "\n",
    "TRẢ LỜI:\"\"\"\n",
    "\n",
    "combine_prompt = \"\"\"Bạn là một bác sĩ giàu kinh nghiệm trên {topic}, dựa trên KIẾN THỨC được cung cấp bạn có khả năng trình bày theo hướng cung cấp kiến thức chuyên sâu, rõ ràng\n",
    "\n",
    "BẮT BUỘC: KHÔNG cung cấp các thông tin không có trong các bài mẫu\n",
    "Đây là vấn đề liên quan trực tiếp đến sức khỏe, bạn tuyệt đối chỉ cung cấp các thông tin có trong phần KIẾN THỨC, không sử dụng bất cứ thông tin khác\n",
    "Nếu cả hai bài mẫu đều không đề cập đến {headline} hãy trả lời 'tôi không biết'\n",
    "\n",
    "\n",
    "Bài mẫu 1: {web_content}\n",
    "\n",
    "\n",
    "\n",
    "Bài mẫu 2: {u2d_content}\n",
    "\n",
    "########\n",
    "NHIỆM VỤ: Hãy kết hợp thông tin từ 2 bài mẫu và viết lại đoạn sau thành đoạn văn khoảng 600 từ về '{headline}'. Bạn chỉ viết một mục trong bài viết lớn hơn, nên chỉ viết các thông tin liên quan đến '{headline}' không viết các thông tin khác\n",
    "\n",
    "TRẢ LỜI:\"\"\""
   ]
  },
  {
   "cell_type": "markdown",
   "metadata": {},
   "source": [
    "#### Helper functions"
   ]
  },
  {
   "cell_type": "code",
   "execution_count": 19,
   "metadata": {},
   "outputs": [],
   "source": [
    "def get_num_of_words(n_of_outlines, max_n = 400, min_n = 150):\n",
    "    avg = int((3000/n_of_outlines)/50)*50\n",
    "    return max(min(avg, max_n), min_n)\n",
    "def get_better_knowledge(model, outline, topic):\n",
    "    first_knowledge = get_knowledge(outline=(outline,[]))\n",
    "    prompt = rag_prompt.format(topic=topic, knowledge=first_knowledge,\n",
    "                        headline = outline,\n",
    "                        sub_headline_instruction='')\n",
    "    # gen rag content\n",
    "    res = model.invoke(prompt)\n",
    "    rag_content = res.content\n",
    "\n",
    "    knowledge = get_knowledge(outline=(outline,[res.content]))\n",
    "    u2d_knowledge = get_u2d_knowledge(outline=(outline,[res.content]))\n",
    "\n",
    "    return (rag_content, knowledge, u2d_knowledge)\n",
    "\n",
    "def gen_content(model,topic,knowledge,headline,sub_headline,n_of_outlines):\n",
    "    prompt = partial_prompt.format(topic=topic, knowledge=knowledge,\n",
    "                        headline = headline,\n",
    "                        sub_headline_instruction=sub_headline,\n",
    "                        num_of_words=f'từ {get_num_of_words(n_of_outlines)} đến {get_num_of_words(n_of_outlines) + 100} từ')\n",
    "    return model.invoke(prompt).content\n",
    "\n",
    "def combine_content(model,topic,\n",
    "                   web_content,\n",
    "                   u2d_content,\n",
    "                   headline):\n",
    "    res = model.invoke(combine_prompt.format(topic=topic,\n",
    "                   web_content=web_content,\n",
    "                   u2d_content=u2d_content,\n",
    "                   headline = headline))\n",
    "    return res.content"
   ]
  },
  {
   "cell_type": "markdown",
   "metadata": {},
   "source": [
    "#### Pipeline"
   ]
  },
  {
   "cell_type": "code",
   "execution_count": 20,
   "metadata": {},
   "outputs": [],
   "source": [
    "gen_outlines = org_gen_outline.split('\\n')\n",
    "tracking_results = []\n",
    "full_gen_content = []\n",
    "error_knowledge = []\n",
    "for o in gen_outlines:\n",
    "    sub_headline = ''\n",
    "    full_gen_content.append(o)\n",
    "    try:\n",
    "        rag_content, knowledge, u2d_knowledge = get_better_knowledge(model_gemini, o, main_topic)\n",
    "    except:\n",
    "        rag_content, knowledge, u2d_knowledge = get_better_knowledge(model, o, main_topic)\n",
    "\n",
    "\n",
    "    # gen content\n",
    "    prompt = partial_prompt.format(topic=main_topic, knowledge=knowledge,\n",
    "                            headline = o,\n",
    "                            sub_headline_instruction=sub_headline,\n",
    "                            num_of_words=f'từ {get_num_of_words(len(gen_outlines))} đến {get_num_of_words(len(gen_outlines)) + 100} từ')\n",
    "    web_content = gen_content(model,main_topic,knowledge,o,sub_headline, len(gen_outlines))\n",
    "    u2d_content = gen_content(model,main_topic,u2d_knowledge,o,sub_headline, len(gen_outlines))\n",
    "    combined_content = combine_content(model,main_topic,\n",
    "                    web_content,\n",
    "                    u2d_content,\n",
    "                    o)\n",
    "    tracking_results.append({'outline':o,\n",
    "                             'rag_content':rag_content,\n",
    "                             'web_content': web_content,\n",
    "                             'u2d_content': u2d_content,\n",
    "                             'knowledge': knowledge,\n",
    "                             'u2d_knowledge': u2d_knowledge,\n",
    "                             'combined_content': combined_content\n",
    "                             })\n",
    "    if 'tôi không biết' in combined_content.lower():\n",
    "        print(o)\n",
    "        error_knowledge.append((o, knowledge))\n",
    "    else:\n",
    "        full_gen_content.append(combined_content)\n"
   ]
  },
  {
   "cell_type": "code",
   "execution_count": 21,
   "metadata": {},
   "outputs": [],
   "source": [
    "# print(rag_content)\n",
    "# print(web_content)\n",
    "# print(u2d_content)\n",
    "# print(combined_content)"
   ]
  },
  {
   "cell_type": "markdown",
   "metadata": {},
   "source": [
    "#### Process end result"
   ]
  },
  {
   "cell_type": "code",
   "execution_count": 22,
   "metadata": {},
   "outputs": [],
   "source": [
    "with open(f'test_output/{main_topic}_raw.txt','w',encoding=\"utf-8\") as f:\n",
    "    f.write('\\n'.join(full_gen_content))\n",
    "    # f.write('ok')"
   ]
  },
  {
   "cell_type": "code",
   "execution_count": 23,
   "metadata": {},
   "outputs": [],
   "source": [
    "final_prompt=\"\"\"Bạn là một bác sĩ giàu kinh nghiệm trong lĩnh vực {topic}\n",
    "Dưới đây là một mẫu bài viết về {topic},\n",
    "\n",
    "Bài mẫu: {example}\n",
    "\n",
    "\n",
    "YÊU CẦU bạn hãy viết lại bài viết này thành một bài viết chuyên sâu khoảng 2000 từ theo hướng tối ưu chuẩn SEO, đảm bảo mật độ từ khóa chính {topic} tốt.\n",
    "Với mỗi ý hãy nêu kèm giải thích chọn cách trình bày như liệt kê từng dòng, so sánh hợp lý\n",
    "\n",
    "BẮT BUỘC: bạn không cung cấp bất cứ kiến thức nào khác ngoài bài mẫu\n",
    "\n",
    "TRẢ LỜI\"\"\""
   ]
  },
  {
   "cell_type": "code",
   "execution_count": 24,
   "metadata": {},
   "outputs": [],
   "source": [
    "# final_res = model_gemini.invoke(final_prompt.format(topic=main_topic,\n",
    "#                                 outline=org_gen_outline,\n",
    "#                                 example = '\\n'.join(full_gen_content)))\n",
    "# with open(f'test_output/gemini_rewrite_{main_topic}.txt','w', encoding='utf-8') as f:\n",
    "#     f.write(final_res.content)"
   ]
  },
  {
   "cell_type": "code",
   "execution_count": 25,
   "metadata": {},
   "outputs": [],
   "source": [
    "# final_res = model.invoke(final_prompt.format(topic=main_topic,\n",
    "#                                              outline=org_gen_outline,\n",
    "#                                              example = '\\n'.join(full_gen_content)))\n",
    "# with open(f'test_output/gpt_rewrite_{main_topic}.txt','w',encoding='utf-8') as f:\n",
    "#     f.write(final_res.content)"
   ]
  },
  {
   "cell_type": "code",
   "execution_count": 26,
   "metadata": {},
   "outputs": [],
   "source": [
    "# Base.close_instance(delete_model=True)"
   ]
  },
  {
   "cell_type": "markdown",
   "metadata": {},
   "source": [
    "### Check"
   ]
  },
  {
   "cell_type": "markdown",
   "metadata": {},
   "source": [
    "#### General check"
   ]
  },
  {
   "cell_type": "code",
   "execution_count": 27,
   "metadata": {},
   "outputs": [],
   "source": [
    "if input('general check: ') != 'y':\n",
    "    raise ValueError('not to check')"
   ]
  },
  {
   "cell_type": "code",
   "execution_count": 28,
   "metadata": {},
   "outputs": [],
   "source": [
    "with open('template.txt','r') as f:\n",
    "    template = f.read()"
   ]
  },
  {
   "cell_type": "code",
   "execution_count": 29,
   "metadata": {},
   "outputs": [],
   "source": [
    "data = []\n",
    "data.append(template.format(_id = 0,\n",
    "                           cur_state='cur',\n",
    "                           outline=org_gen_outline.replace('\\n','<br>'),\n",
    "                           model_output='<br>'.join(full_gen_content).replace('\\n','<br>'),\n",
    "                           knowledge='',ud_output='',\n",
    "                           ud_knowledge='',\n",
    "                           web_output='',))\n",
    "for i, point in enumerate(tracking_results):\n",
    "    u2d_output = point['u2d_content']\n",
    "    web_output = point['web_content']\n",
    "    u2d_knowledge = point['u2d_knowledge']\n",
    "    knowledge = point['knowledge']\n",
    "    outline = point['outline']\n",
    "    model_output = point['combined_content']\n",
    "    _id = i + 1\n",
    "    cur_state = 'hidden'\n",
    "    temp = template.format(_id = _id,\n",
    "                        cur_state=cur_state,\n",
    "                        outline=outline,\n",
    "                        model_output=model_output,\n",
    "                        knowledge=knowledge.replace('\\n','<br>'),\n",
    "                        ud_output=u2d_output,\n",
    "                        web_output=web_output,\n",
    "                        ud_knowledge=u2d_knowledge.replace('\\n','<br>'))\n",
    "    data.append(temp)"
   ]
  },
  {
   "cell_type": "code",
   "execution_count": 30,
   "metadata": {},
   "outputs": [],
   "source": [
    "with open('index.txt','r') as f:\n",
    "    index_page = f.read()\n",
    "index_page = index_page.format(data='\\n'.join(data))\n",
    "with open('index.html','w', encoding='utf-8') as f:\n",
    "    f.write(index_page)"
   ]
  },
  {
   "cell_type": "code",
   "execution_count": 31,
   "metadata": {},
   "outputs": [
    {
     "data": {
      "text/plain": [
       "15.55"
      ]
     },
     "execution_count": 31,
     "metadata": {},
     "output_type": "execute_result"
    }
   ],
   "source": [
    "end = datetime.datetime.now()\n",
    "(end - start).seconds/60"
   ]
  },
  {
   "cell_type": "code",
   "execution_count": 32,
   "metadata": {},
   "outputs": [],
   "source": [
    "# Base.close_instance(delete_model=True)"
   ]
  },
  {
   "cell_type": "markdown",
   "metadata": {},
   "source": [
    "#### Corr check"
   ]
  },
  {
   "cell_type": "code",
   "execution_count": 33,
   "metadata": {},
   "outputs": [
    {
     "data": {
      "text/plain": [
       "10"
      ]
     },
     "execution_count": 33,
     "metadata": {},
     "output_type": "execute_result"
    }
   ],
   "source": [
    "len(full_gen_content)"
   ]
  },
  {
   "cell_type": "code",
   "execution_count": 34,
   "metadata": {},
   "outputs": [],
   "source": [
    "if input('corr check: ') != 'y':\n",
    "    raise ValueError('not to check')"
   ]
  },
  {
   "cell_type": "code",
   "execution_count": 35,
   "metadata": {},
   "outputs": [],
   "source": [
    "import numpy as np\n",
    "def get_sentence_vec_from_content(content):\n",
    "    for sentence in content.split('.'):\n",
    "        if len(sentence) < 10:\n",
    "            continue\n",
    "        vec = embed_model.get_embedding(sentence)\n",
    "        yield {'vec': np.array(vec),\n",
    "               'sentence': sentence.replace('\\n',' ') + '.'}\n",
    "def gen_global_knowledge_vec(global_knowledge: set[OutlineDocumentDBType]):\n",
    "    vecs = []\n",
    "    for knowledge_doc in global_knowledge:\n",
    "        knowledge = knowledge_doc.get_doc_content()\n",
    "        for res in get_sentence_vec_from_content(knowledge):\n",
    "            vecs.append(res)\n",
    "    return vecs\n",
    "\n",
    "def gen_frontend_knowledge(global_knowledge_vecs):\n",
    "    res = []\n",
    "    for i in range(len(global_knowledge_vecs)):\n",
    "        res.append(f'<span id=\"knowledge-{i}\">{global_knowledge_vecs[i][\"sentence\"]}</span>')\n",
    "    return '\\n'.join(res)"
   ]
  },
  {
   "cell_type": "code",
   "execution_count": 36,
   "metadata": {},
   "outputs": [],
   "source": [
    "global_knowledge_vecs = gen_global_knowledge_vec(global_knowledge)\n",
    "def corr_scale(corr):\n",
    "    if corr > 0.9:\n",
    "        return 'veryHigh'\n",
    "    elif corr > 0.8:\n",
    "        return 'high'\n",
    "    elif corr > 0.7:\n",
    "        return 'med'\n",
    "    else:\n",
    "        return None\n",
    "\n",
    "def calculate_corr(sentence):\n",
    "    vec = embed_model.get_embedding(sentence)\n",
    "    res = {'veryHigh':[],\n",
    "            'high':[],\n",
    "            'med':[],\n",
    "            'low':[]}\n",
    "    for i,k in enumerate(global_knowledge_vecs):\n",
    "        corr = corr_scale(np.dot(k['vec'], vec))\n",
    "        if corr is not None:\n",
    "            res[corr].append(str(i))\n",
    "    return res"
   ]
  },
  {
   "cell_type": "code",
   "execution_count": 37,
   "metadata": {},
   "outputs": [],
   "source": [
    "def process_frontend_gen_content(gen_content):\n",
    "    res = []\n",
    "    for sentence in gen_content.split('.'):\n",
    "        if len(sentence) < 10:\n",
    "            res.append(f'<span>{sentence}</span>')\n",
    "        else:\n",
    "            class_list = 'gen-content'\n",
    "            attr = ''\n",
    "            corr = calculate_corr(sentence)\n",
    "            if len(corr['veryHigh']) > 0:\n",
    "                class_list += ' veryHigh'\n",
    "                attr += f' veryHigh=\"{\",\".join(corr[\"veryHigh\"][:3])}\"'\n",
    "            if len(corr['high']) > 0:\n",
    "                class_list += ' high'\n",
    "                attr += f' high=\"{\",\".join(corr[\"high\"][:3])}\"'\n",
    "            if len(corr['med']) > 0:\n",
    "                class_list += ' med'\n",
    "                attr += f' med=\"{\",\".join(corr[\"med\"][:3])}\"'\n",
    "            res.append(f'<span class=\"{class_list}\" {attr}>{sentence}.</span>')\n",
    "    return ''.join(res)"
   ]
  },
  {
   "cell_type": "code",
   "execution_count": 38,
   "metadata": {},
   "outputs": [],
   "source": [
    "with open('corr-template.txt','r') as f:\n",
    "    template = f.read()"
   ]
  },
  {
   "cell_type": "code",
   "execution_count": 39,
   "metadata": {},
   "outputs": [],
   "source": [
    "template = template.format(gen_content = process_frontend_gen_content('\\n'.join(full_gen_content)).replace('\\n','<br>'),\n",
    "global_knowledge=gen_frontend_knowledge(global_knowledge_vecs))"
   ]
  },
  {
   "cell_type": "code",
   "execution_count": 40,
   "metadata": {},
   "outputs": [],
   "source": [
    "with open('corr-index.txt','r') as f:\n",
    "    index_page = f.read()\n",
    "index_page = index_page.format(data=template)\n",
    "with open('corr/index.html','w', encoding='utf-8') as f:\n",
    "    f.write(index_page)"
   ]
  },
  {
   "cell_type": "code",
   "execution_count": 41,
   "metadata": {},
   "outputs": [],
   "source": [
    "Base.close_instance(delete_model=True)"
   ]
  },
  {
   "cell_type": "markdown",
   "metadata": {},
   "source": [
    "## Curator"
   ]
  }
 ],
 "metadata": {
  "kernelspec": {
   "display_name": "base",
   "language": "python",
   "name": "python3"
  },
  "language_info": {
   "codemirror_mode": {
    "name": "ipython",
    "version": 3
   },
   "file_extension": ".py",
   "mimetype": "text/x-python",
   "name": "python",
   "nbconvert_exporter": "python",
   "pygments_lexer": "ipython3",
   "version": "3.9.13"
  }
 },
 "nbformat": 4,
 "nbformat_minor": 2
}
