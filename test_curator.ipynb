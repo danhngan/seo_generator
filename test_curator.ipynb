{
 "cells": [
  {
   "cell_type": "code",
   "execution_count": 1,
   "metadata": {},
   "outputs": [],
   "source": [
    "# from langchain_openai import ChatOpenAI\n",
    "# from langchain_google_genai import ChatGoogleGenerativeAI\n",
    "import uuid\n",
    "from functools import partial\n",
    "import datetime\n",
    "import uuid\n",
    "from big_seo.common.lang import DocumentLang\n",
    "import numpy as np"
   ]
  },
  {
   "cell_type": "code",
   "execution_count": 2,
   "metadata": {},
   "outputs": [],
   "source": [
    "from big_seo.crawler.api import Crawler, UpToDateCrawler\n",
    "from big_seo.llm.implement.indexer import WebPageIndexer, InPageIndexer, UpToDateInPageIndexer\n",
    "from big_seo.llm.implement.parser import WebPageParser, TranslationParser, UpToDateWebPageParser\n",
    "from big_seo.llm.implement.data_model import WebPageDocument, OutlineDocumentDBType, Base, UpToDateCollection\n",
    "from llama_index.embeddings.huggingface import HuggingFaceEmbedding\n",
    "from big_seo.llm.implement.embedding_model import LLamaIndexEmbedding\n",
    "from big_seo.llm.implement.parser import OutlineDocumentCreator\n",
    "\n",
    "\n",
    "from big_seo.translator.core import GeminiHealthcareTranslator\n",
    "\n",
    "\n",
    "from langchain_openai import ChatOpenAI\n",
    "from langchain_google_genai import (ChatGoogleGenerativeAI,\n",
    "                                    HarmBlockThreshold,\n",
    "                                    HarmCategory)\n",
    "\n",
    "hug_model = HuggingFaceEmbedding(model_name=\"BAAI/bge-m3\")\n",
    "embed_model = LLamaIndexEmbedding(hug_model)\n"
   ]
  },
  {
   "cell_type": "code",
   "execution_count": 3,
   "metadata": {},
   "outputs": [],
   "source": [
    "model = ChatOpenAI(name='gpt-4-turbo-preview',temperature=0.5)\n",
    "model_gemini = ChatGoogleGenerativeAI(model=\"gemini-pro\",temperature=0.5, safety_settings={\n",
    "            HarmCategory.HARM_CATEGORY_DANGEROUS_CONTENT: HarmBlockThreshold.BLOCK_NONE,\n",
    "        })"
   ]
  },
  {
   "cell_type": "code",
   "execution_count": 4,
   "metadata": {},
   "outputs": [],
   "source": [
    "knowledge = '''h2 - Nguyên nhân gây ung thư cổ tử cung\n",
    "Nguyên nhân gây ung thư cổ tử cung\n",
    "Thống kê của WHO cho thấy, khoảng 99.7% trường hợp ung thư CTC đều có sự hiện diện của virus HPV (Human Papilloma Virus). Do đó, virus HPV được coi là yếu tố nguy cơ cao nhất dẫn đến việc mắc bệnh lý này ở nữ giới.\n",
    "Virus HPV là loại virus có hơn 100 týp với khoảng 15 týp được xếp vào nhóm nguy cơ cao dẫn đến khối u ác tính cổ tử cung, phổ biến nhất là các týp 16 và 18 (nguyên nhân của hơn 70% trường hợp mắc bệnh ở nữ giới), tiếp đến là týp 31 và 45.\n",
    "\n",
    "ThS.BS Đinh Thị Hiền Lê – Bác sĩ cao cấp khoa Phụ sản, Bệnh viện Đa khoa Tâm Anh, Hà Nội cho biết, virus HPV chủ yếu lây nhiễm qua đường tình dục, một số ít trường hợp người bệnh không quan hệ tình dục, chỉ tiếp xúc ngoài da nhưng vẫn có nguy cơ bị lây nhiễm. Hầu hết các trường hợp lây nhiễm virus HPV không có triệu chứng cụ thể, người bệnh có thể tự khỏi sau vài tháng mà không cần điều trị.\n",
    "Tuy nhiên, đối với những trường hợp nhiễm týp virus HPV có nguy cơ cao, virus này có thể tồn tại lâu dài trong cơ thể gây biến đổi gen tế bào cổ tử cung, dẫn đến các tổn thương sơ khởi và lâu ngày tăng dần dẫn đến ung thư.\n",
    "Mặc dù quá trình tiến triển đến ung thư ở vị trí này thường không có triệu chứng rõ ràng, diễn tiến chậm, kéo dài khoảng 10-15 năm nhưng một số quốc gia đã ghi nhận căn bệnh này có xu hướng trẻ hóa, đặc biệt ở những quốc gia có đời sống quan hệ tình dục sớm.\n",
    "\n",
    "\n",
    "----\n",
    "\n",
    "h2 - Nguyên nhân gây ung thư cổ tử cung\n",
    "Nguyên nhân gây ung thư cổ tử cung\n",
    "Bệnh ung thư cổ tử cung bắt đầu với những thay đổi bất thường ở tế bào cổ tử cung, thường phát triển âm ỉ trong thời gian dài (mất vài năm), thường do nhiễm virus HPV.\n",
    "Ung thư sinh ra do đột biến DNA (khiếm khuyết gen) làm xuất hiện các gen sinh ung thư hoặc làm vô hiệu hóa gen ức chế khối u (gen kiểm soát sự phát triển tế bào, làm cho tế bào chết đúng lúc). Hầu hết các trường hợp ung thư cổ tử cung đều do nhiễm các chủng khác nhau của virus gây u nhú ở người – Human Papillomavirus (HPV). HPV có nhiều chủng nguy cơ cao gây các loại ung thư như ung thư cổ tử cung, ung thư hậu môn, ung thư âm hộ, ung thư dương vật, mụn cóc sinh dục, amidan\n",
    "HPV có 2 loại protein là E6 và E7 có tác dụng tắt một số gen ức chế khối u, từ đó cho phép các tế bào lót ở cổ tử cung phát triển quá mức, phát triển các thay đổi trong gen, dẫn đến tình trạng ung thư.\n",
    "Phụ nữ từ 35 đến 44 tuổi dễ mắc ung thư cổ tử cung. Hơn 15% trường hợp mắc mới được ghi nhận là ở phụ nữ trên 65 tuổi, đặc biệt là ở những trường hợp không được khám sàng lọc ung thư thường xuyên.\n",
    "⇒ Tìm hiểu ngay: 12 type hpv nguy cơ cao là gì? Cách nào để ngăn ngừa?\n",
    "\n",
    "----\n",
    "\n",
    "h2 - 3. Nguyên nhân chính của ung thư cổ tử cung\n",
    "3. Nguyên nhân chính của ung thư cổ tử cung\n",
    "Hầu hết tất cả các trường hợp ung thư cổ tử cung là do nhiễm trùng papillomavirus (HPV). Có rất nhiều loại HPV, trong đó có một số loại vi-rút có nguy cơ cao gây ra các bệnh như ung thư hậu môn, ung thư cổ tử cung, ung thư âm hộ và dương vật, ung thư đầu và cổ. Các loại HPV khác có thể gây ra mụn cóc sinh dục.\n",
    "\n",
    "----\n",
    "\n",
    "h2 - 4. Ai có nguy cơ cao mắc ung thư cổ tử cung?\n",
    "4. Ai có nguy cơ cao mắc ung thư cổ tử cung?\n",
    "Vi-rút HPV là nguyên nhân hàng đầu dẫn đến ung thư cổ tử cung. Các yếu tố sau đây có thể làm tăng nguy cơ bị nhiễm vi-rút HPV:\n",
    "Nhiều bạn tìnhBạn tình quan hệ tình dục với nhiều người khác.Quan hệ tình dục ở tuổi vị thành niên (dưới 18 tuổi)Cá nhân có tiền sử bị loạn sản cổ tử cungGia đình có tiền sử bị ung thư cổ tử cungHút thuốcBị mắc một số bệnh lây truyền qua đường tình dục (STIs), chẳng hạn như chlamydiaMắc các vấn đề về hệ thống miễn dịchCon sinh ra có nguy cơ bị nhiễm HPV nếu người mẹ đã sử dụng thuốc diethylstilbestrol (DES- thuốc nội tiết tố dùng để ngăn ngừa sảy thai) trong khi mang thai.\n",
    "\n",
    "\n",
    "\n",
    "\n",
    "\n",
    "\n",
    "\n",
    "\n",
    "\n",
    "\n",
    "\n",
    "\n",
    "\n",
    "\n",
    "Xét nghiệm Pap\n",
    "\n",
    "h1 - HISTOPATHOLOGY\n",
    "GIẢI PHẪU BỆNH LÝ - Các loại ung thư cổ tử cung phổ biến nhất về mặt mô học là ung thư biểu mô tế bào vảy và ung thư tuyến; những loại ung thư này có thể liên quan đến HPV hoặc không liên quan đến HPV [56]. Các loại ung thư cổ tử cung về mặt mô học được liệt kê trong bảng (bảng 2).\n",
    "Phân bố các loại mô học ở Hoa Kỳ là [57,58]:\n",
    "● Ung thư biểu mô tế bào vảy – 75 phần trăm.\n",
    "● Ung thư tuyến (bao gồm cả ung thư biểu mô tuyến vảy) – 25 phần trăm; tỷ lệ mắc ung thư biểu mô tuyến cổ tử cung xâm lấn và các biến thể của nó đã tăng đáng kể trong vài thập kỷ qua, đặc biệt là ở những bệnh nhân trẻ tuổi [57,59,60]. (Xem \"Ung thư biểu mô tuyến cổ tử cung xâm lấn\", phần về \"Dịch tễ học và các yếu tố nguy cơ\").\n",
    "Các khối u biểu mô tuyến vảy biểu hiện sự biệt hóa cả tuyến và vảy. Chúng có thể liên quan đến kết quả kém hơn so với ung thư tế bào vảy hoặc ung thư tuyến [61-63].\n",
    "● Các mô học khác – Ung thư tế bào nhỏ hoặc ung thư nội tiết thần kinh có thể bắt nguồn từ cổ tử cung ở bệnh nhân nhưng không phổ biến [64]. U rhabdomyosarcoma của cổ tử cung rất hiếm và thường xảy ra ở những bệnh nhân trẻ tuổi [65,66]. U lympho cổ tử cung nguyên phát và u nguyên bào cổ tử cung cũng rất hiếm [67-69]. (Xem \"U rhabdomyosarcoma ở trẻ em và thanh thiếu niên: Biểu hiện lâm sàng, đánh giá chẩn đoán và phân giai\" và \"Ung thư biểu mô tuyến thần kinh tế bào nhỏ của cổ tử cung\", phần \"Giới thiệu\" và \"Ung thư biểu mô tuyến cổ tử cung xâm lấn\").\n",
    "Các phân nhóm vi-rút papilloma ở người (HPV) liên quan đến ung thư biểu mô tế bào vảy khác với các phân nhóm liên quan đến ung thư tuyến. Trong một nghiên cứu quốc tế về hơn 30.000 trường hợp ung thư cổ tử cung, phân bố các phân nhóm HPV là [70]:\n",
    "● Ung thư biểu mô tế bào vảy – HPV 16 (59 phần trăm các trường hợp), 18 (13 phần trăm), 58 (5 phần trăm), 33 (5 phần trăm), 45 (4 phần trăm).\n",
    "● Ung thư tuyến – HPV 16 (36 phần trăm), 18 (37 phần trăm), 45 (5 phần trăm), 31 (2 phần trăm), 33 (2 phần trăm).\n",
    "\n",
    "----\n",
    "\n",
    "h2 - Cervical cytology\n",
    "Tế bào học cổ tử cung\n",
    "Tế bào học cổ tử cung là phương pháp chính để tầm soát ung thư cổ tử cung tại Hoa Kỳ và là phương pháp được lựa chọn khi nghi ngờ ung thư cổ tử cung. Ở các quốc gia khác, chẳng hạn như Úc, Vương quốc Anh và Hà Lan, xét nghiệm virus u nhú ở người (HPV) là phương pháp chính để tầm soát ung thư cổ tử cung, tế bào học cổ tử cung chỉ được thực hiện nếu xét nghiệm axit nucleic nguy cơ cao của HPV có kết quả dương tính.\n",
    "Tầm soát ung thư cổ tử cung, các kỹ thuật xét nghiệm tế bào học cổ tử cung, việc sử dụng xét nghiệm HPV và cách giải thích kết quả được thảo luận chi tiết riêng. (Xem \"Tầm soát ung thư cổ tử cung ở những nơi có nhiều nguồn lực\" và \"Xét nghiệm tầm soát ung thư cổ tử cung: Kỹ thuật xét nghiệm tế bào học cổ tử cung và xét nghiệm virus u nhú ở người\" và \"Tầm soát ung thư cổ tử cung: Báo cáo tế bào học và virus u nhú ở người\".)\n",
    "\n",
    "----\n",
    "\n",
    "h2 - Non-HPV-related\n",
    "Không liên quan đến HPV\n",
    "Không liên quan đến HPV\n",
    "●Trình độ kinh tế xã hội thấp – Ở Hoa Kỳ, tỷ lệ mắc và tỷ lệ tử vong do ung thư cổ tử cung cao hơn ở những bệnh nhân sống trong các cộng đồng có mức độ nghèo đói cao hơn so với mức độ nghèo đói thấp, có thể là do khả năng tiếp cận hạn chế với các chương trình chăm sóc sức khỏe và sàng lọc [31-33].\n",
    "\n",
    "●Sử dụng biện pháp tránh thai\n",
    "\n",
    "•Thuốc tránh thai đường uống – Một phân tích hợp tác dữ liệu từ 24 nghiên cứu dịch tễ học cho thấy rằng, trong số những người hiện đang sử dụng thuốc tránh thai đường uống, nguy cơ ung thư cổ tử cung xâm lấn tăng theo thời gian sử dụng (≥5 năm sử dụng so với không bao giờ sử dụng: nguy cơ tương đối [RR] 1,9, 95% CI 1,69-2,13). Nguy cơ giảm sau khi ngừng sử dụng và sau 10 năm trở lên đã trở lại mức của những người chưa bao giờ sử dụng [29]. Ngược lại, trong một đánh giá có hệ thống tiếp theo bao gồm 12 nghiên cứu về những bệnh nhân mắc ung thư cổ tử cung, không có đủ bằng chứng để xác định xem việc sử dụng thuốc tránh thai đường uống có liên quan đến việc tăng tỷ lệ ung thư cổ tử cung hay không [34].\n",
    "\n",
    "Trong khi một số nghiên cứu cho thấy ung thư tuyến có vẻ có mối liên hệ chặt chẽ hơn với thuốc tránh thai đường uống so với ung thư biểu mô tế bào vảy [35], thì các nghiên cứu khác lại thấy mức tăng nguy cơ tương tự khi kéo dài thời gian sử dụng thuốc tránh thai đường uống đối với cả ung thư biểu mô tuyến và tế bào vảy [36].\n",
    "\n",
    "•Dụng cụ tử cung – Ngược lại, cả dụng cụ tử cung (IUD) chứa đồng và levonorgestrel đều có thể liên quan đến tỷ lệ ung thư cổ tử cung thấp hơn [37]. Vấn đề này được thảo luận chi tiết riêng. (Xem \"Tránh thai bằng dụng cụ tử cung: Bối cảnh và các loại dụng cụ\", phần \"Lợi ích\".)\n",
    "\n",
    "●Hút thuốc lá – Hút thuốc lá có liên quan đến việc tăng nguy cơ mắc ung thư biểu mô tế bào vảy ở cổ tử cung nhưng không phải ung thư tuyến [20,26]. Trong một nghiên cứu, hút thuốc lá làm tăng nguy cơ ung thư biểu mô tế bào vảy khoảng 50 phần trăm (RR 1,50, 95% CI 1,35-1,66) nhưng không làm tăng nguy cơ ung thư tuyến (RR 0,86, 95% CI 0,70-1,05) [26].\n",
    "\n",
    "●Di truyền – Mặc dù không có mô hình nào được thiết lập rõ ràng về cơ sở di truyền của ung thư cổ tử cung, nhưng các nghiên cứu trên quần thể đã cho thấy tỷ lệ mắc ung thư cổ tử cung tăng trong các gia đình. Trước đây, sự tập trung trong gia đình như vậy được cho là do tiếp xúc với môi trường chung. Tuy nhiên, dữ liệu tiếp theo so sánh anh chị em cùng cha khác mẹ và cùng cha cùng mẹ đã chứng minh rằng các yếu tố nguy cơ di truyền lớn hơn nhiều so với các thành phần môi trường chung. Ví dụ, một nghiên cứu ở Thụy Điển về hơn 9000 anh chị em hoặc anh chị em cùng cha khác mẹ mắc ung thư cổ tử cung hoặc tiền ung thư cho thấy 64 phần trăm các trường hợp là do di truyền và chỉ 36 phần trăm là do tiếp xúc với môi trường [38]. Các cuộc điều tra đang được tiến hành để xác định những thay đổi di truyền có thể khiến bệnh nhân ít có khả năng loại bỏ các nhiễm trùng HPV dai dẳng và dễ mắc ung thư cổ tử cung hơn. Những phát hiện cho đến nay bao gồm mối liên quan giữa ung thư cổ tử cung với nhiều loại đa hình khác nhau trong nhiều loại gen khác nhau, bao gồm các biến thể dòng mầm [39] và các biến thể điều hòa khả năng miễn dịch và tính nhạy cảm [40], sản xuất cytokine [41,42], hình thành mạch [41], con đường ức chế khối u [43,44] và bộ chuyển tín hiệu và bộ kích hoạt các con đường phiên mã [45].\n",
    "\n",
    "●Ung thư cổ tử cung ít phổ biến hơn ở những bệnh nhân có bạn tình là nam giới đã cắt bao quy đầu [21]. (Xem \"Cắt bao quy đầu ở trẻ sơ sinh: Rủi ro và lợi ích\", phần \"Ung thư cổ tử cung ở bạn tình\".)\n",
    "\n",
    "----\n",
    "\n",
    "h2 - Incidence and mortality\n",
    "Tỷ lệ mắc và tử vong\n",
    "Tỷ lệ mắc và tử vong - Năm 2020, ung thư cổ tử cung ước tính chiếm 604.000 ca ung thư mới và 342.000 ca tử vong trên toàn thế giới [4] và là loại ung thư phổ biến thứ tư ở phụ nữ [5]. Tám mươi bốn phần trăm các trường hợp ung thư cổ tử cung đến từ các khu vực có nguồn lực hạn chế [6]. Ở phụ nữ ở các quốc gia có nguồn lực hạn chế, ung thư cổ tử cung là loại ung thư phổ biến thứ hai (15,7 trên 100.000 phụ nữ) và là nguyên nhân gây tử vong do ung thư phổ biến thứ ba (8,3 trên 100.000). Tại châu Phi và Trung Mỹ, ung thư cổ tử cung là nguyên nhân gây tử vong do ung thư hàng đầu ở phụ nữ [4,7]; ít nhất một nghiên cứu cho thấy tỷ lệ mắc ung thư cổ tử cung đã tăng ở một số vùng của Châu Phi kể từ đầu những năm 2000 [8].\n",
    "Tại Hoa Kỳ, có khoảng 13.820 ca ung thư cổ tử cung xâm lấn mới và 4360 ca tử vong do ung thư xảy ra mỗi năm [1]. Ung thư cổ tử cung là chẩn đoán ung thư phổ biến thứ ba và là nguyên nhân gây tử vong trong số các bệnh ung thư phụ khoa tại Hoa Kỳ, với tỷ lệ mắc và tử vong thấp hơn so với ung thư thân tử cung hoặc ung thư buồng trứng.\n",
    "Tỷ lệ mắc và tử vong trên toàn cầu phụ thuộc vào sự có mặt của các chương trình sàng lọc tiền ung thư và ung thư cổ tử cung và vắc-xin vi-rút gây u nhú ở người (HPV), những chương trình này có nhiều khả năng có sẵn ở các quốc gia giàu có. (Xem \"Sàng lọc ung thư cổ tử cung ở các quốc gia giàu có\" và \"Sàng lọc ung thư cổ tử cung ở các quốc gia có nguồn lực hạn chế\" và \"Vắc-xin vi-rút gây u nhú ở người\".)\n",
    "●Do những can thiệp này, đã có xu hướng giảm mạnh (khoảng 75 phần trăm) về tỷ lệ mắc và tử vong do ung thư cổ tử cung trong 50 năm qua ở các quốc gia giàu có [9,10]. Tuy nhiên, có một số ngoại lệ [11]. Ví dụ, tại Hoa Kỳ từ năm 2015 đến năm 2019, tỷ lệ mắc ung thư cổ tử cung hàng năm ở bệnh nhân từ 30 đến 44 tuổi tăng 1,7 phần trăm; tỷ lệ giảm ở các nhóm tuổi trẻ hơn (ví dụ, từ 20 đến 24 tuổi) có thể là do tiêm vắc-xin HPV sớm hơn ở nhóm này [1]. Tương tự như vậy, tỷ lệ mắc ung thư cổ tử cung đã tăng từ năm 2007 đến năm 2019 ở phụ nữ da trắng ở các quận có thu nhập thấp (tỷ lệ mắc đã hiệu chỉnh cắt tử cung là 11,9 và 13,6 trên 100.000, tương ứng) [12]).\n",
    "●Theo một số ước tính, nếu tỷ lệ tiêm vắc-xin đạt 70 phần trăm trên toàn thế giới, chúng ta có thể thấy tỷ lệ mắc mới ung thư cổ tử cung giảm 344.520 ca hàng năm và tránh được 178.182 ca tử vong do ung thư cổ tử cung [13]. Tuy nhiên, do thời gian tiềm ẩn từ 10 đến 15 năm giữa thời điểm phơi nhiễm HPV và phát triển ung thư cổ tử cung, nên có khả năng sẽ không có sự giảm đáng kể về loạn sản cổ tử cung hoặc ung thư trong nhiều năm sau khi triển khai các chương trình tiêm chủng. Đáng ngạc nhiên là ở những quốc gia như Úc đã đạt tỷ lệ tiêm chủng >70 phần trăm, đã có sự giảm 38 phần trăm về loạn sản độ cao [14]. Ngay cả ở những quốc gia có tỷ lệ tiêm chủng thấp hơn, chẳng hạn như Hoa Kỳ, cũng đã có sự giảm về tỷ lệ mắc loạn sản cổ tử cung độ cao. Ví dụ, tại Connecticut từ năm 2008 đến năm 2011, tỷ lệ tiêm chủng đã tăng từ 45 lên 61 phần trăm [15]. Trong cùng khoảng thời gian đó, loạn sản cổ tử cung độ cao đã giảm 18 phần trăm. Vì loạn sản độ cao là tiền thân cần thiết cho ung thư biểu mô vảy, ung thư tuyến và ung thư biểu mô tuyến vảy ở cổ tử cung, nên sự giảm mạnh về loạn sản cổ tử cung độ cao này sẽ chuyển thành giảm tỷ lệ mắc ung thư cổ tử cung trong thập kỷ tới.\n",
    "●Dữ liệu cho thấy việc sàng lọc ung thư cổ tử cung cùng với tiêm vắc-xin HPV có thể làm giảm đáng kể tỷ lệ mắc ung thư cổ tử cung ở các quốc gia có nguồn lực hạn chế. Những dữ liệu này được thảo luận chi tiết ở nơi khác. (Xem \"Sàng lọc ung thư cổ tử cung ở các quốc gia có nguồn lực hạn chế\", phần 'Tầm quan trọng của việc tiêm vắc-xin HPV'.)'''.replace('----','.').split('.')\n",
    "knowledge_vecs = [np.array(embed_model.get_embedding(k)) for k in knowledge]"
   ]
  },
  {
   "cell_type": "code",
   "execution_count": 12,
   "metadata": {},
   "outputs": [],
   "source": [
    "org_sentences = '''Nguyên nhân gây ra ung thư cổ tử cung chính là do virus HPV (Human Papilloma Virus). Virus này được coi là yếu tố nguy cơ cao nhất dẫn đến việc mắc ung thư cổ tử cung ở phụ nữ. HPV là một loại virus có hơn 100 týp, trong đó khoảng 15 týp được xếp vào nhóm nguy cơ cao gây khối u ác tính cổ tử cung, với týp phổ biến nhất là týp 16 và 18. Virus HPV chủ yếu lây nhiễm qua đường tình dục, và hầu hết các trường hợp lây nhiễm không có triệu chứng cụ thể. Các loại protein E6 và E7 trong virus HPV có tác dụng tắt gen ức chế khối u, từ đó cho phép các tế bào lót ở cổ tử cung phát triển quá mức, phát triển các thay đổi gen, dẫn đến tình trạng ung thư. Ngoài ra, sử dụng biện pháp tránh thai như thuốc tránh thai đường uống có thể tăng nguy cơ mắc ung thư cổ tử cung, đặc biệt là sau khi sử dụng trong thời gian dài. Hút thuốc lá cũng được biết đến là một yếu tố tăng nguy cơ mắc ung thư biểu mô tế bào vảy ở cổ tử cung. Di truyền cũng đóng vai trò quan trọng trong phát triển của ung thư này, với một số nghiên cứu cho thấy tỷ lệ mắc ung thư cổ tử cung tăng trong các gia đình. Việc hiểu rõ về những nguyên nhân này không chỉ giúp trong việc phòng ngừa mà còn trong việc chẩn đoán và điều trị hiệu quả cho bệnh nhân. Đồng thời, việc tăng cường nhận thức và sàng lọc định kỳ cũng đóng vai trò quan trọng trong việc ngăn ngừa và kiểm soát bệnh lý này'''.split('.')\n"
   ]
  },
  {
   "cell_type": "code",
   "execution_count": 44,
   "metadata": {},
   "outputs": [],
   "source": [
    "wrong_sentences = []\n",
    "corr_knowledge = []\n",
    "corr_score = []\n",
    "for org_sentence in org_sentences:\n",
    "    res = model_gemini.invoke(\"\"\"Bạn là một bác sĩ giàu kinh nghiệm đang tạo một bài test cho các sinh viên.\n",
    "    Bạn cần tạo ra các câu sai lệch khó nhận biết với câu gốc để tạo câu hỏi trắc nghiệm. chỉ thay đổi một số từ ngữ quan trọng, giữ nguyên độ dài câu\n",
    "    Chỉ tạo ra 1 phiên bản sai. không ghi lại câu gốc\n",
    "    Ví dụ: \n",
    "    Câu gốc: Để điều trị trật khớp vai, có thể áp dụng các phương pháp như nắn sai khớp, phẫu thuật, cố định khớp, sử dụng thuốc và phục hồi chức năng\n",
    "    Câu sai: Để điều trị trật khớp vai, có thể áp dụng các phương pháp như nắn thay khớp, phẫu thuật, cố định khớp, sử dụng thuốc và phục hồi chức năng.\n",
    "\n",
    "    Câu gốc: Triệu chứng của trật khớp vai thường bao gồm đau\n",
    "    Câu sai: Trật khớp vai thường đau không rõ ràng\n",
    "\n",
    "    Câu gốc: Sau khi đã thực hiện kỹ thuật nắn chỉnh trật khớp vai, việc cố định khớp vai là một bước quan trọng để đảm bảo rằng khớp được giữ ổn định và không bị trật lại.\n",
    "    Câu sai: Sau khi đã thực hiện kỹ thuật nắn chỉnh trật khớp vai, không cần cố định lại.\n",
    "\n",
    "    Câu gốc: {org_sentence}\n",
    "    Câu sai: \"\"\".format(org_sentence=org_sentence))\n",
    "    wrong_sentence = res.content\n",
    "    wrong_sentences.append(wrong_sentence)\n",
    "    org_vec = np.array(embed_model.get_embedding(org_sentence))\n",
    "    wrong_vec = np.array(embed_model.get_embedding(wrong_sentence))\n",
    "    corr_knowledge.append([])\n",
    "    corr_score.append([])\n",
    "    for i,kv in enumerate(knowledge_vecs):\n",
    "        true_corr = np.dot(kv, org_vec)\n",
    "        false_corr = np.dot(kv, wrong_vec)\n",
    "        corr_score[-1].append((true_corr,false_corr))\n",
    "        if true_corr > 0.9 or false_corr > 0.9:\n",
    "            corr_knowledge[-1].append(knowledge[i])"
   ]
  },
  {
   "cell_type": "code",
   "execution_count": 45,
   "metadata": {},
   "outputs": [
    {
     "data": {
      "text/plain": [
       "[(0.8766419056748861, 0.868490058658689),\n",
       " (0.7760863626745627, 0.6304576575532026),\n",
       " (0.9730449742958022, 0.9724586527855912),\n",
       " (0.8292074922340986, 0.8128331753833176),\n",
       " (0.8763137519698718, 0.8824795021095342),\n",
       " (0.886146087430099, 0.8645743907379231),\n",
       " (0.854813198725075, 0.7933324523377437),\n",
       " (0.8729046991112133, 0.571677245119494),\n",
       " (0.5639919644631539, 0.559330106195818),\n",
       " (0.5726046194651465, 0.4970493420651698)]"
      ]
     },
     "execution_count": 45,
     "metadata": {},
     "output_type": "execute_result"
    }
   ],
   "source": [
    "high_score = list(map(lambda x:max(x,key=lambda y: max(y)),corr_score))\n",
    "high_score"
   ]
  },
  {
   "cell_type": "code",
   "execution_count": 52,
   "metadata": {},
   "outputs": [
    {
     "name": "stdout",
     "output_type": "stream",
     "text": [
      "(0.9730449742958022, 0.9724586527855912)\n",
      "gốc:  HPV là một loại virus có hơn 100 týp, trong đó khoảng 15 týp được xếp vào nhóm nguy cơ cao gây khối u ác tính cổ tử cung, với týp phổ biến nhất là týp 16 và 18\n",
      "sai: HPV là một loại virus có hơn 15 týp, trong đó khoảng 100 týp được xếp vào nhóm nguy cơ cao gây khối u ác tính cổ tử cung, với týp phổ biến nhất là týp 18 và 16\n"
     ]
    }
   ],
   "source": [
    "i = 2\n",
    "print(high_score[i])\n",
    "print('gốc:',org_sentences[i])\n",
    "print('sai:',wrong_sentences[i])"
   ]
  },
  {
   "cell_type": "code",
   "execution_count": null,
   "metadata": {},
   "outputs": [],
   "source": []
  },
  {
   "cell_type": "code",
   "execution_count": 38,
   "metadata": {},
   "outputs": [],
   "source": [
    "single_sentence = org_sentences[i]\n",
    "wrong_single_sentence = wrong_sentences[i]\n",
    "org_vec = np.array(embed_model.get_embedding(single_sentence))\n",
    "wrong_vec = np.array(embed_model.get_embedding(wrong_single_sentence))"
   ]
  },
  {
   "cell_type": "code",
   "execution_count": 42,
   "metadata": {},
   "outputs": [
    {
     "name": "stdout",
     "output_type": "stream",
     "text": [
      "knowledge  Do đó, virus HPV được coi là yếu tố nguy cơ cao nhất dẫn đến việc mắc bệnh lý này ở nữ giới\n",
      "0.7760863626745627 0.6715368553456567\n",
      "sentence  Virus này được coi là yếu tố nguy cơ cao nhất dẫn đến việc mắc ung thư cổ tử cung ở phụ nữ\n",
      "---\n",
      "knowledge  Ai có nguy cơ cao mắc ung thư cổ tử cung?\n",
      "Vi-rút HPV là nguyên nhân hàng đầu dẫn đến ung thư cổ tử cung\n",
      "0.7113907398529571 0.6260901743368787\n",
      "sentence  Virus này được coi là yếu tố nguy cơ cao nhất dẫn đến việc mắc ung thư cổ tử cung ở phụ nữ\n",
      "---\n"
     ]
    }
   ],
   "source": [
    "for i,kv in enumerate(knowledge_vecs):\n",
    "        true_corr = np.dot(kv, org_vec)\n",
    "        false_corr = np.dot(kv, wrong_vec)\n",
    "        if true_corr > 0.7 or false_corr > 0.7:\n",
    "            print('knowledge',knowledge[i])\n",
    "            print(true_corr, false_corr)\n",
    "            print('sentence',single_sentence)\n",
    "            print('---')"
   ]
  }
 ],
 "metadata": {
  "kernelspec": {
   "display_name": "base",
   "language": "python",
   "name": "python3"
  },
  "language_info": {
   "codemirror_mode": {
    "name": "ipython",
    "version": 3
   },
   "file_extension": ".py",
   "mimetype": "text/x-python",
   "name": "python",
   "nbconvert_exporter": "python",
   "pygments_lexer": "ipython3",
   "version": "3.9.13"
  }
 },
 "nbformat": 4,
 "nbformat_minor": 2
}
