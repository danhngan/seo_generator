{
 "cells": [
  {
   "cell_type": "markdown",
   "metadata": {},
   "source": [
    "## First test"
   ]
  },
  {
   "cell_type": "code",
   "execution_count": 23,
   "metadata": {},
   "outputs": [],
   "source": [
    "from selenium import webdriver\n",
    "import time\n",
    "\n",
    "driver = webdriver.Firefox()\n",
    "driver.get(\"https://www.uptodate.com/contents/pathophysiology-and-natural-history-of-mitral-stenosis\",\n",
    "           )"
   ]
  },
  {
   "cell_type": "code",
   "execution_count": 1,
   "metadata": {},
   "outputs": [],
   "source": [
    "from big_seo.crawler.selenium_proxy import SeleniumProxy"
   ]
  },
  {
   "cell_type": "code",
   "execution_count": 7,
   "metadata": {},
   "outputs": [],
   "source": [
    "proxy = SeleniumProxy()"
   ]
  },
  {
   "cell_type": "code",
   "execution_count": null,
   "metadata": {},
   "outputs": [],
   "source": [
    "a = proxy.get(url='https://www.uptodate.com/contents/pathophysiology-and-natural-history-of-mitral-stenosis', params={},stream=False)"
   ]
  },
  {
   "cell_type": "code",
   "execution_count": 27,
   "metadata": {},
   "outputs": [],
   "source": [
    "from selenium.webdriver.common.by import By"
   ]
  },
  {
   "cell_type": "code",
   "execution_count": null,
   "metadata": {},
   "outputs": [],
   "source": [
    "driver.find_element(value='body',by=By.TAG_NAME).get_attribute(\"outerHTML\")"
   ]
  },
  {
   "cell_type": "code",
   "execution_count": 10,
   "metadata": {},
   "outputs": [],
   "source": [
    "with open('test.html','w') as f:\n",
    "    f.write(driver.find_element(value='topicText').get_attribute(\"outerHTML\"))"
   ]
  },
  {
   "cell_type": "code",
   "execution_count": 1,
   "metadata": {},
   "outputs": [
    {
     "data": {
      "text/plain": [
       "(<DocumentLang.VI: ('vi', {'vi': 'Tiếng Việt', 'en': 'Vietnamese'})>, 'vi')"
      ]
     },
     "execution_count": 1,
     "metadata": {},
     "output_type": "execute_result"
    }
   ],
   "source": [
    "from big_seo.common.lang import DocumentLang\n",
    "DocumentLang.VI, str(DocumentLang.VI)"
   ]
  },
  {
   "cell_type": "code",
   "execution_count": 5,
   "metadata": {},
   "outputs": [
    {
     "data": {
      "text/plain": [
       "'Bạn là một chuyên gia dịch thuật trong lĩnh vực {realm}, bạn có khả dịch chính xác những bài viết bằng Tiếng Anh sang Tiếng Việt.\\n            Dịch bài sau sang Tiếng Việt: {main_text}'"
      ]
     },
     "execution_count": 5,
     "metadata": {},
     "output_type": "execute_result"
    }
   ],
   "source": [
    "f\"\"\"Bạn là một chuyên gia dịch thuật trong lĩnh vực {{realm}}, bạn có khả dịch chính xác những bài viết bằng {DocumentLang.EN.get_full_lang_name(DocumentLang.VI)} sang {DocumentLang.VI.get_full_lang_name(DocumentLang.VI)}.\n",
    "            Dịch bài sau sang {DocumentLang.VI.get_full_lang_name(DocumentLang.VI)}: {{main_text}}\"\"\""
   ]
  },
  {
   "cell_type": "code",
   "execution_count": 6,
   "metadata": {},
   "outputs": [],
   "source": [
    "with open('test_u2d_2.html','r') as f:\n",
    "    page_content = f.read()"
   ]
  },
  {
   "cell_type": "code",
   "execution_count": 7,
   "metadata": {},
   "outputs": [],
   "source": [
    "from bs4 import BeautifulSoup\n",
    "import requests\n",
    "import json"
   ]
  },
  {
   "cell_type": "code",
   "execution_count": 8,
   "metadata": {},
   "outputs": [],
   "source": [
    "soup = BeautifulSoup(page_content,'html.parser')"
   ]
  },
  {
   "cell_type": "code",
   "execution_count": 9,
   "metadata": {},
   "outputs": [],
   "source": [
    "from big_seo.llm.implement.parser import UpToDateWebPageParser\n",
    "from big_seo.llm.implement.indexer import WebPageDocument\n",
    "from big_seo.crawler.core import WebPage\n",
    "parser = UpToDateWebPageParser()"
   ]
  },
  {
   "cell_type": "code",
   "execution_count": 10,
   "metadata": {},
   "outputs": [],
   "source": [
    "webpage = WebPage(b'test',\n",
    "                  'test',\n",
    "                  'uptodate.com',\n",
    "                  'mistral stenosis',\n",
    "                  None,\n",
    "                  page_content,\n",
    "                  headings={},\n",
    "                  main_content='',\n",
    "                  keywords=[],\n",
    "                  rank=0)\n",
    "doc = WebPageDocument(webpage)"
   ]
  },
  {
   "cell_type": "code",
   "execution_count": 11,
   "metadata": {},
   "outputs": [],
   "source": [
    "parser.feed(doc)"
   ]
  },
  {
   "cell_type": "code",
   "execution_count": 12,
   "metadata": {},
   "outputs": [],
   "source": [
    "a = parser.parse(in_doc=True,concat_to='h2')"
   ]
  },
  {
   "cell_type": "code",
   "execution_count": null,
   "metadata": {},
   "outputs": [],
   "source": [
    "a"
   ]
  },
  {
   "cell_type": "markdown",
   "metadata": {},
   "source": [
    "## Test indexer"
   ]
  },
  {
   "cell_type": "code",
   "execution_count": 1,
   "metadata": {},
   "outputs": [],
   "source": [
    "from langchain_openai import ChatOpenAI\n",
    "from langchain_google_genai import ChatGoogleGenerativeAI\n",
    "import uuid\n",
    "from functools import partial\n",
    "import datetime"
   ]
  },
  {
   "cell_type": "code",
   "execution_count": 2,
   "metadata": {},
   "outputs": [],
   "source": [
    "start = datetime.datetime.now()"
   ]
  },
  {
   "cell_type": "code",
   "execution_count": 3,
   "metadata": {},
   "outputs": [],
   "source": [
    "from big_seo.crawler.api import Crawler, UpToDateCrawler\n",
    "from big_seo.llm.implement.indexer import WebPageIndexer, InPageIndexer, UpToDateInPageIndexer\n",
    "from big_seo.llm.implement.parser import WebPageParser, TranslationParser, UpToDateWebPageParser\n",
    "from llama_index.embeddings.huggingface import HuggingFaceEmbedding\n",
    "from big_seo.llm.implement.embedding_model import LLamaIndexEmbedding\n",
    "from big_seo.llm.implement.parser import OutlineDocumentCreator\n",
    "\n",
    "from big_seo.llm.implement.data_model import WebPageDocument, OutlineDocumentDBType, Base\n",
    "from big_seo.common.lang import DocumentLang\n",
    "hug_model = HuggingFaceEmbedding(model_name=\"BAAI/bge-m3\")\n",
    "embed_model = LLamaIndexEmbedding(hug_model)\n",
    "crawler = UpToDateCrawler()"
   ]
  },
  {
   "cell_type": "code",
   "execution_count": 4,
   "metadata": {},
   "outputs": [],
   "source": [
    "outline_doc_creator = OutlineDocumentCreator()\n",
    "parser = UpToDateWebPageParser(doc_creator=outline_doc_creator)\n",
    "parser.parse = partial(parser.parse,nested=False, in_doc=True,concat_to='h2')\n",
    "# parser_h2 = UpToDateWebPageParser(doc_creator=outline_doc_creator)\n"
   ]
  },
  {
   "cell_type": "code",
   "execution_count": 5,
   "metadata": {},
   "outputs": [],
   "source": [
    "from big_seo.translator.core import GeminiHealthcareTranslator\n",
    "translator = GeminiHealthcareTranslator(model='gemini-pro')\n",
    "translator_parser = TranslationParser(parser,translator,\n",
    "                               input_lang=DocumentLang.EN,\n",
    "                               target_lang=DocumentLang.VI)\n"
   ]
  },
  {
   "cell_type": "code",
   "execution_count": 6,
   "metadata": {},
   "outputs": [],
   "source": [
    "main_topic = 'mistral stenosis'\n",
    "translator.translate = partial(translator.translate,other_instruction=' liên quan đến hẹp van hai lá')\n",
    "webpages = crawler.search(main_topic,n=2)\n"
   ]
  },
  {
   "cell_type": "code",
   "execution_count": 7,
   "metadata": {},
   "outputs": [],
   "source": [
    "from big_seo.storage.qdrant import QdrantDB\n",
    "\n",
    "vec_db = QdrantDB(host='localhost',\n",
    "                port=6333)\n",
    "Base.init_instance(vec_db=vec_db)"
   ]
  },
  {
   "cell_type": "code",
   "execution_count": 8,
   "metadata": {},
   "outputs": [],
   "source": [
    "uptodate_indexer = UpToDateInPageIndexer(embedding_model=embed_model,\n",
    "              parser=translator_parser,\n",
    "              Base_model=Base)\n",
    "\n",
    "for page in webpages:\n",
    "    page_doc = WebPageDocument(page)\n",
    "    uptodate_indexer.index(page_doc)"
   ]
  },
  {
   "cell_type": "code",
   "execution_count": 9,
   "metadata": {},
   "outputs": [],
   "source": [
    "vec = embed_model.get_embedding('điều trị hẹp hai lá')"
   ]
  },
  {
   "cell_type": "code",
   "execution_count": 11,
   "metadata": {},
   "outputs": [],
   "source": [
    "a = uptodate_indexer.search('điều trị hẹp hai lá')"
   ]
  },
  {
   "cell_type": "code",
   "execution_count": 14,
   "metadata": {},
   "outputs": [
    {
     "data": {
      "text/plain": [
       "'ĐIỀU TRỊ NHỖI MÁU NHĨ — Nhìn chung, phương pháp điều trị nội khoa đối với nhồi máu nhĩ ở những bệnh nhân hẹp van hai lá không khác biệt đáng kể so với các hướng dẫn điều trị chung. Tuy nhiên, do những tác động huyết động bất lợi quá mức do hẹp van hai lá gây ra, nên thường cần phải điều trị kịp thời. (Xem  \"Nhồi máu nhĩ: Tổng quan và cách điều trị nhồi máu nhĩ khởi phát mới\" và  \"Kiểm soát nhịp thất ở những bệnh nhân nhồi máu nhĩ không suy tim: Liệu pháp dược lý\" và \\'Phòng ngừa huyết khối tắc mạch\\' bên dưới.)\\nỞ nhiều bệnh nhân hẹp van hai lá, sự khởi phát của nhồi máu nhĩ góp phần vào sự khởi phát các triệu chứng. Khi hẹp van hai lá có ý nghĩa huyết động (diện tích van ≤1,5 cm2), luồng máu qua van hai lá được duy trì bởi hai yếu tố: thời gian làm đầy tâm trương thích hợp và áp lực tĩnh mạch phổi cao hơn bình thường. Nhồi máu nhĩ ở những bệnh nhân hẹp van hai lá có thể không được dung nạp tốt vì hai lý do, với các hậu quả huyết động tùy thuộc vào mức độ hẹp:\\n●Nếu nhồi máu nhĩ liên quan đến nhịp thất nhanh, thời gian làm đầy tâm trương bị rút ngắn khiến áp lực tâm nhĩ trái và áp lực phổi tăng lên, có khả năng dẫn đến phù phổi. (Xem  \"Hậu quả huyết động của nhồi máu nhĩ và chuyển nhịp trở lại nhịp xoang\".)\\n\\n●Việc mất co tâm nhĩ góp phần làm giảm lượng máu đổ đầy tâm thất trái và tăng áp lực tâm nhĩ trái.'"
      ]
     },
     "execution_count": 14,
     "metadata": {},
     "output_type": "execute_result"
    }
   ],
   "source": [
    "a[1][1]['doc'].get_doc_content()"
   ]
  },
  {
   "cell_type": "code",
   "execution_count": 15,
   "metadata": {},
   "outputs": [],
   "source": [
    "Base.close_instance(delete_model=True)"
   ]
  }
 ],
 "metadata": {
  "kernelspec": {
   "display_name": "base",
   "language": "python",
   "name": "python3"
  },
  "language_info": {
   "codemirror_mode": {
    "name": "ipython",
    "version": 3
   },
   "file_extension": ".py",
   "mimetype": "text/x-python",
   "name": "python",
   "nbconvert_exporter": "python",
   "pygments_lexer": "ipython3",
   "version": "3.9.13"
  }
 },
 "nbformat": 4,
 "nbformat_minor": 2
}
